{
 "cells": [
  {
   "cell_type": "markdown",
   "metadata": {},
   "source": [
    "# Projet DATA732"
   ]
  },
  {
   "cell_type": "markdown",
   "metadata": {},
   "source": [
    "ETUDIANTS : RISS Ryan, PRUVOST Jordan\n",
    "\n",
    "FILLIERE : IDU4\n",
    "\n",
    "--------------------------------------"
   ]
  },
  {
   "cell_type": "markdown",
   "metadata": {},
   "source": [
    "## Travail préliminaire (rien de sexuel je vous rassure)"
   ]
  },
  {
   "cell_type": "markdown",
   "metadata": {},
   "source": [
    "On ajoute les librairies utilisées (notamment Plotly)"
   ]
  },
  {
   "cell_type": "code",
   "execution_count": 1,
   "metadata": {},
   "outputs": [],
   "source": [
    "import json\n",
    "import os\n",
    "import pprint\n",
    "import plotly.express as px\n",
    "import pandas as pd"
   ]
  },
  {
   "cell_type": "markdown",
   "metadata": {},
   "source": [
    "On crée le corpus. Il est composé de 4 .json pour les 4 sites (on prendra l'ensemble des articles) :\n",
    "\n",
    "- Sputnik (média pro russe)\n",
    "- PressTV (média pro iranien)\n",
    "- FDeSouche (média très à droite)\n",
    "- E&R (pas besoin de préciser \"c'est écrit dans son livre\" https://www.youtube.com/watch?v=9NmoQ1wohQc)"
   ]
  },
  {
   "cell_type": "markdown",
   "metadata": {},
   "source": [
    "On crée une liste appellée \"allDataCorpus\" pour ne pas perdre du temps à parser les json à chaque fois."
   ]
  },
  {
   "cell_type": "code",
   "execution_count": 8,
   "metadata": {},
   "outputs": [],
   "source": [
    "corpusFiles = [\"topaz-data732--all--www.egaliteetreconciliation.fr--20190101--20211231.json\", \n",
    "\"topaz-data732--all--fr.sputniknews.africa--20190101--20211231.json\", \n",
    "\"topaz-data732--all--french.presstv.ir--20190101--20211231.json\",\n",
    "\"topaz-data732--all--www.fdesouche.com--20190101--20211231.json\"]\n",
    "\n",
    "allDataCorpus = []\n",
    "\n",
    "for file in corpusFiles:\n",
    "    # open and load file\n",
    "    f = open(file, 'r', encoding='utf-8')\n",
    "    data = json.loads(f.read())\n",
    "    siteName = f.name.split(\".\")[1]\n",
    "    allDataCorpus.append({\"siteName\" : siteName, \"data\": data})\n",
    "    f.close()"
   ]
  },
  {
   "cell_type": "markdown",
   "metadata": {},
   "source": [
    "## Analyse du nombre d'articles"
   ]
  },
  {
   "cell_type": "markdown",
   "metadata": {},
   "source": [
    "On crée une fonction nous permettant de connaître le nombre d'articles par mois. On sépare les données selon le site.\n",
    "\n",
    "On notera qu'on triera les données avec un Bubble Sort pour des soucis d'optimisation."
   ]
  },
  {
   "cell_type": "code",
   "execution_count": 109,
   "metadata": {},
   "outputs": [],
   "source": [
    "def getNumberArticlePerMonth(dataCorpus):\n",
    "    numberArticlePerMonth = []\n",
    "    for file in dataCorpus:\n",
    "        data = file[\"data\"]\n",
    "        siteName = file[\"siteName\"]\n",
    "        years = data[\"metadata-all\"][\"fr\"][\"month\"].keys()\n",
    "        for year in years:\n",
    "            for month in data[\"metadata-all\"][\"fr\"][\"month\"][year].keys():\n",
    "                num = data[\"metadata-all\"][\"fr\"][\"month\"][year][month][\"num\"]\n",
    "                numberArticlePerMonth.append({\"yearMonth\" : (month + \"-\" + year), \"count\" : num, \"site\": siteName})\n",
    "\n",
    "    #Bubble Sort\n",
    "    good = False\n",
    "\n",
    "    while(not good):\n",
    "        good = True\n",
    "        for i in range(0, len(numberArticlePerMonth) - 1):\n",
    "            date1 = numberArticlePerMonth[i][\"yearMonth\"]\n",
    "            date2 = numberArticlePerMonth[i+1][\"yearMonth\"]\n",
    "            (month1, annee1) = date1.split(\"-\")\n",
    "            (month2, annee2) = date2.split(\"-\")\n",
    "            if(int(annee1) > int(annee2)):\n",
    "                numberArticlePerMonth[i], numberArticlePerMonth[i+1] = numberArticlePerMonth[i+1], numberArticlePerMonth[i]\n",
    "                good = False\n",
    "            if(annee1 == annee2 and int(month2) < int(month1)):\n",
    "                numberArticlePerMonth[i], numberArticlePerMonth[i+1] = numberArticlePerMonth[i+1], numberArticlePerMonth[i]\n",
    "                good = False\n",
    "\n",
    "    # On crée le bar chart\n",
    "\n",
    "    fig = px.bar(numberArticlePerMonth, x='yearMonth', y='count', color=\"site\")\n",
    "    fig.show()"
   ]
  },
  {
   "cell_type": "code",
   "execution_count": 110,
   "metadata": {},
   "outputs": [
    {
     "data": {
      "application/vnd.plotly.v1+json": {
       "config": {
        "plotlyServerURL": "https://plot.ly"
       },
       "data": [
        {
         "alignmentgroup": "True",
         "hovertemplate": "site=egaliteetreconciliation<br>yearMonth=%{x}<br>count=%{y}<extra></extra>",
         "legendgroup": "egaliteetreconciliation",
         "marker": {
          "color": "#636efa",
          "pattern": {
           "shape": ""
          }
         },
         "name": "egaliteetreconciliation",
         "offsetgroup": "egaliteetreconciliation",
         "orientation": "v",
         "showlegend": true,
         "textposition": "auto",
         "type": "bar",
         "x": [
          "12-2018",
          "1-2019",
          "2-2019",
          "3-2019",
          "4-2019",
          "5-2019",
          "6-2019",
          "7-2019",
          "8-2019",
          "9-2019",
          "10-2019",
          "11-2019",
          "12-2019",
          "1-2020",
          "2-2020",
          "3-2020",
          "4-2020",
          "5-2020",
          "6-2020",
          "7-2020",
          "8-2020",
          "9-2020",
          "10-2020",
          "11-2020",
          "12-2020",
          "1-2021",
          "2-2021",
          "3-2021",
          "4-2021",
          "5-2021",
          "6-2021",
          "7-2021",
          "8-2021",
          "9-2021",
          "10-2021",
          "11-2021",
          "12-2021"
         ],
         "xaxis": "x",
         "y": [
          7,
          185,
          158,
          193,
          177,
          180,
          187,
          212,
          203,
          235,
          232,
          222,
          219,
          241,
          219,
          227,
          230,
          223,
          203,
          214,
          193,
          208,
          206,
          206,
          199,
          234,
          214,
          221,
          213,
          208,
          204,
          222,
          214,
          204,
          208,
          202,
          182
         ],
         "yaxis": "y"
        },
        {
         "alignmentgroup": "True",
         "hovertemplate": "site=sputniknews<br>yearMonth=%{x}<br>count=%{y}<extra></extra>",
         "legendgroup": "sputniknews",
         "marker": {
          "color": "#EF553B",
          "pattern": {
           "shape": ""
          }
         },
         "name": "sputniknews",
         "offsetgroup": "sputniknews",
         "orientation": "v",
         "showlegend": true,
         "textposition": "auto",
         "type": "bar",
         "x": [
          "12-2018",
          "1-2019",
          "2-2019",
          "3-2019",
          "4-2019",
          "5-2019",
          "6-2019",
          "7-2019",
          "8-2019",
          "9-2019",
          "10-2019",
          "11-2019",
          "12-2019",
          "1-2020",
          "2-2020",
          "3-2020",
          "4-2020",
          "5-2020",
          "6-2020",
          "7-2020",
          "8-2020",
          "9-2020",
          "10-2020",
          "11-2020",
          "12-2020",
          "1-2021",
          "2-2021",
          "3-2021",
          "4-2021",
          "5-2021",
          "6-2021",
          "7-2021",
          "8-2021",
          "9-2021",
          "10-2021",
          "11-2021",
          "12-2021"
         ],
         "xaxis": "x",
         "y": [
          54,
          2091,
          1920,
          1993,
          1921,
          1868,
          1769,
          1934,
          1841,
          1976,
          2175,
          2068,
          1923,
          2038,
          2038,
          2003,
          1942,
          2103,
          2044,
          2054,
          2078,
          2079,
          2060,
          2107,
          2091,
          2164,
          1931,
          1821,
          1391,
          1380,
          1837,
          1860,
          1789,
          1733,
          1934,
          1858,
          1699
         ],
         "yaxis": "y"
        },
        {
         "alignmentgroup": "True",
         "hovertemplate": "site=presstv<br>yearMonth=%{x}<br>count=%{y}<extra></extra>",
         "legendgroup": "presstv",
         "marker": {
          "color": "#00cc96",
          "pattern": {
           "shape": ""
          }
         },
         "name": "presstv",
         "offsetgroup": "presstv",
         "orientation": "v",
         "showlegend": true,
         "textposition": "auto",
         "type": "bar",
         "x": [
          "12-2018",
          "1-2019",
          "2-2019",
          "3-2019",
          "4-2019",
          "5-2019",
          "6-2019",
          "7-2019",
          "8-2019",
          "9-2019",
          "10-2019",
          "11-2019",
          "12-2019",
          "1-2020",
          "2-2020",
          "3-2020",
          "4-2020",
          "5-2020",
          "6-2020",
          "7-2020",
          "8-2020",
          "9-2020",
          "10-2020",
          "11-2020",
          "12-2020",
          "1-2021",
          "2-2021",
          "3-2021",
          "4-2021",
          "5-2021",
          "6-2021",
          "7-2021",
          "8-2021",
          "9-2021",
          "10-2021",
          "11-2021",
          "12-2021"
         ],
         "xaxis": "x",
         "y": [
          29,
          858,
          775,
          738,
          742,
          764,
          694,
          699,
          706,
          644,
          644,
          598,
          610,
          603,
          502,
          461,
          419,
          422,
          448,
          468,
          485,
          452,
          459,
          445,
          456,
          447,
          401,
          437,
          431,
          425,
          410,
          420,
          412,
          406,
          413,
          395,
          426
         ],
         "yaxis": "y"
        },
        {
         "alignmentgroup": "True",
         "hovertemplate": "site=fdesouche<br>yearMonth=%{x}<br>count=%{y}<extra></extra>",
         "legendgroup": "fdesouche",
         "marker": {
          "color": "#ab63fa",
          "pattern": {
           "shape": ""
          }
         },
         "name": "fdesouche",
         "offsetgroup": "fdesouche",
         "orientation": "v",
         "showlegend": true,
         "textposition": "auto",
         "type": "bar",
         "x": [
          "12-2018",
          "1-2019",
          "2-2019",
          "3-2019",
          "4-2019",
          "5-2019",
          "6-2019",
          "7-2019",
          "8-2019",
          "9-2019",
          "10-2019",
          "11-2019",
          "12-2019",
          "1-2020",
          "2-2020",
          "3-2020",
          "4-2020",
          "5-2020",
          "6-2020",
          "7-2020",
          "8-2020",
          "9-2020",
          "10-2020",
          "11-2020",
          "12-2020",
          "1-2021",
          "2-2021",
          "3-2021",
          "4-2021",
          "5-2021",
          "6-2021",
          "7-2021",
          "8-2021",
          "9-2021",
          "10-2021",
          "11-2021",
          "12-2021"
         ],
         "xaxis": "x",
         "y": [
          14,
          889,
          921,
          987,
          843,
          931,
          895,
          1002,
          688,
          1105,
          1136,
          1023,
          990,
          813,
          891,
          1036,
          800,
          762,
          893,
          860,
          709,
          969,
          944,
          890,
          679,
          829,
          911,
          1083,
          863,
          940,
          798,
          715,
          676,
          919,
          999,
          783,
          710
         ],
         "yaxis": "y"
        }
       ],
       "layout": {
        "barmode": "relative",
        "legend": {
         "title": {
          "text": "site"
         },
         "tracegroupgap": 0
        },
        "margin": {
         "t": 60
        },
        "template": {
         "data": {
          "bar": [
           {
            "error_x": {
             "color": "#2a3f5f"
            },
            "error_y": {
             "color": "#2a3f5f"
            },
            "marker": {
             "line": {
              "color": "#E5ECF6",
              "width": 0.5
             },
             "pattern": {
              "fillmode": "overlay",
              "size": 10,
              "solidity": 0.2
             }
            },
            "type": "bar"
           }
          ],
          "barpolar": [
           {
            "marker": {
             "line": {
              "color": "#E5ECF6",
              "width": 0.5
             },
             "pattern": {
              "fillmode": "overlay",
              "size": 10,
              "solidity": 0.2
             }
            },
            "type": "barpolar"
           }
          ],
          "carpet": [
           {
            "aaxis": {
             "endlinecolor": "#2a3f5f",
             "gridcolor": "white",
             "linecolor": "white",
             "minorgridcolor": "white",
             "startlinecolor": "#2a3f5f"
            },
            "baxis": {
             "endlinecolor": "#2a3f5f",
             "gridcolor": "white",
             "linecolor": "white",
             "minorgridcolor": "white",
             "startlinecolor": "#2a3f5f"
            },
            "type": "carpet"
           }
          ],
          "choropleth": [
           {
            "colorbar": {
             "outlinewidth": 0,
             "ticks": ""
            },
            "type": "choropleth"
           }
          ],
          "contour": [
           {
            "colorbar": {
             "outlinewidth": 0,
             "ticks": ""
            },
            "colorscale": [
             [
              0,
              "#0d0887"
             ],
             [
              0.1111111111111111,
              "#46039f"
             ],
             [
              0.2222222222222222,
              "#7201a8"
             ],
             [
              0.3333333333333333,
              "#9c179e"
             ],
             [
              0.4444444444444444,
              "#bd3786"
             ],
             [
              0.5555555555555556,
              "#d8576b"
             ],
             [
              0.6666666666666666,
              "#ed7953"
             ],
             [
              0.7777777777777778,
              "#fb9f3a"
             ],
             [
              0.8888888888888888,
              "#fdca26"
             ],
             [
              1,
              "#f0f921"
             ]
            ],
            "type": "contour"
           }
          ],
          "contourcarpet": [
           {
            "colorbar": {
             "outlinewidth": 0,
             "ticks": ""
            },
            "type": "contourcarpet"
           }
          ],
          "heatmap": [
           {
            "colorbar": {
             "outlinewidth": 0,
             "ticks": ""
            },
            "colorscale": [
             [
              0,
              "#0d0887"
             ],
             [
              0.1111111111111111,
              "#46039f"
             ],
             [
              0.2222222222222222,
              "#7201a8"
             ],
             [
              0.3333333333333333,
              "#9c179e"
             ],
             [
              0.4444444444444444,
              "#bd3786"
             ],
             [
              0.5555555555555556,
              "#d8576b"
             ],
             [
              0.6666666666666666,
              "#ed7953"
             ],
             [
              0.7777777777777778,
              "#fb9f3a"
             ],
             [
              0.8888888888888888,
              "#fdca26"
             ],
             [
              1,
              "#f0f921"
             ]
            ],
            "type": "heatmap"
           }
          ],
          "heatmapgl": [
           {
            "colorbar": {
             "outlinewidth": 0,
             "ticks": ""
            },
            "colorscale": [
             [
              0,
              "#0d0887"
             ],
             [
              0.1111111111111111,
              "#46039f"
             ],
             [
              0.2222222222222222,
              "#7201a8"
             ],
             [
              0.3333333333333333,
              "#9c179e"
             ],
             [
              0.4444444444444444,
              "#bd3786"
             ],
             [
              0.5555555555555556,
              "#d8576b"
             ],
             [
              0.6666666666666666,
              "#ed7953"
             ],
             [
              0.7777777777777778,
              "#fb9f3a"
             ],
             [
              0.8888888888888888,
              "#fdca26"
             ],
             [
              1,
              "#f0f921"
             ]
            ],
            "type": "heatmapgl"
           }
          ],
          "histogram": [
           {
            "marker": {
             "pattern": {
              "fillmode": "overlay",
              "size": 10,
              "solidity": 0.2
             }
            },
            "type": "histogram"
           }
          ],
          "histogram2d": [
           {
            "colorbar": {
             "outlinewidth": 0,
             "ticks": ""
            },
            "colorscale": [
             [
              0,
              "#0d0887"
             ],
             [
              0.1111111111111111,
              "#46039f"
             ],
             [
              0.2222222222222222,
              "#7201a8"
             ],
             [
              0.3333333333333333,
              "#9c179e"
             ],
             [
              0.4444444444444444,
              "#bd3786"
             ],
             [
              0.5555555555555556,
              "#d8576b"
             ],
             [
              0.6666666666666666,
              "#ed7953"
             ],
             [
              0.7777777777777778,
              "#fb9f3a"
             ],
             [
              0.8888888888888888,
              "#fdca26"
             ],
             [
              1,
              "#f0f921"
             ]
            ],
            "type": "histogram2d"
           }
          ],
          "histogram2dcontour": [
           {
            "colorbar": {
             "outlinewidth": 0,
             "ticks": ""
            },
            "colorscale": [
             [
              0,
              "#0d0887"
             ],
             [
              0.1111111111111111,
              "#46039f"
             ],
             [
              0.2222222222222222,
              "#7201a8"
             ],
             [
              0.3333333333333333,
              "#9c179e"
             ],
             [
              0.4444444444444444,
              "#bd3786"
             ],
             [
              0.5555555555555556,
              "#d8576b"
             ],
             [
              0.6666666666666666,
              "#ed7953"
             ],
             [
              0.7777777777777778,
              "#fb9f3a"
             ],
             [
              0.8888888888888888,
              "#fdca26"
             ],
             [
              1,
              "#f0f921"
             ]
            ],
            "type": "histogram2dcontour"
           }
          ],
          "mesh3d": [
           {
            "colorbar": {
             "outlinewidth": 0,
             "ticks": ""
            },
            "type": "mesh3d"
           }
          ],
          "parcoords": [
           {
            "line": {
             "colorbar": {
              "outlinewidth": 0,
              "ticks": ""
             }
            },
            "type": "parcoords"
           }
          ],
          "pie": [
           {
            "automargin": true,
            "type": "pie"
           }
          ],
          "scatter": [
           {
            "fillpattern": {
             "fillmode": "overlay",
             "size": 10,
             "solidity": 0.2
            },
            "type": "scatter"
           }
          ],
          "scatter3d": [
           {
            "line": {
             "colorbar": {
              "outlinewidth": 0,
              "ticks": ""
             }
            },
            "marker": {
             "colorbar": {
              "outlinewidth": 0,
              "ticks": ""
             }
            },
            "type": "scatter3d"
           }
          ],
          "scattercarpet": [
           {
            "marker": {
             "colorbar": {
              "outlinewidth": 0,
              "ticks": ""
             }
            },
            "type": "scattercarpet"
           }
          ],
          "scattergeo": [
           {
            "marker": {
             "colorbar": {
              "outlinewidth": 0,
              "ticks": ""
             }
            },
            "type": "scattergeo"
           }
          ],
          "scattergl": [
           {
            "marker": {
             "colorbar": {
              "outlinewidth": 0,
              "ticks": ""
             }
            },
            "type": "scattergl"
           }
          ],
          "scattermapbox": [
           {
            "marker": {
             "colorbar": {
              "outlinewidth": 0,
              "ticks": ""
             }
            },
            "type": "scattermapbox"
           }
          ],
          "scatterpolar": [
           {
            "marker": {
             "colorbar": {
              "outlinewidth": 0,
              "ticks": ""
             }
            },
            "type": "scatterpolar"
           }
          ],
          "scatterpolargl": [
           {
            "marker": {
             "colorbar": {
              "outlinewidth": 0,
              "ticks": ""
             }
            },
            "type": "scatterpolargl"
           }
          ],
          "scatterternary": [
           {
            "marker": {
             "colorbar": {
              "outlinewidth": 0,
              "ticks": ""
             }
            },
            "type": "scatterternary"
           }
          ],
          "surface": [
           {
            "colorbar": {
             "outlinewidth": 0,
             "ticks": ""
            },
            "colorscale": [
             [
              0,
              "#0d0887"
             ],
             [
              0.1111111111111111,
              "#46039f"
             ],
             [
              0.2222222222222222,
              "#7201a8"
             ],
             [
              0.3333333333333333,
              "#9c179e"
             ],
             [
              0.4444444444444444,
              "#bd3786"
             ],
             [
              0.5555555555555556,
              "#d8576b"
             ],
             [
              0.6666666666666666,
              "#ed7953"
             ],
             [
              0.7777777777777778,
              "#fb9f3a"
             ],
             [
              0.8888888888888888,
              "#fdca26"
             ],
             [
              1,
              "#f0f921"
             ]
            ],
            "type": "surface"
           }
          ],
          "table": [
           {
            "cells": {
             "fill": {
              "color": "#EBF0F8"
             },
             "line": {
              "color": "white"
             }
            },
            "header": {
             "fill": {
              "color": "#C8D4E3"
             },
             "line": {
              "color": "white"
             }
            },
            "type": "table"
           }
          ]
         },
         "layout": {
          "annotationdefaults": {
           "arrowcolor": "#2a3f5f",
           "arrowhead": 0,
           "arrowwidth": 1
          },
          "autotypenumbers": "strict",
          "coloraxis": {
           "colorbar": {
            "outlinewidth": 0,
            "ticks": ""
           }
          },
          "colorscale": {
           "diverging": [
            [
             0,
             "#8e0152"
            ],
            [
             0.1,
             "#c51b7d"
            ],
            [
             0.2,
             "#de77ae"
            ],
            [
             0.3,
             "#f1b6da"
            ],
            [
             0.4,
             "#fde0ef"
            ],
            [
             0.5,
             "#f7f7f7"
            ],
            [
             0.6,
             "#e6f5d0"
            ],
            [
             0.7,
             "#b8e186"
            ],
            [
             0.8,
             "#7fbc41"
            ],
            [
             0.9,
             "#4d9221"
            ],
            [
             1,
             "#276419"
            ]
           ],
           "sequential": [
            [
             0,
             "#0d0887"
            ],
            [
             0.1111111111111111,
             "#46039f"
            ],
            [
             0.2222222222222222,
             "#7201a8"
            ],
            [
             0.3333333333333333,
             "#9c179e"
            ],
            [
             0.4444444444444444,
             "#bd3786"
            ],
            [
             0.5555555555555556,
             "#d8576b"
            ],
            [
             0.6666666666666666,
             "#ed7953"
            ],
            [
             0.7777777777777778,
             "#fb9f3a"
            ],
            [
             0.8888888888888888,
             "#fdca26"
            ],
            [
             1,
             "#f0f921"
            ]
           ],
           "sequentialminus": [
            [
             0,
             "#0d0887"
            ],
            [
             0.1111111111111111,
             "#46039f"
            ],
            [
             0.2222222222222222,
             "#7201a8"
            ],
            [
             0.3333333333333333,
             "#9c179e"
            ],
            [
             0.4444444444444444,
             "#bd3786"
            ],
            [
             0.5555555555555556,
             "#d8576b"
            ],
            [
             0.6666666666666666,
             "#ed7953"
            ],
            [
             0.7777777777777778,
             "#fb9f3a"
            ],
            [
             0.8888888888888888,
             "#fdca26"
            ],
            [
             1,
             "#f0f921"
            ]
           ]
          },
          "colorway": [
           "#636efa",
           "#EF553B",
           "#00cc96",
           "#ab63fa",
           "#FFA15A",
           "#19d3f3",
           "#FF6692",
           "#B6E880",
           "#FF97FF",
           "#FECB52"
          ],
          "font": {
           "color": "#2a3f5f"
          },
          "geo": {
           "bgcolor": "white",
           "lakecolor": "white",
           "landcolor": "#E5ECF6",
           "showlakes": true,
           "showland": true,
           "subunitcolor": "white"
          },
          "hoverlabel": {
           "align": "left"
          },
          "hovermode": "closest",
          "mapbox": {
           "style": "light"
          },
          "paper_bgcolor": "white",
          "plot_bgcolor": "#E5ECF6",
          "polar": {
           "angularaxis": {
            "gridcolor": "white",
            "linecolor": "white",
            "ticks": ""
           },
           "bgcolor": "#E5ECF6",
           "radialaxis": {
            "gridcolor": "white",
            "linecolor": "white",
            "ticks": ""
           }
          },
          "scene": {
           "xaxis": {
            "backgroundcolor": "#E5ECF6",
            "gridcolor": "white",
            "gridwidth": 2,
            "linecolor": "white",
            "showbackground": true,
            "ticks": "",
            "zerolinecolor": "white"
           },
           "yaxis": {
            "backgroundcolor": "#E5ECF6",
            "gridcolor": "white",
            "gridwidth": 2,
            "linecolor": "white",
            "showbackground": true,
            "ticks": "",
            "zerolinecolor": "white"
           },
           "zaxis": {
            "backgroundcolor": "#E5ECF6",
            "gridcolor": "white",
            "gridwidth": 2,
            "linecolor": "white",
            "showbackground": true,
            "ticks": "",
            "zerolinecolor": "white"
           }
          },
          "shapedefaults": {
           "line": {
            "color": "#2a3f5f"
           }
          },
          "ternary": {
           "aaxis": {
            "gridcolor": "white",
            "linecolor": "white",
            "ticks": ""
           },
           "baxis": {
            "gridcolor": "white",
            "linecolor": "white",
            "ticks": ""
           },
           "bgcolor": "#E5ECF6",
           "caxis": {
            "gridcolor": "white",
            "linecolor": "white",
            "ticks": ""
           }
          },
          "title": {
           "x": 0.05
          },
          "xaxis": {
           "automargin": true,
           "gridcolor": "white",
           "linecolor": "white",
           "ticks": "",
           "title": {
            "standoff": 15
           },
           "zerolinecolor": "white",
           "zerolinewidth": 2
          },
          "yaxis": {
           "automargin": true,
           "gridcolor": "white",
           "linecolor": "white",
           "ticks": "",
           "title": {
            "standoff": 15
           },
           "zerolinecolor": "white",
           "zerolinewidth": 2
          }
         }
        },
        "xaxis": {
         "anchor": "y",
         "domain": [
          0,
          1
         ],
         "title": {
          "text": "yearMonth"
         }
        },
        "yaxis": {
         "anchor": "x",
         "domain": [
          0,
          1
         ],
         "title": {
          "text": "count"
         }
        }
       }
      }
     },
     "metadata": {},
     "output_type": "display_data"
    }
   ],
   "source": [
    "getNumberArticlePerMonth(allDataCorpus)"
   ]
  },
  {
   "cell_type": "markdown",
   "metadata": {},
   "source": [
    "On peut déjà remarquer qu'il y a une inégalité du nombre d'article dans le corpus selon les sites.\n",
    "\n",
    "Par exemple le média Sputnik est bien plus représenté que les autres."
   ]
  },
  {
   "cell_type": "markdown",
   "metadata": {},
   "source": [
    "## Analyses sur les mots-clés\n",
    "\n",
    "On crée une fonction qui nous renvoie les mots-clés et leurs nombres d'itérations pour un corpus donné.\n",
    "\n",
    "On peut passer directement par [\"metadata-all\"][\"fr\"][\"all\"][\"kws\"] pour cette fonction."
   ]
  },
  {
   "cell_type": "code",
   "execution_count": 111,
   "metadata": {},
   "outputs": [],
   "source": [
    "def getKeywords(dataCorpus, limit):\n",
    "    \"\"\"\n",
    "    dataCorpus (str array) : les fichiers parser du corpus avec le nom de site\n",
    "    limit (int) : pour prendre les x mots les plus communs\n",
    "    \"\"\"\n",
    "    keywords = {}\n",
    "    for file in dataCorpus:\n",
    "        data = file[\"data\"]\n",
    "        kws = data[\"metadata-all\"][\"fr\"][\"all\"][\"kws\"]\n",
    "        \n",
    "        for kw,iters in kws.items():\n",
    "            if(kw in keywords):\n",
    "                keywords[kw] += iters\n",
    "            else:\n",
    "                keywords[kw] = iters\n",
    "    #Sort\n",
    "    keywords = sorted(keywords.items(), key=lambda x:x[1], reverse=True)\n",
    "    \n",
    "    # Mise en forme pour plotly\n",
    "    commonWords = []\n",
    "    for f,s in keywords:\n",
    "        commonWords.append({\"keyword\": f, \"iteration\": s})\n",
    "\n",
    "    # On prend seulement les x mots les plus communs (selon le param limit)\n",
    "    commonWords = commonWords[0:limit]\n",
    "    fig = px.bar(commonWords, x='keyword', y='iteration')\n",
    "    fig.show()"
   ]
  },
  {
   "cell_type": "markdown",
   "metadata": {},
   "source": [
    "On crée un bar chart des 100 mots-clés les plus communs du corpus."
   ]
  },
  {
   "cell_type": "code",
   "execution_count": 15,
   "metadata": {},
   "outputs": [
    {
     "data": {
      "application/vnd.plotly.v1+json": {
       "config": {
        "plotlyServerURL": "https://plot.ly"
       },
       "data": [
        {
         "alignmentgroup": "True",
         "hovertemplate": "keyword=%{x}<br>iteration=%{y}<extra></extra>",
         "legendgroup": "",
         "marker": {
          "color": "#636efa",
          "pattern": {
           "shape": ""
          }
         },
         "name": "",
         "offsetgroup": "",
         "orientation": "v",
         "showlegend": false,
         "textposition": "auto",
         "type": "bar",
         "x": [
          "pays",
          "américain",
          "france",
          "an",
          "président",
          "état",
          "dernier",
          "français",
          "force",
          "militaire",
          "russe",
          "politique",
          "grand",
          "ministre",
          "jour",
          "armée",
          "nouveau",
          "personne",
          "homme",
          "russie",
          "gouvernement",
          "iran",
          "national",
          "année",
          "monde",
          "police",
          "guerre",
          "affaire",
          "région",
          "sécurité",
          "base",
          "iranien",
          "européen",
          "israélien",
          "groupe",
          "cas",
          "mois",
          "fois",
          "chef",
          "israël",
          "missile",
          "général",
          "al",
          "ville",
          "sputnik",
          "pari",
          "attaque",
          "étranger",
          "jeune",
          "syrie",
          "fin",
          "syrien",
          "heure",
          "femme",
          "terroriste",
          "public",
          "lieu",
          "international",
          "question",
          "place",
          "situation",
          "source",
          "accord",
          "mars",
          "défense",
          "mesure",
          "million",
          "face",
          "semaine",
          "droit",
          "janvier",
          "service",
          "système",
          "mort",
          "information",
          "trump",
          "policier",
          "mai",
          "partie",
          "social",
          "opération",
          "média",
          "juin",
          "avril",
          "part",
          "chine",
          "temps",
          "point",
          "macron",
          "autorité",
          "juillet",
          "ministère",
          "presse",
          "euro",
          "nord",
          "suite",
          "arme",
          "raison",
          "site",
          "photo"
         ],
         "xaxis": "x",
         "y": [
          106415,
          85068,
          84222,
          79155,
          70631,
          67348,
          65903,
          63623,
          61575,
          59333,
          57989,
          53970,
          52173,
          51050,
          49792,
          49136,
          49108,
          48255,
          47323,
          45277,
          45214,
          45042,
          42264,
          41189,
          37844,
          36978,
          36036,
          35988,
          35988,
          35151,
          35057,
          34630,
          34621,
          34471,
          34370,
          34177,
          34125,
          32673,
          32372,
          32226,
          31748,
          31713,
          31368,
          31329,
          31181,
          31086,
          30716,
          30409,
          30305,
          30265,
          30230,
          29992,
          29654,
          29581,
          29276,
          29186,
          29116,
          28868,
          28833,
          28724,
          28690,
          28426,
          28288,
          28157,
          27867,
          27812,
          27371,
          27209,
          26893,
          26890,
          26828,
          26668,
          26623,
          26607,
          26279,
          26247,
          26154,
          26142,
          25625,
          25553,
          25339,
          25141,
          24991,
          24922,
          24642,
          24598,
          24375,
          24146,
          24142,
          24132,
          24122,
          23841,
          23810,
          23647,
          23507,
          23469,
          23462,
          23234,
          23111,
          23057
         ],
         "yaxis": "y"
        }
       ],
       "layout": {
        "barmode": "relative",
        "legend": {
         "tracegroupgap": 0
        },
        "margin": {
         "t": 60
        },
        "template": {
         "data": {
          "bar": [
           {
            "error_x": {
             "color": "#2a3f5f"
            },
            "error_y": {
             "color": "#2a3f5f"
            },
            "marker": {
             "line": {
              "color": "#E5ECF6",
              "width": 0.5
             },
             "pattern": {
              "fillmode": "overlay",
              "size": 10,
              "solidity": 0.2
             }
            },
            "type": "bar"
           }
          ],
          "barpolar": [
           {
            "marker": {
             "line": {
              "color": "#E5ECF6",
              "width": 0.5
             },
             "pattern": {
              "fillmode": "overlay",
              "size": 10,
              "solidity": 0.2
             }
            },
            "type": "barpolar"
           }
          ],
          "carpet": [
           {
            "aaxis": {
             "endlinecolor": "#2a3f5f",
             "gridcolor": "white",
             "linecolor": "white",
             "minorgridcolor": "white",
             "startlinecolor": "#2a3f5f"
            },
            "baxis": {
             "endlinecolor": "#2a3f5f",
             "gridcolor": "white",
             "linecolor": "white",
             "minorgridcolor": "white",
             "startlinecolor": "#2a3f5f"
            },
            "type": "carpet"
           }
          ],
          "choropleth": [
           {
            "colorbar": {
             "outlinewidth": 0,
             "ticks": ""
            },
            "type": "choropleth"
           }
          ],
          "contour": [
           {
            "colorbar": {
             "outlinewidth": 0,
             "ticks": ""
            },
            "colorscale": [
             [
              0,
              "#0d0887"
             ],
             [
              0.1111111111111111,
              "#46039f"
             ],
             [
              0.2222222222222222,
              "#7201a8"
             ],
             [
              0.3333333333333333,
              "#9c179e"
             ],
             [
              0.4444444444444444,
              "#bd3786"
             ],
             [
              0.5555555555555556,
              "#d8576b"
             ],
             [
              0.6666666666666666,
              "#ed7953"
             ],
             [
              0.7777777777777778,
              "#fb9f3a"
             ],
             [
              0.8888888888888888,
              "#fdca26"
             ],
             [
              1,
              "#f0f921"
             ]
            ],
            "type": "contour"
           }
          ],
          "contourcarpet": [
           {
            "colorbar": {
             "outlinewidth": 0,
             "ticks": ""
            },
            "type": "contourcarpet"
           }
          ],
          "heatmap": [
           {
            "colorbar": {
             "outlinewidth": 0,
             "ticks": ""
            },
            "colorscale": [
             [
              0,
              "#0d0887"
             ],
             [
              0.1111111111111111,
              "#46039f"
             ],
             [
              0.2222222222222222,
              "#7201a8"
             ],
             [
              0.3333333333333333,
              "#9c179e"
             ],
             [
              0.4444444444444444,
              "#bd3786"
             ],
             [
              0.5555555555555556,
              "#d8576b"
             ],
             [
              0.6666666666666666,
              "#ed7953"
             ],
             [
              0.7777777777777778,
              "#fb9f3a"
             ],
             [
              0.8888888888888888,
              "#fdca26"
             ],
             [
              1,
              "#f0f921"
             ]
            ],
            "type": "heatmap"
           }
          ],
          "heatmapgl": [
           {
            "colorbar": {
             "outlinewidth": 0,
             "ticks": ""
            },
            "colorscale": [
             [
              0,
              "#0d0887"
             ],
             [
              0.1111111111111111,
              "#46039f"
             ],
             [
              0.2222222222222222,
              "#7201a8"
             ],
             [
              0.3333333333333333,
              "#9c179e"
             ],
             [
              0.4444444444444444,
              "#bd3786"
             ],
             [
              0.5555555555555556,
              "#d8576b"
             ],
             [
              0.6666666666666666,
              "#ed7953"
             ],
             [
              0.7777777777777778,
              "#fb9f3a"
             ],
             [
              0.8888888888888888,
              "#fdca26"
             ],
             [
              1,
              "#f0f921"
             ]
            ],
            "type": "heatmapgl"
           }
          ],
          "histogram": [
           {
            "marker": {
             "pattern": {
              "fillmode": "overlay",
              "size": 10,
              "solidity": 0.2
             }
            },
            "type": "histogram"
           }
          ],
          "histogram2d": [
           {
            "colorbar": {
             "outlinewidth": 0,
             "ticks": ""
            },
            "colorscale": [
             [
              0,
              "#0d0887"
             ],
             [
              0.1111111111111111,
              "#46039f"
             ],
             [
              0.2222222222222222,
              "#7201a8"
             ],
             [
              0.3333333333333333,
              "#9c179e"
             ],
             [
              0.4444444444444444,
              "#bd3786"
             ],
             [
              0.5555555555555556,
              "#d8576b"
             ],
             [
              0.6666666666666666,
              "#ed7953"
             ],
             [
              0.7777777777777778,
              "#fb9f3a"
             ],
             [
              0.8888888888888888,
              "#fdca26"
             ],
             [
              1,
              "#f0f921"
             ]
            ],
            "type": "histogram2d"
           }
          ],
          "histogram2dcontour": [
           {
            "colorbar": {
             "outlinewidth": 0,
             "ticks": ""
            },
            "colorscale": [
             [
              0,
              "#0d0887"
             ],
             [
              0.1111111111111111,
              "#46039f"
             ],
             [
              0.2222222222222222,
              "#7201a8"
             ],
             [
              0.3333333333333333,
              "#9c179e"
             ],
             [
              0.4444444444444444,
              "#bd3786"
             ],
             [
              0.5555555555555556,
              "#d8576b"
             ],
             [
              0.6666666666666666,
              "#ed7953"
             ],
             [
              0.7777777777777778,
              "#fb9f3a"
             ],
             [
              0.8888888888888888,
              "#fdca26"
             ],
             [
              1,
              "#f0f921"
             ]
            ],
            "type": "histogram2dcontour"
           }
          ],
          "mesh3d": [
           {
            "colorbar": {
             "outlinewidth": 0,
             "ticks": ""
            },
            "type": "mesh3d"
           }
          ],
          "parcoords": [
           {
            "line": {
             "colorbar": {
              "outlinewidth": 0,
              "ticks": ""
             }
            },
            "type": "parcoords"
           }
          ],
          "pie": [
           {
            "automargin": true,
            "type": "pie"
           }
          ],
          "scatter": [
           {
            "fillpattern": {
             "fillmode": "overlay",
             "size": 10,
             "solidity": 0.2
            },
            "type": "scatter"
           }
          ],
          "scatter3d": [
           {
            "line": {
             "colorbar": {
              "outlinewidth": 0,
              "ticks": ""
             }
            },
            "marker": {
             "colorbar": {
              "outlinewidth": 0,
              "ticks": ""
             }
            },
            "type": "scatter3d"
           }
          ],
          "scattercarpet": [
           {
            "marker": {
             "colorbar": {
              "outlinewidth": 0,
              "ticks": ""
             }
            },
            "type": "scattercarpet"
           }
          ],
          "scattergeo": [
           {
            "marker": {
             "colorbar": {
              "outlinewidth": 0,
              "ticks": ""
             }
            },
            "type": "scattergeo"
           }
          ],
          "scattergl": [
           {
            "marker": {
             "colorbar": {
              "outlinewidth": 0,
              "ticks": ""
             }
            },
            "type": "scattergl"
           }
          ],
          "scattermapbox": [
           {
            "marker": {
             "colorbar": {
              "outlinewidth": 0,
              "ticks": ""
             }
            },
            "type": "scattermapbox"
           }
          ],
          "scatterpolar": [
           {
            "marker": {
             "colorbar": {
              "outlinewidth": 0,
              "ticks": ""
             }
            },
            "type": "scatterpolar"
           }
          ],
          "scatterpolargl": [
           {
            "marker": {
             "colorbar": {
              "outlinewidth": 0,
              "ticks": ""
             }
            },
            "type": "scatterpolargl"
           }
          ],
          "scatterternary": [
           {
            "marker": {
             "colorbar": {
              "outlinewidth": 0,
              "ticks": ""
             }
            },
            "type": "scatterternary"
           }
          ],
          "surface": [
           {
            "colorbar": {
             "outlinewidth": 0,
             "ticks": ""
            },
            "colorscale": [
             [
              0,
              "#0d0887"
             ],
             [
              0.1111111111111111,
              "#46039f"
             ],
             [
              0.2222222222222222,
              "#7201a8"
             ],
             [
              0.3333333333333333,
              "#9c179e"
             ],
             [
              0.4444444444444444,
              "#bd3786"
             ],
             [
              0.5555555555555556,
              "#d8576b"
             ],
             [
              0.6666666666666666,
              "#ed7953"
             ],
             [
              0.7777777777777778,
              "#fb9f3a"
             ],
             [
              0.8888888888888888,
              "#fdca26"
             ],
             [
              1,
              "#f0f921"
             ]
            ],
            "type": "surface"
           }
          ],
          "table": [
           {
            "cells": {
             "fill": {
              "color": "#EBF0F8"
             },
             "line": {
              "color": "white"
             }
            },
            "header": {
             "fill": {
              "color": "#C8D4E3"
             },
             "line": {
              "color": "white"
             }
            },
            "type": "table"
           }
          ]
         },
         "layout": {
          "annotationdefaults": {
           "arrowcolor": "#2a3f5f",
           "arrowhead": 0,
           "arrowwidth": 1
          },
          "autotypenumbers": "strict",
          "coloraxis": {
           "colorbar": {
            "outlinewidth": 0,
            "ticks": ""
           }
          },
          "colorscale": {
           "diverging": [
            [
             0,
             "#8e0152"
            ],
            [
             0.1,
             "#c51b7d"
            ],
            [
             0.2,
             "#de77ae"
            ],
            [
             0.3,
             "#f1b6da"
            ],
            [
             0.4,
             "#fde0ef"
            ],
            [
             0.5,
             "#f7f7f7"
            ],
            [
             0.6,
             "#e6f5d0"
            ],
            [
             0.7,
             "#b8e186"
            ],
            [
             0.8,
             "#7fbc41"
            ],
            [
             0.9,
             "#4d9221"
            ],
            [
             1,
             "#276419"
            ]
           ],
           "sequential": [
            [
             0,
             "#0d0887"
            ],
            [
             0.1111111111111111,
             "#46039f"
            ],
            [
             0.2222222222222222,
             "#7201a8"
            ],
            [
             0.3333333333333333,
             "#9c179e"
            ],
            [
             0.4444444444444444,
             "#bd3786"
            ],
            [
             0.5555555555555556,
             "#d8576b"
            ],
            [
             0.6666666666666666,
             "#ed7953"
            ],
            [
             0.7777777777777778,
             "#fb9f3a"
            ],
            [
             0.8888888888888888,
             "#fdca26"
            ],
            [
             1,
             "#f0f921"
            ]
           ],
           "sequentialminus": [
            [
             0,
             "#0d0887"
            ],
            [
             0.1111111111111111,
             "#46039f"
            ],
            [
             0.2222222222222222,
             "#7201a8"
            ],
            [
             0.3333333333333333,
             "#9c179e"
            ],
            [
             0.4444444444444444,
             "#bd3786"
            ],
            [
             0.5555555555555556,
             "#d8576b"
            ],
            [
             0.6666666666666666,
             "#ed7953"
            ],
            [
             0.7777777777777778,
             "#fb9f3a"
            ],
            [
             0.8888888888888888,
             "#fdca26"
            ],
            [
             1,
             "#f0f921"
            ]
           ]
          },
          "colorway": [
           "#636efa",
           "#EF553B",
           "#00cc96",
           "#ab63fa",
           "#FFA15A",
           "#19d3f3",
           "#FF6692",
           "#B6E880",
           "#FF97FF",
           "#FECB52"
          ],
          "font": {
           "color": "#2a3f5f"
          },
          "geo": {
           "bgcolor": "white",
           "lakecolor": "white",
           "landcolor": "#E5ECF6",
           "showlakes": true,
           "showland": true,
           "subunitcolor": "white"
          },
          "hoverlabel": {
           "align": "left"
          },
          "hovermode": "closest",
          "mapbox": {
           "style": "light"
          },
          "paper_bgcolor": "white",
          "plot_bgcolor": "#E5ECF6",
          "polar": {
           "angularaxis": {
            "gridcolor": "white",
            "linecolor": "white",
            "ticks": ""
           },
           "bgcolor": "#E5ECF6",
           "radialaxis": {
            "gridcolor": "white",
            "linecolor": "white",
            "ticks": ""
           }
          },
          "scene": {
           "xaxis": {
            "backgroundcolor": "#E5ECF6",
            "gridcolor": "white",
            "gridwidth": 2,
            "linecolor": "white",
            "showbackground": true,
            "ticks": "",
            "zerolinecolor": "white"
           },
           "yaxis": {
            "backgroundcolor": "#E5ECF6",
            "gridcolor": "white",
            "gridwidth": 2,
            "linecolor": "white",
            "showbackground": true,
            "ticks": "",
            "zerolinecolor": "white"
           },
           "zaxis": {
            "backgroundcolor": "#E5ECF6",
            "gridcolor": "white",
            "gridwidth": 2,
            "linecolor": "white",
            "showbackground": true,
            "ticks": "",
            "zerolinecolor": "white"
           }
          },
          "shapedefaults": {
           "line": {
            "color": "#2a3f5f"
           }
          },
          "ternary": {
           "aaxis": {
            "gridcolor": "white",
            "linecolor": "white",
            "ticks": ""
           },
           "baxis": {
            "gridcolor": "white",
            "linecolor": "white",
            "ticks": ""
           },
           "bgcolor": "#E5ECF6",
           "caxis": {
            "gridcolor": "white",
            "linecolor": "white",
            "ticks": ""
           }
          },
          "title": {
           "x": 0.05
          },
          "xaxis": {
           "automargin": true,
           "gridcolor": "white",
           "linecolor": "white",
           "ticks": "",
           "title": {
            "standoff": 15
           },
           "zerolinecolor": "white",
           "zerolinewidth": 2
          },
          "yaxis": {
           "automargin": true,
           "gridcolor": "white",
           "linecolor": "white",
           "ticks": "",
           "title": {
            "standoff": 15
           },
           "zerolinecolor": "white",
           "zerolinewidth": 2
          }
         }
        },
        "xaxis": {
         "anchor": "y",
         "domain": [
          0,
          1
         ],
         "title": {
          "text": "keyword"
         }
        },
        "yaxis": {
         "anchor": "x",
         "domain": [
          0,
          1
         ],
         "title": {
          "text": "iteration"
         }
        }
       }
      }
     },
     "metadata": {},
     "output_type": "display_data"
    }
   ],
   "source": [
    "getKeywords(allDataCorpus, 100)"
   ]
  },
  {
   "cell_type": "markdown",
   "metadata": {},
   "source": [
    "On peut remarquer que le mot \"russe\" est le 11e mot-clé le plus commun. Ce qui n'est pas choquant étant donné que le media sputnik est surreprésenté."
   ]
  },
  {
   "cell_type": "markdown",
   "metadata": {},
   "source": [
    "### Analyses plus poussées sur les mots-clés\n",
    "\n",
    "#### Voir les liens entre les mots-clés\n",
    "\n",
    "On crée une fonction qui donne pour un corpus donné et un mot-clé donné les mots-clés relatifs au mot-clé choisi.\n",
    "\n",
    "Ici on est obligé de faire plusieurs boucles for imbriquées car nous devons parcourir article par article."
   ]
  },
  {
   "cell_type": "code",
   "execution_count": 126,
   "metadata": {},
   "outputs": [],
   "source": [
    "def showLinkedKws(dataCorpus, pickedKw, limit):\n",
    "    linkedKws = {}\n",
    "    for file in dataCorpus:\n",
    "        data = file[\"data\"]\n",
    "        years = data[\"data-all\"].keys()\n",
    "        for year in years:\n",
    "            months = data[\"data-all\"][year].keys()\n",
    "            for month in months:\n",
    "                days = data[\"data-all\"][year][month].keys()\n",
    "                for day in days:\n",
    "                    articles = data[\"data-all\"][year][month][day]\n",
    "                    for article in articles:\n",
    "                        kws = article[\"kws\"]\n",
    "                        if(pickedKw in kws):\n",
    "                            for kw,iters in kws.items():\n",
    "                                if(kw != pickedKw):\n",
    "                                    if(kw in linkedKws):\n",
    "                                        linkedKws[kw] += 1\n",
    "                                    else:\n",
    "                                        linkedKws[kw] = 1\n",
    "    \n",
    "    #Sort\n",
    "    linkedKws = sorted(linkedKws.items(), key=lambda x:x[1], reverse=True)\n",
    "\n",
    "    # Mise en liste de dictionnaires pour plotly\n",
    "    commonLinkedWords = []\n",
    "    for f,s in linkedKws:\n",
    "         commonLinkedWords.append({\"keyword\": f, \"iteration\": s})\n",
    "\n",
    "    commonLinkedWords = commonLinkedWords[0:limit]\n",
    "\n",
    "    # Bar chart\n",
    "    fig = px.bar(commonLinkedWords, x='keyword', y='iteration', title= \"Linked keywords : \" + pickedKw)\n",
    "    fig.show()"
   ]
  },
  {
   "cell_type": "markdown",
   "metadata": {},
   "source": [
    "Un exemple avec le mot-clé \"juif\" ( mot totalement choisi au hasard :) )"
   ]
  },
  {
   "cell_type": "code",
   "execution_count": 127,
   "metadata": {},
   "outputs": [
    {
     "data": {
      "application/vnd.plotly.v1+json": {
       "config": {
        "plotlyServerURL": "https://plot.ly"
       },
       "data": [
        {
         "alignmentgroup": "True",
         "hovertemplate": "keyword=%{x}<br>iteration=%{y}<extra></extra>",
         "legendgroup": "",
         "marker": {
          "color": "#636efa",
          "pattern": {
           "shape": ""
          }
         },
         "name": "",
         "offsetgroup": "",
         "orientation": "v",
         "showlegend": false,
         "textposition": "auto",
         "type": "bar",
         "x": [
          "france",
          "an",
          "dernier",
          "politique",
          "grand",
          "français",
          "pays",
          "état",
          "monde",
          "jour",
          "israël",
          "président",
          "année",
          "homme",
          "fois",
          "israélien",
          "nouveau",
          "national",
          "question",
          "guerre",
          "ministre",
          "droit",
          "affaire",
          "histoire",
          "gouvernement",
          "public",
          "personne",
          "article",
          "temps",
          "américain",
          "raison",
          "communauté",
          "social",
          "fin",
          "partie",
          "antisémitisme",
          "lieu",
          "mort",
          "antisémite",
          "chose",
          "pari",
          "face",
          "force",
          "cas",
          "média",
          "petit",
          "général",
          "propos",
          "part",
          "point",
          "ancien",
          "bon",
          "peuple",
          "jeune",
          "côté",
          "place",
          "sioniste",
          "groupe",
          "nom",
          "mois",
          "musulman",
          "moment",
          "vie",
          "suite",
          "loi",
          "chef",
          "pouvoir",
          "compte",
          "haine",
          "cause",
          "victime",
          "ville",
          "femme",
          "international",
          "service",
          "membre",
          "réseau",
          "coup",
          "enfant",
          "palestinien",
          "site",
          "million",
          "europe",
          "presse",
          "droite",
          "important",
          "origine",
          "exemple",
          "république",
          "mondial",
          "sujet",
          "société",
          "autorité",
          "problème",
          "famille",
          "mot",
          "haut",
          "second",
          "mesure",
          "mai"
         ],
         "xaxis": "x",
         "y": [
          1314,
          1290,
          1243,
          1232,
          1226,
          1144,
          1087,
          1085,
          1072,
          1055,
          1036,
          1027,
          1002,
          938,
          885,
          881,
          877,
          870,
          845,
          840,
          820,
          817,
          797,
          768,
          752,
          750,
          747,
          746,
          742,
          731,
          718,
          717,
          715,
          714,
          705,
          695,
          691,
          688,
          683,
          681,
          677,
          675,
          673,
          673,
          667,
          667,
          664,
          663,
          662,
          654,
          654,
          654,
          648,
          638,
          632,
          623,
          619,
          615,
          615,
          610,
          605,
          599,
          597,
          592,
          588,
          581,
          560,
          559,
          556,
          551,
          538,
          537,
          536,
          535,
          534,
          532,
          530,
          526,
          524,
          523,
          520,
          518,
          516,
          515,
          512,
          511,
          506,
          505,
          504,
          503,
          503,
          500,
          499,
          496,
          494,
          494,
          493,
          492,
          491,
          490
         ],
         "yaxis": "y"
        }
       ],
       "layout": {
        "barmode": "relative",
        "legend": {
         "tracegroupgap": 0
        },
        "template": {
         "data": {
          "bar": [
           {
            "error_x": {
             "color": "#2a3f5f"
            },
            "error_y": {
             "color": "#2a3f5f"
            },
            "marker": {
             "line": {
              "color": "#E5ECF6",
              "width": 0.5
             },
             "pattern": {
              "fillmode": "overlay",
              "size": 10,
              "solidity": 0.2
             }
            },
            "type": "bar"
           }
          ],
          "barpolar": [
           {
            "marker": {
             "line": {
              "color": "#E5ECF6",
              "width": 0.5
             },
             "pattern": {
              "fillmode": "overlay",
              "size": 10,
              "solidity": 0.2
             }
            },
            "type": "barpolar"
           }
          ],
          "carpet": [
           {
            "aaxis": {
             "endlinecolor": "#2a3f5f",
             "gridcolor": "white",
             "linecolor": "white",
             "minorgridcolor": "white",
             "startlinecolor": "#2a3f5f"
            },
            "baxis": {
             "endlinecolor": "#2a3f5f",
             "gridcolor": "white",
             "linecolor": "white",
             "minorgridcolor": "white",
             "startlinecolor": "#2a3f5f"
            },
            "type": "carpet"
           }
          ],
          "choropleth": [
           {
            "colorbar": {
             "outlinewidth": 0,
             "ticks": ""
            },
            "type": "choropleth"
           }
          ],
          "contour": [
           {
            "colorbar": {
             "outlinewidth": 0,
             "ticks": ""
            },
            "colorscale": [
             [
              0,
              "#0d0887"
             ],
             [
              0.1111111111111111,
              "#46039f"
             ],
             [
              0.2222222222222222,
              "#7201a8"
             ],
             [
              0.3333333333333333,
              "#9c179e"
             ],
             [
              0.4444444444444444,
              "#bd3786"
             ],
             [
              0.5555555555555556,
              "#d8576b"
             ],
             [
              0.6666666666666666,
              "#ed7953"
             ],
             [
              0.7777777777777778,
              "#fb9f3a"
             ],
             [
              0.8888888888888888,
              "#fdca26"
             ],
             [
              1,
              "#f0f921"
             ]
            ],
            "type": "contour"
           }
          ],
          "contourcarpet": [
           {
            "colorbar": {
             "outlinewidth": 0,
             "ticks": ""
            },
            "type": "contourcarpet"
           }
          ],
          "heatmap": [
           {
            "colorbar": {
             "outlinewidth": 0,
             "ticks": ""
            },
            "colorscale": [
             [
              0,
              "#0d0887"
             ],
             [
              0.1111111111111111,
              "#46039f"
             ],
             [
              0.2222222222222222,
              "#7201a8"
             ],
             [
              0.3333333333333333,
              "#9c179e"
             ],
             [
              0.4444444444444444,
              "#bd3786"
             ],
             [
              0.5555555555555556,
              "#d8576b"
             ],
             [
              0.6666666666666666,
              "#ed7953"
             ],
             [
              0.7777777777777778,
              "#fb9f3a"
             ],
             [
              0.8888888888888888,
              "#fdca26"
             ],
             [
              1,
              "#f0f921"
             ]
            ],
            "type": "heatmap"
           }
          ],
          "heatmapgl": [
           {
            "colorbar": {
             "outlinewidth": 0,
             "ticks": ""
            },
            "colorscale": [
             [
              0,
              "#0d0887"
             ],
             [
              0.1111111111111111,
              "#46039f"
             ],
             [
              0.2222222222222222,
              "#7201a8"
             ],
             [
              0.3333333333333333,
              "#9c179e"
             ],
             [
              0.4444444444444444,
              "#bd3786"
             ],
             [
              0.5555555555555556,
              "#d8576b"
             ],
             [
              0.6666666666666666,
              "#ed7953"
             ],
             [
              0.7777777777777778,
              "#fb9f3a"
             ],
             [
              0.8888888888888888,
              "#fdca26"
             ],
             [
              1,
              "#f0f921"
             ]
            ],
            "type": "heatmapgl"
           }
          ],
          "histogram": [
           {
            "marker": {
             "pattern": {
              "fillmode": "overlay",
              "size": 10,
              "solidity": 0.2
             }
            },
            "type": "histogram"
           }
          ],
          "histogram2d": [
           {
            "colorbar": {
             "outlinewidth": 0,
             "ticks": ""
            },
            "colorscale": [
             [
              0,
              "#0d0887"
             ],
             [
              0.1111111111111111,
              "#46039f"
             ],
             [
              0.2222222222222222,
              "#7201a8"
             ],
             [
              0.3333333333333333,
              "#9c179e"
             ],
             [
              0.4444444444444444,
              "#bd3786"
             ],
             [
              0.5555555555555556,
              "#d8576b"
             ],
             [
              0.6666666666666666,
              "#ed7953"
             ],
             [
              0.7777777777777778,
              "#fb9f3a"
             ],
             [
              0.8888888888888888,
              "#fdca26"
             ],
             [
              1,
              "#f0f921"
             ]
            ],
            "type": "histogram2d"
           }
          ],
          "histogram2dcontour": [
           {
            "colorbar": {
             "outlinewidth": 0,
             "ticks": ""
            },
            "colorscale": [
             [
              0,
              "#0d0887"
             ],
             [
              0.1111111111111111,
              "#46039f"
             ],
             [
              0.2222222222222222,
              "#7201a8"
             ],
             [
              0.3333333333333333,
              "#9c179e"
             ],
             [
              0.4444444444444444,
              "#bd3786"
             ],
             [
              0.5555555555555556,
              "#d8576b"
             ],
             [
              0.6666666666666666,
              "#ed7953"
             ],
             [
              0.7777777777777778,
              "#fb9f3a"
             ],
             [
              0.8888888888888888,
              "#fdca26"
             ],
             [
              1,
              "#f0f921"
             ]
            ],
            "type": "histogram2dcontour"
           }
          ],
          "mesh3d": [
           {
            "colorbar": {
             "outlinewidth": 0,
             "ticks": ""
            },
            "type": "mesh3d"
           }
          ],
          "parcoords": [
           {
            "line": {
             "colorbar": {
              "outlinewidth": 0,
              "ticks": ""
             }
            },
            "type": "parcoords"
           }
          ],
          "pie": [
           {
            "automargin": true,
            "type": "pie"
           }
          ],
          "scatter": [
           {
            "fillpattern": {
             "fillmode": "overlay",
             "size": 10,
             "solidity": 0.2
            },
            "type": "scatter"
           }
          ],
          "scatter3d": [
           {
            "line": {
             "colorbar": {
              "outlinewidth": 0,
              "ticks": ""
             }
            },
            "marker": {
             "colorbar": {
              "outlinewidth": 0,
              "ticks": ""
             }
            },
            "type": "scatter3d"
           }
          ],
          "scattercarpet": [
           {
            "marker": {
             "colorbar": {
              "outlinewidth": 0,
              "ticks": ""
             }
            },
            "type": "scattercarpet"
           }
          ],
          "scattergeo": [
           {
            "marker": {
             "colorbar": {
              "outlinewidth": 0,
              "ticks": ""
             }
            },
            "type": "scattergeo"
           }
          ],
          "scattergl": [
           {
            "marker": {
             "colorbar": {
              "outlinewidth": 0,
              "ticks": ""
             }
            },
            "type": "scattergl"
           }
          ],
          "scattermapbox": [
           {
            "marker": {
             "colorbar": {
              "outlinewidth": 0,
              "ticks": ""
             }
            },
            "type": "scattermapbox"
           }
          ],
          "scatterpolar": [
           {
            "marker": {
             "colorbar": {
              "outlinewidth": 0,
              "ticks": ""
             }
            },
            "type": "scatterpolar"
           }
          ],
          "scatterpolargl": [
           {
            "marker": {
             "colorbar": {
              "outlinewidth": 0,
              "ticks": ""
             }
            },
            "type": "scatterpolargl"
           }
          ],
          "scatterternary": [
           {
            "marker": {
             "colorbar": {
              "outlinewidth": 0,
              "ticks": ""
             }
            },
            "type": "scatterternary"
           }
          ],
          "surface": [
           {
            "colorbar": {
             "outlinewidth": 0,
             "ticks": ""
            },
            "colorscale": [
             [
              0,
              "#0d0887"
             ],
             [
              0.1111111111111111,
              "#46039f"
             ],
             [
              0.2222222222222222,
              "#7201a8"
             ],
             [
              0.3333333333333333,
              "#9c179e"
             ],
             [
              0.4444444444444444,
              "#bd3786"
             ],
             [
              0.5555555555555556,
              "#d8576b"
             ],
             [
              0.6666666666666666,
              "#ed7953"
             ],
             [
              0.7777777777777778,
              "#fb9f3a"
             ],
             [
              0.8888888888888888,
              "#fdca26"
             ],
             [
              1,
              "#f0f921"
             ]
            ],
            "type": "surface"
           }
          ],
          "table": [
           {
            "cells": {
             "fill": {
              "color": "#EBF0F8"
             },
             "line": {
              "color": "white"
             }
            },
            "header": {
             "fill": {
              "color": "#C8D4E3"
             },
             "line": {
              "color": "white"
             }
            },
            "type": "table"
           }
          ]
         },
         "layout": {
          "annotationdefaults": {
           "arrowcolor": "#2a3f5f",
           "arrowhead": 0,
           "arrowwidth": 1
          },
          "autotypenumbers": "strict",
          "coloraxis": {
           "colorbar": {
            "outlinewidth": 0,
            "ticks": ""
           }
          },
          "colorscale": {
           "diverging": [
            [
             0,
             "#8e0152"
            ],
            [
             0.1,
             "#c51b7d"
            ],
            [
             0.2,
             "#de77ae"
            ],
            [
             0.3,
             "#f1b6da"
            ],
            [
             0.4,
             "#fde0ef"
            ],
            [
             0.5,
             "#f7f7f7"
            ],
            [
             0.6,
             "#e6f5d0"
            ],
            [
             0.7,
             "#b8e186"
            ],
            [
             0.8,
             "#7fbc41"
            ],
            [
             0.9,
             "#4d9221"
            ],
            [
             1,
             "#276419"
            ]
           ],
           "sequential": [
            [
             0,
             "#0d0887"
            ],
            [
             0.1111111111111111,
             "#46039f"
            ],
            [
             0.2222222222222222,
             "#7201a8"
            ],
            [
             0.3333333333333333,
             "#9c179e"
            ],
            [
             0.4444444444444444,
             "#bd3786"
            ],
            [
             0.5555555555555556,
             "#d8576b"
            ],
            [
             0.6666666666666666,
             "#ed7953"
            ],
            [
             0.7777777777777778,
             "#fb9f3a"
            ],
            [
             0.8888888888888888,
             "#fdca26"
            ],
            [
             1,
             "#f0f921"
            ]
           ],
           "sequentialminus": [
            [
             0,
             "#0d0887"
            ],
            [
             0.1111111111111111,
             "#46039f"
            ],
            [
             0.2222222222222222,
             "#7201a8"
            ],
            [
             0.3333333333333333,
             "#9c179e"
            ],
            [
             0.4444444444444444,
             "#bd3786"
            ],
            [
             0.5555555555555556,
             "#d8576b"
            ],
            [
             0.6666666666666666,
             "#ed7953"
            ],
            [
             0.7777777777777778,
             "#fb9f3a"
            ],
            [
             0.8888888888888888,
             "#fdca26"
            ],
            [
             1,
             "#f0f921"
            ]
           ]
          },
          "colorway": [
           "#636efa",
           "#EF553B",
           "#00cc96",
           "#ab63fa",
           "#FFA15A",
           "#19d3f3",
           "#FF6692",
           "#B6E880",
           "#FF97FF",
           "#FECB52"
          ],
          "font": {
           "color": "#2a3f5f"
          },
          "geo": {
           "bgcolor": "white",
           "lakecolor": "white",
           "landcolor": "#E5ECF6",
           "showlakes": true,
           "showland": true,
           "subunitcolor": "white"
          },
          "hoverlabel": {
           "align": "left"
          },
          "hovermode": "closest",
          "mapbox": {
           "style": "light"
          },
          "paper_bgcolor": "white",
          "plot_bgcolor": "#E5ECF6",
          "polar": {
           "angularaxis": {
            "gridcolor": "white",
            "linecolor": "white",
            "ticks": ""
           },
           "bgcolor": "#E5ECF6",
           "radialaxis": {
            "gridcolor": "white",
            "linecolor": "white",
            "ticks": ""
           }
          },
          "scene": {
           "xaxis": {
            "backgroundcolor": "#E5ECF6",
            "gridcolor": "white",
            "gridwidth": 2,
            "linecolor": "white",
            "showbackground": true,
            "ticks": "",
            "zerolinecolor": "white"
           },
           "yaxis": {
            "backgroundcolor": "#E5ECF6",
            "gridcolor": "white",
            "gridwidth": 2,
            "linecolor": "white",
            "showbackground": true,
            "ticks": "",
            "zerolinecolor": "white"
           },
           "zaxis": {
            "backgroundcolor": "#E5ECF6",
            "gridcolor": "white",
            "gridwidth": 2,
            "linecolor": "white",
            "showbackground": true,
            "ticks": "",
            "zerolinecolor": "white"
           }
          },
          "shapedefaults": {
           "line": {
            "color": "#2a3f5f"
           }
          },
          "ternary": {
           "aaxis": {
            "gridcolor": "white",
            "linecolor": "white",
            "ticks": ""
           },
           "baxis": {
            "gridcolor": "white",
            "linecolor": "white",
            "ticks": ""
           },
           "bgcolor": "#E5ECF6",
           "caxis": {
            "gridcolor": "white",
            "linecolor": "white",
            "ticks": ""
           }
          },
          "title": {
           "x": 0.05
          },
          "xaxis": {
           "automargin": true,
           "gridcolor": "white",
           "linecolor": "white",
           "ticks": "",
           "title": {
            "standoff": 15
           },
           "zerolinecolor": "white",
           "zerolinewidth": 2
          },
          "yaxis": {
           "automargin": true,
           "gridcolor": "white",
           "linecolor": "white",
           "ticks": "",
           "title": {
            "standoff": 15
           },
           "zerolinecolor": "white",
           "zerolinewidth": 2
          }
         }
        },
        "title": {
         "text": "Linked keywords : juif"
        },
        "xaxis": {
         "anchor": "y",
         "domain": [
          0,
          1
         ],
         "title": {
          "text": "keyword"
         }
        },
        "yaxis": {
         "anchor": "x",
         "domain": [
          0,
          1
         ],
         "title": {
          "text": "iteration"
         }
        }
       }
      }
     },
     "metadata": {},
     "output_type": "display_data"
    }
   ],
   "source": [
    "pickedKeyword = \"juif\"\n",
    "\n",
    "commonLinkedWords = showLinkedKws(allDataCorpus, pickedKeyword, 100)"
   ]
  },
  {
   "cell_type": "markdown",
   "metadata": {},
   "source": [
    "Les termes de \"Israël\" ou bien de \"guerre\" sont par exemple présents."
   ]
  },
  {
   "cell_type": "markdown",
   "metadata": {},
   "source": [
    "On peut aussi voir les personnalités en lien avec un mot-clef :"
   ]
  },
  {
   "cell_type": "code",
   "execution_count": 124,
   "metadata": {},
   "outputs": [],
   "source": [
    "def showLinkedPeople(dataCorpus, pickedKw, limit):\n",
    "    linkedPeople = {}\n",
    "    for file in dataCorpus:\n",
    "        data = file[\"data\"]\n",
    "        years = data[\"data-all\"].keys()\n",
    "        for year in years:\n",
    "            months = data[\"data-all\"][year].keys()\n",
    "            for month in months:\n",
    "                days = data[\"data-all\"][year][month].keys()\n",
    "                for day in days:\n",
    "                    articles = data[\"data-all\"][year][month][day]\n",
    "                    for article in articles:\n",
    "                        people = article[\"per\"]\n",
    "                        kws = article[\"kws\"]\n",
    "\n",
    "                        if(pickedKw in kws):\n",
    "                            for p,iter in people.items():\n",
    "                                if(p in linkedPeople):\n",
    "                                    linkedPeople[p] += 1\n",
    "                                else:\n",
    "                                    linkedPeople[p] = 1\n",
    "    #Sort\n",
    "    linkedPeople = sorted(linkedPeople.items(), key=lambda x:x[1], reverse=True)\n",
    "\n",
    "\n",
    "    # Mise en liste de dictionnaire pour plotly\n",
    "    commonLinkedPeople = []\n",
    "    for f,s in linkedPeople:\n",
    "        commonLinkedPeople.append({\"person\": f, \"iteration\": s})\n",
    "\n",
    "    commonLinkedPeople = commonLinkedPeople[0:limit]\n",
    "\n",
    "    # Bar chart \n",
    "    \n",
    "    fig = px.bar(commonLinkedPeople, x='person', y='iteration',title= \"Linked people : \" + pickedKw)\n",
    "    fig.show()"
   ]
  },
  {
   "cell_type": "code",
   "execution_count": 125,
   "metadata": {},
   "outputs": [
    {
     "data": {
      "application/vnd.plotly.v1+json": {
       "config": {
        "plotlyServerURL": "https://plot.ly"
       },
       "data": [
        {
         "alignmentgroup": "True",
         "hovertemplate": "person=%{x}<br>iteration=%{y}<extra></extra>",
         "legendgroup": "",
         "marker": {
          "color": "#636efa",
          "pattern": {
           "shape": ""
          }
         },
         "name": "",
         "offsetgroup": "",
         "orientation": "v",
         "showlegend": false,
         "textposition": "auto",
         "type": "bar",
         "x": [
          "Trump",
          "Alain Soral",
          "Macron",
          "Zemmour",
          "Emmanuel Macron",
          "Soral",
          "Donald Trump",
          "Éric Zemmour",
          "Dieudonné",
          "Hitler",
          "Netanyahou",
          "Poutine",
          "Biden",
          "BHL",
          "Benyamin Netanyahou",
          "Sarah Halimi",
          "Alain Finkielkraut",
          "Epstein",
          "Netanyahu",
          "Premier ministre",
          "Joe Biden",
          "Président",
          "Christ",
          "Pen",
          "Mélenchon",
          "Washington",
          "Jean-Luc Mélenchon",
          "Damien Viguier",
          "président Trump",
          "Jésus",
          "Manuel Valls",
          "Attali",
          "Eric Zemmour",
          "Vladimir Poutine",
          "Sarkozy",
          "Yann Moix",
          "Meyer Habib",
          "Kobili Traoré",
          "Jean-Marie Le Pen",
          "Gérald Darmanin",
          "Jacques Attali",
          "Bernard-Henri Lévy",
          "Mitterrand",
          "Finkielkraut",
          "Anne Hidalgo",
          "Youssef Hindi",
          "Soros",
          "George Floyd",
          "Michel Onfray",
          "Jeffrey Epstein",
          "Moix",
          "Marine Le Pen",
          "Benny Gantz",
          "Bibi",
          "Covid",
          "Assa Traoré",
          "Allah",
          "George Soros",
          "Laurent Guyénot",
          "Bill Gates",
          "Castaner",
          "Mike Pompeo",
          "Alain",
          "Jacques Chirac",
          "Mireille Knoll",
          "César",
          "Francis Kalifat",
          "François",
          "Polanski",
          "Erdogan",
          "Nicolas Sarkozy",
          "Pétain",
          "Christophe Castaner",
          "Traoré",
          "Gaulle",
          "Ruolin Zheng",
          "Raoult",
          "Mila",
          "Adama",
          "Naulleau",
          "Lévy",
          "Boris Johnson",
          "Cyril Hanouna",
          "Rivarol",
          "Marianne",
          "Mahomet",
          "Valls",
          "Samuel Paty",
          "Saint Louis",
          "Jared Kushner",
          "Hervé Ryssen",
          "Onfray",
          "Adama Traoré",
          "Staline",
          "Obama",
          "Marx",
          "Benjamin Netanyahu",
          "Brigitte Macron",
          "Xavier Poussard",
          "Mahmoud Abbas"
         ],
         "xaxis": "x",
         "y": [
          117,
          111,
          101,
          88,
          88,
          82,
          73,
          73,
          60,
          48,
          45,
          43,
          43,
          37,
          35,
          35,
          34,
          32,
          31,
          29,
          29,
          27,
          26,
          26,
          24,
          24,
          23,
          21,
          20,
          20,
          20,
          19,
          19,
          19,
          17,
          17,
          17,
          17,
          16,
          16,
          16,
          15,
          15,
          15,
          14,
          13,
          13,
          13,
          13,
          13,
          13,
          13,
          12,
          12,
          12,
          12,
          12,
          11,
          11,
          11,
          11,
          11,
          11,
          11,
          11,
          11,
          11,
          11,
          11,
          11,
          11,
          11,
          11,
          10,
          10,
          9,
          9,
          9,
          9,
          9,
          9,
          9,
          9,
          9,
          9,
          9,
          9,
          9,
          8,
          8,
          8,
          8,
          8,
          8,
          8,
          8,
          8,
          8,
          8,
          8
         ],
         "yaxis": "y"
        }
       ],
       "layout": {
        "barmode": "relative",
        "legend": {
         "tracegroupgap": 0
        },
        "template": {
         "data": {
          "bar": [
           {
            "error_x": {
             "color": "#2a3f5f"
            },
            "error_y": {
             "color": "#2a3f5f"
            },
            "marker": {
             "line": {
              "color": "#E5ECF6",
              "width": 0.5
             },
             "pattern": {
              "fillmode": "overlay",
              "size": 10,
              "solidity": 0.2
             }
            },
            "type": "bar"
           }
          ],
          "barpolar": [
           {
            "marker": {
             "line": {
              "color": "#E5ECF6",
              "width": 0.5
             },
             "pattern": {
              "fillmode": "overlay",
              "size": 10,
              "solidity": 0.2
             }
            },
            "type": "barpolar"
           }
          ],
          "carpet": [
           {
            "aaxis": {
             "endlinecolor": "#2a3f5f",
             "gridcolor": "white",
             "linecolor": "white",
             "minorgridcolor": "white",
             "startlinecolor": "#2a3f5f"
            },
            "baxis": {
             "endlinecolor": "#2a3f5f",
             "gridcolor": "white",
             "linecolor": "white",
             "minorgridcolor": "white",
             "startlinecolor": "#2a3f5f"
            },
            "type": "carpet"
           }
          ],
          "choropleth": [
           {
            "colorbar": {
             "outlinewidth": 0,
             "ticks": ""
            },
            "type": "choropleth"
           }
          ],
          "contour": [
           {
            "colorbar": {
             "outlinewidth": 0,
             "ticks": ""
            },
            "colorscale": [
             [
              0,
              "#0d0887"
             ],
             [
              0.1111111111111111,
              "#46039f"
             ],
             [
              0.2222222222222222,
              "#7201a8"
             ],
             [
              0.3333333333333333,
              "#9c179e"
             ],
             [
              0.4444444444444444,
              "#bd3786"
             ],
             [
              0.5555555555555556,
              "#d8576b"
             ],
             [
              0.6666666666666666,
              "#ed7953"
             ],
             [
              0.7777777777777778,
              "#fb9f3a"
             ],
             [
              0.8888888888888888,
              "#fdca26"
             ],
             [
              1,
              "#f0f921"
             ]
            ],
            "type": "contour"
           }
          ],
          "contourcarpet": [
           {
            "colorbar": {
             "outlinewidth": 0,
             "ticks": ""
            },
            "type": "contourcarpet"
           }
          ],
          "heatmap": [
           {
            "colorbar": {
             "outlinewidth": 0,
             "ticks": ""
            },
            "colorscale": [
             [
              0,
              "#0d0887"
             ],
             [
              0.1111111111111111,
              "#46039f"
             ],
             [
              0.2222222222222222,
              "#7201a8"
             ],
             [
              0.3333333333333333,
              "#9c179e"
             ],
             [
              0.4444444444444444,
              "#bd3786"
             ],
             [
              0.5555555555555556,
              "#d8576b"
             ],
             [
              0.6666666666666666,
              "#ed7953"
             ],
             [
              0.7777777777777778,
              "#fb9f3a"
             ],
             [
              0.8888888888888888,
              "#fdca26"
             ],
             [
              1,
              "#f0f921"
             ]
            ],
            "type": "heatmap"
           }
          ],
          "heatmapgl": [
           {
            "colorbar": {
             "outlinewidth": 0,
             "ticks": ""
            },
            "colorscale": [
             [
              0,
              "#0d0887"
             ],
             [
              0.1111111111111111,
              "#46039f"
             ],
             [
              0.2222222222222222,
              "#7201a8"
             ],
             [
              0.3333333333333333,
              "#9c179e"
             ],
             [
              0.4444444444444444,
              "#bd3786"
             ],
             [
              0.5555555555555556,
              "#d8576b"
             ],
             [
              0.6666666666666666,
              "#ed7953"
             ],
             [
              0.7777777777777778,
              "#fb9f3a"
             ],
             [
              0.8888888888888888,
              "#fdca26"
             ],
             [
              1,
              "#f0f921"
             ]
            ],
            "type": "heatmapgl"
           }
          ],
          "histogram": [
           {
            "marker": {
             "pattern": {
              "fillmode": "overlay",
              "size": 10,
              "solidity": 0.2
             }
            },
            "type": "histogram"
           }
          ],
          "histogram2d": [
           {
            "colorbar": {
             "outlinewidth": 0,
             "ticks": ""
            },
            "colorscale": [
             [
              0,
              "#0d0887"
             ],
             [
              0.1111111111111111,
              "#46039f"
             ],
             [
              0.2222222222222222,
              "#7201a8"
             ],
             [
              0.3333333333333333,
              "#9c179e"
             ],
             [
              0.4444444444444444,
              "#bd3786"
             ],
             [
              0.5555555555555556,
              "#d8576b"
             ],
             [
              0.6666666666666666,
              "#ed7953"
             ],
             [
              0.7777777777777778,
              "#fb9f3a"
             ],
             [
              0.8888888888888888,
              "#fdca26"
             ],
             [
              1,
              "#f0f921"
             ]
            ],
            "type": "histogram2d"
           }
          ],
          "histogram2dcontour": [
           {
            "colorbar": {
             "outlinewidth": 0,
             "ticks": ""
            },
            "colorscale": [
             [
              0,
              "#0d0887"
             ],
             [
              0.1111111111111111,
              "#46039f"
             ],
             [
              0.2222222222222222,
              "#7201a8"
             ],
             [
              0.3333333333333333,
              "#9c179e"
             ],
             [
              0.4444444444444444,
              "#bd3786"
             ],
             [
              0.5555555555555556,
              "#d8576b"
             ],
             [
              0.6666666666666666,
              "#ed7953"
             ],
             [
              0.7777777777777778,
              "#fb9f3a"
             ],
             [
              0.8888888888888888,
              "#fdca26"
             ],
             [
              1,
              "#f0f921"
             ]
            ],
            "type": "histogram2dcontour"
           }
          ],
          "mesh3d": [
           {
            "colorbar": {
             "outlinewidth": 0,
             "ticks": ""
            },
            "type": "mesh3d"
           }
          ],
          "parcoords": [
           {
            "line": {
             "colorbar": {
              "outlinewidth": 0,
              "ticks": ""
             }
            },
            "type": "parcoords"
           }
          ],
          "pie": [
           {
            "automargin": true,
            "type": "pie"
           }
          ],
          "scatter": [
           {
            "fillpattern": {
             "fillmode": "overlay",
             "size": 10,
             "solidity": 0.2
            },
            "type": "scatter"
           }
          ],
          "scatter3d": [
           {
            "line": {
             "colorbar": {
              "outlinewidth": 0,
              "ticks": ""
             }
            },
            "marker": {
             "colorbar": {
              "outlinewidth": 0,
              "ticks": ""
             }
            },
            "type": "scatter3d"
           }
          ],
          "scattercarpet": [
           {
            "marker": {
             "colorbar": {
              "outlinewidth": 0,
              "ticks": ""
             }
            },
            "type": "scattercarpet"
           }
          ],
          "scattergeo": [
           {
            "marker": {
             "colorbar": {
              "outlinewidth": 0,
              "ticks": ""
             }
            },
            "type": "scattergeo"
           }
          ],
          "scattergl": [
           {
            "marker": {
             "colorbar": {
              "outlinewidth": 0,
              "ticks": ""
             }
            },
            "type": "scattergl"
           }
          ],
          "scattermapbox": [
           {
            "marker": {
             "colorbar": {
              "outlinewidth": 0,
              "ticks": ""
             }
            },
            "type": "scattermapbox"
           }
          ],
          "scatterpolar": [
           {
            "marker": {
             "colorbar": {
              "outlinewidth": 0,
              "ticks": ""
             }
            },
            "type": "scatterpolar"
           }
          ],
          "scatterpolargl": [
           {
            "marker": {
             "colorbar": {
              "outlinewidth": 0,
              "ticks": ""
             }
            },
            "type": "scatterpolargl"
           }
          ],
          "scatterternary": [
           {
            "marker": {
             "colorbar": {
              "outlinewidth": 0,
              "ticks": ""
             }
            },
            "type": "scatterternary"
           }
          ],
          "surface": [
           {
            "colorbar": {
             "outlinewidth": 0,
             "ticks": ""
            },
            "colorscale": [
             [
              0,
              "#0d0887"
             ],
             [
              0.1111111111111111,
              "#46039f"
             ],
             [
              0.2222222222222222,
              "#7201a8"
             ],
             [
              0.3333333333333333,
              "#9c179e"
             ],
             [
              0.4444444444444444,
              "#bd3786"
             ],
             [
              0.5555555555555556,
              "#d8576b"
             ],
             [
              0.6666666666666666,
              "#ed7953"
             ],
             [
              0.7777777777777778,
              "#fb9f3a"
             ],
             [
              0.8888888888888888,
              "#fdca26"
             ],
             [
              1,
              "#f0f921"
             ]
            ],
            "type": "surface"
           }
          ],
          "table": [
           {
            "cells": {
             "fill": {
              "color": "#EBF0F8"
             },
             "line": {
              "color": "white"
             }
            },
            "header": {
             "fill": {
              "color": "#C8D4E3"
             },
             "line": {
              "color": "white"
             }
            },
            "type": "table"
           }
          ]
         },
         "layout": {
          "annotationdefaults": {
           "arrowcolor": "#2a3f5f",
           "arrowhead": 0,
           "arrowwidth": 1
          },
          "autotypenumbers": "strict",
          "coloraxis": {
           "colorbar": {
            "outlinewidth": 0,
            "ticks": ""
           }
          },
          "colorscale": {
           "diverging": [
            [
             0,
             "#8e0152"
            ],
            [
             0.1,
             "#c51b7d"
            ],
            [
             0.2,
             "#de77ae"
            ],
            [
             0.3,
             "#f1b6da"
            ],
            [
             0.4,
             "#fde0ef"
            ],
            [
             0.5,
             "#f7f7f7"
            ],
            [
             0.6,
             "#e6f5d0"
            ],
            [
             0.7,
             "#b8e186"
            ],
            [
             0.8,
             "#7fbc41"
            ],
            [
             0.9,
             "#4d9221"
            ],
            [
             1,
             "#276419"
            ]
           ],
           "sequential": [
            [
             0,
             "#0d0887"
            ],
            [
             0.1111111111111111,
             "#46039f"
            ],
            [
             0.2222222222222222,
             "#7201a8"
            ],
            [
             0.3333333333333333,
             "#9c179e"
            ],
            [
             0.4444444444444444,
             "#bd3786"
            ],
            [
             0.5555555555555556,
             "#d8576b"
            ],
            [
             0.6666666666666666,
             "#ed7953"
            ],
            [
             0.7777777777777778,
             "#fb9f3a"
            ],
            [
             0.8888888888888888,
             "#fdca26"
            ],
            [
             1,
             "#f0f921"
            ]
           ],
           "sequentialminus": [
            [
             0,
             "#0d0887"
            ],
            [
             0.1111111111111111,
             "#46039f"
            ],
            [
             0.2222222222222222,
             "#7201a8"
            ],
            [
             0.3333333333333333,
             "#9c179e"
            ],
            [
             0.4444444444444444,
             "#bd3786"
            ],
            [
             0.5555555555555556,
             "#d8576b"
            ],
            [
             0.6666666666666666,
             "#ed7953"
            ],
            [
             0.7777777777777778,
             "#fb9f3a"
            ],
            [
             0.8888888888888888,
             "#fdca26"
            ],
            [
             1,
             "#f0f921"
            ]
           ]
          },
          "colorway": [
           "#636efa",
           "#EF553B",
           "#00cc96",
           "#ab63fa",
           "#FFA15A",
           "#19d3f3",
           "#FF6692",
           "#B6E880",
           "#FF97FF",
           "#FECB52"
          ],
          "font": {
           "color": "#2a3f5f"
          },
          "geo": {
           "bgcolor": "white",
           "lakecolor": "white",
           "landcolor": "#E5ECF6",
           "showlakes": true,
           "showland": true,
           "subunitcolor": "white"
          },
          "hoverlabel": {
           "align": "left"
          },
          "hovermode": "closest",
          "mapbox": {
           "style": "light"
          },
          "paper_bgcolor": "white",
          "plot_bgcolor": "#E5ECF6",
          "polar": {
           "angularaxis": {
            "gridcolor": "white",
            "linecolor": "white",
            "ticks": ""
           },
           "bgcolor": "#E5ECF6",
           "radialaxis": {
            "gridcolor": "white",
            "linecolor": "white",
            "ticks": ""
           }
          },
          "scene": {
           "xaxis": {
            "backgroundcolor": "#E5ECF6",
            "gridcolor": "white",
            "gridwidth": 2,
            "linecolor": "white",
            "showbackground": true,
            "ticks": "",
            "zerolinecolor": "white"
           },
           "yaxis": {
            "backgroundcolor": "#E5ECF6",
            "gridcolor": "white",
            "gridwidth": 2,
            "linecolor": "white",
            "showbackground": true,
            "ticks": "",
            "zerolinecolor": "white"
           },
           "zaxis": {
            "backgroundcolor": "#E5ECF6",
            "gridcolor": "white",
            "gridwidth": 2,
            "linecolor": "white",
            "showbackground": true,
            "ticks": "",
            "zerolinecolor": "white"
           }
          },
          "shapedefaults": {
           "line": {
            "color": "#2a3f5f"
           }
          },
          "ternary": {
           "aaxis": {
            "gridcolor": "white",
            "linecolor": "white",
            "ticks": ""
           },
           "baxis": {
            "gridcolor": "white",
            "linecolor": "white",
            "ticks": ""
           },
           "bgcolor": "#E5ECF6",
           "caxis": {
            "gridcolor": "white",
            "linecolor": "white",
            "ticks": ""
           }
          },
          "title": {
           "x": 0.05
          },
          "xaxis": {
           "automargin": true,
           "gridcolor": "white",
           "linecolor": "white",
           "ticks": "",
           "title": {
            "standoff": 15
           },
           "zerolinecolor": "white",
           "zerolinewidth": 2
          },
          "yaxis": {
           "automargin": true,
           "gridcolor": "white",
           "linecolor": "white",
           "ticks": "",
           "title": {
            "standoff": 15
           },
           "zerolinecolor": "white",
           "zerolinewidth": 2
          }
         }
        },
        "title": {
         "text": "Linked people : juif"
        },
        "xaxis": {
         "anchor": "y",
         "domain": [
          0,
          1
         ],
         "title": {
          "text": "person"
         }
        },
        "yaxis": {
         "anchor": "x",
         "domain": [
          0,
          1
         ],
         "title": {
          "text": "iteration"
         }
        }
       }
      }
     },
     "metadata": {},
     "output_type": "display_data"
    }
   ],
   "source": [
    "pickedKeyword = \"juif\"\n",
    "\n",
    "showLinkedPeople(allDataCorpus, pickedKeyword, 100)"
   ]
  },
  {
   "cell_type": "markdown",
   "metadata": {},
   "source": [
    "### Test sur d'autres mot-clés\n",
    "\n",
    "On peut faire une liste de mots-clés et faire des analyses sur notre corpus."
   ]
  },
  {
   "cell_type": "code",
   "execution_count": 128,
   "metadata": {},
   "outputs": [
    {
     "data": {
      "application/vnd.plotly.v1+json": {
       "config": {
        "plotlyServerURL": "https://plot.ly"
       },
       "data": [
        {
         "alignmentgroup": "True",
         "hovertemplate": "keyword=%{x}<br>iteration=%{y}<extra></extra>",
         "legendgroup": "",
         "marker": {
          "color": "#636efa",
          "pattern": {
           "shape": ""
          }
         },
         "name": "",
         "offsetgroup": "",
         "orientation": "v",
         "showlegend": false,
         "textposition": "auto",
         "type": "bar",
         "x": [
          "pays",
          "dernier",
          "état",
          "militaire",
          "américain",
          "force",
          "politique",
          "guerre",
          "président",
          "région",
          "grand",
          "al",
          "jour",
          "émirat",
          "israël",
          "armée",
          "ministre",
          "nouveau",
          "gouvernement",
          "étranger",
          "an",
          "monde",
          "sécurité",
          "affaire",
          "chef",
          "iran",
          "international",
          "année",
          "israélien",
          "accord",
          "arabie",
          "général",
          "national",
          "question",
          "partie",
          "part",
          "fois",
          "face",
          "syrie",
          "fin",
          "france",
          "source",
          "attaque",
          "relation",
          "mois",
          "base",
          "information",
          "lieu",
          "iranien",
          "territoire",
          "russie",
          "groupe",
          "important",
          "situation",
          "responsable",
          "point",
          "raison",
          "presse",
          "français",
          "opération",
          "régime",
          "position",
          "soutien",
          "défense",
          "allié",
          "sud",
          "temps",
          "semaine",
          "site",
          "ville",
          "résistance",
          "terroriste",
          "droit",
          "plan",
          "média"
         ],
         "xaxis": "x",
         "y": [
          4571,
          3311,
          3212,
          3089,
          2946,
          2891,
          2863,
          2748,
          2724,
          2637,
          2619,
          2524,
          2484,
          2468,
          2467,
          2456,
          2415,
          2411,
          2371,
          2248,
          2228,
          2185,
          2136,
          2136,
          2092,
          2087,
          2074,
          2046,
          2038,
          2021,
          1962,
          1961,
          1954,
          1916,
          1866,
          1863,
          1847,
          1847,
          1845,
          1827,
          1802,
          1771,
          1755,
          1736,
          1696,
          1630,
          1622,
          1610,
          1610,
          1607,
          1599,
          1581,
          1568,
          1557,
          1552,
          1549,
          1545,
          1545,
          1537,
          1533,
          1515,
          1512,
          1509,
          1507,
          1503,
          1494,
          1454,
          1452,
          1451,
          1445,
          1441,
          1432,
          1422,
          1417,
          1415
         ],
         "yaxis": "y"
        }
       ],
       "layout": {
        "barmode": "relative",
        "legend": {
         "tracegroupgap": 0
        },
        "template": {
         "data": {
          "bar": [
           {
            "error_x": {
             "color": "#2a3f5f"
            },
            "error_y": {
             "color": "#2a3f5f"
            },
            "marker": {
             "line": {
              "color": "#E5ECF6",
              "width": 0.5
             },
             "pattern": {
              "fillmode": "overlay",
              "size": 10,
              "solidity": 0.2
             }
            },
            "type": "bar"
           }
          ],
          "barpolar": [
           {
            "marker": {
             "line": {
              "color": "#E5ECF6",
              "width": 0.5
             },
             "pattern": {
              "fillmode": "overlay",
              "size": 10,
              "solidity": 0.2
             }
            },
            "type": "barpolar"
           }
          ],
          "carpet": [
           {
            "aaxis": {
             "endlinecolor": "#2a3f5f",
             "gridcolor": "white",
             "linecolor": "white",
             "minorgridcolor": "white",
             "startlinecolor": "#2a3f5f"
            },
            "baxis": {
             "endlinecolor": "#2a3f5f",
             "gridcolor": "white",
             "linecolor": "white",
             "minorgridcolor": "white",
             "startlinecolor": "#2a3f5f"
            },
            "type": "carpet"
           }
          ],
          "choropleth": [
           {
            "colorbar": {
             "outlinewidth": 0,
             "ticks": ""
            },
            "type": "choropleth"
           }
          ],
          "contour": [
           {
            "colorbar": {
             "outlinewidth": 0,
             "ticks": ""
            },
            "colorscale": [
             [
              0,
              "#0d0887"
             ],
             [
              0.1111111111111111,
              "#46039f"
             ],
             [
              0.2222222222222222,
              "#7201a8"
             ],
             [
              0.3333333333333333,
              "#9c179e"
             ],
             [
              0.4444444444444444,
              "#bd3786"
             ],
             [
              0.5555555555555556,
              "#d8576b"
             ],
             [
              0.6666666666666666,
              "#ed7953"
             ],
             [
              0.7777777777777778,
              "#fb9f3a"
             ],
             [
              0.8888888888888888,
              "#fdca26"
             ],
             [
              1,
              "#f0f921"
             ]
            ],
            "type": "contour"
           }
          ],
          "contourcarpet": [
           {
            "colorbar": {
             "outlinewidth": 0,
             "ticks": ""
            },
            "type": "contourcarpet"
           }
          ],
          "heatmap": [
           {
            "colorbar": {
             "outlinewidth": 0,
             "ticks": ""
            },
            "colorscale": [
             [
              0,
              "#0d0887"
             ],
             [
              0.1111111111111111,
              "#46039f"
             ],
             [
              0.2222222222222222,
              "#7201a8"
             ],
             [
              0.3333333333333333,
              "#9c179e"
             ],
             [
              0.4444444444444444,
              "#bd3786"
             ],
             [
              0.5555555555555556,
              "#d8576b"
             ],
             [
              0.6666666666666666,
              "#ed7953"
             ],
             [
              0.7777777777777778,
              "#fb9f3a"
             ],
             [
              0.8888888888888888,
              "#fdca26"
             ],
             [
              1,
              "#f0f921"
             ]
            ],
            "type": "heatmap"
           }
          ],
          "heatmapgl": [
           {
            "colorbar": {
             "outlinewidth": 0,
             "ticks": ""
            },
            "colorscale": [
             [
              0,
              "#0d0887"
             ],
             [
              0.1111111111111111,
              "#46039f"
             ],
             [
              0.2222222222222222,
              "#7201a8"
             ],
             [
              0.3333333333333333,
              "#9c179e"
             ],
             [
              0.4444444444444444,
              "#bd3786"
             ],
             [
              0.5555555555555556,
              "#d8576b"
             ],
             [
              0.6666666666666666,
              "#ed7953"
             ],
             [
              0.7777777777777778,
              "#fb9f3a"
             ],
             [
              0.8888888888888888,
              "#fdca26"
             ],
             [
              1,
              "#f0f921"
             ]
            ],
            "type": "heatmapgl"
           }
          ],
          "histogram": [
           {
            "marker": {
             "pattern": {
              "fillmode": "overlay",
              "size": 10,
              "solidity": 0.2
             }
            },
            "type": "histogram"
           }
          ],
          "histogram2d": [
           {
            "colorbar": {
             "outlinewidth": 0,
             "ticks": ""
            },
            "colorscale": [
             [
              0,
              "#0d0887"
             ],
             [
              0.1111111111111111,
              "#46039f"
             ],
             [
              0.2222222222222222,
              "#7201a8"
             ],
             [
              0.3333333333333333,
              "#9c179e"
             ],
             [
              0.4444444444444444,
              "#bd3786"
             ],
             [
              0.5555555555555556,
              "#d8576b"
             ],
             [
              0.6666666666666666,
              "#ed7953"
             ],
             [
              0.7777777777777778,
              "#fb9f3a"
             ],
             [
              0.8888888888888888,
              "#fdca26"
             ],
             [
              1,
              "#f0f921"
             ]
            ],
            "type": "histogram2d"
           }
          ],
          "histogram2dcontour": [
           {
            "colorbar": {
             "outlinewidth": 0,
             "ticks": ""
            },
            "colorscale": [
             [
              0,
              "#0d0887"
             ],
             [
              0.1111111111111111,
              "#46039f"
             ],
             [
              0.2222222222222222,
              "#7201a8"
             ],
             [
              0.3333333333333333,
              "#9c179e"
             ],
             [
              0.4444444444444444,
              "#bd3786"
             ],
             [
              0.5555555555555556,
              "#d8576b"
             ],
             [
              0.6666666666666666,
              "#ed7953"
             ],
             [
              0.7777777777777778,
              "#fb9f3a"
             ],
             [
              0.8888888888888888,
              "#fdca26"
             ],
             [
              1,
              "#f0f921"
             ]
            ],
            "type": "histogram2dcontour"
           }
          ],
          "mesh3d": [
           {
            "colorbar": {
             "outlinewidth": 0,
             "ticks": ""
            },
            "type": "mesh3d"
           }
          ],
          "parcoords": [
           {
            "line": {
             "colorbar": {
              "outlinewidth": 0,
              "ticks": ""
             }
            },
            "type": "parcoords"
           }
          ],
          "pie": [
           {
            "automargin": true,
            "type": "pie"
           }
          ],
          "scatter": [
           {
            "fillpattern": {
             "fillmode": "overlay",
             "size": 10,
             "solidity": 0.2
            },
            "type": "scatter"
           }
          ],
          "scatter3d": [
           {
            "line": {
             "colorbar": {
              "outlinewidth": 0,
              "ticks": ""
             }
            },
            "marker": {
             "colorbar": {
              "outlinewidth": 0,
              "ticks": ""
             }
            },
            "type": "scatter3d"
           }
          ],
          "scattercarpet": [
           {
            "marker": {
             "colorbar": {
              "outlinewidth": 0,
              "ticks": ""
             }
            },
            "type": "scattercarpet"
           }
          ],
          "scattergeo": [
           {
            "marker": {
             "colorbar": {
              "outlinewidth": 0,
              "ticks": ""
             }
            },
            "type": "scattergeo"
           }
          ],
          "scattergl": [
           {
            "marker": {
             "colorbar": {
              "outlinewidth": 0,
              "ticks": ""
             }
            },
            "type": "scattergl"
           }
          ],
          "scattermapbox": [
           {
            "marker": {
             "colorbar": {
              "outlinewidth": 0,
              "ticks": ""
             }
            },
            "type": "scattermapbox"
           }
          ],
          "scatterpolar": [
           {
            "marker": {
             "colorbar": {
              "outlinewidth": 0,
              "ticks": ""
             }
            },
            "type": "scatterpolar"
           }
          ],
          "scatterpolargl": [
           {
            "marker": {
             "colorbar": {
              "outlinewidth": 0,
              "ticks": ""
             }
            },
            "type": "scatterpolargl"
           }
          ],
          "scatterternary": [
           {
            "marker": {
             "colorbar": {
              "outlinewidth": 0,
              "ticks": ""
             }
            },
            "type": "scatterternary"
           }
          ],
          "surface": [
           {
            "colorbar": {
             "outlinewidth": 0,
             "ticks": ""
            },
            "colorscale": [
             [
              0,
              "#0d0887"
             ],
             [
              0.1111111111111111,
              "#46039f"
             ],
             [
              0.2222222222222222,
              "#7201a8"
             ],
             [
              0.3333333333333333,
              "#9c179e"
             ],
             [
              0.4444444444444444,
              "#bd3786"
             ],
             [
              0.5555555555555556,
              "#d8576b"
             ],
             [
              0.6666666666666666,
              "#ed7953"
             ],
             [
              0.7777777777777778,
              "#fb9f3a"
             ],
             [
              0.8888888888888888,
              "#fdca26"
             ],
             [
              1,
              "#f0f921"
             ]
            ],
            "type": "surface"
           }
          ],
          "table": [
           {
            "cells": {
             "fill": {
              "color": "#EBF0F8"
             },
             "line": {
              "color": "white"
             }
            },
            "header": {
             "fill": {
              "color": "#C8D4E3"
             },
             "line": {
              "color": "white"
             }
            },
            "type": "table"
           }
          ]
         },
         "layout": {
          "annotationdefaults": {
           "arrowcolor": "#2a3f5f",
           "arrowhead": 0,
           "arrowwidth": 1
          },
          "autotypenumbers": "strict",
          "coloraxis": {
           "colorbar": {
            "outlinewidth": 0,
            "ticks": ""
           }
          },
          "colorscale": {
           "diverging": [
            [
             0,
             "#8e0152"
            ],
            [
             0.1,
             "#c51b7d"
            ],
            [
             0.2,
             "#de77ae"
            ],
            [
             0.3,
             "#f1b6da"
            ],
            [
             0.4,
             "#fde0ef"
            ],
            [
             0.5,
             "#f7f7f7"
            ],
            [
             0.6,
             "#e6f5d0"
            ],
            [
             0.7,
             "#b8e186"
            ],
            [
             0.8,
             "#7fbc41"
            ],
            [
             0.9,
             "#4d9221"
            ],
            [
             1,
             "#276419"
            ]
           ],
           "sequential": [
            [
             0,
             "#0d0887"
            ],
            [
             0.1111111111111111,
             "#46039f"
            ],
            [
             0.2222222222222222,
             "#7201a8"
            ],
            [
             0.3333333333333333,
             "#9c179e"
            ],
            [
             0.4444444444444444,
             "#bd3786"
            ],
            [
             0.5555555555555556,
             "#d8576b"
            ],
            [
             0.6666666666666666,
             "#ed7953"
            ],
            [
             0.7777777777777778,
             "#fb9f3a"
            ],
            [
             0.8888888888888888,
             "#fdca26"
            ],
            [
             1,
             "#f0f921"
            ]
           ],
           "sequentialminus": [
            [
             0,
             "#0d0887"
            ],
            [
             0.1111111111111111,
             "#46039f"
            ],
            [
             0.2222222222222222,
             "#7201a8"
            ],
            [
             0.3333333333333333,
             "#9c179e"
            ],
            [
             0.4444444444444444,
             "#bd3786"
            ],
            [
             0.5555555555555556,
             "#d8576b"
            ],
            [
             0.6666666666666666,
             "#ed7953"
            ],
            [
             0.7777777777777778,
             "#fb9f3a"
            ],
            [
             0.8888888888888888,
             "#fdca26"
            ],
            [
             1,
             "#f0f921"
            ]
           ]
          },
          "colorway": [
           "#636efa",
           "#EF553B",
           "#00cc96",
           "#ab63fa",
           "#FFA15A",
           "#19d3f3",
           "#FF6692",
           "#B6E880",
           "#FF97FF",
           "#FECB52"
          ],
          "font": {
           "color": "#2a3f5f"
          },
          "geo": {
           "bgcolor": "white",
           "lakecolor": "white",
           "landcolor": "#E5ECF6",
           "showlakes": true,
           "showland": true,
           "subunitcolor": "white"
          },
          "hoverlabel": {
           "align": "left"
          },
          "hovermode": "closest",
          "mapbox": {
           "style": "light"
          },
          "paper_bgcolor": "white",
          "plot_bgcolor": "#E5ECF6",
          "polar": {
           "angularaxis": {
            "gridcolor": "white",
            "linecolor": "white",
            "ticks": ""
           },
           "bgcolor": "#E5ECF6",
           "radialaxis": {
            "gridcolor": "white",
            "linecolor": "white",
            "ticks": ""
           }
          },
          "scene": {
           "xaxis": {
            "backgroundcolor": "#E5ECF6",
            "gridcolor": "white",
            "gridwidth": 2,
            "linecolor": "white",
            "showbackground": true,
            "ticks": "",
            "zerolinecolor": "white"
           },
           "yaxis": {
            "backgroundcolor": "#E5ECF6",
            "gridcolor": "white",
            "gridwidth": 2,
            "linecolor": "white",
            "showbackground": true,
            "ticks": "",
            "zerolinecolor": "white"
           },
           "zaxis": {
            "backgroundcolor": "#E5ECF6",
            "gridcolor": "white",
            "gridwidth": 2,
            "linecolor": "white",
            "showbackground": true,
            "ticks": "",
            "zerolinecolor": "white"
           }
          },
          "shapedefaults": {
           "line": {
            "color": "#2a3f5f"
           }
          },
          "ternary": {
           "aaxis": {
            "gridcolor": "white",
            "linecolor": "white",
            "ticks": ""
           },
           "baxis": {
            "gridcolor": "white",
            "linecolor": "white",
            "ticks": ""
           },
           "bgcolor": "#E5ECF6",
           "caxis": {
            "gridcolor": "white",
            "linecolor": "white",
            "ticks": ""
           }
          },
          "title": {
           "x": 0.05
          },
          "xaxis": {
           "automargin": true,
           "gridcolor": "white",
           "linecolor": "white",
           "ticks": "",
           "title": {
            "standoff": 15
           },
           "zerolinecolor": "white",
           "zerolinewidth": 2
          },
          "yaxis": {
           "automargin": true,
           "gridcolor": "white",
           "linecolor": "white",
           "ticks": "",
           "title": {
            "standoff": 15
           },
           "zerolinecolor": "white",
           "zerolinewidth": 2
          }
         }
        },
        "title": {
         "text": "Linked keywords : arabe"
        },
        "xaxis": {
         "anchor": "y",
         "domain": [
          0,
          1
         ],
         "title": {
          "text": "keyword"
         }
        },
        "yaxis": {
         "anchor": "x",
         "domain": [
          0,
          1
         ],
         "title": {
          "text": "iteration"
         }
        }
       }
      }
     },
     "metadata": {},
     "output_type": "display_data"
    },
    {
     "data": {
      "application/vnd.plotly.v1+json": {
       "config": {
        "plotlyServerURL": "https://plot.ly"
       },
       "data": [
        {
         "alignmentgroup": "True",
         "hovertemplate": "person=%{x}<br>iteration=%{y}<extra></extra>",
         "legendgroup": "",
         "marker": {
          "color": "#636efa",
          "pattern": {
           "shape": ""
          }
         },
         "name": "",
         "offsetgroup": "",
         "orientation": "v",
         "showlegend": false,
         "textposition": "auto",
         "type": "bar",
         "x": [
          "Ansarallah",
          "Trump",
          "Donald Trump",
          "Washington",
          "Emmanuel Macron",
          "Biden",
          "Netanyahu",
          "Haftar",
          "Erdogan",
          "Joe Biden",
          "Macron",
          "Poutine",
          "Khalifa Haftar",
          "Président",
          "Assad",
          "Premier ministre",
          "Abdel Bari Atwan",
          "Vladimir Poutine",
          "Nasrallah",
          "maréchal Haftar",
          "Netanyahou",
          "Mike Pompeo",
          "Benyamin Netanyahou",
          "Zemmour",
          "Mohammed ben Salmane",
          "Éric Zemmour",
          "Kaïs Saïed",
          "Mohammed VI",
          "Mansour Hadi",
          "Seyyed Hassan Nasrallah",
          "Yahya Saree",
          "Kamal Louadj",
          "Benny Gantz",
          "Qassem Soleimani",
          "Ben Salmane",
          "Naftali Bennett",
          "Benjamin Netanyahu",
          "John Bolton",
          "Nasser Bourita",
          "MBS",
          "Riadh Sidaoui",
          "Bouteflika",
          "Recep Tayyip Erdogan",
          "César",
          "Pompeo",
          "Sergueï Lavrov",
          "Président de la République",
          "Abdelmadjid Tebboune",
          "Saad Hariri",
          "Allah",
          "Mahomet",
          "Barkhane",
          "Jamal Khashoggi",
          "Bolton",
          "président Trump",
          "Lavrov",
          "Jared Kushner",
          "Michel Aoun",
          "Kadhafi",
          "Juan Guaido",
          "Salmane",
          "Hadi",
          "Mahmoud Abbas",
          "Mouammar Kadhafi",
          "Président tunisien",
          "Jean-Yves Le Drian",
          "Yahia Zoubir",
          "Bloomberg",
          "Atwan",
          "Thierry Meyssan",
          "Obama",
          "Ben Zayed",
          "Dieudonné",
          "Soleimani",
          "Hassan Nasrallah"
         ],
         "xaxis": "x",
         "y": [
          397,
          307,
          265,
          214,
          135,
          133,
          105,
          96,
          92,
          84,
          84,
          75,
          74,
          73,
          70,
          66,
          64,
          59,
          57,
          53,
          50,
          48,
          43,
          40,
          40,
          36,
          36,
          33,
          32,
          32,
          31,
          31,
          30,
          30,
          30,
          29,
          29,
          28,
          28,
          26,
          26,
          26,
          26,
          25,
          25,
          24,
          24,
          24,
          23,
          23,
          22,
          22,
          21,
          20,
          19,
          18,
          17,
          17,
          17,
          17,
          17,
          17,
          16,
          16,
          16,
          16,
          16,
          16,
          16,
          15,
          15,
          15,
          14,
          14,
          14
         ],
         "yaxis": "y"
        }
       ],
       "layout": {
        "barmode": "relative",
        "legend": {
         "tracegroupgap": 0
        },
        "template": {
         "data": {
          "bar": [
           {
            "error_x": {
             "color": "#2a3f5f"
            },
            "error_y": {
             "color": "#2a3f5f"
            },
            "marker": {
             "line": {
              "color": "#E5ECF6",
              "width": 0.5
             },
             "pattern": {
              "fillmode": "overlay",
              "size": 10,
              "solidity": 0.2
             }
            },
            "type": "bar"
           }
          ],
          "barpolar": [
           {
            "marker": {
             "line": {
              "color": "#E5ECF6",
              "width": 0.5
             },
             "pattern": {
              "fillmode": "overlay",
              "size": 10,
              "solidity": 0.2
             }
            },
            "type": "barpolar"
           }
          ],
          "carpet": [
           {
            "aaxis": {
             "endlinecolor": "#2a3f5f",
             "gridcolor": "white",
             "linecolor": "white",
             "minorgridcolor": "white",
             "startlinecolor": "#2a3f5f"
            },
            "baxis": {
             "endlinecolor": "#2a3f5f",
             "gridcolor": "white",
             "linecolor": "white",
             "minorgridcolor": "white",
             "startlinecolor": "#2a3f5f"
            },
            "type": "carpet"
           }
          ],
          "choropleth": [
           {
            "colorbar": {
             "outlinewidth": 0,
             "ticks": ""
            },
            "type": "choropleth"
           }
          ],
          "contour": [
           {
            "colorbar": {
             "outlinewidth": 0,
             "ticks": ""
            },
            "colorscale": [
             [
              0,
              "#0d0887"
             ],
             [
              0.1111111111111111,
              "#46039f"
             ],
             [
              0.2222222222222222,
              "#7201a8"
             ],
             [
              0.3333333333333333,
              "#9c179e"
             ],
             [
              0.4444444444444444,
              "#bd3786"
             ],
             [
              0.5555555555555556,
              "#d8576b"
             ],
             [
              0.6666666666666666,
              "#ed7953"
             ],
             [
              0.7777777777777778,
              "#fb9f3a"
             ],
             [
              0.8888888888888888,
              "#fdca26"
             ],
             [
              1,
              "#f0f921"
             ]
            ],
            "type": "contour"
           }
          ],
          "contourcarpet": [
           {
            "colorbar": {
             "outlinewidth": 0,
             "ticks": ""
            },
            "type": "contourcarpet"
           }
          ],
          "heatmap": [
           {
            "colorbar": {
             "outlinewidth": 0,
             "ticks": ""
            },
            "colorscale": [
             [
              0,
              "#0d0887"
             ],
             [
              0.1111111111111111,
              "#46039f"
             ],
             [
              0.2222222222222222,
              "#7201a8"
             ],
             [
              0.3333333333333333,
              "#9c179e"
             ],
             [
              0.4444444444444444,
              "#bd3786"
             ],
             [
              0.5555555555555556,
              "#d8576b"
             ],
             [
              0.6666666666666666,
              "#ed7953"
             ],
             [
              0.7777777777777778,
              "#fb9f3a"
             ],
             [
              0.8888888888888888,
              "#fdca26"
             ],
             [
              1,
              "#f0f921"
             ]
            ],
            "type": "heatmap"
           }
          ],
          "heatmapgl": [
           {
            "colorbar": {
             "outlinewidth": 0,
             "ticks": ""
            },
            "colorscale": [
             [
              0,
              "#0d0887"
             ],
             [
              0.1111111111111111,
              "#46039f"
             ],
             [
              0.2222222222222222,
              "#7201a8"
             ],
             [
              0.3333333333333333,
              "#9c179e"
             ],
             [
              0.4444444444444444,
              "#bd3786"
             ],
             [
              0.5555555555555556,
              "#d8576b"
             ],
             [
              0.6666666666666666,
              "#ed7953"
             ],
             [
              0.7777777777777778,
              "#fb9f3a"
             ],
             [
              0.8888888888888888,
              "#fdca26"
             ],
             [
              1,
              "#f0f921"
             ]
            ],
            "type": "heatmapgl"
           }
          ],
          "histogram": [
           {
            "marker": {
             "pattern": {
              "fillmode": "overlay",
              "size": 10,
              "solidity": 0.2
             }
            },
            "type": "histogram"
           }
          ],
          "histogram2d": [
           {
            "colorbar": {
             "outlinewidth": 0,
             "ticks": ""
            },
            "colorscale": [
             [
              0,
              "#0d0887"
             ],
             [
              0.1111111111111111,
              "#46039f"
             ],
             [
              0.2222222222222222,
              "#7201a8"
             ],
             [
              0.3333333333333333,
              "#9c179e"
             ],
             [
              0.4444444444444444,
              "#bd3786"
             ],
             [
              0.5555555555555556,
              "#d8576b"
             ],
             [
              0.6666666666666666,
              "#ed7953"
             ],
             [
              0.7777777777777778,
              "#fb9f3a"
             ],
             [
              0.8888888888888888,
              "#fdca26"
             ],
             [
              1,
              "#f0f921"
             ]
            ],
            "type": "histogram2d"
           }
          ],
          "histogram2dcontour": [
           {
            "colorbar": {
             "outlinewidth": 0,
             "ticks": ""
            },
            "colorscale": [
             [
              0,
              "#0d0887"
             ],
             [
              0.1111111111111111,
              "#46039f"
             ],
             [
              0.2222222222222222,
              "#7201a8"
             ],
             [
              0.3333333333333333,
              "#9c179e"
             ],
             [
              0.4444444444444444,
              "#bd3786"
             ],
             [
              0.5555555555555556,
              "#d8576b"
             ],
             [
              0.6666666666666666,
              "#ed7953"
             ],
             [
              0.7777777777777778,
              "#fb9f3a"
             ],
             [
              0.8888888888888888,
              "#fdca26"
             ],
             [
              1,
              "#f0f921"
             ]
            ],
            "type": "histogram2dcontour"
           }
          ],
          "mesh3d": [
           {
            "colorbar": {
             "outlinewidth": 0,
             "ticks": ""
            },
            "type": "mesh3d"
           }
          ],
          "parcoords": [
           {
            "line": {
             "colorbar": {
              "outlinewidth": 0,
              "ticks": ""
             }
            },
            "type": "parcoords"
           }
          ],
          "pie": [
           {
            "automargin": true,
            "type": "pie"
           }
          ],
          "scatter": [
           {
            "fillpattern": {
             "fillmode": "overlay",
             "size": 10,
             "solidity": 0.2
            },
            "type": "scatter"
           }
          ],
          "scatter3d": [
           {
            "line": {
             "colorbar": {
              "outlinewidth": 0,
              "ticks": ""
             }
            },
            "marker": {
             "colorbar": {
              "outlinewidth": 0,
              "ticks": ""
             }
            },
            "type": "scatter3d"
           }
          ],
          "scattercarpet": [
           {
            "marker": {
             "colorbar": {
              "outlinewidth": 0,
              "ticks": ""
             }
            },
            "type": "scattercarpet"
           }
          ],
          "scattergeo": [
           {
            "marker": {
             "colorbar": {
              "outlinewidth": 0,
              "ticks": ""
             }
            },
            "type": "scattergeo"
           }
          ],
          "scattergl": [
           {
            "marker": {
             "colorbar": {
              "outlinewidth": 0,
              "ticks": ""
             }
            },
            "type": "scattergl"
           }
          ],
          "scattermapbox": [
           {
            "marker": {
             "colorbar": {
              "outlinewidth": 0,
              "ticks": ""
             }
            },
            "type": "scattermapbox"
           }
          ],
          "scatterpolar": [
           {
            "marker": {
             "colorbar": {
              "outlinewidth": 0,
              "ticks": ""
             }
            },
            "type": "scatterpolar"
           }
          ],
          "scatterpolargl": [
           {
            "marker": {
             "colorbar": {
              "outlinewidth": 0,
              "ticks": ""
             }
            },
            "type": "scatterpolargl"
           }
          ],
          "scatterternary": [
           {
            "marker": {
             "colorbar": {
              "outlinewidth": 0,
              "ticks": ""
             }
            },
            "type": "scatterternary"
           }
          ],
          "surface": [
           {
            "colorbar": {
             "outlinewidth": 0,
             "ticks": ""
            },
            "colorscale": [
             [
              0,
              "#0d0887"
             ],
             [
              0.1111111111111111,
              "#46039f"
             ],
             [
              0.2222222222222222,
              "#7201a8"
             ],
             [
              0.3333333333333333,
              "#9c179e"
             ],
             [
              0.4444444444444444,
              "#bd3786"
             ],
             [
              0.5555555555555556,
              "#d8576b"
             ],
             [
              0.6666666666666666,
              "#ed7953"
             ],
             [
              0.7777777777777778,
              "#fb9f3a"
             ],
             [
              0.8888888888888888,
              "#fdca26"
             ],
             [
              1,
              "#f0f921"
             ]
            ],
            "type": "surface"
           }
          ],
          "table": [
           {
            "cells": {
             "fill": {
              "color": "#EBF0F8"
             },
             "line": {
              "color": "white"
             }
            },
            "header": {
             "fill": {
              "color": "#C8D4E3"
             },
             "line": {
              "color": "white"
             }
            },
            "type": "table"
           }
          ]
         },
         "layout": {
          "annotationdefaults": {
           "arrowcolor": "#2a3f5f",
           "arrowhead": 0,
           "arrowwidth": 1
          },
          "autotypenumbers": "strict",
          "coloraxis": {
           "colorbar": {
            "outlinewidth": 0,
            "ticks": ""
           }
          },
          "colorscale": {
           "diverging": [
            [
             0,
             "#8e0152"
            ],
            [
             0.1,
             "#c51b7d"
            ],
            [
             0.2,
             "#de77ae"
            ],
            [
             0.3,
             "#f1b6da"
            ],
            [
             0.4,
             "#fde0ef"
            ],
            [
             0.5,
             "#f7f7f7"
            ],
            [
             0.6,
             "#e6f5d0"
            ],
            [
             0.7,
             "#b8e186"
            ],
            [
             0.8,
             "#7fbc41"
            ],
            [
             0.9,
             "#4d9221"
            ],
            [
             1,
             "#276419"
            ]
           ],
           "sequential": [
            [
             0,
             "#0d0887"
            ],
            [
             0.1111111111111111,
             "#46039f"
            ],
            [
             0.2222222222222222,
             "#7201a8"
            ],
            [
             0.3333333333333333,
             "#9c179e"
            ],
            [
             0.4444444444444444,
             "#bd3786"
            ],
            [
             0.5555555555555556,
             "#d8576b"
            ],
            [
             0.6666666666666666,
             "#ed7953"
            ],
            [
             0.7777777777777778,
             "#fb9f3a"
            ],
            [
             0.8888888888888888,
             "#fdca26"
            ],
            [
             1,
             "#f0f921"
            ]
           ],
           "sequentialminus": [
            [
             0,
             "#0d0887"
            ],
            [
             0.1111111111111111,
             "#46039f"
            ],
            [
             0.2222222222222222,
             "#7201a8"
            ],
            [
             0.3333333333333333,
             "#9c179e"
            ],
            [
             0.4444444444444444,
             "#bd3786"
            ],
            [
             0.5555555555555556,
             "#d8576b"
            ],
            [
             0.6666666666666666,
             "#ed7953"
            ],
            [
             0.7777777777777778,
             "#fb9f3a"
            ],
            [
             0.8888888888888888,
             "#fdca26"
            ],
            [
             1,
             "#f0f921"
            ]
           ]
          },
          "colorway": [
           "#636efa",
           "#EF553B",
           "#00cc96",
           "#ab63fa",
           "#FFA15A",
           "#19d3f3",
           "#FF6692",
           "#B6E880",
           "#FF97FF",
           "#FECB52"
          ],
          "font": {
           "color": "#2a3f5f"
          },
          "geo": {
           "bgcolor": "white",
           "lakecolor": "white",
           "landcolor": "#E5ECF6",
           "showlakes": true,
           "showland": true,
           "subunitcolor": "white"
          },
          "hoverlabel": {
           "align": "left"
          },
          "hovermode": "closest",
          "mapbox": {
           "style": "light"
          },
          "paper_bgcolor": "white",
          "plot_bgcolor": "#E5ECF6",
          "polar": {
           "angularaxis": {
            "gridcolor": "white",
            "linecolor": "white",
            "ticks": ""
           },
           "bgcolor": "#E5ECF6",
           "radialaxis": {
            "gridcolor": "white",
            "linecolor": "white",
            "ticks": ""
           }
          },
          "scene": {
           "xaxis": {
            "backgroundcolor": "#E5ECF6",
            "gridcolor": "white",
            "gridwidth": 2,
            "linecolor": "white",
            "showbackground": true,
            "ticks": "",
            "zerolinecolor": "white"
           },
           "yaxis": {
            "backgroundcolor": "#E5ECF6",
            "gridcolor": "white",
            "gridwidth": 2,
            "linecolor": "white",
            "showbackground": true,
            "ticks": "",
            "zerolinecolor": "white"
           },
           "zaxis": {
            "backgroundcolor": "#E5ECF6",
            "gridcolor": "white",
            "gridwidth": 2,
            "linecolor": "white",
            "showbackground": true,
            "ticks": "",
            "zerolinecolor": "white"
           }
          },
          "shapedefaults": {
           "line": {
            "color": "#2a3f5f"
           }
          },
          "ternary": {
           "aaxis": {
            "gridcolor": "white",
            "linecolor": "white",
            "ticks": ""
           },
           "baxis": {
            "gridcolor": "white",
            "linecolor": "white",
            "ticks": ""
           },
           "bgcolor": "#E5ECF6",
           "caxis": {
            "gridcolor": "white",
            "linecolor": "white",
            "ticks": ""
           }
          },
          "title": {
           "x": 0.05
          },
          "xaxis": {
           "automargin": true,
           "gridcolor": "white",
           "linecolor": "white",
           "ticks": "",
           "title": {
            "standoff": 15
           },
           "zerolinecolor": "white",
           "zerolinewidth": 2
          },
          "yaxis": {
           "automargin": true,
           "gridcolor": "white",
           "linecolor": "white",
           "ticks": "",
           "title": {
            "standoff": 15
           },
           "zerolinecolor": "white",
           "zerolinewidth": 2
          }
         }
        },
        "title": {
         "text": "Linked people : arabe"
        },
        "xaxis": {
         "anchor": "y",
         "domain": [
          0,
          1
         ],
         "title": {
          "text": "person"
         }
        },
        "yaxis": {
         "anchor": "x",
         "domain": [
          0,
          1
         ],
         "title": {
          "text": "iteration"
         }
        }
       }
      }
     },
     "metadata": {},
     "output_type": "display_data"
    },
    {
     "data": {
      "application/vnd.plotly.v1+json": {
       "config": {
        "plotlyServerURL": "https://plot.ly"
       },
       "data": [
        {
         "alignmentgroup": "True",
         "hovertemplate": "keyword=%{x}<br>iteration=%{y}<extra></extra>",
         "legendgroup": "",
         "marker": {
          "color": "#636efa",
          "pattern": {
           "shape": ""
          }
         },
         "name": "",
         "offsetgroup": "",
         "orientation": "v",
         "showlegend": false,
         "textposition": "auto",
         "type": "bar",
         "x": [
          "terroriste",
          "an",
          "france",
          "dernier",
          "pays",
          "attaque",
          "état",
          "français",
          "jour",
          "personne",
          "mort",
          "force",
          "grand",
          "président",
          "homme",
          "politique",
          "groupe",
          "année",
          "sécurité",
          "national",
          "lieu",
          "ministre",
          "nouveau",
          "américain",
          "militaire",
          "police",
          "gouvernement",
          "pari",
          "chef",
          "fois",
          "guerre",
          "organisation",
          "monde",
          "service",
          "affaire",
          "mois",
          "fin",
          "question",
          "septembre",
          "terrorisme",
          "suite",
          "général",
          "victime",
          "octobre",
          "information",
          "novembre",
          "russie",
          "face",
          "place",
          "part",
          "armée",
          "étranger",
          "public",
          "partie",
          "ville",
          "intérieur",
          "ancien",
          "temps",
          "acte",
          "autorité",
          "source",
          "média",
          "opération",
          "point",
          "raison",
          "janvier",
          "membre",
          "droit",
          "responsable",
          "vie",
          "heure",
          "arme",
          "al",
          "auteur",
          "région"
         ],
         "xaxis": "x",
         "y": [
          2151,
          1929,
          1799,
          1780,
          1753,
          1597,
          1589,
          1509,
          1446,
          1445,
          1390,
          1373,
          1353,
          1342,
          1315,
          1306,
          1207,
          1196,
          1196,
          1185,
          1129,
          1116,
          1103,
          1078,
          1074,
          1047,
          1046,
          1029,
          1013,
          1007,
          998,
          997,
          982,
          979,
          969,
          937,
          933,
          923,
          913,
          910,
          903,
          900,
          897,
          895,
          894,
          886,
          878,
          871,
          868,
          855,
          851,
          850,
          833,
          833,
          829,
          827,
          822,
          818,
          818,
          810,
          809,
          805,
          797,
          785,
          784,
          782,
          778,
          772,
          772,
          771,
          771,
          771,
          770,
          766,
          766
         ],
         "yaxis": "y"
        }
       ],
       "layout": {
        "barmode": "relative",
        "legend": {
         "tracegroupgap": 0
        },
        "template": {
         "data": {
          "bar": [
           {
            "error_x": {
             "color": "#2a3f5f"
            },
            "error_y": {
             "color": "#2a3f5f"
            },
            "marker": {
             "line": {
              "color": "#E5ECF6",
              "width": 0.5
             },
             "pattern": {
              "fillmode": "overlay",
              "size": 10,
              "solidity": 0.2
             }
            },
            "type": "bar"
           }
          ],
          "barpolar": [
           {
            "marker": {
             "line": {
              "color": "#E5ECF6",
              "width": 0.5
             },
             "pattern": {
              "fillmode": "overlay",
              "size": 10,
              "solidity": 0.2
             }
            },
            "type": "barpolar"
           }
          ],
          "carpet": [
           {
            "aaxis": {
             "endlinecolor": "#2a3f5f",
             "gridcolor": "white",
             "linecolor": "white",
             "minorgridcolor": "white",
             "startlinecolor": "#2a3f5f"
            },
            "baxis": {
             "endlinecolor": "#2a3f5f",
             "gridcolor": "white",
             "linecolor": "white",
             "minorgridcolor": "white",
             "startlinecolor": "#2a3f5f"
            },
            "type": "carpet"
           }
          ],
          "choropleth": [
           {
            "colorbar": {
             "outlinewidth": 0,
             "ticks": ""
            },
            "type": "choropleth"
           }
          ],
          "contour": [
           {
            "colorbar": {
             "outlinewidth": 0,
             "ticks": ""
            },
            "colorscale": [
             [
              0,
              "#0d0887"
             ],
             [
              0.1111111111111111,
              "#46039f"
             ],
             [
              0.2222222222222222,
              "#7201a8"
             ],
             [
              0.3333333333333333,
              "#9c179e"
             ],
             [
              0.4444444444444444,
              "#bd3786"
             ],
             [
              0.5555555555555556,
              "#d8576b"
             ],
             [
              0.6666666666666666,
              "#ed7953"
             ],
             [
              0.7777777777777778,
              "#fb9f3a"
             ],
             [
              0.8888888888888888,
              "#fdca26"
             ],
             [
              1,
              "#f0f921"
             ]
            ],
            "type": "contour"
           }
          ],
          "contourcarpet": [
           {
            "colorbar": {
             "outlinewidth": 0,
             "ticks": ""
            },
            "type": "contourcarpet"
           }
          ],
          "heatmap": [
           {
            "colorbar": {
             "outlinewidth": 0,
             "ticks": ""
            },
            "colorscale": [
             [
              0,
              "#0d0887"
             ],
             [
              0.1111111111111111,
              "#46039f"
             ],
             [
              0.2222222222222222,
              "#7201a8"
             ],
             [
              0.3333333333333333,
              "#9c179e"
             ],
             [
              0.4444444444444444,
              "#bd3786"
             ],
             [
              0.5555555555555556,
              "#d8576b"
             ],
             [
              0.6666666666666666,
              "#ed7953"
             ],
             [
              0.7777777777777778,
              "#fb9f3a"
             ],
             [
              0.8888888888888888,
              "#fdca26"
             ],
             [
              1,
              "#f0f921"
             ]
            ],
            "type": "heatmap"
           }
          ],
          "heatmapgl": [
           {
            "colorbar": {
             "outlinewidth": 0,
             "ticks": ""
            },
            "colorscale": [
             [
              0,
              "#0d0887"
             ],
             [
              0.1111111111111111,
              "#46039f"
             ],
             [
              0.2222222222222222,
              "#7201a8"
             ],
             [
              0.3333333333333333,
              "#9c179e"
             ],
             [
              0.4444444444444444,
              "#bd3786"
             ],
             [
              0.5555555555555556,
              "#d8576b"
             ],
             [
              0.6666666666666666,
              "#ed7953"
             ],
             [
              0.7777777777777778,
              "#fb9f3a"
             ],
             [
              0.8888888888888888,
              "#fdca26"
             ],
             [
              1,
              "#f0f921"
             ]
            ],
            "type": "heatmapgl"
           }
          ],
          "histogram": [
           {
            "marker": {
             "pattern": {
              "fillmode": "overlay",
              "size": 10,
              "solidity": 0.2
             }
            },
            "type": "histogram"
           }
          ],
          "histogram2d": [
           {
            "colorbar": {
             "outlinewidth": 0,
             "ticks": ""
            },
            "colorscale": [
             [
              0,
              "#0d0887"
             ],
             [
              0.1111111111111111,
              "#46039f"
             ],
             [
              0.2222222222222222,
              "#7201a8"
             ],
             [
              0.3333333333333333,
              "#9c179e"
             ],
             [
              0.4444444444444444,
              "#bd3786"
             ],
             [
              0.5555555555555556,
              "#d8576b"
             ],
             [
              0.6666666666666666,
              "#ed7953"
             ],
             [
              0.7777777777777778,
              "#fb9f3a"
             ],
             [
              0.8888888888888888,
              "#fdca26"
             ],
             [
              1,
              "#f0f921"
             ]
            ],
            "type": "histogram2d"
           }
          ],
          "histogram2dcontour": [
           {
            "colorbar": {
             "outlinewidth": 0,
             "ticks": ""
            },
            "colorscale": [
             [
              0,
              "#0d0887"
             ],
             [
              0.1111111111111111,
              "#46039f"
             ],
             [
              0.2222222222222222,
              "#7201a8"
             ],
             [
              0.3333333333333333,
              "#9c179e"
             ],
             [
              0.4444444444444444,
              "#bd3786"
             ],
             [
              0.5555555555555556,
              "#d8576b"
             ],
             [
              0.6666666666666666,
              "#ed7953"
             ],
             [
              0.7777777777777778,
              "#fb9f3a"
             ],
             [
              0.8888888888888888,
              "#fdca26"
             ],
             [
              1,
              "#f0f921"
             ]
            ],
            "type": "histogram2dcontour"
           }
          ],
          "mesh3d": [
           {
            "colorbar": {
             "outlinewidth": 0,
             "ticks": ""
            },
            "type": "mesh3d"
           }
          ],
          "parcoords": [
           {
            "line": {
             "colorbar": {
              "outlinewidth": 0,
              "ticks": ""
             }
            },
            "type": "parcoords"
           }
          ],
          "pie": [
           {
            "automargin": true,
            "type": "pie"
           }
          ],
          "scatter": [
           {
            "fillpattern": {
             "fillmode": "overlay",
             "size": 10,
             "solidity": 0.2
            },
            "type": "scatter"
           }
          ],
          "scatter3d": [
           {
            "line": {
             "colorbar": {
              "outlinewidth": 0,
              "ticks": ""
             }
            },
            "marker": {
             "colorbar": {
              "outlinewidth": 0,
              "ticks": ""
             }
            },
            "type": "scatter3d"
           }
          ],
          "scattercarpet": [
           {
            "marker": {
             "colorbar": {
              "outlinewidth": 0,
              "ticks": ""
             }
            },
            "type": "scattercarpet"
           }
          ],
          "scattergeo": [
           {
            "marker": {
             "colorbar": {
              "outlinewidth": 0,
              "ticks": ""
             }
            },
            "type": "scattergeo"
           }
          ],
          "scattergl": [
           {
            "marker": {
             "colorbar": {
              "outlinewidth": 0,
              "ticks": ""
             }
            },
            "type": "scattergl"
           }
          ],
          "scattermapbox": [
           {
            "marker": {
             "colorbar": {
              "outlinewidth": 0,
              "ticks": ""
             }
            },
            "type": "scattermapbox"
           }
          ],
          "scatterpolar": [
           {
            "marker": {
             "colorbar": {
              "outlinewidth": 0,
              "ticks": ""
             }
            },
            "type": "scatterpolar"
           }
          ],
          "scatterpolargl": [
           {
            "marker": {
             "colorbar": {
              "outlinewidth": 0,
              "ticks": ""
             }
            },
            "type": "scatterpolargl"
           }
          ],
          "scatterternary": [
           {
            "marker": {
             "colorbar": {
              "outlinewidth": 0,
              "ticks": ""
             }
            },
            "type": "scatterternary"
           }
          ],
          "surface": [
           {
            "colorbar": {
             "outlinewidth": 0,
             "ticks": ""
            },
            "colorscale": [
             [
              0,
              "#0d0887"
             ],
             [
              0.1111111111111111,
              "#46039f"
             ],
             [
              0.2222222222222222,
              "#7201a8"
             ],
             [
              0.3333333333333333,
              "#9c179e"
             ],
             [
              0.4444444444444444,
              "#bd3786"
             ],
             [
              0.5555555555555556,
              "#d8576b"
             ],
             [
              0.6666666666666666,
              "#ed7953"
             ],
             [
              0.7777777777777778,
              "#fb9f3a"
             ],
             [
              0.8888888888888888,
              "#fdca26"
             ],
             [
              1,
              "#f0f921"
             ]
            ],
            "type": "surface"
           }
          ],
          "table": [
           {
            "cells": {
             "fill": {
              "color": "#EBF0F8"
             },
             "line": {
              "color": "white"
             }
            },
            "header": {
             "fill": {
              "color": "#C8D4E3"
             },
             "line": {
              "color": "white"
             }
            },
            "type": "table"
           }
          ]
         },
         "layout": {
          "annotationdefaults": {
           "arrowcolor": "#2a3f5f",
           "arrowhead": 0,
           "arrowwidth": 1
          },
          "autotypenumbers": "strict",
          "coloraxis": {
           "colorbar": {
            "outlinewidth": 0,
            "ticks": ""
           }
          },
          "colorscale": {
           "diverging": [
            [
             0,
             "#8e0152"
            ],
            [
             0.1,
             "#c51b7d"
            ],
            [
             0.2,
             "#de77ae"
            ],
            [
             0.3,
             "#f1b6da"
            ],
            [
             0.4,
             "#fde0ef"
            ],
            [
             0.5,
             "#f7f7f7"
            ],
            [
             0.6,
             "#e6f5d0"
            ],
            [
             0.7,
             "#b8e186"
            ],
            [
             0.8,
             "#7fbc41"
            ],
            [
             0.9,
             "#4d9221"
            ],
            [
             1,
             "#276419"
            ]
           ],
           "sequential": [
            [
             0,
             "#0d0887"
            ],
            [
             0.1111111111111111,
             "#46039f"
            ],
            [
             0.2222222222222222,
             "#7201a8"
            ],
            [
             0.3333333333333333,
             "#9c179e"
            ],
            [
             0.4444444444444444,
             "#bd3786"
            ],
            [
             0.5555555555555556,
             "#d8576b"
            ],
            [
             0.6666666666666666,
             "#ed7953"
            ],
            [
             0.7777777777777778,
             "#fb9f3a"
            ],
            [
             0.8888888888888888,
             "#fdca26"
            ],
            [
             1,
             "#f0f921"
            ]
           ],
           "sequentialminus": [
            [
             0,
             "#0d0887"
            ],
            [
             0.1111111111111111,
             "#46039f"
            ],
            [
             0.2222222222222222,
             "#7201a8"
            ],
            [
             0.3333333333333333,
             "#9c179e"
            ],
            [
             0.4444444444444444,
             "#bd3786"
            ],
            [
             0.5555555555555556,
             "#d8576b"
            ],
            [
             0.6666666666666666,
             "#ed7953"
            ],
            [
             0.7777777777777778,
             "#fb9f3a"
            ],
            [
             0.8888888888888888,
             "#fdca26"
            ],
            [
             1,
             "#f0f921"
            ]
           ]
          },
          "colorway": [
           "#636efa",
           "#EF553B",
           "#00cc96",
           "#ab63fa",
           "#FFA15A",
           "#19d3f3",
           "#FF6692",
           "#B6E880",
           "#FF97FF",
           "#FECB52"
          ],
          "font": {
           "color": "#2a3f5f"
          },
          "geo": {
           "bgcolor": "white",
           "lakecolor": "white",
           "landcolor": "#E5ECF6",
           "showlakes": true,
           "showland": true,
           "subunitcolor": "white"
          },
          "hoverlabel": {
           "align": "left"
          },
          "hovermode": "closest",
          "mapbox": {
           "style": "light"
          },
          "paper_bgcolor": "white",
          "plot_bgcolor": "#E5ECF6",
          "polar": {
           "angularaxis": {
            "gridcolor": "white",
            "linecolor": "white",
            "ticks": ""
           },
           "bgcolor": "#E5ECF6",
           "radialaxis": {
            "gridcolor": "white",
            "linecolor": "white",
            "ticks": ""
           }
          },
          "scene": {
           "xaxis": {
            "backgroundcolor": "#E5ECF6",
            "gridcolor": "white",
            "gridwidth": 2,
            "linecolor": "white",
            "showbackground": true,
            "ticks": "",
            "zerolinecolor": "white"
           },
           "yaxis": {
            "backgroundcolor": "#E5ECF6",
            "gridcolor": "white",
            "gridwidth": 2,
            "linecolor": "white",
            "showbackground": true,
            "ticks": "",
            "zerolinecolor": "white"
           },
           "zaxis": {
            "backgroundcolor": "#E5ECF6",
            "gridcolor": "white",
            "gridwidth": 2,
            "linecolor": "white",
            "showbackground": true,
            "ticks": "",
            "zerolinecolor": "white"
           }
          },
          "shapedefaults": {
           "line": {
            "color": "#2a3f5f"
           }
          },
          "ternary": {
           "aaxis": {
            "gridcolor": "white",
            "linecolor": "white",
            "ticks": ""
           },
           "baxis": {
            "gridcolor": "white",
            "linecolor": "white",
            "ticks": ""
           },
           "bgcolor": "#E5ECF6",
           "caxis": {
            "gridcolor": "white",
            "linecolor": "white",
            "ticks": ""
           }
          },
          "title": {
           "x": 0.05
          },
          "xaxis": {
           "automargin": true,
           "gridcolor": "white",
           "linecolor": "white",
           "ticks": "",
           "title": {
            "standoff": 15
           },
           "zerolinecolor": "white",
           "zerolinewidth": 2
          },
          "yaxis": {
           "automargin": true,
           "gridcolor": "white",
           "linecolor": "white",
           "ticks": "",
           "title": {
            "standoff": 15
           },
           "zerolinecolor": "white",
           "zerolinewidth": 2
          }
         }
        },
        "title": {
         "text": "Linked keywords : attentat"
        },
        "xaxis": {
         "anchor": "y",
         "domain": [
          0,
          1
         ],
         "title": {
          "text": "keyword"
         }
        },
        "yaxis": {
         "anchor": "x",
         "domain": [
          0,
          1
         ],
         "title": {
          "text": "iteration"
         }
        }
       }
      }
     },
     "metadata": {},
     "output_type": "display_data"
    },
    {
     "data": {
      "application/vnd.plotly.v1+json": {
       "config": {
        "plotlyServerURL": "https://plot.ly"
       },
       "data": [
        {
         "alignmentgroup": "True",
         "hovertemplate": "person=%{x}<br>iteration=%{y}<extra></extra>",
         "legendgroup": "",
         "marker": {
          "color": "#636efa",
          "pattern": {
           "shape": ""
          }
         },
         "name": "",
         "offsetgroup": "",
         "orientation": "v",
         "showlegend": false,
         "textposition": "auto",
         "type": "bar",
         "x": [
          "Emmanuel Macron",
          "Samuel Paty",
          "Macron",
          "Donald Trump",
          "Washington",
          "Mahomet",
          "Trump",
          "Alain Soral",
          "Joe Biden",
          "Gérald Darmanin",
          "Président",
          "Jean-Luc Mélenchon",
          "Damien Viguier",
          "Xavier Poussard",
          "Éric Zemmour",
          "Louis-Ferdinand Céline",
          "Lounès Darbois",
          "François Belliot",
          "Zemmour",
          "Biden",
          "Premier ministre",
          "Christophe Castaner",
          "Président de la République",
          "François Hollande",
          "Nicolas Sarkozy",
          "Salah Abdeslam",
          "Pen",
          "Vladimir Poutine",
          "Dieudonné",
          "Erdogan",
          "Soral",
          "Poutine",
          "Allah",
          "Christian Estrosi",
          "Barkhane",
          "Mickaël Harpon",
          "Qassem Soleimani",
          "Ansarallah",
          "Jean Castex",
          "Manuel Valls",
          "Mélenchon",
          "Charlie",
          "Sarkozy",
          "Oussama ben Laden",
          "Kadhafi",
          "Jacques Chirac",
          "Mila",
          "Marlène Schiappa",
          "Nicolas Maduro",
          "Mike Pompeo",
          "Damien Rieu",
          "Mohsen Fakhrizadeh",
          "Alassane Ouattara",
          "Jean-Michel Blanquer",
          "Darmanin",
          "Notre-Dame",
          "Prophète",
          "Bilal Hassani",
          "Kamal Louadj",
          "président Trump",
          "Castaner",
          "Zineb El Rhazoui",
          "Valls",
          "George W. Bush",
          "BHL",
          "Angela Merkel",
          "Eric Zemmour",
          "Yassine Belattar",
          "Justin Trudeau",
          "Daech*.",
          "Recep Tayyip Erdogan",
          "Fakhrizadeh",
          "François Mitterrand",
          "Bush",
          "président de la République"
         ],
         "xaxis": "x",
         "y": [
          152,
          109,
          101,
          80,
          69,
          63,
          58,
          56,
          52,
          50,
          48,
          45,
          40,
          38,
          37,
          36,
          36,
          36,
          36,
          36,
          30,
          28,
          28,
          25,
          22,
          22,
          21,
          20,
          19,
          18,
          17,
          17,
          16,
          15,
          15,
          15,
          14,
          14,
          13,
          13,
          13,
          12,
          12,
          12,
          12,
          11,
          11,
          11,
          11,
          11,
          11,
          11,
          11,
          10,
          10,
          10,
          10,
          10,
          10,
          9,
          9,
          9,
          9,
          9,
          9,
          9,
          9,
          9,
          9,
          9,
          9,
          9,
          8,
          8,
          8
         ],
         "yaxis": "y"
        }
       ],
       "layout": {
        "barmode": "relative",
        "legend": {
         "tracegroupgap": 0
        },
        "template": {
         "data": {
          "bar": [
           {
            "error_x": {
             "color": "#2a3f5f"
            },
            "error_y": {
             "color": "#2a3f5f"
            },
            "marker": {
             "line": {
              "color": "#E5ECF6",
              "width": 0.5
             },
             "pattern": {
              "fillmode": "overlay",
              "size": 10,
              "solidity": 0.2
             }
            },
            "type": "bar"
           }
          ],
          "barpolar": [
           {
            "marker": {
             "line": {
              "color": "#E5ECF6",
              "width": 0.5
             },
             "pattern": {
              "fillmode": "overlay",
              "size": 10,
              "solidity": 0.2
             }
            },
            "type": "barpolar"
           }
          ],
          "carpet": [
           {
            "aaxis": {
             "endlinecolor": "#2a3f5f",
             "gridcolor": "white",
             "linecolor": "white",
             "minorgridcolor": "white",
             "startlinecolor": "#2a3f5f"
            },
            "baxis": {
             "endlinecolor": "#2a3f5f",
             "gridcolor": "white",
             "linecolor": "white",
             "minorgridcolor": "white",
             "startlinecolor": "#2a3f5f"
            },
            "type": "carpet"
           }
          ],
          "choropleth": [
           {
            "colorbar": {
             "outlinewidth": 0,
             "ticks": ""
            },
            "type": "choropleth"
           }
          ],
          "contour": [
           {
            "colorbar": {
             "outlinewidth": 0,
             "ticks": ""
            },
            "colorscale": [
             [
              0,
              "#0d0887"
             ],
             [
              0.1111111111111111,
              "#46039f"
             ],
             [
              0.2222222222222222,
              "#7201a8"
             ],
             [
              0.3333333333333333,
              "#9c179e"
             ],
             [
              0.4444444444444444,
              "#bd3786"
             ],
             [
              0.5555555555555556,
              "#d8576b"
             ],
             [
              0.6666666666666666,
              "#ed7953"
             ],
             [
              0.7777777777777778,
              "#fb9f3a"
             ],
             [
              0.8888888888888888,
              "#fdca26"
             ],
             [
              1,
              "#f0f921"
             ]
            ],
            "type": "contour"
           }
          ],
          "contourcarpet": [
           {
            "colorbar": {
             "outlinewidth": 0,
             "ticks": ""
            },
            "type": "contourcarpet"
           }
          ],
          "heatmap": [
           {
            "colorbar": {
             "outlinewidth": 0,
             "ticks": ""
            },
            "colorscale": [
             [
              0,
              "#0d0887"
             ],
             [
              0.1111111111111111,
              "#46039f"
             ],
             [
              0.2222222222222222,
              "#7201a8"
             ],
             [
              0.3333333333333333,
              "#9c179e"
             ],
             [
              0.4444444444444444,
              "#bd3786"
             ],
             [
              0.5555555555555556,
              "#d8576b"
             ],
             [
              0.6666666666666666,
              "#ed7953"
             ],
             [
              0.7777777777777778,
              "#fb9f3a"
             ],
             [
              0.8888888888888888,
              "#fdca26"
             ],
             [
              1,
              "#f0f921"
             ]
            ],
            "type": "heatmap"
           }
          ],
          "heatmapgl": [
           {
            "colorbar": {
             "outlinewidth": 0,
             "ticks": ""
            },
            "colorscale": [
             [
              0,
              "#0d0887"
             ],
             [
              0.1111111111111111,
              "#46039f"
             ],
             [
              0.2222222222222222,
              "#7201a8"
             ],
             [
              0.3333333333333333,
              "#9c179e"
             ],
             [
              0.4444444444444444,
              "#bd3786"
             ],
             [
              0.5555555555555556,
              "#d8576b"
             ],
             [
              0.6666666666666666,
              "#ed7953"
             ],
             [
              0.7777777777777778,
              "#fb9f3a"
             ],
             [
              0.8888888888888888,
              "#fdca26"
             ],
             [
              1,
              "#f0f921"
             ]
            ],
            "type": "heatmapgl"
           }
          ],
          "histogram": [
           {
            "marker": {
             "pattern": {
              "fillmode": "overlay",
              "size": 10,
              "solidity": 0.2
             }
            },
            "type": "histogram"
           }
          ],
          "histogram2d": [
           {
            "colorbar": {
             "outlinewidth": 0,
             "ticks": ""
            },
            "colorscale": [
             [
              0,
              "#0d0887"
             ],
             [
              0.1111111111111111,
              "#46039f"
             ],
             [
              0.2222222222222222,
              "#7201a8"
             ],
             [
              0.3333333333333333,
              "#9c179e"
             ],
             [
              0.4444444444444444,
              "#bd3786"
             ],
             [
              0.5555555555555556,
              "#d8576b"
             ],
             [
              0.6666666666666666,
              "#ed7953"
             ],
             [
              0.7777777777777778,
              "#fb9f3a"
             ],
             [
              0.8888888888888888,
              "#fdca26"
             ],
             [
              1,
              "#f0f921"
             ]
            ],
            "type": "histogram2d"
           }
          ],
          "histogram2dcontour": [
           {
            "colorbar": {
             "outlinewidth": 0,
             "ticks": ""
            },
            "colorscale": [
             [
              0,
              "#0d0887"
             ],
             [
              0.1111111111111111,
              "#46039f"
             ],
             [
              0.2222222222222222,
              "#7201a8"
             ],
             [
              0.3333333333333333,
              "#9c179e"
             ],
             [
              0.4444444444444444,
              "#bd3786"
             ],
             [
              0.5555555555555556,
              "#d8576b"
             ],
             [
              0.6666666666666666,
              "#ed7953"
             ],
             [
              0.7777777777777778,
              "#fb9f3a"
             ],
             [
              0.8888888888888888,
              "#fdca26"
             ],
             [
              1,
              "#f0f921"
             ]
            ],
            "type": "histogram2dcontour"
           }
          ],
          "mesh3d": [
           {
            "colorbar": {
             "outlinewidth": 0,
             "ticks": ""
            },
            "type": "mesh3d"
           }
          ],
          "parcoords": [
           {
            "line": {
             "colorbar": {
              "outlinewidth": 0,
              "ticks": ""
             }
            },
            "type": "parcoords"
           }
          ],
          "pie": [
           {
            "automargin": true,
            "type": "pie"
           }
          ],
          "scatter": [
           {
            "fillpattern": {
             "fillmode": "overlay",
             "size": 10,
             "solidity": 0.2
            },
            "type": "scatter"
           }
          ],
          "scatter3d": [
           {
            "line": {
             "colorbar": {
              "outlinewidth": 0,
              "ticks": ""
             }
            },
            "marker": {
             "colorbar": {
              "outlinewidth": 0,
              "ticks": ""
             }
            },
            "type": "scatter3d"
           }
          ],
          "scattercarpet": [
           {
            "marker": {
             "colorbar": {
              "outlinewidth": 0,
              "ticks": ""
             }
            },
            "type": "scattercarpet"
           }
          ],
          "scattergeo": [
           {
            "marker": {
             "colorbar": {
              "outlinewidth": 0,
              "ticks": ""
             }
            },
            "type": "scattergeo"
           }
          ],
          "scattergl": [
           {
            "marker": {
             "colorbar": {
              "outlinewidth": 0,
              "ticks": ""
             }
            },
            "type": "scattergl"
           }
          ],
          "scattermapbox": [
           {
            "marker": {
             "colorbar": {
              "outlinewidth": 0,
              "ticks": ""
             }
            },
            "type": "scattermapbox"
           }
          ],
          "scatterpolar": [
           {
            "marker": {
             "colorbar": {
              "outlinewidth": 0,
              "ticks": ""
             }
            },
            "type": "scatterpolar"
           }
          ],
          "scatterpolargl": [
           {
            "marker": {
             "colorbar": {
              "outlinewidth": 0,
              "ticks": ""
             }
            },
            "type": "scatterpolargl"
           }
          ],
          "scatterternary": [
           {
            "marker": {
             "colorbar": {
              "outlinewidth": 0,
              "ticks": ""
             }
            },
            "type": "scatterternary"
           }
          ],
          "surface": [
           {
            "colorbar": {
             "outlinewidth": 0,
             "ticks": ""
            },
            "colorscale": [
             [
              0,
              "#0d0887"
             ],
             [
              0.1111111111111111,
              "#46039f"
             ],
             [
              0.2222222222222222,
              "#7201a8"
             ],
             [
              0.3333333333333333,
              "#9c179e"
             ],
             [
              0.4444444444444444,
              "#bd3786"
             ],
             [
              0.5555555555555556,
              "#d8576b"
             ],
             [
              0.6666666666666666,
              "#ed7953"
             ],
             [
              0.7777777777777778,
              "#fb9f3a"
             ],
             [
              0.8888888888888888,
              "#fdca26"
             ],
             [
              1,
              "#f0f921"
             ]
            ],
            "type": "surface"
           }
          ],
          "table": [
           {
            "cells": {
             "fill": {
              "color": "#EBF0F8"
             },
             "line": {
              "color": "white"
             }
            },
            "header": {
             "fill": {
              "color": "#C8D4E3"
             },
             "line": {
              "color": "white"
             }
            },
            "type": "table"
           }
          ]
         },
         "layout": {
          "annotationdefaults": {
           "arrowcolor": "#2a3f5f",
           "arrowhead": 0,
           "arrowwidth": 1
          },
          "autotypenumbers": "strict",
          "coloraxis": {
           "colorbar": {
            "outlinewidth": 0,
            "ticks": ""
           }
          },
          "colorscale": {
           "diverging": [
            [
             0,
             "#8e0152"
            ],
            [
             0.1,
             "#c51b7d"
            ],
            [
             0.2,
             "#de77ae"
            ],
            [
             0.3,
             "#f1b6da"
            ],
            [
             0.4,
             "#fde0ef"
            ],
            [
             0.5,
             "#f7f7f7"
            ],
            [
             0.6,
             "#e6f5d0"
            ],
            [
             0.7,
             "#b8e186"
            ],
            [
             0.8,
             "#7fbc41"
            ],
            [
             0.9,
             "#4d9221"
            ],
            [
             1,
             "#276419"
            ]
           ],
           "sequential": [
            [
             0,
             "#0d0887"
            ],
            [
             0.1111111111111111,
             "#46039f"
            ],
            [
             0.2222222222222222,
             "#7201a8"
            ],
            [
             0.3333333333333333,
             "#9c179e"
            ],
            [
             0.4444444444444444,
             "#bd3786"
            ],
            [
             0.5555555555555556,
             "#d8576b"
            ],
            [
             0.6666666666666666,
             "#ed7953"
            ],
            [
             0.7777777777777778,
             "#fb9f3a"
            ],
            [
             0.8888888888888888,
             "#fdca26"
            ],
            [
             1,
             "#f0f921"
            ]
           ],
           "sequentialminus": [
            [
             0,
             "#0d0887"
            ],
            [
             0.1111111111111111,
             "#46039f"
            ],
            [
             0.2222222222222222,
             "#7201a8"
            ],
            [
             0.3333333333333333,
             "#9c179e"
            ],
            [
             0.4444444444444444,
             "#bd3786"
            ],
            [
             0.5555555555555556,
             "#d8576b"
            ],
            [
             0.6666666666666666,
             "#ed7953"
            ],
            [
             0.7777777777777778,
             "#fb9f3a"
            ],
            [
             0.8888888888888888,
             "#fdca26"
            ],
            [
             1,
             "#f0f921"
            ]
           ]
          },
          "colorway": [
           "#636efa",
           "#EF553B",
           "#00cc96",
           "#ab63fa",
           "#FFA15A",
           "#19d3f3",
           "#FF6692",
           "#B6E880",
           "#FF97FF",
           "#FECB52"
          ],
          "font": {
           "color": "#2a3f5f"
          },
          "geo": {
           "bgcolor": "white",
           "lakecolor": "white",
           "landcolor": "#E5ECF6",
           "showlakes": true,
           "showland": true,
           "subunitcolor": "white"
          },
          "hoverlabel": {
           "align": "left"
          },
          "hovermode": "closest",
          "mapbox": {
           "style": "light"
          },
          "paper_bgcolor": "white",
          "plot_bgcolor": "#E5ECF6",
          "polar": {
           "angularaxis": {
            "gridcolor": "white",
            "linecolor": "white",
            "ticks": ""
           },
           "bgcolor": "#E5ECF6",
           "radialaxis": {
            "gridcolor": "white",
            "linecolor": "white",
            "ticks": ""
           }
          },
          "scene": {
           "xaxis": {
            "backgroundcolor": "#E5ECF6",
            "gridcolor": "white",
            "gridwidth": 2,
            "linecolor": "white",
            "showbackground": true,
            "ticks": "",
            "zerolinecolor": "white"
           },
           "yaxis": {
            "backgroundcolor": "#E5ECF6",
            "gridcolor": "white",
            "gridwidth": 2,
            "linecolor": "white",
            "showbackground": true,
            "ticks": "",
            "zerolinecolor": "white"
           },
           "zaxis": {
            "backgroundcolor": "#E5ECF6",
            "gridcolor": "white",
            "gridwidth": 2,
            "linecolor": "white",
            "showbackground": true,
            "ticks": "",
            "zerolinecolor": "white"
           }
          },
          "shapedefaults": {
           "line": {
            "color": "#2a3f5f"
           }
          },
          "ternary": {
           "aaxis": {
            "gridcolor": "white",
            "linecolor": "white",
            "ticks": ""
           },
           "baxis": {
            "gridcolor": "white",
            "linecolor": "white",
            "ticks": ""
           },
           "bgcolor": "#E5ECF6",
           "caxis": {
            "gridcolor": "white",
            "linecolor": "white",
            "ticks": ""
           }
          },
          "title": {
           "x": 0.05
          },
          "xaxis": {
           "automargin": true,
           "gridcolor": "white",
           "linecolor": "white",
           "ticks": "",
           "title": {
            "standoff": 15
           },
           "zerolinecolor": "white",
           "zerolinewidth": 2
          },
          "yaxis": {
           "automargin": true,
           "gridcolor": "white",
           "linecolor": "white",
           "ticks": "",
           "title": {
            "standoff": 15
           },
           "zerolinecolor": "white",
           "zerolinewidth": 2
          }
         }
        },
        "title": {
         "text": "Linked people : attentat"
        },
        "xaxis": {
         "anchor": "y",
         "domain": [
          0,
          1
         ],
         "title": {
          "text": "person"
         }
        },
        "yaxis": {
         "anchor": "x",
         "domain": [
          0,
          1
         ],
         "title": {
          "text": "iteration"
         }
        }
       }
      }
     },
     "metadata": {},
     "output_type": "display_data"
    },
    {
     "data": {
      "application/vnd.plotly.v1+json": {
       "config": {
        "plotlyServerURL": "https://plot.ly"
       },
       "data": [
        {
         "alignmentgroup": "True",
         "hovertemplate": "keyword=%{x}<br>iteration=%{y}<extra></extra>",
         "legendgroup": "",
         "marker": {
          "color": "#636efa",
          "pattern": {
           "shape": ""
          }
         },
         "name": "",
         "offsetgroup": "",
         "orientation": "v",
         "showlegend": false,
         "textposition": "auto",
         "type": "bar",
         "x": [
          "pays",
          "militaire",
          "dernier",
          "force",
          "américain",
          "état",
          "grand",
          "armée",
          "président",
          "politique",
          "jour",
          "nouveau",
          "an",
          "région",
          "année",
          "ministre",
          "chef",
          "fois",
          "face",
          "monde",
          "gouvernement",
          "france",
          "général",
          "sécurité",
          "russie",
          "fin",
          "iran",
          "partie",
          "national",
          "attaque",
          "international",
          "défense",
          "étranger",
          "affaire",
          "français",
          "question",
          "part",
          "russe",
          "base",
          "opération",
          "israël",
          "temps",
          "mois",
          "missile",
          "arme",
          "groupe",
          "point",
          "al",
          "situation",
          "cas",
          "lieu",
          "iranien",
          "syrie",
          "source",
          "important",
          "raison",
          "accord",
          "territoire",
          "semaine",
          "israélien",
          "washington",
          "mesure",
          "cours",
          "système",
          "information",
          "résistance",
          "heure",
          "aérien",
          "droit",
          "nord",
          "média",
          "sud",
          "frontière",
          "zone",
          "coup"
         ],
         "xaxis": "x",
         "y": [
          10271,
          9027,
          8898,
          8620,
          8494,
          8287,
          7629,
          7379,
          7232,
          7094,
          6942,
          6795,
          6267,
          6025,
          5763,
          5608,
          5606,
          5570,
          5565,
          5478,
          5443,
          5407,
          5328,
          5289,
          5214,
          5174,
          5079,
          5071,
          5065,
          4991,
          4987,
          4964,
          4951,
          4942,
          4781,
          4726,
          4715,
          4625,
          4606,
          4595,
          4572,
          4512,
          4477,
          4438,
          4430,
          4325,
          4320,
          4312,
          4310,
          4230,
          4222,
          4177,
          4176,
          4135,
          4068,
          4036,
          4002,
          3919,
          3897,
          3889,
          3871,
          3860,
          3848,
          3842,
          3809,
          3785,
          3777,
          3776,
          3723,
          3701,
          3697,
          3688,
          3658,
          3649,
          3612
         ],
         "yaxis": "y"
        }
       ],
       "layout": {
        "barmode": "relative",
        "legend": {
         "tracegroupgap": 0
        },
        "template": {
         "data": {
          "bar": [
           {
            "error_x": {
             "color": "#2a3f5f"
            },
            "error_y": {
             "color": "#2a3f5f"
            },
            "marker": {
             "line": {
              "color": "#E5ECF6",
              "width": 0.5
             },
             "pattern": {
              "fillmode": "overlay",
              "size": 10,
              "solidity": 0.2
             }
            },
            "type": "bar"
           }
          ],
          "barpolar": [
           {
            "marker": {
             "line": {
              "color": "#E5ECF6",
              "width": 0.5
             },
             "pattern": {
              "fillmode": "overlay",
              "size": 10,
              "solidity": 0.2
             }
            },
            "type": "barpolar"
           }
          ],
          "carpet": [
           {
            "aaxis": {
             "endlinecolor": "#2a3f5f",
             "gridcolor": "white",
             "linecolor": "white",
             "minorgridcolor": "white",
             "startlinecolor": "#2a3f5f"
            },
            "baxis": {
             "endlinecolor": "#2a3f5f",
             "gridcolor": "white",
             "linecolor": "white",
             "minorgridcolor": "white",
             "startlinecolor": "#2a3f5f"
            },
            "type": "carpet"
           }
          ],
          "choropleth": [
           {
            "colorbar": {
             "outlinewidth": 0,
             "ticks": ""
            },
            "type": "choropleth"
           }
          ],
          "contour": [
           {
            "colorbar": {
             "outlinewidth": 0,
             "ticks": ""
            },
            "colorscale": [
             [
              0,
              "#0d0887"
             ],
             [
              0.1111111111111111,
              "#46039f"
             ],
             [
              0.2222222222222222,
              "#7201a8"
             ],
             [
              0.3333333333333333,
              "#9c179e"
             ],
             [
              0.4444444444444444,
              "#bd3786"
             ],
             [
              0.5555555555555556,
              "#d8576b"
             ],
             [
              0.6666666666666666,
              "#ed7953"
             ],
             [
              0.7777777777777778,
              "#fb9f3a"
             ],
             [
              0.8888888888888888,
              "#fdca26"
             ],
             [
              1,
              "#f0f921"
             ]
            ],
            "type": "contour"
           }
          ],
          "contourcarpet": [
           {
            "colorbar": {
             "outlinewidth": 0,
             "ticks": ""
            },
            "type": "contourcarpet"
           }
          ],
          "heatmap": [
           {
            "colorbar": {
             "outlinewidth": 0,
             "ticks": ""
            },
            "colorscale": [
             [
              0,
              "#0d0887"
             ],
             [
              0.1111111111111111,
              "#46039f"
             ],
             [
              0.2222222222222222,
              "#7201a8"
             ],
             [
              0.3333333333333333,
              "#9c179e"
             ],
             [
              0.4444444444444444,
              "#bd3786"
             ],
             [
              0.5555555555555556,
              "#d8576b"
             ],
             [
              0.6666666666666666,
              "#ed7953"
             ],
             [
              0.7777777777777778,
              "#fb9f3a"
             ],
             [
              0.8888888888888888,
              "#fdca26"
             ],
             [
              1,
              "#f0f921"
             ]
            ],
            "type": "heatmap"
           }
          ],
          "heatmapgl": [
           {
            "colorbar": {
             "outlinewidth": 0,
             "ticks": ""
            },
            "colorscale": [
             [
              0,
              "#0d0887"
             ],
             [
              0.1111111111111111,
              "#46039f"
             ],
             [
              0.2222222222222222,
              "#7201a8"
             ],
             [
              0.3333333333333333,
              "#9c179e"
             ],
             [
              0.4444444444444444,
              "#bd3786"
             ],
             [
              0.5555555555555556,
              "#d8576b"
             ],
             [
              0.6666666666666666,
              "#ed7953"
             ],
             [
              0.7777777777777778,
              "#fb9f3a"
             ],
             [
              0.8888888888888888,
              "#fdca26"
             ],
             [
              1,
              "#f0f921"
             ]
            ],
            "type": "heatmapgl"
           }
          ],
          "histogram": [
           {
            "marker": {
             "pattern": {
              "fillmode": "overlay",
              "size": 10,
              "solidity": 0.2
             }
            },
            "type": "histogram"
           }
          ],
          "histogram2d": [
           {
            "colorbar": {
             "outlinewidth": 0,
             "ticks": ""
            },
            "colorscale": [
             [
              0,
              "#0d0887"
             ],
             [
              0.1111111111111111,
              "#46039f"
             ],
             [
              0.2222222222222222,
              "#7201a8"
             ],
             [
              0.3333333333333333,
              "#9c179e"
             ],
             [
              0.4444444444444444,
              "#bd3786"
             ],
             [
              0.5555555555555556,
              "#d8576b"
             ],
             [
              0.6666666666666666,
              "#ed7953"
             ],
             [
              0.7777777777777778,
              "#fb9f3a"
             ],
             [
              0.8888888888888888,
              "#fdca26"
             ],
             [
              1,
              "#f0f921"
             ]
            ],
            "type": "histogram2d"
           }
          ],
          "histogram2dcontour": [
           {
            "colorbar": {
             "outlinewidth": 0,
             "ticks": ""
            },
            "colorscale": [
             [
              0,
              "#0d0887"
             ],
             [
              0.1111111111111111,
              "#46039f"
             ],
             [
              0.2222222222222222,
              "#7201a8"
             ],
             [
              0.3333333333333333,
              "#9c179e"
             ],
             [
              0.4444444444444444,
              "#bd3786"
             ],
             [
              0.5555555555555556,
              "#d8576b"
             ],
             [
              0.6666666666666666,
              "#ed7953"
             ],
             [
              0.7777777777777778,
              "#fb9f3a"
             ],
             [
              0.8888888888888888,
              "#fdca26"
             ],
             [
              1,
              "#f0f921"
             ]
            ],
            "type": "histogram2dcontour"
           }
          ],
          "mesh3d": [
           {
            "colorbar": {
             "outlinewidth": 0,
             "ticks": ""
            },
            "type": "mesh3d"
           }
          ],
          "parcoords": [
           {
            "line": {
             "colorbar": {
              "outlinewidth": 0,
              "ticks": ""
             }
            },
            "type": "parcoords"
           }
          ],
          "pie": [
           {
            "automargin": true,
            "type": "pie"
           }
          ],
          "scatter": [
           {
            "fillpattern": {
             "fillmode": "overlay",
             "size": 10,
             "solidity": 0.2
            },
            "type": "scatter"
           }
          ],
          "scatter3d": [
           {
            "line": {
             "colorbar": {
              "outlinewidth": 0,
              "ticks": ""
             }
            },
            "marker": {
             "colorbar": {
              "outlinewidth": 0,
              "ticks": ""
             }
            },
            "type": "scatter3d"
           }
          ],
          "scattercarpet": [
           {
            "marker": {
             "colorbar": {
              "outlinewidth": 0,
              "ticks": ""
             }
            },
            "type": "scattercarpet"
           }
          ],
          "scattergeo": [
           {
            "marker": {
             "colorbar": {
              "outlinewidth": 0,
              "ticks": ""
             }
            },
            "type": "scattergeo"
           }
          ],
          "scattergl": [
           {
            "marker": {
             "colorbar": {
              "outlinewidth": 0,
              "ticks": ""
             }
            },
            "type": "scattergl"
           }
          ],
          "scattermapbox": [
           {
            "marker": {
             "colorbar": {
              "outlinewidth": 0,
              "ticks": ""
             }
            },
            "type": "scattermapbox"
           }
          ],
          "scatterpolar": [
           {
            "marker": {
             "colorbar": {
              "outlinewidth": 0,
              "ticks": ""
             }
            },
            "type": "scatterpolar"
           }
          ],
          "scatterpolargl": [
           {
            "marker": {
             "colorbar": {
              "outlinewidth": 0,
              "ticks": ""
             }
            },
            "type": "scatterpolargl"
           }
          ],
          "scatterternary": [
           {
            "marker": {
             "colorbar": {
              "outlinewidth": 0,
              "ticks": ""
             }
            },
            "type": "scatterternary"
           }
          ],
          "surface": [
           {
            "colorbar": {
             "outlinewidth": 0,
             "ticks": ""
            },
            "colorscale": [
             [
              0,
              "#0d0887"
             ],
             [
              0.1111111111111111,
              "#46039f"
             ],
             [
              0.2222222222222222,
              "#7201a8"
             ],
             [
              0.3333333333333333,
              "#9c179e"
             ],
             [
              0.4444444444444444,
              "#bd3786"
             ],
             [
              0.5555555555555556,
              "#d8576b"
             ],
             [
              0.6666666666666666,
              "#ed7953"
             ],
             [
              0.7777777777777778,
              "#fb9f3a"
             ],
             [
              0.8888888888888888,
              "#fdca26"
             ],
             [
              1,
              "#f0f921"
             ]
            ],
            "type": "surface"
           }
          ],
          "table": [
           {
            "cells": {
             "fill": {
              "color": "#EBF0F8"
             },
             "line": {
              "color": "white"
             }
            },
            "header": {
             "fill": {
              "color": "#C8D4E3"
             },
             "line": {
              "color": "white"
             }
            },
            "type": "table"
           }
          ]
         },
         "layout": {
          "annotationdefaults": {
           "arrowcolor": "#2a3f5f",
           "arrowhead": 0,
           "arrowwidth": 1
          },
          "autotypenumbers": "strict",
          "coloraxis": {
           "colorbar": {
            "outlinewidth": 0,
            "ticks": ""
           }
          },
          "colorscale": {
           "diverging": [
            [
             0,
             "#8e0152"
            ],
            [
             0.1,
             "#c51b7d"
            ],
            [
             0.2,
             "#de77ae"
            ],
            [
             0.3,
             "#f1b6da"
            ],
            [
             0.4,
             "#fde0ef"
            ],
            [
             0.5,
             "#f7f7f7"
            ],
            [
             0.6,
             "#e6f5d0"
            ],
            [
             0.7,
             "#b8e186"
            ],
            [
             0.8,
             "#7fbc41"
            ],
            [
             0.9,
             "#4d9221"
            ],
            [
             1,
             "#276419"
            ]
           ],
           "sequential": [
            [
             0,
             "#0d0887"
            ],
            [
             0.1111111111111111,
             "#46039f"
            ],
            [
             0.2222222222222222,
             "#7201a8"
            ],
            [
             0.3333333333333333,
             "#9c179e"
            ],
            [
             0.4444444444444444,
             "#bd3786"
            ],
            [
             0.5555555555555556,
             "#d8576b"
            ],
            [
             0.6666666666666666,
             "#ed7953"
            ],
            [
             0.7777777777777778,
             "#fb9f3a"
            ],
            [
             0.8888888888888888,
             "#fdca26"
            ],
            [
             1,
             "#f0f921"
            ]
           ],
           "sequentialminus": [
            [
             0,
             "#0d0887"
            ],
            [
             0.1111111111111111,
             "#46039f"
            ],
            [
             0.2222222222222222,
             "#7201a8"
            ],
            [
             0.3333333333333333,
             "#9c179e"
            ],
            [
             0.4444444444444444,
             "#bd3786"
            ],
            [
             0.5555555555555556,
             "#d8576b"
            ],
            [
             0.6666666666666666,
             "#ed7953"
            ],
            [
             0.7777777777777778,
             "#fb9f3a"
            ],
            [
             0.8888888888888888,
             "#fdca26"
            ],
            [
             1,
             "#f0f921"
            ]
           ]
          },
          "colorway": [
           "#636efa",
           "#EF553B",
           "#00cc96",
           "#ab63fa",
           "#FFA15A",
           "#19d3f3",
           "#FF6692",
           "#B6E880",
           "#FF97FF",
           "#FECB52"
          ],
          "font": {
           "color": "#2a3f5f"
          },
          "geo": {
           "bgcolor": "white",
           "lakecolor": "white",
           "landcolor": "#E5ECF6",
           "showlakes": true,
           "showland": true,
           "subunitcolor": "white"
          },
          "hoverlabel": {
           "align": "left"
          },
          "hovermode": "closest",
          "mapbox": {
           "style": "light"
          },
          "paper_bgcolor": "white",
          "plot_bgcolor": "#E5ECF6",
          "polar": {
           "angularaxis": {
            "gridcolor": "white",
            "linecolor": "white",
            "ticks": ""
           },
           "bgcolor": "#E5ECF6",
           "radialaxis": {
            "gridcolor": "white",
            "linecolor": "white",
            "ticks": ""
           }
          },
          "scene": {
           "xaxis": {
            "backgroundcolor": "#E5ECF6",
            "gridcolor": "white",
            "gridwidth": 2,
            "linecolor": "white",
            "showbackground": true,
            "ticks": "",
            "zerolinecolor": "white"
           },
           "yaxis": {
            "backgroundcolor": "#E5ECF6",
            "gridcolor": "white",
            "gridwidth": 2,
            "linecolor": "white",
            "showbackground": true,
            "ticks": "",
            "zerolinecolor": "white"
           },
           "zaxis": {
            "backgroundcolor": "#E5ECF6",
            "gridcolor": "white",
            "gridwidth": 2,
            "linecolor": "white",
            "showbackground": true,
            "ticks": "",
            "zerolinecolor": "white"
           }
          },
          "shapedefaults": {
           "line": {
            "color": "#2a3f5f"
           }
          },
          "ternary": {
           "aaxis": {
            "gridcolor": "white",
            "linecolor": "white",
            "ticks": ""
           },
           "baxis": {
            "gridcolor": "white",
            "linecolor": "white",
            "ticks": ""
           },
           "bgcolor": "#E5ECF6",
           "caxis": {
            "gridcolor": "white",
            "linecolor": "white",
            "ticks": ""
           }
          },
          "title": {
           "x": 0.05
          },
          "xaxis": {
           "automargin": true,
           "gridcolor": "white",
           "linecolor": "white",
           "ticks": "",
           "title": {
            "standoff": 15
           },
           "zerolinecolor": "white",
           "zerolinewidth": 2
          },
          "yaxis": {
           "automargin": true,
           "gridcolor": "white",
           "linecolor": "white",
           "ticks": "",
           "title": {
            "standoff": 15
           },
           "zerolinecolor": "white",
           "zerolinewidth": 2
          }
         }
        },
        "title": {
         "text": "Linked keywords : guerre"
        },
        "xaxis": {
         "anchor": "y",
         "domain": [
          0,
          1
         ],
         "title": {
          "text": "keyword"
         }
        },
        "yaxis": {
         "anchor": "x",
         "domain": [
          0,
          1
         ],
         "title": {
          "text": "iteration"
         }
        }
       }
      }
     },
     "metadata": {},
     "output_type": "display_data"
    },
    {
     "data": {
      "application/vnd.plotly.v1+json": {
       "config": {
        "plotlyServerURL": "https://plot.ly"
       },
       "data": [
        {
         "alignmentgroup": "True",
         "hovertemplate": "person=%{x}<br>iteration=%{y}<extra></extra>",
         "legendgroup": "",
         "marker": {
          "color": "#636efa",
          "pattern": {
           "shape": ""
          }
         },
         "name": "",
         "offsetgroup": "",
         "orientation": "v",
         "showlegend": false,
         "textposition": "auto",
         "type": "bar",
         "x": [
          "Trump",
          "Ansarallah",
          "Donald Trump",
          "Washington",
          "Emmanuel Macron",
          "Biden",
          "Macron",
          "Poutine",
          "Vladimir Poutine",
          "Joe Biden",
          "Président",
          "Netanyahu",
          "Erdogan",
          "Nasrallah",
          "Barkhane",
          "Zemmour",
          "Assad",
          "Premier ministre",
          "Haftar",
          "Nicolas Maduro",
          "Éric Zemmour",
          "Mike Pompeo",
          "Qassem Soleimani",
          "Maduro",
          "Alain Soral",
          "Sergueï Lavrov",
          "Juan Guaido",
          "Pompeo",
          "Khalifa Haftar",
          "Hitler",
          "Abdel Bari Atwan",
          "Paul Biya",
          "Seyyed Hassan Nasrallah",
          "Yahya Saree",
          "Florence Parly",
          "Ben Salmane",
          "Président de la République",
          "Netanyahou",
          "John Bolton",
          "Rohani",
          "Pen",
          "Damien Viguier",
          "maréchal Haftar",
          "Alassane Ouattara",
          "Angela Merkel",
          "Benjamin Netanyahu",
          "président Trump",
          "Victoire",
          "Recep Tayyip Erdogan",
          "César",
          "Kim Jong",
          "Gérald Darmanin",
          "Mohammed ben Salmane",
          "Bloomberg",
          "Jean-Luc Mélenchon",
          "Hassan Rohani",
          "Xavier Poussard",
          "Jean-Michel Vernochet",
          "Jérôme Bourbon",
          "Libre Journal",
          "Bernard Gantois",
          "Xi Jinping",
          "Soleimani",
          "Président russe",
          "Bolton",
          "Mansour Hadi",
          "BHL",
          "Nicolas Sarkozy",
          "Zarif",
          "Laurent Gbagbo",
          "McKenzie",
          "Barack Obama",
          "Julian Assange",
          "Salami",
          "Louis-Ferdinand Céline"
         ],
         "xaxis": "x",
         "y": [
          765,
          682,
          677,
          627,
          522,
          372,
          364,
          282,
          276,
          273,
          270,
          215,
          163,
          152,
          140,
          128,
          123,
          121,
          103,
          99,
          90,
          90,
          85,
          79,
          77,
          73,
          68,
          68,
          65,
          60,
          60,
          59,
          58,
          57,
          57,
          57,
          56,
          55,
          55,
          54,
          54,
          53,
          50,
          50,
          49,
          48,
          47,
          47,
          47,
          45,
          45,
          45,
          44,
          44,
          43,
          43,
          41,
          41,
          41,
          41,
          41,
          41,
          40,
          40,
          40,
          40,
          39,
          39,
          39,
          39,
          39,
          38,
          38,
          38,
          37
         ],
         "yaxis": "y"
        }
       ],
       "layout": {
        "barmode": "relative",
        "legend": {
         "tracegroupgap": 0
        },
        "template": {
         "data": {
          "bar": [
           {
            "error_x": {
             "color": "#2a3f5f"
            },
            "error_y": {
             "color": "#2a3f5f"
            },
            "marker": {
             "line": {
              "color": "#E5ECF6",
              "width": 0.5
             },
             "pattern": {
              "fillmode": "overlay",
              "size": 10,
              "solidity": 0.2
             }
            },
            "type": "bar"
           }
          ],
          "barpolar": [
           {
            "marker": {
             "line": {
              "color": "#E5ECF6",
              "width": 0.5
             },
             "pattern": {
              "fillmode": "overlay",
              "size": 10,
              "solidity": 0.2
             }
            },
            "type": "barpolar"
           }
          ],
          "carpet": [
           {
            "aaxis": {
             "endlinecolor": "#2a3f5f",
             "gridcolor": "white",
             "linecolor": "white",
             "minorgridcolor": "white",
             "startlinecolor": "#2a3f5f"
            },
            "baxis": {
             "endlinecolor": "#2a3f5f",
             "gridcolor": "white",
             "linecolor": "white",
             "minorgridcolor": "white",
             "startlinecolor": "#2a3f5f"
            },
            "type": "carpet"
           }
          ],
          "choropleth": [
           {
            "colorbar": {
             "outlinewidth": 0,
             "ticks": ""
            },
            "type": "choropleth"
           }
          ],
          "contour": [
           {
            "colorbar": {
             "outlinewidth": 0,
             "ticks": ""
            },
            "colorscale": [
             [
              0,
              "#0d0887"
             ],
             [
              0.1111111111111111,
              "#46039f"
             ],
             [
              0.2222222222222222,
              "#7201a8"
             ],
             [
              0.3333333333333333,
              "#9c179e"
             ],
             [
              0.4444444444444444,
              "#bd3786"
             ],
             [
              0.5555555555555556,
              "#d8576b"
             ],
             [
              0.6666666666666666,
              "#ed7953"
             ],
             [
              0.7777777777777778,
              "#fb9f3a"
             ],
             [
              0.8888888888888888,
              "#fdca26"
             ],
             [
              1,
              "#f0f921"
             ]
            ],
            "type": "contour"
           }
          ],
          "contourcarpet": [
           {
            "colorbar": {
             "outlinewidth": 0,
             "ticks": ""
            },
            "type": "contourcarpet"
           }
          ],
          "heatmap": [
           {
            "colorbar": {
             "outlinewidth": 0,
             "ticks": ""
            },
            "colorscale": [
             [
              0,
              "#0d0887"
             ],
             [
              0.1111111111111111,
              "#46039f"
             ],
             [
              0.2222222222222222,
              "#7201a8"
             ],
             [
              0.3333333333333333,
              "#9c179e"
             ],
             [
              0.4444444444444444,
              "#bd3786"
             ],
             [
              0.5555555555555556,
              "#d8576b"
             ],
             [
              0.6666666666666666,
              "#ed7953"
             ],
             [
              0.7777777777777778,
              "#fb9f3a"
             ],
             [
              0.8888888888888888,
              "#fdca26"
             ],
             [
              1,
              "#f0f921"
             ]
            ],
            "type": "heatmap"
           }
          ],
          "heatmapgl": [
           {
            "colorbar": {
             "outlinewidth": 0,
             "ticks": ""
            },
            "colorscale": [
             [
              0,
              "#0d0887"
             ],
             [
              0.1111111111111111,
              "#46039f"
             ],
             [
              0.2222222222222222,
              "#7201a8"
             ],
             [
              0.3333333333333333,
              "#9c179e"
             ],
             [
              0.4444444444444444,
              "#bd3786"
             ],
             [
              0.5555555555555556,
              "#d8576b"
             ],
             [
              0.6666666666666666,
              "#ed7953"
             ],
             [
              0.7777777777777778,
              "#fb9f3a"
             ],
             [
              0.8888888888888888,
              "#fdca26"
             ],
             [
              1,
              "#f0f921"
             ]
            ],
            "type": "heatmapgl"
           }
          ],
          "histogram": [
           {
            "marker": {
             "pattern": {
              "fillmode": "overlay",
              "size": 10,
              "solidity": 0.2
             }
            },
            "type": "histogram"
           }
          ],
          "histogram2d": [
           {
            "colorbar": {
             "outlinewidth": 0,
             "ticks": ""
            },
            "colorscale": [
             [
              0,
              "#0d0887"
             ],
             [
              0.1111111111111111,
              "#46039f"
             ],
             [
              0.2222222222222222,
              "#7201a8"
             ],
             [
              0.3333333333333333,
              "#9c179e"
             ],
             [
              0.4444444444444444,
              "#bd3786"
             ],
             [
              0.5555555555555556,
              "#d8576b"
             ],
             [
              0.6666666666666666,
              "#ed7953"
             ],
             [
              0.7777777777777778,
              "#fb9f3a"
             ],
             [
              0.8888888888888888,
              "#fdca26"
             ],
             [
              1,
              "#f0f921"
             ]
            ],
            "type": "histogram2d"
           }
          ],
          "histogram2dcontour": [
           {
            "colorbar": {
             "outlinewidth": 0,
             "ticks": ""
            },
            "colorscale": [
             [
              0,
              "#0d0887"
             ],
             [
              0.1111111111111111,
              "#46039f"
             ],
             [
              0.2222222222222222,
              "#7201a8"
             ],
             [
              0.3333333333333333,
              "#9c179e"
             ],
             [
              0.4444444444444444,
              "#bd3786"
             ],
             [
              0.5555555555555556,
              "#d8576b"
             ],
             [
              0.6666666666666666,
              "#ed7953"
             ],
             [
              0.7777777777777778,
              "#fb9f3a"
             ],
             [
              0.8888888888888888,
              "#fdca26"
             ],
             [
              1,
              "#f0f921"
             ]
            ],
            "type": "histogram2dcontour"
           }
          ],
          "mesh3d": [
           {
            "colorbar": {
             "outlinewidth": 0,
             "ticks": ""
            },
            "type": "mesh3d"
           }
          ],
          "parcoords": [
           {
            "line": {
             "colorbar": {
              "outlinewidth": 0,
              "ticks": ""
             }
            },
            "type": "parcoords"
           }
          ],
          "pie": [
           {
            "automargin": true,
            "type": "pie"
           }
          ],
          "scatter": [
           {
            "fillpattern": {
             "fillmode": "overlay",
             "size": 10,
             "solidity": 0.2
            },
            "type": "scatter"
           }
          ],
          "scatter3d": [
           {
            "line": {
             "colorbar": {
              "outlinewidth": 0,
              "ticks": ""
             }
            },
            "marker": {
             "colorbar": {
              "outlinewidth": 0,
              "ticks": ""
             }
            },
            "type": "scatter3d"
           }
          ],
          "scattercarpet": [
           {
            "marker": {
             "colorbar": {
              "outlinewidth": 0,
              "ticks": ""
             }
            },
            "type": "scattercarpet"
           }
          ],
          "scattergeo": [
           {
            "marker": {
             "colorbar": {
              "outlinewidth": 0,
              "ticks": ""
             }
            },
            "type": "scattergeo"
           }
          ],
          "scattergl": [
           {
            "marker": {
             "colorbar": {
              "outlinewidth": 0,
              "ticks": ""
             }
            },
            "type": "scattergl"
           }
          ],
          "scattermapbox": [
           {
            "marker": {
             "colorbar": {
              "outlinewidth": 0,
              "ticks": ""
             }
            },
            "type": "scattermapbox"
           }
          ],
          "scatterpolar": [
           {
            "marker": {
             "colorbar": {
              "outlinewidth": 0,
              "ticks": ""
             }
            },
            "type": "scatterpolar"
           }
          ],
          "scatterpolargl": [
           {
            "marker": {
             "colorbar": {
              "outlinewidth": 0,
              "ticks": ""
             }
            },
            "type": "scatterpolargl"
           }
          ],
          "scatterternary": [
           {
            "marker": {
             "colorbar": {
              "outlinewidth": 0,
              "ticks": ""
             }
            },
            "type": "scatterternary"
           }
          ],
          "surface": [
           {
            "colorbar": {
             "outlinewidth": 0,
             "ticks": ""
            },
            "colorscale": [
             [
              0,
              "#0d0887"
             ],
             [
              0.1111111111111111,
              "#46039f"
             ],
             [
              0.2222222222222222,
              "#7201a8"
             ],
             [
              0.3333333333333333,
              "#9c179e"
             ],
             [
              0.4444444444444444,
              "#bd3786"
             ],
             [
              0.5555555555555556,
              "#d8576b"
             ],
             [
              0.6666666666666666,
              "#ed7953"
             ],
             [
              0.7777777777777778,
              "#fb9f3a"
             ],
             [
              0.8888888888888888,
              "#fdca26"
             ],
             [
              1,
              "#f0f921"
             ]
            ],
            "type": "surface"
           }
          ],
          "table": [
           {
            "cells": {
             "fill": {
              "color": "#EBF0F8"
             },
             "line": {
              "color": "white"
             }
            },
            "header": {
             "fill": {
              "color": "#C8D4E3"
             },
             "line": {
              "color": "white"
             }
            },
            "type": "table"
           }
          ]
         },
         "layout": {
          "annotationdefaults": {
           "arrowcolor": "#2a3f5f",
           "arrowhead": 0,
           "arrowwidth": 1
          },
          "autotypenumbers": "strict",
          "coloraxis": {
           "colorbar": {
            "outlinewidth": 0,
            "ticks": ""
           }
          },
          "colorscale": {
           "diverging": [
            [
             0,
             "#8e0152"
            ],
            [
             0.1,
             "#c51b7d"
            ],
            [
             0.2,
             "#de77ae"
            ],
            [
             0.3,
             "#f1b6da"
            ],
            [
             0.4,
             "#fde0ef"
            ],
            [
             0.5,
             "#f7f7f7"
            ],
            [
             0.6,
             "#e6f5d0"
            ],
            [
             0.7,
             "#b8e186"
            ],
            [
             0.8,
             "#7fbc41"
            ],
            [
             0.9,
             "#4d9221"
            ],
            [
             1,
             "#276419"
            ]
           ],
           "sequential": [
            [
             0,
             "#0d0887"
            ],
            [
             0.1111111111111111,
             "#46039f"
            ],
            [
             0.2222222222222222,
             "#7201a8"
            ],
            [
             0.3333333333333333,
             "#9c179e"
            ],
            [
             0.4444444444444444,
             "#bd3786"
            ],
            [
             0.5555555555555556,
             "#d8576b"
            ],
            [
             0.6666666666666666,
             "#ed7953"
            ],
            [
             0.7777777777777778,
             "#fb9f3a"
            ],
            [
             0.8888888888888888,
             "#fdca26"
            ],
            [
             1,
             "#f0f921"
            ]
           ],
           "sequentialminus": [
            [
             0,
             "#0d0887"
            ],
            [
             0.1111111111111111,
             "#46039f"
            ],
            [
             0.2222222222222222,
             "#7201a8"
            ],
            [
             0.3333333333333333,
             "#9c179e"
            ],
            [
             0.4444444444444444,
             "#bd3786"
            ],
            [
             0.5555555555555556,
             "#d8576b"
            ],
            [
             0.6666666666666666,
             "#ed7953"
            ],
            [
             0.7777777777777778,
             "#fb9f3a"
            ],
            [
             0.8888888888888888,
             "#fdca26"
            ],
            [
             1,
             "#f0f921"
            ]
           ]
          },
          "colorway": [
           "#636efa",
           "#EF553B",
           "#00cc96",
           "#ab63fa",
           "#FFA15A",
           "#19d3f3",
           "#FF6692",
           "#B6E880",
           "#FF97FF",
           "#FECB52"
          ],
          "font": {
           "color": "#2a3f5f"
          },
          "geo": {
           "bgcolor": "white",
           "lakecolor": "white",
           "landcolor": "#E5ECF6",
           "showlakes": true,
           "showland": true,
           "subunitcolor": "white"
          },
          "hoverlabel": {
           "align": "left"
          },
          "hovermode": "closest",
          "mapbox": {
           "style": "light"
          },
          "paper_bgcolor": "white",
          "plot_bgcolor": "#E5ECF6",
          "polar": {
           "angularaxis": {
            "gridcolor": "white",
            "linecolor": "white",
            "ticks": ""
           },
           "bgcolor": "#E5ECF6",
           "radialaxis": {
            "gridcolor": "white",
            "linecolor": "white",
            "ticks": ""
           }
          },
          "scene": {
           "xaxis": {
            "backgroundcolor": "#E5ECF6",
            "gridcolor": "white",
            "gridwidth": 2,
            "linecolor": "white",
            "showbackground": true,
            "ticks": "",
            "zerolinecolor": "white"
           },
           "yaxis": {
            "backgroundcolor": "#E5ECF6",
            "gridcolor": "white",
            "gridwidth": 2,
            "linecolor": "white",
            "showbackground": true,
            "ticks": "",
            "zerolinecolor": "white"
           },
           "zaxis": {
            "backgroundcolor": "#E5ECF6",
            "gridcolor": "white",
            "gridwidth": 2,
            "linecolor": "white",
            "showbackground": true,
            "ticks": "",
            "zerolinecolor": "white"
           }
          },
          "shapedefaults": {
           "line": {
            "color": "#2a3f5f"
           }
          },
          "ternary": {
           "aaxis": {
            "gridcolor": "white",
            "linecolor": "white",
            "ticks": ""
           },
           "baxis": {
            "gridcolor": "white",
            "linecolor": "white",
            "ticks": ""
           },
           "bgcolor": "#E5ECF6",
           "caxis": {
            "gridcolor": "white",
            "linecolor": "white",
            "ticks": ""
           }
          },
          "title": {
           "x": 0.05
          },
          "xaxis": {
           "automargin": true,
           "gridcolor": "white",
           "linecolor": "white",
           "ticks": "",
           "title": {
            "standoff": 15
           },
           "zerolinecolor": "white",
           "zerolinewidth": 2
          },
          "yaxis": {
           "automargin": true,
           "gridcolor": "white",
           "linecolor": "white",
           "ticks": "",
           "title": {
            "standoff": 15
           },
           "zerolinecolor": "white",
           "zerolinewidth": 2
          }
         }
        },
        "title": {
         "text": "Linked people : guerre"
        },
        "xaxis": {
         "anchor": "y",
         "domain": [
          0,
          1
         ],
         "title": {
          "text": "person"
         }
        },
        "yaxis": {
         "anchor": "x",
         "domain": [
          0,
          1
         ],
         "title": {
          "text": "iteration"
         }
        }
       }
      }
     },
     "metadata": {},
     "output_type": "display_data"
    },
    {
     "data": {
      "application/vnd.plotly.v1+json": {
       "config": {
        "plotlyServerURL": "https://plot.ly"
       },
       "data": [
        {
         "alignmentgroup": "True",
         "hovertemplate": "keyword=%{x}<br>iteration=%{y}<extra></extra>",
         "legendgroup": "",
         "marker": {
          "color": "#636efa",
          "pattern": {
           "shape": ""
          }
         },
         "name": "",
         "offsetgroup": "",
         "orientation": "v",
         "showlegend": false,
         "textposition": "auto",
         "type": "bar",
         "x": [
          "pays",
          "américain",
          "état",
          "politique",
          "dernier",
          "président",
          "grand",
          "force",
          "jour",
          "an",
          "militaire",
          "gouvernement",
          "nouveau",
          "monde",
          "armée",
          "chef",
          "affaire",
          "guerre",
          "face",
          "année",
          "général",
          "ministre",
          "national",
          "sécurité",
          "peuple",
          "région",
          "question",
          "france",
          "groupe",
          "plan",
          "étranger",
          "mois",
          "fois",
          "partie",
          "information",
          "part",
          "média",
          "homme",
          "français",
          "temps",
          "droit",
          "international",
          "fin",
          "terroriste",
          "responsable",
          "israël",
          "coup",
          "raison",
          "point",
          "autorité",
          "résistance",
          "service",
          "iran",
          "ancien",
          "presse",
          "al",
          "lieu",
          "cas",
          "personne",
          "public",
          "attaque",
          "haut",
          "pouvoir",
          "source",
          "côté",
          "membre",
          "soutien",
          "chose",
          "nation",
          "semaine",
          "mesure",
          "place",
          "important",
          "suite",
          "économique"
         ],
         "xaxis": "x",
         "y": [
          946,
          814,
          767,
          766,
          766,
          731,
          708,
          674,
          649,
          626,
          626,
          600,
          595,
          576,
          575,
          550,
          549,
          544,
          528,
          527,
          527,
          523,
          522,
          518,
          501,
          490,
          485,
          485,
          468,
          467,
          467,
          460,
          459,
          455,
          454,
          452,
          443,
          440,
          439,
          423,
          414,
          412,
          410,
          408,
          408,
          406,
          404,
          403,
          402,
          401,
          391,
          390,
          389,
          387,
          383,
          382,
          377,
          374,
          364,
          363,
          362,
          360,
          359,
          358,
          352,
          350,
          349,
          348,
          346,
          345,
          341,
          338,
          337,
          335,
          334
         ],
         "yaxis": "y"
        }
       ],
       "layout": {
        "barmode": "relative",
        "legend": {
         "tracegroupgap": 0
        },
        "template": {
         "data": {
          "bar": [
           {
            "error_x": {
             "color": "#2a3f5f"
            },
            "error_y": {
             "color": "#2a3f5f"
            },
            "marker": {
             "line": {
              "color": "#E5ECF6",
              "width": 0.5
             },
             "pattern": {
              "fillmode": "overlay",
              "size": 10,
              "solidity": 0.2
             }
            },
            "type": "bar"
           }
          ],
          "barpolar": [
           {
            "marker": {
             "line": {
              "color": "#E5ECF6",
              "width": 0.5
             },
             "pattern": {
              "fillmode": "overlay",
              "size": 10,
              "solidity": 0.2
             }
            },
            "type": "barpolar"
           }
          ],
          "carpet": [
           {
            "aaxis": {
             "endlinecolor": "#2a3f5f",
             "gridcolor": "white",
             "linecolor": "white",
             "minorgridcolor": "white",
             "startlinecolor": "#2a3f5f"
            },
            "baxis": {
             "endlinecolor": "#2a3f5f",
             "gridcolor": "white",
             "linecolor": "white",
             "minorgridcolor": "white",
             "startlinecolor": "#2a3f5f"
            },
            "type": "carpet"
           }
          ],
          "choropleth": [
           {
            "colorbar": {
             "outlinewidth": 0,
             "ticks": ""
            },
            "type": "choropleth"
           }
          ],
          "contour": [
           {
            "colorbar": {
             "outlinewidth": 0,
             "ticks": ""
            },
            "colorscale": [
             [
              0,
              "#0d0887"
             ],
             [
              0.1111111111111111,
              "#46039f"
             ],
             [
              0.2222222222222222,
              "#7201a8"
             ],
             [
              0.3333333333333333,
              "#9c179e"
             ],
             [
              0.4444444444444444,
              "#bd3786"
             ],
             [
              0.5555555555555556,
              "#d8576b"
             ],
             [
              0.6666666666666666,
              "#ed7953"
             ],
             [
              0.7777777777777778,
              "#fb9f3a"
             ],
             [
              0.8888888888888888,
              "#fdca26"
             ],
             [
              1,
              "#f0f921"
             ]
            ],
            "type": "contour"
           }
          ],
          "contourcarpet": [
           {
            "colorbar": {
             "outlinewidth": 0,
             "ticks": ""
            },
            "type": "contourcarpet"
           }
          ],
          "heatmap": [
           {
            "colorbar": {
             "outlinewidth": 0,
             "ticks": ""
            },
            "colorscale": [
             [
              0,
              "#0d0887"
             ],
             [
              0.1111111111111111,
              "#46039f"
             ],
             [
              0.2222222222222222,
              "#7201a8"
             ],
             [
              0.3333333333333333,
              "#9c179e"
             ],
             [
              0.4444444444444444,
              "#bd3786"
             ],
             [
              0.5555555555555556,
              "#d8576b"
             ],
             [
              0.6666666666666666,
              "#ed7953"
             ],
             [
              0.7777777777777778,
              "#fb9f3a"
             ],
             [
              0.8888888888888888,
              "#fdca26"
             ],
             [
              1,
              "#f0f921"
             ]
            ],
            "type": "heatmap"
           }
          ],
          "heatmapgl": [
           {
            "colorbar": {
             "outlinewidth": 0,
             "ticks": ""
            },
            "colorscale": [
             [
              0,
              "#0d0887"
             ],
             [
              0.1111111111111111,
              "#46039f"
             ],
             [
              0.2222222222222222,
              "#7201a8"
             ],
             [
              0.3333333333333333,
              "#9c179e"
             ],
             [
              0.4444444444444444,
              "#bd3786"
             ],
             [
              0.5555555555555556,
              "#d8576b"
             ],
             [
              0.6666666666666666,
              "#ed7953"
             ],
             [
              0.7777777777777778,
              "#fb9f3a"
             ],
             [
              0.8888888888888888,
              "#fdca26"
             ],
             [
              1,
              "#f0f921"
             ]
            ],
            "type": "heatmapgl"
           }
          ],
          "histogram": [
           {
            "marker": {
             "pattern": {
              "fillmode": "overlay",
              "size": 10,
              "solidity": 0.2
             }
            },
            "type": "histogram"
           }
          ],
          "histogram2d": [
           {
            "colorbar": {
             "outlinewidth": 0,
             "ticks": ""
            },
            "colorscale": [
             [
              0,
              "#0d0887"
             ],
             [
              0.1111111111111111,
              "#46039f"
             ],
             [
              0.2222222222222222,
              "#7201a8"
             ],
             [
              0.3333333333333333,
              "#9c179e"
             ],
             [
              0.4444444444444444,
              "#bd3786"
             ],
             [
              0.5555555555555556,
              "#d8576b"
             ],
             [
              0.6666666666666666,
              "#ed7953"
             ],
             [
              0.7777777777777778,
              "#fb9f3a"
             ],
             [
              0.8888888888888888,
              "#fdca26"
             ],
             [
              1,
              "#f0f921"
             ]
            ],
            "type": "histogram2d"
           }
          ],
          "histogram2dcontour": [
           {
            "colorbar": {
             "outlinewidth": 0,
             "ticks": ""
            },
            "colorscale": [
             [
              0,
              "#0d0887"
             ],
             [
              0.1111111111111111,
              "#46039f"
             ],
             [
              0.2222222222222222,
              "#7201a8"
             ],
             [
              0.3333333333333333,
              "#9c179e"
             ],
             [
              0.4444444444444444,
              "#bd3786"
             ],
             [
              0.5555555555555556,
              "#d8576b"
             ],
             [
              0.6666666666666666,
              "#ed7953"
             ],
             [
              0.7777777777777778,
              "#fb9f3a"
             ],
             [
              0.8888888888888888,
              "#fdca26"
             ],
             [
              1,
              "#f0f921"
             ]
            ],
            "type": "histogram2dcontour"
           }
          ],
          "mesh3d": [
           {
            "colorbar": {
             "outlinewidth": 0,
             "ticks": ""
            },
            "type": "mesh3d"
           }
          ],
          "parcoords": [
           {
            "line": {
             "colorbar": {
              "outlinewidth": 0,
              "ticks": ""
             }
            },
            "type": "parcoords"
           }
          ],
          "pie": [
           {
            "automargin": true,
            "type": "pie"
           }
          ],
          "scatter": [
           {
            "fillpattern": {
             "fillmode": "overlay",
             "size": 10,
             "solidity": 0.2
            },
            "type": "scatter"
           }
          ],
          "scatter3d": [
           {
            "line": {
             "colorbar": {
              "outlinewidth": 0,
              "ticks": ""
             }
            },
            "marker": {
             "colorbar": {
              "outlinewidth": 0,
              "ticks": ""
             }
            },
            "type": "scatter3d"
           }
          ],
          "scattercarpet": [
           {
            "marker": {
             "colorbar": {
              "outlinewidth": 0,
              "ticks": ""
             }
            },
            "type": "scattercarpet"
           }
          ],
          "scattergeo": [
           {
            "marker": {
             "colorbar": {
              "outlinewidth": 0,
              "ticks": ""
             }
            },
            "type": "scattergeo"
           }
          ],
          "scattergl": [
           {
            "marker": {
             "colorbar": {
              "outlinewidth": 0,
              "ticks": ""
             }
            },
            "type": "scattergl"
           }
          ],
          "scattermapbox": [
           {
            "marker": {
             "colorbar": {
              "outlinewidth": 0,
              "ticks": ""
             }
            },
            "type": "scattermapbox"
           }
          ],
          "scatterpolar": [
           {
            "marker": {
             "colorbar": {
              "outlinewidth": 0,
              "ticks": ""
             }
            },
            "type": "scatterpolar"
           }
          ],
          "scatterpolargl": [
           {
            "marker": {
             "colorbar": {
              "outlinewidth": 0,
              "ticks": ""
             }
            },
            "type": "scatterpolargl"
           }
          ],
          "scatterternary": [
           {
            "marker": {
             "colorbar": {
              "outlinewidth": 0,
              "ticks": ""
             }
            },
            "type": "scatterternary"
           }
          ],
          "surface": [
           {
            "colorbar": {
             "outlinewidth": 0,
             "ticks": ""
            },
            "colorscale": [
             [
              0,
              "#0d0887"
             ],
             [
              0.1111111111111111,
              "#46039f"
             ],
             [
              0.2222222222222222,
              "#7201a8"
             ],
             [
              0.3333333333333333,
              "#9c179e"
             ],
             [
              0.4444444444444444,
              "#bd3786"
             ],
             [
              0.5555555555555556,
              "#d8576b"
             ],
             [
              0.6666666666666666,
              "#ed7953"
             ],
             [
              0.7777777777777778,
              "#fb9f3a"
             ],
             [
              0.8888888888888888,
              "#fdca26"
             ],
             [
              1,
              "#f0f921"
             ]
            ],
            "type": "surface"
           }
          ],
          "table": [
           {
            "cells": {
             "fill": {
              "color": "#EBF0F8"
             },
             "line": {
              "color": "white"
             }
            },
            "header": {
             "fill": {
              "color": "#C8D4E3"
             },
             "line": {
              "color": "white"
             }
            },
            "type": "table"
           }
          ]
         },
         "layout": {
          "annotationdefaults": {
           "arrowcolor": "#2a3f5f",
           "arrowhead": 0,
           "arrowwidth": 1
          },
          "autotypenumbers": "strict",
          "coloraxis": {
           "colorbar": {
            "outlinewidth": 0,
            "ticks": ""
           }
          },
          "colorscale": {
           "diverging": [
            [
             0,
             "#8e0152"
            ],
            [
             0.1,
             "#c51b7d"
            ],
            [
             0.2,
             "#de77ae"
            ],
            [
             0.3,
             "#f1b6da"
            ],
            [
             0.4,
             "#fde0ef"
            ],
            [
             0.5,
             "#f7f7f7"
            ],
            [
             0.6,
             "#e6f5d0"
            ],
            [
             0.7,
             "#b8e186"
            ],
            [
             0.8,
             "#7fbc41"
            ],
            [
             0.9,
             "#4d9221"
            ],
            [
             1,
             "#276419"
            ]
           ],
           "sequential": [
            [
             0,
             "#0d0887"
            ],
            [
             0.1111111111111111,
             "#46039f"
            ],
            [
             0.2222222222222222,
             "#7201a8"
            ],
            [
             0.3333333333333333,
             "#9c179e"
            ],
            [
             0.4444444444444444,
             "#bd3786"
            ],
            [
             0.5555555555555556,
             "#d8576b"
            ],
            [
             0.6666666666666666,
             "#ed7953"
            ],
            [
             0.7777777777777778,
             "#fb9f3a"
            ],
            [
             0.8888888888888888,
             "#fdca26"
            ],
            [
             1,
             "#f0f921"
            ]
           ],
           "sequentialminus": [
            [
             0,
             "#0d0887"
            ],
            [
             0.1111111111111111,
             "#46039f"
            ],
            [
             0.2222222222222222,
             "#7201a8"
            ],
            [
             0.3333333333333333,
             "#9c179e"
            ],
            [
             0.4444444444444444,
             "#bd3786"
            ],
            [
             0.5555555555555556,
             "#d8576b"
            ],
            [
             0.6666666666666666,
             "#ed7953"
            ],
            [
             0.7777777777777778,
             "#fb9f3a"
            ],
            [
             0.8888888888888888,
             "#fdca26"
            ],
            [
             1,
             "#f0f921"
            ]
           ]
          },
          "colorway": [
           "#636efa",
           "#EF553B",
           "#00cc96",
           "#ab63fa",
           "#FFA15A",
           "#19d3f3",
           "#FF6692",
           "#B6E880",
           "#FF97FF",
           "#FECB52"
          ],
          "font": {
           "color": "#2a3f5f"
          },
          "geo": {
           "bgcolor": "white",
           "lakecolor": "white",
           "landcolor": "#E5ECF6",
           "showlakes": true,
           "showland": true,
           "subunitcolor": "white"
          },
          "hoverlabel": {
           "align": "left"
          },
          "hovermode": "closest",
          "mapbox": {
           "style": "light"
          },
          "paper_bgcolor": "white",
          "plot_bgcolor": "#E5ECF6",
          "polar": {
           "angularaxis": {
            "gridcolor": "white",
            "linecolor": "white",
            "ticks": ""
           },
           "bgcolor": "#E5ECF6",
           "radialaxis": {
            "gridcolor": "white",
            "linecolor": "white",
            "ticks": ""
           }
          },
          "scene": {
           "xaxis": {
            "backgroundcolor": "#E5ECF6",
            "gridcolor": "white",
            "gridwidth": 2,
            "linecolor": "white",
            "showbackground": true,
            "ticks": "",
            "zerolinecolor": "white"
           },
           "yaxis": {
            "backgroundcolor": "#E5ECF6",
            "gridcolor": "white",
            "gridwidth": 2,
            "linecolor": "white",
            "showbackground": true,
            "ticks": "",
            "zerolinecolor": "white"
           },
           "zaxis": {
            "backgroundcolor": "#E5ECF6",
            "gridcolor": "white",
            "gridwidth": 2,
            "linecolor": "white",
            "showbackground": true,
            "ticks": "",
            "zerolinecolor": "white"
           }
          },
          "shapedefaults": {
           "line": {
            "color": "#2a3f5f"
           }
          },
          "ternary": {
           "aaxis": {
            "gridcolor": "white",
            "linecolor": "white",
            "ticks": ""
           },
           "baxis": {
            "gridcolor": "white",
            "linecolor": "white",
            "ticks": ""
           },
           "bgcolor": "#E5ECF6",
           "caxis": {
            "gridcolor": "white",
            "linecolor": "white",
            "ticks": ""
           }
          },
          "title": {
           "x": 0.05
          },
          "xaxis": {
           "automargin": true,
           "gridcolor": "white",
           "linecolor": "white",
           "ticks": "",
           "title": {
            "standoff": 15
           },
           "zerolinecolor": "white",
           "zerolinewidth": 2
          },
          "yaxis": {
           "automargin": true,
           "gridcolor": "white",
           "linecolor": "white",
           "ticks": "",
           "title": {
            "standoff": 15
           },
           "zerolinecolor": "white",
           "zerolinewidth": 2
          }
         }
        },
        "title": {
         "text": "Linked keywords : complot"
        },
        "xaxis": {
         "anchor": "y",
         "domain": [
          0,
          1
         ],
         "title": {
          "text": "keyword"
         }
        },
        "yaxis": {
         "anchor": "x",
         "domain": [
          0,
          1
         ],
         "title": {
          "text": "iteration"
         }
        }
       }
      }
     },
     "metadata": {},
     "output_type": "display_data"
    },
    {
     "data": {
      "application/vnd.plotly.v1+json": {
       "config": {
        "plotlyServerURL": "https://plot.ly"
       },
       "data": [
        {
         "alignmentgroup": "True",
         "hovertemplate": "person=%{x}<br>iteration=%{y}<extra></extra>",
         "legendgroup": "",
         "marker": {
          "color": "#636efa",
          "pattern": {
           "shape": ""
          }
         },
         "name": "",
         "offsetgroup": "",
         "orientation": "v",
         "showlegend": false,
         "textposition": "auto",
         "type": "bar",
         "x": [
          "Trump",
          "Donald Trump",
          "Washington",
          "Biden",
          "Emmanuel Macron",
          "Macron",
          "Président",
          "Ansarallah",
          "Barkhane",
          "Alain Soral",
          "Poutine",
          "Joe Biden",
          "Nicolas Maduro",
          "Jeffrey Epstein",
          "Maduro",
          "Nasrallah",
          "Epstein",
          "Hassan Rohani",
          "Juan Guaido",
          "Soral",
          "Julian Assange",
          "Toufik",
          "Saïd Bouteflika",
          "Qassem Soleimani",
          "Bill Gates",
          "Vladimir Poutine",
          "Assad",
          "Ayatollah Khamenei",
          "Hitler",
          "Abdel Bari Atwan",
          "Touadéra",
          "président Trump",
          "Premier ministre",
          "Seyyed Hassan Nasrallah",
          "Covid",
          "Jean-Luc Mélenchon",
          "Macky Sall",
          "Tshisekedi",
          "Abiy Ahmed",
          "Dieudonné",
          "Bouteflika",
          "George Soros",
          "BHL",
          "César",
          "Salami",
          "Rohani",
          "Raoult",
          "Éric Zemmour",
          "Barack Obama",
          "Sarkozy",
          "Soros",
          "Pompeo",
          "Alassane Ouattara",
          "Carlos Ghosn",
          "Paul Biya",
          "Netanyahu",
          "Adel Abdel Mahdi",
          "Laurent Guyénot",
          "Pen",
          "Hillary Clinton",
          "Obama",
          "Rudy Reichstadt",
          "Gaïd Salah",
          "Didier Raoult",
          "Marine Le Pen",
          "Erdogan",
          "Joseph Kabila",
          "Félix Tshisekedi",
          "Assange",
          "Ayatollah",
          "Soleimani",
          "Haftar",
          "Bill Clinton",
          "Nicolas Sarkozy",
          "Louisa Hanoune"
         ],
         "xaxis": "x",
         "y": [
          88,
          69,
          46,
          32,
          31,
          30,
          29,
          29,
          27,
          26,
          26,
          25,
          25,
          20,
          20,
          19,
          18,
          17,
          15,
          14,
          14,
          13,
          13,
          13,
          12,
          12,
          12,
          12,
          11,
          11,
          11,
          10,
          10,
          10,
          9,
          9,
          9,
          9,
          9,
          8,
          8,
          8,
          8,
          8,
          8,
          8,
          7,
          7,
          7,
          7,
          7,
          7,
          7,
          7,
          7,
          7,
          7,
          6,
          6,
          6,
          6,
          6,
          6,
          6,
          6,
          6,
          6,
          6,
          6,
          6,
          6,
          6,
          5,
          5,
          5
         ],
         "yaxis": "y"
        }
       ],
       "layout": {
        "barmode": "relative",
        "legend": {
         "tracegroupgap": 0
        },
        "template": {
         "data": {
          "bar": [
           {
            "error_x": {
             "color": "#2a3f5f"
            },
            "error_y": {
             "color": "#2a3f5f"
            },
            "marker": {
             "line": {
              "color": "#E5ECF6",
              "width": 0.5
             },
             "pattern": {
              "fillmode": "overlay",
              "size": 10,
              "solidity": 0.2
             }
            },
            "type": "bar"
           }
          ],
          "barpolar": [
           {
            "marker": {
             "line": {
              "color": "#E5ECF6",
              "width": 0.5
             },
             "pattern": {
              "fillmode": "overlay",
              "size": 10,
              "solidity": 0.2
             }
            },
            "type": "barpolar"
           }
          ],
          "carpet": [
           {
            "aaxis": {
             "endlinecolor": "#2a3f5f",
             "gridcolor": "white",
             "linecolor": "white",
             "minorgridcolor": "white",
             "startlinecolor": "#2a3f5f"
            },
            "baxis": {
             "endlinecolor": "#2a3f5f",
             "gridcolor": "white",
             "linecolor": "white",
             "minorgridcolor": "white",
             "startlinecolor": "#2a3f5f"
            },
            "type": "carpet"
           }
          ],
          "choropleth": [
           {
            "colorbar": {
             "outlinewidth": 0,
             "ticks": ""
            },
            "type": "choropleth"
           }
          ],
          "contour": [
           {
            "colorbar": {
             "outlinewidth": 0,
             "ticks": ""
            },
            "colorscale": [
             [
              0,
              "#0d0887"
             ],
             [
              0.1111111111111111,
              "#46039f"
             ],
             [
              0.2222222222222222,
              "#7201a8"
             ],
             [
              0.3333333333333333,
              "#9c179e"
             ],
             [
              0.4444444444444444,
              "#bd3786"
             ],
             [
              0.5555555555555556,
              "#d8576b"
             ],
             [
              0.6666666666666666,
              "#ed7953"
             ],
             [
              0.7777777777777778,
              "#fb9f3a"
             ],
             [
              0.8888888888888888,
              "#fdca26"
             ],
             [
              1,
              "#f0f921"
             ]
            ],
            "type": "contour"
           }
          ],
          "contourcarpet": [
           {
            "colorbar": {
             "outlinewidth": 0,
             "ticks": ""
            },
            "type": "contourcarpet"
           }
          ],
          "heatmap": [
           {
            "colorbar": {
             "outlinewidth": 0,
             "ticks": ""
            },
            "colorscale": [
             [
              0,
              "#0d0887"
             ],
             [
              0.1111111111111111,
              "#46039f"
             ],
             [
              0.2222222222222222,
              "#7201a8"
             ],
             [
              0.3333333333333333,
              "#9c179e"
             ],
             [
              0.4444444444444444,
              "#bd3786"
             ],
             [
              0.5555555555555556,
              "#d8576b"
             ],
             [
              0.6666666666666666,
              "#ed7953"
             ],
             [
              0.7777777777777778,
              "#fb9f3a"
             ],
             [
              0.8888888888888888,
              "#fdca26"
             ],
             [
              1,
              "#f0f921"
             ]
            ],
            "type": "heatmap"
           }
          ],
          "heatmapgl": [
           {
            "colorbar": {
             "outlinewidth": 0,
             "ticks": ""
            },
            "colorscale": [
             [
              0,
              "#0d0887"
             ],
             [
              0.1111111111111111,
              "#46039f"
             ],
             [
              0.2222222222222222,
              "#7201a8"
             ],
             [
              0.3333333333333333,
              "#9c179e"
             ],
             [
              0.4444444444444444,
              "#bd3786"
             ],
             [
              0.5555555555555556,
              "#d8576b"
             ],
             [
              0.6666666666666666,
              "#ed7953"
             ],
             [
              0.7777777777777778,
              "#fb9f3a"
             ],
             [
              0.8888888888888888,
              "#fdca26"
             ],
             [
              1,
              "#f0f921"
             ]
            ],
            "type": "heatmapgl"
           }
          ],
          "histogram": [
           {
            "marker": {
             "pattern": {
              "fillmode": "overlay",
              "size": 10,
              "solidity": 0.2
             }
            },
            "type": "histogram"
           }
          ],
          "histogram2d": [
           {
            "colorbar": {
             "outlinewidth": 0,
             "ticks": ""
            },
            "colorscale": [
             [
              0,
              "#0d0887"
             ],
             [
              0.1111111111111111,
              "#46039f"
             ],
             [
              0.2222222222222222,
              "#7201a8"
             ],
             [
              0.3333333333333333,
              "#9c179e"
             ],
             [
              0.4444444444444444,
              "#bd3786"
             ],
             [
              0.5555555555555556,
              "#d8576b"
             ],
             [
              0.6666666666666666,
              "#ed7953"
             ],
             [
              0.7777777777777778,
              "#fb9f3a"
             ],
             [
              0.8888888888888888,
              "#fdca26"
             ],
             [
              1,
              "#f0f921"
             ]
            ],
            "type": "histogram2d"
           }
          ],
          "histogram2dcontour": [
           {
            "colorbar": {
             "outlinewidth": 0,
             "ticks": ""
            },
            "colorscale": [
             [
              0,
              "#0d0887"
             ],
             [
              0.1111111111111111,
              "#46039f"
             ],
             [
              0.2222222222222222,
              "#7201a8"
             ],
             [
              0.3333333333333333,
              "#9c179e"
             ],
             [
              0.4444444444444444,
              "#bd3786"
             ],
             [
              0.5555555555555556,
              "#d8576b"
             ],
             [
              0.6666666666666666,
              "#ed7953"
             ],
             [
              0.7777777777777778,
              "#fb9f3a"
             ],
             [
              0.8888888888888888,
              "#fdca26"
             ],
             [
              1,
              "#f0f921"
             ]
            ],
            "type": "histogram2dcontour"
           }
          ],
          "mesh3d": [
           {
            "colorbar": {
             "outlinewidth": 0,
             "ticks": ""
            },
            "type": "mesh3d"
           }
          ],
          "parcoords": [
           {
            "line": {
             "colorbar": {
              "outlinewidth": 0,
              "ticks": ""
             }
            },
            "type": "parcoords"
           }
          ],
          "pie": [
           {
            "automargin": true,
            "type": "pie"
           }
          ],
          "scatter": [
           {
            "fillpattern": {
             "fillmode": "overlay",
             "size": 10,
             "solidity": 0.2
            },
            "type": "scatter"
           }
          ],
          "scatter3d": [
           {
            "line": {
             "colorbar": {
              "outlinewidth": 0,
              "ticks": ""
             }
            },
            "marker": {
             "colorbar": {
              "outlinewidth": 0,
              "ticks": ""
             }
            },
            "type": "scatter3d"
           }
          ],
          "scattercarpet": [
           {
            "marker": {
             "colorbar": {
              "outlinewidth": 0,
              "ticks": ""
             }
            },
            "type": "scattercarpet"
           }
          ],
          "scattergeo": [
           {
            "marker": {
             "colorbar": {
              "outlinewidth": 0,
              "ticks": ""
             }
            },
            "type": "scattergeo"
           }
          ],
          "scattergl": [
           {
            "marker": {
             "colorbar": {
              "outlinewidth": 0,
              "ticks": ""
             }
            },
            "type": "scattergl"
           }
          ],
          "scattermapbox": [
           {
            "marker": {
             "colorbar": {
              "outlinewidth": 0,
              "ticks": ""
             }
            },
            "type": "scattermapbox"
           }
          ],
          "scatterpolar": [
           {
            "marker": {
             "colorbar": {
              "outlinewidth": 0,
              "ticks": ""
             }
            },
            "type": "scatterpolar"
           }
          ],
          "scatterpolargl": [
           {
            "marker": {
             "colorbar": {
              "outlinewidth": 0,
              "ticks": ""
             }
            },
            "type": "scatterpolargl"
           }
          ],
          "scatterternary": [
           {
            "marker": {
             "colorbar": {
              "outlinewidth": 0,
              "ticks": ""
             }
            },
            "type": "scatterternary"
           }
          ],
          "surface": [
           {
            "colorbar": {
             "outlinewidth": 0,
             "ticks": ""
            },
            "colorscale": [
             [
              0,
              "#0d0887"
             ],
             [
              0.1111111111111111,
              "#46039f"
             ],
             [
              0.2222222222222222,
              "#7201a8"
             ],
             [
              0.3333333333333333,
              "#9c179e"
             ],
             [
              0.4444444444444444,
              "#bd3786"
             ],
             [
              0.5555555555555556,
              "#d8576b"
             ],
             [
              0.6666666666666666,
              "#ed7953"
             ],
             [
              0.7777777777777778,
              "#fb9f3a"
             ],
             [
              0.8888888888888888,
              "#fdca26"
             ],
             [
              1,
              "#f0f921"
             ]
            ],
            "type": "surface"
           }
          ],
          "table": [
           {
            "cells": {
             "fill": {
              "color": "#EBF0F8"
             },
             "line": {
              "color": "white"
             }
            },
            "header": {
             "fill": {
              "color": "#C8D4E3"
             },
             "line": {
              "color": "white"
             }
            },
            "type": "table"
           }
          ]
         },
         "layout": {
          "annotationdefaults": {
           "arrowcolor": "#2a3f5f",
           "arrowhead": 0,
           "arrowwidth": 1
          },
          "autotypenumbers": "strict",
          "coloraxis": {
           "colorbar": {
            "outlinewidth": 0,
            "ticks": ""
           }
          },
          "colorscale": {
           "diverging": [
            [
             0,
             "#8e0152"
            ],
            [
             0.1,
             "#c51b7d"
            ],
            [
             0.2,
             "#de77ae"
            ],
            [
             0.3,
             "#f1b6da"
            ],
            [
             0.4,
             "#fde0ef"
            ],
            [
             0.5,
             "#f7f7f7"
            ],
            [
             0.6,
             "#e6f5d0"
            ],
            [
             0.7,
             "#b8e186"
            ],
            [
             0.8,
             "#7fbc41"
            ],
            [
             0.9,
             "#4d9221"
            ],
            [
             1,
             "#276419"
            ]
           ],
           "sequential": [
            [
             0,
             "#0d0887"
            ],
            [
             0.1111111111111111,
             "#46039f"
            ],
            [
             0.2222222222222222,
             "#7201a8"
            ],
            [
             0.3333333333333333,
             "#9c179e"
            ],
            [
             0.4444444444444444,
             "#bd3786"
            ],
            [
             0.5555555555555556,
             "#d8576b"
            ],
            [
             0.6666666666666666,
             "#ed7953"
            ],
            [
             0.7777777777777778,
             "#fb9f3a"
            ],
            [
             0.8888888888888888,
             "#fdca26"
            ],
            [
             1,
             "#f0f921"
            ]
           ],
           "sequentialminus": [
            [
             0,
             "#0d0887"
            ],
            [
             0.1111111111111111,
             "#46039f"
            ],
            [
             0.2222222222222222,
             "#7201a8"
            ],
            [
             0.3333333333333333,
             "#9c179e"
            ],
            [
             0.4444444444444444,
             "#bd3786"
            ],
            [
             0.5555555555555556,
             "#d8576b"
            ],
            [
             0.6666666666666666,
             "#ed7953"
            ],
            [
             0.7777777777777778,
             "#fb9f3a"
            ],
            [
             0.8888888888888888,
             "#fdca26"
            ],
            [
             1,
             "#f0f921"
            ]
           ]
          },
          "colorway": [
           "#636efa",
           "#EF553B",
           "#00cc96",
           "#ab63fa",
           "#FFA15A",
           "#19d3f3",
           "#FF6692",
           "#B6E880",
           "#FF97FF",
           "#FECB52"
          ],
          "font": {
           "color": "#2a3f5f"
          },
          "geo": {
           "bgcolor": "white",
           "lakecolor": "white",
           "landcolor": "#E5ECF6",
           "showlakes": true,
           "showland": true,
           "subunitcolor": "white"
          },
          "hoverlabel": {
           "align": "left"
          },
          "hovermode": "closest",
          "mapbox": {
           "style": "light"
          },
          "paper_bgcolor": "white",
          "plot_bgcolor": "#E5ECF6",
          "polar": {
           "angularaxis": {
            "gridcolor": "white",
            "linecolor": "white",
            "ticks": ""
           },
           "bgcolor": "#E5ECF6",
           "radialaxis": {
            "gridcolor": "white",
            "linecolor": "white",
            "ticks": ""
           }
          },
          "scene": {
           "xaxis": {
            "backgroundcolor": "#E5ECF6",
            "gridcolor": "white",
            "gridwidth": 2,
            "linecolor": "white",
            "showbackground": true,
            "ticks": "",
            "zerolinecolor": "white"
           },
           "yaxis": {
            "backgroundcolor": "#E5ECF6",
            "gridcolor": "white",
            "gridwidth": 2,
            "linecolor": "white",
            "showbackground": true,
            "ticks": "",
            "zerolinecolor": "white"
           },
           "zaxis": {
            "backgroundcolor": "#E5ECF6",
            "gridcolor": "white",
            "gridwidth": 2,
            "linecolor": "white",
            "showbackground": true,
            "ticks": "",
            "zerolinecolor": "white"
           }
          },
          "shapedefaults": {
           "line": {
            "color": "#2a3f5f"
           }
          },
          "ternary": {
           "aaxis": {
            "gridcolor": "white",
            "linecolor": "white",
            "ticks": ""
           },
           "baxis": {
            "gridcolor": "white",
            "linecolor": "white",
            "ticks": ""
           },
           "bgcolor": "#E5ECF6",
           "caxis": {
            "gridcolor": "white",
            "linecolor": "white",
            "ticks": ""
           }
          },
          "title": {
           "x": 0.05
          },
          "xaxis": {
           "automargin": true,
           "gridcolor": "white",
           "linecolor": "white",
           "ticks": "",
           "title": {
            "standoff": 15
           },
           "zerolinecolor": "white",
           "zerolinewidth": 2
          },
          "yaxis": {
           "automargin": true,
           "gridcolor": "white",
           "linecolor": "white",
           "ticks": "",
           "title": {
            "standoff": 15
           },
           "zerolinecolor": "white",
           "zerolinewidth": 2
          }
         }
        },
        "title": {
         "text": "Linked people : complot"
        },
        "xaxis": {
         "anchor": "y",
         "domain": [
          0,
          1
         ],
         "title": {
          "text": "person"
         }
        },
        "yaxis": {
         "anchor": "x",
         "domain": [
          0,
          1
         ],
         "title": {
          "text": "iteration"
         }
        }
       }
      }
     },
     "metadata": {},
     "output_type": "display_data"
    }
   ],
   "source": [
    "pickedKeywords = [\"arabe\", \"attentat\", \"guerre\", \"complot\"]\n",
    "\n",
    "pickedLimit = 75\n",
    "\n",
    "for pickedKw in pickedKeywords:\n",
    "    showLinkedKws(allDataCorpus, pickedKw, pickedLimit)\n",
    "    showLinkedPeople(allDataCorpus, pickedKw, pickedLimit)"
   ]
  },
  {
   "cell_type": "markdown",
   "metadata": {},
   "source": [
    "Avec plusieurs keywords on a souvent les noms d'Alain Soral ou d'Eric Zemmour qui reviennent.\n",
    "\n",
    "On peut ainsi essayer de savoir si cette corrélation vient du corpus en général ou d'un ou de médias en particulier.\n",
    "\n",
    "On crée une nouvelle fonction qui nous donne aussi le média."
   ]
  },
  {
   "cell_type": "code",
   "execution_count": 130,
   "metadata": {},
   "outputs": [],
   "source": [
    "def showLinkedPeopleWithSite(dataCorpus, pickedKw, limit):\n",
    "    linkedPeopleWithSite = []\n",
    "    for file in dataCorpus:\n",
    "        data = file[\"data\"]\n",
    "        siteName = file[\"siteName\"]\n",
    "        years = data[\"data-all\"].keys()\n",
    "        for year in years:\n",
    "            months = data[\"data-all\"][year].keys()\n",
    "            for month in months:\n",
    "                days = data[\"data-all\"][year][month].keys()\n",
    "                for day in days:\n",
    "                    articles = data[\"data-all\"][year][month][day]\n",
    "                    for article in articles:\n",
    "                        people = article[\"per\"]\n",
    "                        kws = article[\"kws\"]\n",
    "                        if(pickedKw in kws):\n",
    "                            for p,iter in people.items():\n",
    "                                # Tester si la personne associé au site existe déjà\n",
    "                                isNew = True\n",
    "                                for e in linkedPeopleWithSite:\n",
    "                                    if e[\"person\"] == p:\n",
    "                                        e[\"iteration\"] += iter\n",
    "                                        dicts = e[\"iterationWithSite\"]\n",
    "                                        if siteName in dicts:\n",
    "                                            dicts[siteName] += iter\n",
    "                                        else:\n",
    "                                            dicts[siteName] = iter\n",
    "                                        isNew = False\n",
    "                                        break\n",
    "                                if(isNew):\n",
    "                                    linkedPeopleWithSite.append({\"person\": p, \"iteration\": iter, \"iterationWithSite\": {siteName: iter}})\n",
    "\n",
    "    linkedPeopleWithSite = sorted(linkedPeopleWithSite, key=lambda x:x['iteration'], reverse=True)\n",
    "\n",
    "    commonLinkedPeopleWithSite = linkedPeopleWithSite[0:limit]\n",
    "\n",
    "    commonLinkedPeopleWithSiteSplitted = []\n",
    "    for e in commonLinkedPeopleWithSite:\n",
    "        person = e[\"person\"]\n",
    "        for site, iteration in e[\"iterationWithSite\"].items():\n",
    "           commonLinkedPeopleWithSiteSplitted.append({\"person\": person, \"iteration\": iteration, \"site\": site})\n",
    "\n",
    "    df = pd.DataFrame(commonLinkedPeopleWithSiteSplitted)\n",
    "    \n",
    "    fig = px.bar(df, x='person', y='iteration', color='site',category_orders={'person': df.person } ,title= \"Linked people with site : \" + pickedKw)\n",
    "   \n",
    "    fig.show()"
   ]
  },
  {
   "cell_type": "code",
   "execution_count": 138,
   "metadata": {},
   "outputs": [
    {
     "data": {
      "application/vnd.plotly.v1+json": {
       "config": {
        "plotlyServerURL": "https://plot.ly"
       },
       "data": [
        {
         "alignmentgroup": "True",
         "hovertemplate": "site=egaliteetreconciliation<br>person=%{x}<br>iteration=%{y}<extra></extra>",
         "legendgroup": "egaliteetreconciliation",
         "marker": {
          "color": "#636efa",
          "pattern": {
           "shape": ""
          }
         },
         "name": "egaliteetreconciliation",
         "offsetgroup": "egaliteetreconciliation",
         "orientation": "v",
         "showlegend": true,
         "textposition": "auto",
         "type": "bar",
         "x": [
          "Alain Soral",
          "Trump",
          "Soral",
          "Zemmour",
          "Macron",
          "Donald Trump",
          "Éric Zemmour",
          "Hitler",
          "Epstein",
          "Emmanuel Macron",
          "Biden",
          "Damien Viguier",
          "Dieudonné",
          "Poutine",
          "Netanyahou",
          "BHL",
          "Forrestal",
          "Kennedy",
          "Joe Biden",
          "Marx",
          "Alain Finkielkraut",
          "Sarah Halimi",
          "Pen",
          "Benyamin Netanyahou",
          "Jésus",
          "Staline",
          "Christ",
          "Jean-Luc Mélenchon",
          "John",
          "Onfray",
          "Maxwell",
          "Yann Moix",
          "Washington",
          "Strauss",
          "Vladimir Poutine",
          "Soros",
          "Mélenchon",
          "Président",
          "Manuel Valls",
          "Attali",
          "Premier ministre",
          "Moix",
          "Mitterrand",
          "Yahvé",
          "Sarkozy",
          "Proudhon",
          "Jacques Attali",
          "Erdogan",
          "Marine Le Pen",
          "Assa Traoré",
          "président Trump",
          "Bibi",
          "Hervé Ryssen",
          "Eric Zemmour",
          "Kobili Traoré",
          "Finkielkraut",
          "Jean-Marie Le Pen",
          "Raoult",
          "Bernard-Henri Lévy",
          "Naulleau",
          "Meyer Habib",
          "Mila",
          "Allah",
          "Youssef Hindi",
          "Jacques Chirac",
          "George Soros",
          "Bill Gates",
          "Michel Onfray",
          "Jeffrey Epstein",
          "Covid",
          "Valls",
          "George Floyd",
          "Polanski",
          "Alain"
         ],
         "xaxis": "x",
         "y": [
          671,
          492,
          661,
          554,
          267,
          204,
          215,
          211,
          268,
          129,
          172,
          240,
          210,
          213,
          158,
          182,
          136,
          120,
          80,
          109,
          70,
          48,
          90,
          54,
          80,
          73,
          76,
          29,
          75,
          73,
          72,
          64,
          25,
          71,
          42,
          41,
          48,
          35,
          56,
          65,
          29,
          58,
          59,
          60,
          59,
          59,
          58,
          15,
          49,
          44,
          53,
          51,
          54,
          12,
          19,
          35,
          45,
          51,
          43,
          49,
          38,
          25,
          4,
          47,
          35,
          27,
          46,
          39,
          44,
          40,
          42,
          34,
          41,
          38
         ],
         "yaxis": "y"
        },
        {
         "alignmentgroup": "True",
         "hovertemplate": "site=sputniknews<br>person=%{x}<br>iteration=%{y}<extra></extra>",
         "legendgroup": "sputniknews",
         "marker": {
          "color": "#EF553B",
          "pattern": {
           "shape": ""
          }
         },
         "name": "sputniknews",
         "offsetgroup": "sputniknews",
         "orientation": "v",
         "showlegend": true,
         "textposition": "auto",
         "type": "bar",
         "x": [
          "Alain Soral",
          "Trump",
          "Soral",
          "Zemmour",
          "Macron",
          "Donald Trump",
          "Éric Zemmour",
          "Hitler",
          "Emmanuel Macron",
          "Biden",
          "Damien Viguier",
          "Dieudonné",
          "Poutine",
          "Netanyahou",
          "BHL",
          "Netanyahu",
          "Joe Biden",
          "Alain Finkielkraut",
          "Sarah Halimi",
          "Pen",
          "Benyamin Netanyahou",
          "Staline",
          "Jean-Luc Mélenchon",
          "Yann Moix",
          "Washington",
          "Vladimir Poutine",
          "Soros",
          "Mélenchon",
          "Président",
          "Manuel Valls",
          "Premier ministre",
          "Erdogan",
          "Marine Le Pen",
          "Assa Traoré",
          "Eric Zemmour",
          "Kobili Traoré",
          "Finkielkraut",
          "Jean-Marie Le Pen",
          "Bernard-Henri Lévy",
          "Meyer Habib",
          "Mila",
          "Allah",
          "Jacques Chirac",
          "George Soros",
          "Michel Onfray",
          "George Floyd",
          "Alain"
         ],
         "xaxis": "x",
         "y": [
          22,
          71,
          20,
          24,
          29,
          55,
          86,
          62,
          68,
          19,
          2,
          28,
          14,
          64,
          3,
          5,
          27,
          22,
          19,
          13,
          46,
          11,
          36,
          5,
          18,
          17,
          5,
          3,
          33,
          7,
          24,
          14,
          6,
          10,
          5,
          7,
          3,
          6,
          6,
          4,
          11,
          2,
          12,
          11,
          4,
          5,
          2
         ],
         "yaxis": "y"
        },
        {
         "alignmentgroup": "True",
         "hovertemplate": "site=presstv<br>person=%{x}<br>iteration=%{y}<extra></extra>",
         "legendgroup": "presstv",
         "marker": {
          "color": "#00cc96",
          "pattern": {
           "shape": ""
          }
         },
         "name": "presstv",
         "offsetgroup": "presstv",
         "orientation": "v",
         "showlegend": true,
         "textposition": "auto",
         "type": "bar",
         "x": [
          "Alain Soral",
          "Trump",
          "Zemmour",
          "Macron",
          "Donald Trump",
          "Éric Zemmour",
          "Hitler",
          "Emmanuel Macron",
          "Biden",
          "Poutine",
          "Netanyahu",
          "Joe Biden",
          "Alain Finkielkraut",
          "Sarah Halimi",
          "Jésus",
          "Jean-Luc Mélenchon",
          "Washington",
          "Vladimir Poutine",
          "Premier ministre",
          "Erdogan",
          "Eric Zemmour",
          "Kobili Traoré",
          "Finkielkraut",
          "Meyer Habib",
          "Allah",
          "Covid"
         ],
         "xaxis": "x",
         "y": [
          2,
          129,
          2,
          28,
          39,
          3,
          2,
          37,
          51,
          5,
          118,
          13,
          7,
          4,
          4,
          3,
          28,
          10,
          11,
          27,
          13,
          6,
          5,
          4,
          8,
          2
         ],
         "yaxis": "y"
        },
        {
         "alignmentgroup": "True",
         "hovertemplate": "site=fdesouche<br>person=%{x}<br>iteration=%{y}<extra></extra>",
         "legendgroup": "fdesouche",
         "marker": {
          "color": "#ab63fa",
          "pattern": {
           "shape": ""
          }
         },
         "name": "fdesouche",
         "offsetgroup": "fdesouche",
         "orientation": "v",
         "showlegend": true,
         "textposition": "auto",
         "type": "bar",
         "x": [
          "Alain Soral",
          "Trump",
          "Zemmour",
          "Macron",
          "Donald Trump",
          "Éric Zemmour",
          "Emmanuel Macron",
          "Biden",
          "Alain Finkielkraut",
          "Sarah Halimi",
          "Pen",
          "Jésus",
          "Jean-Luc Mélenchon",
          "Yann Moix",
          "Soros",
          "Mélenchon",
          "Manuel Valls",
          "Moix",
          "Mitterrand",
          "Erdogan",
          "Marine Le Pen",
          "Assa Traoré",
          "président Trump",
          "Bibi",
          "Eric Zemmour",
          "Kobili Traoré",
          "Finkielkraut",
          "Meyer Habib",
          "Mila",
          "Allah",
          "George Soros",
          "Michel Onfray",
          "George Floyd"
         ],
         "xaxis": "x",
         "y": [
          2,
          2,
          31,
          11,
          16,
          9,
          14,
          3,
          9,
          36,
          2,
          2,
          8,
          2,
          22,
          17,
          4,
          6,
          2,
          2,
          2,
          2,
          2,
          3,
          24,
          20,
          9,
          3,
          12,
          34,
          8,
          2,
          2
         ],
         "yaxis": "y"
        }
       ],
       "layout": {
        "barmode": "relative",
        "legend": {
         "title": {
          "text": "site"
         },
         "tracegroupgap": 0
        },
        "template": {
         "data": {
          "bar": [
           {
            "error_x": {
             "color": "#2a3f5f"
            },
            "error_y": {
             "color": "#2a3f5f"
            },
            "marker": {
             "line": {
              "color": "#E5ECF6",
              "width": 0.5
             },
             "pattern": {
              "fillmode": "overlay",
              "size": 10,
              "solidity": 0.2
             }
            },
            "type": "bar"
           }
          ],
          "barpolar": [
           {
            "marker": {
             "line": {
              "color": "#E5ECF6",
              "width": 0.5
             },
             "pattern": {
              "fillmode": "overlay",
              "size": 10,
              "solidity": 0.2
             }
            },
            "type": "barpolar"
           }
          ],
          "carpet": [
           {
            "aaxis": {
             "endlinecolor": "#2a3f5f",
             "gridcolor": "white",
             "linecolor": "white",
             "minorgridcolor": "white",
             "startlinecolor": "#2a3f5f"
            },
            "baxis": {
             "endlinecolor": "#2a3f5f",
             "gridcolor": "white",
             "linecolor": "white",
             "minorgridcolor": "white",
             "startlinecolor": "#2a3f5f"
            },
            "type": "carpet"
           }
          ],
          "choropleth": [
           {
            "colorbar": {
             "outlinewidth": 0,
             "ticks": ""
            },
            "type": "choropleth"
           }
          ],
          "contour": [
           {
            "colorbar": {
             "outlinewidth": 0,
             "ticks": ""
            },
            "colorscale": [
             [
              0,
              "#0d0887"
             ],
             [
              0.1111111111111111,
              "#46039f"
             ],
             [
              0.2222222222222222,
              "#7201a8"
             ],
             [
              0.3333333333333333,
              "#9c179e"
             ],
             [
              0.4444444444444444,
              "#bd3786"
             ],
             [
              0.5555555555555556,
              "#d8576b"
             ],
             [
              0.6666666666666666,
              "#ed7953"
             ],
             [
              0.7777777777777778,
              "#fb9f3a"
             ],
             [
              0.8888888888888888,
              "#fdca26"
             ],
             [
              1,
              "#f0f921"
             ]
            ],
            "type": "contour"
           }
          ],
          "contourcarpet": [
           {
            "colorbar": {
             "outlinewidth": 0,
             "ticks": ""
            },
            "type": "contourcarpet"
           }
          ],
          "heatmap": [
           {
            "colorbar": {
             "outlinewidth": 0,
             "ticks": ""
            },
            "colorscale": [
             [
              0,
              "#0d0887"
             ],
             [
              0.1111111111111111,
              "#46039f"
             ],
             [
              0.2222222222222222,
              "#7201a8"
             ],
             [
              0.3333333333333333,
              "#9c179e"
             ],
             [
              0.4444444444444444,
              "#bd3786"
             ],
             [
              0.5555555555555556,
              "#d8576b"
             ],
             [
              0.6666666666666666,
              "#ed7953"
             ],
             [
              0.7777777777777778,
              "#fb9f3a"
             ],
             [
              0.8888888888888888,
              "#fdca26"
             ],
             [
              1,
              "#f0f921"
             ]
            ],
            "type": "heatmap"
           }
          ],
          "heatmapgl": [
           {
            "colorbar": {
             "outlinewidth": 0,
             "ticks": ""
            },
            "colorscale": [
             [
              0,
              "#0d0887"
             ],
             [
              0.1111111111111111,
              "#46039f"
             ],
             [
              0.2222222222222222,
              "#7201a8"
             ],
             [
              0.3333333333333333,
              "#9c179e"
             ],
             [
              0.4444444444444444,
              "#bd3786"
             ],
             [
              0.5555555555555556,
              "#d8576b"
             ],
             [
              0.6666666666666666,
              "#ed7953"
             ],
             [
              0.7777777777777778,
              "#fb9f3a"
             ],
             [
              0.8888888888888888,
              "#fdca26"
             ],
             [
              1,
              "#f0f921"
             ]
            ],
            "type": "heatmapgl"
           }
          ],
          "histogram": [
           {
            "marker": {
             "pattern": {
              "fillmode": "overlay",
              "size": 10,
              "solidity": 0.2
             }
            },
            "type": "histogram"
           }
          ],
          "histogram2d": [
           {
            "colorbar": {
             "outlinewidth": 0,
             "ticks": ""
            },
            "colorscale": [
             [
              0,
              "#0d0887"
             ],
             [
              0.1111111111111111,
              "#46039f"
             ],
             [
              0.2222222222222222,
              "#7201a8"
             ],
             [
              0.3333333333333333,
              "#9c179e"
             ],
             [
              0.4444444444444444,
              "#bd3786"
             ],
             [
              0.5555555555555556,
              "#d8576b"
             ],
             [
              0.6666666666666666,
              "#ed7953"
             ],
             [
              0.7777777777777778,
              "#fb9f3a"
             ],
             [
              0.8888888888888888,
              "#fdca26"
             ],
             [
              1,
              "#f0f921"
             ]
            ],
            "type": "histogram2d"
           }
          ],
          "histogram2dcontour": [
           {
            "colorbar": {
             "outlinewidth": 0,
             "ticks": ""
            },
            "colorscale": [
             [
              0,
              "#0d0887"
             ],
             [
              0.1111111111111111,
              "#46039f"
             ],
             [
              0.2222222222222222,
              "#7201a8"
             ],
             [
              0.3333333333333333,
              "#9c179e"
             ],
             [
              0.4444444444444444,
              "#bd3786"
             ],
             [
              0.5555555555555556,
              "#d8576b"
             ],
             [
              0.6666666666666666,
              "#ed7953"
             ],
             [
              0.7777777777777778,
              "#fb9f3a"
             ],
             [
              0.8888888888888888,
              "#fdca26"
             ],
             [
              1,
              "#f0f921"
             ]
            ],
            "type": "histogram2dcontour"
           }
          ],
          "mesh3d": [
           {
            "colorbar": {
             "outlinewidth": 0,
             "ticks": ""
            },
            "type": "mesh3d"
           }
          ],
          "parcoords": [
           {
            "line": {
             "colorbar": {
              "outlinewidth": 0,
              "ticks": ""
             }
            },
            "type": "parcoords"
           }
          ],
          "pie": [
           {
            "automargin": true,
            "type": "pie"
           }
          ],
          "scatter": [
           {
            "fillpattern": {
             "fillmode": "overlay",
             "size": 10,
             "solidity": 0.2
            },
            "type": "scatter"
           }
          ],
          "scatter3d": [
           {
            "line": {
             "colorbar": {
              "outlinewidth": 0,
              "ticks": ""
             }
            },
            "marker": {
             "colorbar": {
              "outlinewidth": 0,
              "ticks": ""
             }
            },
            "type": "scatter3d"
           }
          ],
          "scattercarpet": [
           {
            "marker": {
             "colorbar": {
              "outlinewidth": 0,
              "ticks": ""
             }
            },
            "type": "scattercarpet"
           }
          ],
          "scattergeo": [
           {
            "marker": {
             "colorbar": {
              "outlinewidth": 0,
              "ticks": ""
             }
            },
            "type": "scattergeo"
           }
          ],
          "scattergl": [
           {
            "marker": {
             "colorbar": {
              "outlinewidth": 0,
              "ticks": ""
             }
            },
            "type": "scattergl"
           }
          ],
          "scattermapbox": [
           {
            "marker": {
             "colorbar": {
              "outlinewidth": 0,
              "ticks": ""
             }
            },
            "type": "scattermapbox"
           }
          ],
          "scatterpolar": [
           {
            "marker": {
             "colorbar": {
              "outlinewidth": 0,
              "ticks": ""
             }
            },
            "type": "scatterpolar"
           }
          ],
          "scatterpolargl": [
           {
            "marker": {
             "colorbar": {
              "outlinewidth": 0,
              "ticks": ""
             }
            },
            "type": "scatterpolargl"
           }
          ],
          "scatterternary": [
           {
            "marker": {
             "colorbar": {
              "outlinewidth": 0,
              "ticks": ""
             }
            },
            "type": "scatterternary"
           }
          ],
          "surface": [
           {
            "colorbar": {
             "outlinewidth": 0,
             "ticks": ""
            },
            "colorscale": [
             [
              0,
              "#0d0887"
             ],
             [
              0.1111111111111111,
              "#46039f"
             ],
             [
              0.2222222222222222,
              "#7201a8"
             ],
             [
              0.3333333333333333,
              "#9c179e"
             ],
             [
              0.4444444444444444,
              "#bd3786"
             ],
             [
              0.5555555555555556,
              "#d8576b"
             ],
             [
              0.6666666666666666,
              "#ed7953"
             ],
             [
              0.7777777777777778,
              "#fb9f3a"
             ],
             [
              0.8888888888888888,
              "#fdca26"
             ],
             [
              1,
              "#f0f921"
             ]
            ],
            "type": "surface"
           }
          ],
          "table": [
           {
            "cells": {
             "fill": {
              "color": "#EBF0F8"
             },
             "line": {
              "color": "white"
             }
            },
            "header": {
             "fill": {
              "color": "#C8D4E3"
             },
             "line": {
              "color": "white"
             }
            },
            "type": "table"
           }
          ]
         },
         "layout": {
          "annotationdefaults": {
           "arrowcolor": "#2a3f5f",
           "arrowhead": 0,
           "arrowwidth": 1
          },
          "autotypenumbers": "strict",
          "coloraxis": {
           "colorbar": {
            "outlinewidth": 0,
            "ticks": ""
           }
          },
          "colorscale": {
           "diverging": [
            [
             0,
             "#8e0152"
            ],
            [
             0.1,
             "#c51b7d"
            ],
            [
             0.2,
             "#de77ae"
            ],
            [
             0.3,
             "#f1b6da"
            ],
            [
             0.4,
             "#fde0ef"
            ],
            [
             0.5,
             "#f7f7f7"
            ],
            [
             0.6,
             "#e6f5d0"
            ],
            [
             0.7,
             "#b8e186"
            ],
            [
             0.8,
             "#7fbc41"
            ],
            [
             0.9,
             "#4d9221"
            ],
            [
             1,
             "#276419"
            ]
           ],
           "sequential": [
            [
             0,
             "#0d0887"
            ],
            [
             0.1111111111111111,
             "#46039f"
            ],
            [
             0.2222222222222222,
             "#7201a8"
            ],
            [
             0.3333333333333333,
             "#9c179e"
            ],
            [
             0.4444444444444444,
             "#bd3786"
            ],
            [
             0.5555555555555556,
             "#d8576b"
            ],
            [
             0.6666666666666666,
             "#ed7953"
            ],
            [
             0.7777777777777778,
             "#fb9f3a"
            ],
            [
             0.8888888888888888,
             "#fdca26"
            ],
            [
             1,
             "#f0f921"
            ]
           ],
           "sequentialminus": [
            [
             0,
             "#0d0887"
            ],
            [
             0.1111111111111111,
             "#46039f"
            ],
            [
             0.2222222222222222,
             "#7201a8"
            ],
            [
             0.3333333333333333,
             "#9c179e"
            ],
            [
             0.4444444444444444,
             "#bd3786"
            ],
            [
             0.5555555555555556,
             "#d8576b"
            ],
            [
             0.6666666666666666,
             "#ed7953"
            ],
            [
             0.7777777777777778,
             "#fb9f3a"
            ],
            [
             0.8888888888888888,
             "#fdca26"
            ],
            [
             1,
             "#f0f921"
            ]
           ]
          },
          "colorway": [
           "#636efa",
           "#EF553B",
           "#00cc96",
           "#ab63fa",
           "#FFA15A",
           "#19d3f3",
           "#FF6692",
           "#B6E880",
           "#FF97FF",
           "#FECB52"
          ],
          "font": {
           "color": "#2a3f5f"
          },
          "geo": {
           "bgcolor": "white",
           "lakecolor": "white",
           "landcolor": "#E5ECF6",
           "showlakes": true,
           "showland": true,
           "subunitcolor": "white"
          },
          "hoverlabel": {
           "align": "left"
          },
          "hovermode": "closest",
          "mapbox": {
           "style": "light"
          },
          "paper_bgcolor": "white",
          "plot_bgcolor": "#E5ECF6",
          "polar": {
           "angularaxis": {
            "gridcolor": "white",
            "linecolor": "white",
            "ticks": ""
           },
           "bgcolor": "#E5ECF6",
           "radialaxis": {
            "gridcolor": "white",
            "linecolor": "white",
            "ticks": ""
           }
          },
          "scene": {
           "xaxis": {
            "backgroundcolor": "#E5ECF6",
            "gridcolor": "white",
            "gridwidth": 2,
            "linecolor": "white",
            "showbackground": true,
            "ticks": "",
            "zerolinecolor": "white"
           },
           "yaxis": {
            "backgroundcolor": "#E5ECF6",
            "gridcolor": "white",
            "gridwidth": 2,
            "linecolor": "white",
            "showbackground": true,
            "ticks": "",
            "zerolinecolor": "white"
           },
           "zaxis": {
            "backgroundcolor": "#E5ECF6",
            "gridcolor": "white",
            "gridwidth": 2,
            "linecolor": "white",
            "showbackground": true,
            "ticks": "",
            "zerolinecolor": "white"
           }
          },
          "shapedefaults": {
           "line": {
            "color": "#2a3f5f"
           }
          },
          "ternary": {
           "aaxis": {
            "gridcolor": "white",
            "linecolor": "white",
            "ticks": ""
           },
           "baxis": {
            "gridcolor": "white",
            "linecolor": "white",
            "ticks": ""
           },
           "bgcolor": "#E5ECF6",
           "caxis": {
            "gridcolor": "white",
            "linecolor": "white",
            "ticks": ""
           }
          },
          "title": {
           "x": 0.05
          },
          "xaxis": {
           "automargin": true,
           "gridcolor": "white",
           "linecolor": "white",
           "ticks": "",
           "title": {
            "standoff": 15
           },
           "zerolinecolor": "white",
           "zerolinewidth": 2
          },
          "yaxis": {
           "automargin": true,
           "gridcolor": "white",
           "linecolor": "white",
           "ticks": "",
           "title": {
            "standoff": 15
           },
           "zerolinecolor": "white",
           "zerolinewidth": 2
          }
         }
        },
        "title": {
         "text": "Linked people with site : juif"
        },
        "xaxis": {
         "anchor": "y",
         "categoryarray": [
          "Alain Soral",
          "Alain Soral",
          "Alain Soral",
          "Alain Soral",
          "Trump",
          "Trump",
          "Trump",
          "Trump",
          "Soral",
          "Soral",
          "Zemmour",
          "Zemmour",
          "Zemmour",
          "Zemmour",
          "Macron",
          "Macron",
          "Macron",
          "Macron",
          "Donald Trump",
          "Donald Trump",
          "Donald Trump",
          "Donald Trump",
          "Éric Zemmour",
          "Éric Zemmour",
          "Éric Zemmour",
          "Éric Zemmour",
          "Hitler",
          "Hitler",
          "Hitler",
          "Epstein",
          "Emmanuel Macron",
          "Emmanuel Macron",
          "Emmanuel Macron",
          "Emmanuel Macron",
          "Biden",
          "Biden",
          "Biden",
          "Biden",
          "Damien Viguier",
          "Damien Viguier",
          "Dieudonné",
          "Dieudonné",
          "Poutine",
          "Poutine",
          "Poutine",
          "Netanyahou",
          "Netanyahou",
          "BHL",
          "BHL",
          "Forrestal",
          "Netanyahu",
          "Netanyahu",
          "Kennedy",
          "Joe Biden",
          "Joe Biden",
          "Joe Biden",
          "Marx",
          "Alain Finkielkraut",
          "Alain Finkielkraut",
          "Alain Finkielkraut",
          "Alain Finkielkraut",
          "Sarah Halimi",
          "Sarah Halimi",
          "Sarah Halimi",
          "Sarah Halimi",
          "Pen",
          "Pen",
          "Pen",
          "Benyamin Netanyahou",
          "Benyamin Netanyahou",
          "Jésus",
          "Jésus",
          "Jésus",
          "Staline",
          "Staline",
          "Christ",
          "Jean-Luc Mélenchon",
          "Jean-Luc Mélenchon",
          "Jean-Luc Mélenchon",
          "Jean-Luc Mélenchon",
          "John",
          "Onfray",
          "Maxwell",
          "Yann Moix",
          "Yann Moix",
          "Yann Moix",
          "Washington",
          "Washington",
          "Washington",
          "Strauss",
          "Vladimir Poutine",
          "Vladimir Poutine",
          "Vladimir Poutine",
          "Soros",
          "Soros",
          "Soros",
          "Mélenchon",
          "Mélenchon",
          "Mélenchon",
          "Président",
          "Président",
          "Manuel Valls",
          "Manuel Valls",
          "Manuel Valls",
          "Attali",
          "Premier ministre",
          "Premier ministre",
          "Premier ministre",
          "Moix",
          "Moix",
          "Mitterrand",
          "Mitterrand",
          "Yahvé",
          "Sarkozy",
          "Proudhon",
          "Jacques Attali",
          "Erdogan",
          "Erdogan",
          "Erdogan",
          "Erdogan",
          "Marine Le Pen",
          "Marine Le Pen",
          "Marine Le Pen",
          "Assa Traoré",
          "Assa Traoré",
          "Assa Traoré",
          "président Trump",
          "président Trump",
          "Bibi",
          "Bibi",
          "Hervé Ryssen",
          "Eric Zemmour",
          "Eric Zemmour",
          "Eric Zemmour",
          "Eric Zemmour",
          "Kobili Traoré",
          "Kobili Traoré",
          "Kobili Traoré",
          "Kobili Traoré",
          "Finkielkraut",
          "Finkielkraut",
          "Finkielkraut",
          "Finkielkraut",
          "Jean-Marie Le Pen",
          "Jean-Marie Le Pen",
          "Raoult",
          "Bernard-Henri Lévy",
          "Bernard-Henri Lévy",
          "Naulleau",
          "Meyer Habib",
          "Meyer Habib",
          "Meyer Habib",
          "Meyer Habib",
          "Mila",
          "Mila",
          "Mila",
          "Allah",
          "Allah",
          "Allah",
          "Allah",
          "Youssef Hindi",
          "Jacques Chirac",
          "Jacques Chirac",
          "George Soros",
          "George Soros",
          "George Soros",
          "Bill Gates",
          "Michel Onfray",
          "Michel Onfray",
          "Michel Onfray",
          "Jeffrey Epstein",
          "Covid",
          "Covid",
          "Valls",
          "George Floyd",
          "George Floyd",
          "George Floyd",
          "Polanski",
          "Alain",
          "Alain"
         ],
         "categoryorder": "array",
         "domain": [
          0,
          1
         ],
         "title": {
          "text": "person"
         }
        },
        "yaxis": {
         "anchor": "x",
         "domain": [
          0,
          1
         ],
         "title": {
          "text": "iteration"
         }
        }
       }
      }
     },
     "metadata": {},
     "output_type": "display_data"
    },
    {
     "data": {
      "application/vnd.plotly.v1+json": {
       "config": {
        "plotlyServerURL": "https://plot.ly"
       },
       "data": [
        {
         "alignmentgroup": "True",
         "hovertemplate": "site=egaliteetreconciliation<br>person=%{x}<br>iteration=%{y}<extra></extra>",
         "legendgroup": "egaliteetreconciliation",
         "marker": {
          "color": "#636efa",
          "pattern": {
           "shape": ""
          }
         },
         "name": "egaliteetreconciliation",
         "offsetgroup": "egaliteetreconciliation",
         "orientation": "v",
         "showlegend": true,
         "textposition": "auto",
         "type": "bar",
         "x": [
          "Ansarallah",
          "Trump",
          "Donald Trump",
          "Washington",
          "Biden",
          "Erdogan",
          "Emmanuel Macron",
          "Macron",
          "Netanyahou",
          "Joe Biden",
          "Zemmour",
          "Président",
          "Poutine",
          "Assad",
          "Abdel Bari Atwan",
          "Vladimir Poutine",
          "Premier ministre",
          "maréchal Haftar",
          "Benyamin Netanyahou",
          "Forrestal",
          "Éric Zemmour",
          "Mike Pompeo",
          "Mohammed ben Salmane",
          "Bouteflika",
          "César",
          "Naftali Bennett",
          "Kadhafi",
          "Pompeo",
          "John Bolton",
          "Qassem Soleimani",
          "Mouammar Kadhafi",
          "Benny Gantz",
          "Riadh Sidaoui",
          "Sergueï Lavrov",
          "Strauss",
          "MBS",
          "BHL",
          "Bolton",
          "Yahya Saree",
          "Mahmoud Abbas",
          "Saad Hariri",
          "Président de la République",
          "Jared Kushner",
          "Barkhane",
          "Hosni Moubarak",
          "Mahomet",
          "Dieudonné",
          "Jamal Khashoggi",
          "président Trump",
          "Soral",
          "Bibi",
          "Michel Aoun",
          "Kennedy"
         ],
         "xaxis": "x",
         "y": [
          2,
          242,
          142,
          71,
          62,
          28,
          37,
          98,
          143,
          36,
          211,
          16,
          87,
          14,
          2,
          20,
          29,
          2,
          55,
          136,
          80,
          12,
          5,
          10,
          17,
          16,
          11,
          2,
          21,
          10,
          7,
          14,
          3,
          5,
          71,
          5,
          52,
          7,
          2,
          7,
          8,
          2,
          17,
          4,
          7,
          5,
          50,
          4,
          38,
          43,
          42,
          5,
          42
         ],
         "yaxis": "y"
        },
        {
         "alignmentgroup": "True",
         "hovertemplate": "site=sputniknews<br>person=%{x}<br>iteration=%{y}<extra></extra>",
         "legendgroup": "sputniknews",
         "marker": {
          "color": "#EF553B",
          "pattern": {
           "shape": ""
          }
         },
         "name": "sputniknews",
         "offsetgroup": "sputniknews",
         "orientation": "v",
         "showlegend": true,
         "textposition": "auto",
         "type": "bar",
         "x": [
          "Ansarallah",
          "Trump",
          "Donald Trump",
          "Washington",
          "Biden",
          "Erdogan",
          "Emmanuel Macron",
          "Haftar",
          "Macron",
          "Netanyahou",
          "Joe Biden",
          "Zemmour",
          "Président",
          "Poutine",
          "Khalifa Haftar",
          "Assad",
          "Vladimir Poutine",
          "Premier ministre",
          "maréchal Haftar",
          "Kamal Louadj",
          "Benyamin Netanyahou",
          "Éric Zemmour",
          "Mike Pompeo",
          "Kaïs Saïed",
          "Mohammed ben Salmane",
          "Bouteflika",
          "César",
          "Naftali Bennett",
          "Kadhafi",
          "John Bolton",
          "Mohammed VI",
          "Qassem Soleimani",
          "Mouammar Kadhafi",
          "Benny Gantz",
          "Riadh Sidaoui",
          "Sergueï Lavrov",
          "Mikhail Voskresenskiy",
          "Benjamin Netanyahu",
          "MBS",
          "Allah",
          "BHL",
          "Bolton",
          "Mahmoud Abbas",
          "Saad Hariri",
          "Nasser Bourita",
          "Président de la République",
          "Juan Guaido",
          "Aleksander Melnikov",
          "Jared Kushner",
          "Barkhane",
          "Recep Tayyip Erdogan",
          "Hosni Moubarak",
          "Mahomet",
          "Lavrov",
          "Abdelmadjid Tebboune",
          "Dieudonné",
          "Jamal Khashoggi",
          "Soral",
          "Bibi",
          "Yahia Zoubir",
          "Taha Bouhafs",
          "Michel Aoun",
          "Emmanuel Dupuy"
         ],
         "xaxis": "x",
         "y": [
          2,
          204,
          285,
          160,
          82,
          194,
          222,
          160,
          55,
          113,
          118,
          20,
          229,
          56,
          117,
          44,
          101,
          62,
          95,
          148,
          81,
          49,
          31,
          68,
          26,
          72,
          11,
          60,
          72,
          21,
          75,
          15,
          66,
          36,
          66,
          48,
          72,
          5,
          25,
          23,
          10,
          5,
          42,
          31,
          59,
          59,
          48,
          64,
          13,
          2,
          38,
          49,
          33,
          20,
          28,
          2,
          25,
          5,
          4,
          46,
          28,
          9,
          44
         ],
         "yaxis": "y"
        },
        {
         "alignmentgroup": "True",
         "hovertemplate": "site=presstv<br>person=%{x}<br>iteration=%{y}<extra></extra>",
         "legendgroup": "presstv",
         "marker": {
          "color": "#00cc96",
          "pattern": {
           "shape": ""
          }
         },
         "name": "presstv",
         "offsetgroup": "presstv",
         "orientation": "v",
         "showlegend": true,
         "textposition": "auto",
         "type": "bar",
         "x": [
          "Ansarallah",
          "Trump",
          "Donald Trump",
          "Washington",
          "Biden",
          "Netanyahu",
          "Erdogan",
          "Emmanuel Macron",
          "Haftar",
          "Macron",
          "Joe Biden",
          "Zemmour",
          "Président",
          "Poutine",
          "Khalifa Haftar",
          "Assad",
          "Nasrallah",
          "Abdel Bari Atwan",
          "Vladimir Poutine",
          "Premier ministre",
          "maréchal Haftar",
          "Mike Pompeo",
          "Kaïs Saïed",
          "Mohammed ben Salmane",
          "Bouteflika",
          "César",
          "Naftali Bennett",
          "Kadhafi",
          "Pompeo",
          "Ben Salmane",
          "John Bolton",
          "Mohammed VI",
          "Qassem Soleimani",
          "Mansour Hadi",
          "Mouammar Kadhafi",
          "Benny Gantz",
          "Seyyed Hassan Nasrallah",
          "Riadh Sidaoui",
          "Sergueï Lavrov",
          "Benjamin Netanyahu",
          "MBS",
          "Allah",
          "BHL",
          "Bolton",
          "Yahya Saree",
          "Mahmoud Abbas",
          "Saad Hariri",
          "Nasser Bourita",
          "Président de la République",
          "Juan Guaido",
          "Jared Kushner",
          "Barkhane",
          "Recep Tayyip Erdogan",
          "Lavrov",
          "Abdelmadjid Tebboune",
          "Jamal Khashoggi",
          "président Trump",
          "Michel Aoun",
          "Kennedy"
         ],
         "xaxis": "x",
         "y": [
          1627,
          820,
          353,
          333,
          314,
          416,
          158,
          84,
          210,
          103,
          96,
          2,
          4,
          91,
          115,
          154,
          202,
          170,
          47,
          65,
          57,
          79,
          49,
          76,
          16,
          68,
          19,
          11,
          88,
          88,
          42,
          9,
          58,
          81,
          4,
          26,
          75,
          3,
          19,
          67,
          39,
          10,
          6,
          56,
          65,
          16,
          26,
          6,
          3,
          16,
          30,
          53,
          15,
          34,
          26,
          22,
          10,
          31,
          2
         ],
         "yaxis": "y"
        },
        {
         "alignmentgroup": "True",
         "hovertemplate": "site=fdesouche<br>person=%{x}<br>iteration=%{y}<extra></extra>",
         "legendgroup": "fdesouche",
         "marker": {
          "color": "#ab63fa",
          "pattern": {
           "shape": ""
          }
         },
         "name": "fdesouche",
         "offsetgroup": "fdesouche",
         "orientation": "v",
         "showlegend": true,
         "textposition": "auto",
         "type": "bar",
         "x": [
          "Donald Trump",
          "Washington",
          "Biden",
          "Erdogan",
          "Emmanuel Macron",
          "Macron",
          "Joe Biden",
          "Zemmour",
          "Poutine",
          "Vladimir Poutine",
          "Premier ministre",
          "maréchal Haftar",
          "Éric Zemmour",
          "Allah",
          "Recep Tayyip Erdogan",
          "Mahomet",
          "Taha Bouhafs"
         ],
         "xaxis": "x",
         "y": [
          4,
          2,
          4,
          4,
          32,
          12,
          3,
          19,
          2,
          3,
          2,
          3,
          4,
          36,
          5,
          18,
          18
         ],
         "yaxis": "y"
        }
       ],
       "layout": {
        "barmode": "relative",
        "legend": {
         "title": {
          "text": "site"
         },
         "tracegroupgap": 0
        },
        "template": {
         "data": {
          "bar": [
           {
            "error_x": {
             "color": "#2a3f5f"
            },
            "error_y": {
             "color": "#2a3f5f"
            },
            "marker": {
             "line": {
              "color": "#E5ECF6",
              "width": 0.5
             },
             "pattern": {
              "fillmode": "overlay",
              "size": 10,
              "solidity": 0.2
             }
            },
            "type": "bar"
           }
          ],
          "barpolar": [
           {
            "marker": {
             "line": {
              "color": "#E5ECF6",
              "width": 0.5
             },
             "pattern": {
              "fillmode": "overlay",
              "size": 10,
              "solidity": 0.2
             }
            },
            "type": "barpolar"
           }
          ],
          "carpet": [
           {
            "aaxis": {
             "endlinecolor": "#2a3f5f",
             "gridcolor": "white",
             "linecolor": "white",
             "minorgridcolor": "white",
             "startlinecolor": "#2a3f5f"
            },
            "baxis": {
             "endlinecolor": "#2a3f5f",
             "gridcolor": "white",
             "linecolor": "white",
             "minorgridcolor": "white",
             "startlinecolor": "#2a3f5f"
            },
            "type": "carpet"
           }
          ],
          "choropleth": [
           {
            "colorbar": {
             "outlinewidth": 0,
             "ticks": ""
            },
            "type": "choropleth"
           }
          ],
          "contour": [
           {
            "colorbar": {
             "outlinewidth": 0,
             "ticks": ""
            },
            "colorscale": [
             [
              0,
              "#0d0887"
             ],
             [
              0.1111111111111111,
              "#46039f"
             ],
             [
              0.2222222222222222,
              "#7201a8"
             ],
             [
              0.3333333333333333,
              "#9c179e"
             ],
             [
              0.4444444444444444,
              "#bd3786"
             ],
             [
              0.5555555555555556,
              "#d8576b"
             ],
             [
              0.6666666666666666,
              "#ed7953"
             ],
             [
              0.7777777777777778,
              "#fb9f3a"
             ],
             [
              0.8888888888888888,
              "#fdca26"
             ],
             [
              1,
              "#f0f921"
             ]
            ],
            "type": "contour"
           }
          ],
          "contourcarpet": [
           {
            "colorbar": {
             "outlinewidth": 0,
             "ticks": ""
            },
            "type": "contourcarpet"
           }
          ],
          "heatmap": [
           {
            "colorbar": {
             "outlinewidth": 0,
             "ticks": ""
            },
            "colorscale": [
             [
              0,
              "#0d0887"
             ],
             [
              0.1111111111111111,
              "#46039f"
             ],
             [
              0.2222222222222222,
              "#7201a8"
             ],
             [
              0.3333333333333333,
              "#9c179e"
             ],
             [
              0.4444444444444444,
              "#bd3786"
             ],
             [
              0.5555555555555556,
              "#d8576b"
             ],
             [
              0.6666666666666666,
              "#ed7953"
             ],
             [
              0.7777777777777778,
              "#fb9f3a"
             ],
             [
              0.8888888888888888,
              "#fdca26"
             ],
             [
              1,
              "#f0f921"
             ]
            ],
            "type": "heatmap"
           }
          ],
          "heatmapgl": [
           {
            "colorbar": {
             "outlinewidth": 0,
             "ticks": ""
            },
            "colorscale": [
             [
              0,
              "#0d0887"
             ],
             [
              0.1111111111111111,
              "#46039f"
             ],
             [
              0.2222222222222222,
              "#7201a8"
             ],
             [
              0.3333333333333333,
              "#9c179e"
             ],
             [
              0.4444444444444444,
              "#bd3786"
             ],
             [
              0.5555555555555556,
              "#d8576b"
             ],
             [
              0.6666666666666666,
              "#ed7953"
             ],
             [
              0.7777777777777778,
              "#fb9f3a"
             ],
             [
              0.8888888888888888,
              "#fdca26"
             ],
             [
              1,
              "#f0f921"
             ]
            ],
            "type": "heatmapgl"
           }
          ],
          "histogram": [
           {
            "marker": {
             "pattern": {
              "fillmode": "overlay",
              "size": 10,
              "solidity": 0.2
             }
            },
            "type": "histogram"
           }
          ],
          "histogram2d": [
           {
            "colorbar": {
             "outlinewidth": 0,
             "ticks": ""
            },
            "colorscale": [
             [
              0,
              "#0d0887"
             ],
             [
              0.1111111111111111,
              "#46039f"
             ],
             [
              0.2222222222222222,
              "#7201a8"
             ],
             [
              0.3333333333333333,
              "#9c179e"
             ],
             [
              0.4444444444444444,
              "#bd3786"
             ],
             [
              0.5555555555555556,
              "#d8576b"
             ],
             [
              0.6666666666666666,
              "#ed7953"
             ],
             [
              0.7777777777777778,
              "#fb9f3a"
             ],
             [
              0.8888888888888888,
              "#fdca26"
             ],
             [
              1,
              "#f0f921"
             ]
            ],
            "type": "histogram2d"
           }
          ],
          "histogram2dcontour": [
           {
            "colorbar": {
             "outlinewidth": 0,
             "ticks": ""
            },
            "colorscale": [
             [
              0,
              "#0d0887"
             ],
             [
              0.1111111111111111,
              "#46039f"
             ],
             [
              0.2222222222222222,
              "#7201a8"
             ],
             [
              0.3333333333333333,
              "#9c179e"
             ],
             [
              0.4444444444444444,
              "#bd3786"
             ],
             [
              0.5555555555555556,
              "#d8576b"
             ],
             [
              0.6666666666666666,
              "#ed7953"
             ],
             [
              0.7777777777777778,
              "#fb9f3a"
             ],
             [
              0.8888888888888888,
              "#fdca26"
             ],
             [
              1,
              "#f0f921"
             ]
            ],
            "type": "histogram2dcontour"
           }
          ],
          "mesh3d": [
           {
            "colorbar": {
             "outlinewidth": 0,
             "ticks": ""
            },
            "type": "mesh3d"
           }
          ],
          "parcoords": [
           {
            "line": {
             "colorbar": {
              "outlinewidth": 0,
              "ticks": ""
             }
            },
            "type": "parcoords"
           }
          ],
          "pie": [
           {
            "automargin": true,
            "type": "pie"
           }
          ],
          "scatter": [
           {
            "fillpattern": {
             "fillmode": "overlay",
             "size": 10,
             "solidity": 0.2
            },
            "type": "scatter"
           }
          ],
          "scatter3d": [
           {
            "line": {
             "colorbar": {
              "outlinewidth": 0,
              "ticks": ""
             }
            },
            "marker": {
             "colorbar": {
              "outlinewidth": 0,
              "ticks": ""
             }
            },
            "type": "scatter3d"
           }
          ],
          "scattercarpet": [
           {
            "marker": {
             "colorbar": {
              "outlinewidth": 0,
              "ticks": ""
             }
            },
            "type": "scattercarpet"
           }
          ],
          "scattergeo": [
           {
            "marker": {
             "colorbar": {
              "outlinewidth": 0,
              "ticks": ""
             }
            },
            "type": "scattergeo"
           }
          ],
          "scattergl": [
           {
            "marker": {
             "colorbar": {
              "outlinewidth": 0,
              "ticks": ""
             }
            },
            "type": "scattergl"
           }
          ],
          "scattermapbox": [
           {
            "marker": {
             "colorbar": {
              "outlinewidth": 0,
              "ticks": ""
             }
            },
            "type": "scattermapbox"
           }
          ],
          "scatterpolar": [
           {
            "marker": {
             "colorbar": {
              "outlinewidth": 0,
              "ticks": ""
             }
            },
            "type": "scatterpolar"
           }
          ],
          "scatterpolargl": [
           {
            "marker": {
             "colorbar": {
              "outlinewidth": 0,
              "ticks": ""
             }
            },
            "type": "scatterpolargl"
           }
          ],
          "scatterternary": [
           {
            "marker": {
             "colorbar": {
              "outlinewidth": 0,
              "ticks": ""
             }
            },
            "type": "scatterternary"
           }
          ],
          "surface": [
           {
            "colorbar": {
             "outlinewidth": 0,
             "ticks": ""
            },
            "colorscale": [
             [
              0,
              "#0d0887"
             ],
             [
              0.1111111111111111,
              "#46039f"
             ],
             [
              0.2222222222222222,
              "#7201a8"
             ],
             [
              0.3333333333333333,
              "#9c179e"
             ],
             [
              0.4444444444444444,
              "#bd3786"
             ],
             [
              0.5555555555555556,
              "#d8576b"
             ],
             [
              0.6666666666666666,
              "#ed7953"
             ],
             [
              0.7777777777777778,
              "#fb9f3a"
             ],
             [
              0.8888888888888888,
              "#fdca26"
             ],
             [
              1,
              "#f0f921"
             ]
            ],
            "type": "surface"
           }
          ],
          "table": [
           {
            "cells": {
             "fill": {
              "color": "#EBF0F8"
             },
             "line": {
              "color": "white"
             }
            },
            "header": {
             "fill": {
              "color": "#C8D4E3"
             },
             "line": {
              "color": "white"
             }
            },
            "type": "table"
           }
          ]
         },
         "layout": {
          "annotationdefaults": {
           "arrowcolor": "#2a3f5f",
           "arrowhead": 0,
           "arrowwidth": 1
          },
          "autotypenumbers": "strict",
          "coloraxis": {
           "colorbar": {
            "outlinewidth": 0,
            "ticks": ""
           }
          },
          "colorscale": {
           "diverging": [
            [
             0,
             "#8e0152"
            ],
            [
             0.1,
             "#c51b7d"
            ],
            [
             0.2,
             "#de77ae"
            ],
            [
             0.3,
             "#f1b6da"
            ],
            [
             0.4,
             "#fde0ef"
            ],
            [
             0.5,
             "#f7f7f7"
            ],
            [
             0.6,
             "#e6f5d0"
            ],
            [
             0.7,
             "#b8e186"
            ],
            [
             0.8,
             "#7fbc41"
            ],
            [
             0.9,
             "#4d9221"
            ],
            [
             1,
             "#276419"
            ]
           ],
           "sequential": [
            [
             0,
             "#0d0887"
            ],
            [
             0.1111111111111111,
             "#46039f"
            ],
            [
             0.2222222222222222,
             "#7201a8"
            ],
            [
             0.3333333333333333,
             "#9c179e"
            ],
            [
             0.4444444444444444,
             "#bd3786"
            ],
            [
             0.5555555555555556,
             "#d8576b"
            ],
            [
             0.6666666666666666,
             "#ed7953"
            ],
            [
             0.7777777777777778,
             "#fb9f3a"
            ],
            [
             0.8888888888888888,
             "#fdca26"
            ],
            [
             1,
             "#f0f921"
            ]
           ],
           "sequentialminus": [
            [
             0,
             "#0d0887"
            ],
            [
             0.1111111111111111,
             "#46039f"
            ],
            [
             0.2222222222222222,
             "#7201a8"
            ],
            [
             0.3333333333333333,
             "#9c179e"
            ],
            [
             0.4444444444444444,
             "#bd3786"
            ],
            [
             0.5555555555555556,
             "#d8576b"
            ],
            [
             0.6666666666666666,
             "#ed7953"
            ],
            [
             0.7777777777777778,
             "#fb9f3a"
            ],
            [
             0.8888888888888888,
             "#fdca26"
            ],
            [
             1,
             "#f0f921"
            ]
           ]
          },
          "colorway": [
           "#636efa",
           "#EF553B",
           "#00cc96",
           "#ab63fa",
           "#FFA15A",
           "#19d3f3",
           "#FF6692",
           "#B6E880",
           "#FF97FF",
           "#FECB52"
          ],
          "font": {
           "color": "#2a3f5f"
          },
          "geo": {
           "bgcolor": "white",
           "lakecolor": "white",
           "landcolor": "#E5ECF6",
           "showlakes": true,
           "showland": true,
           "subunitcolor": "white"
          },
          "hoverlabel": {
           "align": "left"
          },
          "hovermode": "closest",
          "mapbox": {
           "style": "light"
          },
          "paper_bgcolor": "white",
          "plot_bgcolor": "#E5ECF6",
          "polar": {
           "angularaxis": {
            "gridcolor": "white",
            "linecolor": "white",
            "ticks": ""
           },
           "bgcolor": "#E5ECF6",
           "radialaxis": {
            "gridcolor": "white",
            "linecolor": "white",
            "ticks": ""
           }
          },
          "scene": {
           "xaxis": {
            "backgroundcolor": "#E5ECF6",
            "gridcolor": "white",
            "gridwidth": 2,
            "linecolor": "white",
            "showbackground": true,
            "ticks": "",
            "zerolinecolor": "white"
           },
           "yaxis": {
            "backgroundcolor": "#E5ECF6",
            "gridcolor": "white",
            "gridwidth": 2,
            "linecolor": "white",
            "showbackground": true,
            "ticks": "",
            "zerolinecolor": "white"
           },
           "zaxis": {
            "backgroundcolor": "#E5ECF6",
            "gridcolor": "white",
            "gridwidth": 2,
            "linecolor": "white",
            "showbackground": true,
            "ticks": "",
            "zerolinecolor": "white"
           }
          },
          "shapedefaults": {
           "line": {
            "color": "#2a3f5f"
           }
          },
          "ternary": {
           "aaxis": {
            "gridcolor": "white",
            "linecolor": "white",
            "ticks": ""
           },
           "baxis": {
            "gridcolor": "white",
            "linecolor": "white",
            "ticks": ""
           },
           "bgcolor": "#E5ECF6",
           "caxis": {
            "gridcolor": "white",
            "linecolor": "white",
            "ticks": ""
           }
          },
          "title": {
           "x": 0.05
          },
          "xaxis": {
           "automargin": true,
           "gridcolor": "white",
           "linecolor": "white",
           "ticks": "",
           "title": {
            "standoff": 15
           },
           "zerolinecolor": "white",
           "zerolinewidth": 2
          },
          "yaxis": {
           "automargin": true,
           "gridcolor": "white",
           "linecolor": "white",
           "ticks": "",
           "title": {
            "standoff": 15
           },
           "zerolinecolor": "white",
           "zerolinewidth": 2
          }
         }
        },
        "title": {
         "text": "Linked people with site : arabe"
        },
        "xaxis": {
         "anchor": "y",
         "categoryarray": [
          "Ansarallah",
          "Ansarallah",
          "Ansarallah",
          "Trump",
          "Trump",
          "Trump",
          "Donald Trump",
          "Donald Trump",
          "Donald Trump",
          "Donald Trump",
          "Washington",
          "Washington",
          "Washington",
          "Washington",
          "Biden",
          "Biden",
          "Biden",
          "Biden",
          "Netanyahu",
          "Erdogan",
          "Erdogan",
          "Erdogan",
          "Erdogan",
          "Emmanuel Macron",
          "Emmanuel Macron",
          "Emmanuel Macron",
          "Emmanuel Macron",
          "Haftar",
          "Haftar",
          "Macron",
          "Macron",
          "Macron",
          "Macron",
          "Netanyahou",
          "Netanyahou",
          "Joe Biden",
          "Joe Biden",
          "Joe Biden",
          "Joe Biden",
          "Zemmour",
          "Zemmour",
          "Zemmour",
          "Zemmour",
          "Président",
          "Président",
          "Président",
          "Poutine",
          "Poutine",
          "Poutine",
          "Poutine",
          "Khalifa Haftar",
          "Khalifa Haftar",
          "Assad",
          "Assad",
          "Assad",
          "Nasrallah",
          "Abdel Bari Atwan",
          "Abdel Bari Atwan",
          "Vladimir Poutine",
          "Vladimir Poutine",
          "Vladimir Poutine",
          "Vladimir Poutine",
          "Premier ministre",
          "Premier ministre",
          "Premier ministre",
          "Premier ministre",
          "maréchal Haftar",
          "maréchal Haftar",
          "maréchal Haftar",
          "maréchal Haftar",
          "Kamal Louadj",
          "Benyamin Netanyahou",
          "Benyamin Netanyahou",
          "Forrestal",
          "Éric Zemmour",
          "Éric Zemmour",
          "Éric Zemmour",
          "Mike Pompeo",
          "Mike Pompeo",
          "Mike Pompeo",
          "Kaïs Saïed",
          "Kaïs Saïed",
          "Mohammed ben Salmane",
          "Mohammed ben Salmane",
          "Mohammed ben Salmane",
          "Bouteflika",
          "Bouteflika",
          "Bouteflika",
          "César",
          "César",
          "César",
          "Naftali Bennett",
          "Naftali Bennett",
          "Naftali Bennett",
          "Kadhafi",
          "Kadhafi",
          "Kadhafi",
          "Pompeo",
          "Pompeo",
          "Ben Salmane",
          "John Bolton",
          "John Bolton",
          "John Bolton",
          "Mohammed VI",
          "Mohammed VI",
          "Qassem Soleimani",
          "Qassem Soleimani",
          "Qassem Soleimani",
          "Mansour Hadi",
          "Mouammar Kadhafi",
          "Mouammar Kadhafi",
          "Mouammar Kadhafi",
          "Benny Gantz",
          "Benny Gantz",
          "Benny Gantz",
          "Seyyed Hassan Nasrallah",
          "Riadh Sidaoui",
          "Riadh Sidaoui",
          "Riadh Sidaoui",
          "Sergueï Lavrov",
          "Sergueï Lavrov",
          "Sergueï Lavrov",
          "Mikhail Voskresenskiy",
          "Benjamin Netanyahu",
          "Benjamin Netanyahu",
          "Strauss",
          "MBS",
          "MBS",
          "MBS",
          "Allah",
          "Allah",
          "Allah",
          "BHL",
          "BHL",
          "BHL",
          "Bolton",
          "Bolton",
          "Bolton",
          "Yahya Saree",
          "Yahya Saree",
          "Mahmoud Abbas",
          "Mahmoud Abbas",
          "Mahmoud Abbas",
          "Saad Hariri",
          "Saad Hariri",
          "Saad Hariri",
          "Nasser Bourita",
          "Nasser Bourita",
          "Président de la République",
          "Président de la République",
          "Président de la République",
          "Juan Guaido",
          "Juan Guaido",
          "Aleksander Melnikov",
          "Jared Kushner",
          "Jared Kushner",
          "Jared Kushner",
          "Barkhane",
          "Barkhane",
          "Barkhane",
          "Recep Tayyip Erdogan",
          "Recep Tayyip Erdogan",
          "Recep Tayyip Erdogan",
          "Hosni Moubarak",
          "Hosni Moubarak",
          "Mahomet",
          "Mahomet",
          "Mahomet",
          "Lavrov",
          "Lavrov",
          "Abdelmadjid Tebboune",
          "Abdelmadjid Tebboune",
          "Dieudonné",
          "Dieudonné",
          "Jamal Khashoggi",
          "Jamal Khashoggi",
          "Jamal Khashoggi",
          "président Trump",
          "président Trump",
          "Soral",
          "Soral",
          "Bibi",
          "Bibi",
          "Yahia Zoubir",
          "Taha Bouhafs",
          "Taha Bouhafs",
          "Michel Aoun",
          "Michel Aoun",
          "Michel Aoun",
          "Kennedy",
          "Kennedy",
          "Emmanuel Dupuy"
         ],
         "categoryorder": "array",
         "domain": [
          0,
          1
         ],
         "title": {
          "text": "person"
         }
        },
        "yaxis": {
         "anchor": "x",
         "domain": [
          0,
          1
         ],
         "title": {
          "text": "iteration"
         }
        }
       }
      }
     },
     "metadata": {},
     "output_type": "display_data"
    },
    {
     "data": {
      "application/vnd.plotly.v1+json": {
       "config": {
        "plotlyServerURL": "https://plot.ly"
       },
       "data": [
        {
         "alignmentgroup": "True",
         "hovertemplate": "site=egaliteetreconciliation<br>person=%{x}<br>iteration=%{y}<extra></extra>",
         "legendgroup": "egaliteetreconciliation",
         "marker": {
          "color": "#636efa",
          "pattern": {
           "shape": ""
          }
         },
         "name": "egaliteetreconciliation",
         "offsetgroup": "egaliteetreconciliation",
         "orientation": "v",
         "showlegend": true,
         "textposition": "auto",
         "type": "bar",
         "x": [
          "Emmanuel Macron",
          "Samuel Paty",
          "Alain Soral",
          "Macron",
          "Donald Trump",
          "Zemmour",
          "Trump",
          "Washington",
          "Mahomet",
          "Xavier Poussard",
          "Jean-Luc Mélenchon",
          "Président",
          "Joe Biden",
          "Éric Zemmour",
          "Gérald Darmanin",
          "Damien Viguier",
          "Biden",
          "François Hollande",
          "François Belliot",
          "Epstein",
          "Salah Abdeslam",
          "Soral",
          "Premier ministre",
          "BHL",
          "Christophe Castaner",
          "Lounès Darbois",
          "Louis-Ferdinand Céline",
          "Strauss",
          "Vladimir Poutine",
          "Nicolas Sarkozy",
          "Dieudonné",
          "Erdogan",
          "John",
          "Mila",
          "Poutine",
          "Maxwell",
          "Kennedy",
          "Pen",
          "Christian Estrosi",
          "Valls",
          "Manuel Valls",
          "Kadhafi",
          "Mélenchon",
          "Barkhane",
          "Netanyahou",
          "Allah",
          "Charlie",
          "Guillaume Jeanson",
          "Damien Rieu",
          "Jacques Chirac",
          "Sarkozy",
          "Bush",
          "Darmanin",
          "Notre-Dame",
          "Raoult",
          "Eric Zemmour",
          "Nicolas Maduro",
          "Yassine Belattar",
          "Qassem Soleimani",
          "Juan Branco",
          "Oussama ben Laden",
          "Bilal Hassani",
          "Mohsen Fakhrizadeh",
          "Prophète",
          "Ghislaine",
          "Jean Castex",
          "George W. Bush",
          "Mahmoud Abbas"
         ],
         "xaxis": "x",
         "y": [
          112,
          11,
          311,
          149,
          69,
          213,
          55,
          36,
          24,
          150,
          35,
          20,
          23,
          66,
          9,
          117,
          28,
          32,
          108,
          87,
          4,
          76,
          25,
          76,
          20,
          73,
          72,
          71,
          27,
          20,
          61,
          2,
          59,
          23,
          23,
          53,
          51,
          23,
          15,
          40,
          33,
          9,
          27,
          2,
          39,
          6,
          32,
          7,
          2,
          28,
          25,
          29,
          17,
          21,
          32,
          3,
          5,
          4,
          3,
          33,
          16,
          6,
          2,
          2,
          32,
          11,
          18,
          8
         ],
         "yaxis": "y"
        },
        {
         "alignmentgroup": "True",
         "hovertemplate": "site=sputniknews<br>person=%{x}<br>iteration=%{y}<extra></extra>",
         "legendgroup": "sputniknews",
         "marker": {
          "color": "#EF553B",
          "pattern": {
           "shape": ""
          }
         },
         "name": "sputniknews",
         "offsetgroup": "sputniknews",
         "orientation": "v",
         "showlegend": true,
         "textposition": "auto",
         "type": "bar",
         "x": [
          "Emmanuel Macron",
          "Samuel Paty",
          "Macron",
          "Donald Trump",
          "Zemmour",
          "Trump",
          "Washington",
          "Mahomet",
          "Jean-Luc Mélenchon",
          "Président",
          "Joe Biden",
          "Éric Zemmour",
          "Gérald Darmanin",
          "Damien Viguier",
          "Biden",
          "François Hollande",
          "Salah Abdeslam",
          "Soral",
          "Premier ministre",
          "Christophe Castaner",
          "Vladimir Poutine",
          "Président de la République",
          "Nicolas Sarkozy",
          "Erdogan",
          "Mila",
          "Poutine",
          "Alassane Ouattara",
          "Kamal Louadj",
          "Mickaël Harpon",
          "Pen",
          "Christian Estrosi",
          "Manuel Valls",
          "Kadhafi",
          "Mélenchon",
          "Barkhane",
          "Netanyahou",
          "Allah",
          "Charlie",
          "Guillaume Jeanson",
          "Damien Rieu",
          "Sarkozy",
          "Darmanin",
          "Notre-Dame",
          "Raoult",
          "Eric Zemmour",
          "Nicolas Maduro",
          "Yassine Belattar",
          "Qassem Soleimani",
          "Laurent Gbagbo",
          "Oussama ben Laden",
          "Bilal Hassani",
          "Mohsen Fakhrizadeh",
          "Céline Pina",
          "Prophète",
          "Jean Castex",
          "George W. Bush",
          "Mahmoud Abbas"
         ],
         "xaxis": "x",
         "y": [
          289,
          187,
          78,
          122,
          15,
          82,
          64,
          108,
          90,
          117,
          96,
          59,
          95,
          2,
          31,
          34,
          38,
          3,
          29,
          52,
          30,
          63,
          43,
          31,
          26,
          9,
          34,
          54,
          37,
          19,
          29,
          11,
          27,
          4,
          13,
          2,
          6,
          2,
          29,
          5,
          10,
          11,
          12,
          2,
          6,
          20,
          15,
          13,
          12,
          12,
          18,
          7,
          31,
          9,
          11,
          13,
          23
         ],
         "yaxis": "y"
        },
        {
         "alignmentgroup": "True",
         "hovertemplate": "site=presstv<br>person=%{x}<br>iteration=%{y}<extra></extra>",
         "legendgroup": "presstv",
         "marker": {
          "color": "#00cc96",
          "pattern": {
           "shape": ""
          }
         },
         "name": "presstv",
         "offsetgroup": "presstv",
         "orientation": "v",
         "showlegend": true,
         "textposition": "auto",
         "type": "bar",
         "x": [
          "Emmanuel Macron",
          "Macron",
          "Donald Trump",
          "Trump",
          "Washington",
          "Mahomet",
          "Jean-Luc Mélenchon",
          "Président",
          "Joe Biden",
          "Gérald Darmanin",
          "Biden",
          "Premier ministre",
          "Vladimir Poutine",
          "Président de la République",
          "Nicolas Sarkozy",
          "Erdogan",
          "Poutine",
          "Alassane Ouattara",
          "Kadhafi",
          "Ansarallah",
          "Barkhane",
          "Allah",
          "Jacques Chirac",
          "Bush",
          "Nicolas Maduro",
          "Qassem Soleimani",
          "Laurent Gbagbo",
          "Oussama ben Laden",
          "Mohsen Fakhrizadeh",
          "Prophète"
         ],
         "xaxis": "x",
         "y": [
          37,
          43,
          50,
          86,
          89,
          2,
          5,
          6,
          17,
          2,
          54,
          22,
          10,
          5,
          3,
          9,
          25,
          20,
          8,
          43,
          27,
          2,
          2,
          6,
          9,
          18,
          22,
          2,
          24,
          11
         ],
         "yaxis": "y"
        },
        {
         "alignmentgroup": "True",
         "hovertemplate": "site=fdesouche<br>person=%{x}<br>iteration=%{y}<extra></extra>",
         "legendgroup": "fdesouche",
         "marker": {
          "color": "#ab63fa",
          "pattern": {
           "shape": ""
          }
         },
         "name": "fdesouche",
         "offsetgroup": "fdesouche",
         "orientation": "v",
         "showlegend": true,
         "textposition": "auto",
         "type": "bar",
         "x": [
          "Emmanuel Macron",
          "Samuel Paty",
          "Macron",
          "Donald Trump",
          "Zemmour",
          "Trump",
          "Mahomet",
          "Jean-Luc Mélenchon",
          "Joe Biden",
          "Éric Zemmour",
          "Gérald Darmanin",
          "Biden",
          "François Hollande",
          "Salah Abdeslam",
          "Christophe Castaner",
          "Vladimir Poutine",
          "Dieudonné",
          "Erdogan",
          "John",
          "Mila",
          "Mickaël Harpon",
          "Pen",
          "Christian Estrosi",
          "Valls",
          "Mélenchon",
          "Allah",
          "Charlie",
          "Damien Rieu",
          "Jacques Chirac",
          "Darmanin",
          "Notre-Dame",
          "Eric Zemmour",
          "Yassine Belattar",
          "Oussama ben Laden",
          "Bilal Hassani",
          "Céline Pina",
          "Prophète",
          "Jean Castex"
         ],
         "xaxis": "x",
         "y": [
          29,
          115,
          22,
          8,
          17,
          6,
          47,
          20,
          6,
          13,
          22,
          5,
          49,
          41,
          2,
          2,
          4,
          19,
          2,
          11,
          15,
          6,
          4,
          4,
          12,
          27,
          2,
          29,
          5,
          7,
          2,
          25,
          15,
          3,
          9,
          2,
          10,
          9
         ],
         "yaxis": "y"
        }
       ],
       "layout": {
        "barmode": "relative",
        "legend": {
         "title": {
          "text": "site"
         },
         "tracegroupgap": 0
        },
        "template": {
         "data": {
          "bar": [
           {
            "error_x": {
             "color": "#2a3f5f"
            },
            "error_y": {
             "color": "#2a3f5f"
            },
            "marker": {
             "line": {
              "color": "#E5ECF6",
              "width": 0.5
             },
             "pattern": {
              "fillmode": "overlay",
              "size": 10,
              "solidity": 0.2
             }
            },
            "type": "bar"
           }
          ],
          "barpolar": [
           {
            "marker": {
             "line": {
              "color": "#E5ECF6",
              "width": 0.5
             },
             "pattern": {
              "fillmode": "overlay",
              "size": 10,
              "solidity": 0.2
             }
            },
            "type": "barpolar"
           }
          ],
          "carpet": [
           {
            "aaxis": {
             "endlinecolor": "#2a3f5f",
             "gridcolor": "white",
             "linecolor": "white",
             "minorgridcolor": "white",
             "startlinecolor": "#2a3f5f"
            },
            "baxis": {
             "endlinecolor": "#2a3f5f",
             "gridcolor": "white",
             "linecolor": "white",
             "minorgridcolor": "white",
             "startlinecolor": "#2a3f5f"
            },
            "type": "carpet"
           }
          ],
          "choropleth": [
           {
            "colorbar": {
             "outlinewidth": 0,
             "ticks": ""
            },
            "type": "choropleth"
           }
          ],
          "contour": [
           {
            "colorbar": {
             "outlinewidth": 0,
             "ticks": ""
            },
            "colorscale": [
             [
              0,
              "#0d0887"
             ],
             [
              0.1111111111111111,
              "#46039f"
             ],
             [
              0.2222222222222222,
              "#7201a8"
             ],
             [
              0.3333333333333333,
              "#9c179e"
             ],
             [
              0.4444444444444444,
              "#bd3786"
             ],
             [
              0.5555555555555556,
              "#d8576b"
             ],
             [
              0.6666666666666666,
              "#ed7953"
             ],
             [
              0.7777777777777778,
              "#fb9f3a"
             ],
             [
              0.8888888888888888,
              "#fdca26"
             ],
             [
              1,
              "#f0f921"
             ]
            ],
            "type": "contour"
           }
          ],
          "contourcarpet": [
           {
            "colorbar": {
             "outlinewidth": 0,
             "ticks": ""
            },
            "type": "contourcarpet"
           }
          ],
          "heatmap": [
           {
            "colorbar": {
             "outlinewidth": 0,
             "ticks": ""
            },
            "colorscale": [
             [
              0,
              "#0d0887"
             ],
             [
              0.1111111111111111,
              "#46039f"
             ],
             [
              0.2222222222222222,
              "#7201a8"
             ],
             [
              0.3333333333333333,
              "#9c179e"
             ],
             [
              0.4444444444444444,
              "#bd3786"
             ],
             [
              0.5555555555555556,
              "#d8576b"
             ],
             [
              0.6666666666666666,
              "#ed7953"
             ],
             [
              0.7777777777777778,
              "#fb9f3a"
             ],
             [
              0.8888888888888888,
              "#fdca26"
             ],
             [
              1,
              "#f0f921"
             ]
            ],
            "type": "heatmap"
           }
          ],
          "heatmapgl": [
           {
            "colorbar": {
             "outlinewidth": 0,
             "ticks": ""
            },
            "colorscale": [
             [
              0,
              "#0d0887"
             ],
             [
              0.1111111111111111,
              "#46039f"
             ],
             [
              0.2222222222222222,
              "#7201a8"
             ],
             [
              0.3333333333333333,
              "#9c179e"
             ],
             [
              0.4444444444444444,
              "#bd3786"
             ],
             [
              0.5555555555555556,
              "#d8576b"
             ],
             [
              0.6666666666666666,
              "#ed7953"
             ],
             [
              0.7777777777777778,
              "#fb9f3a"
             ],
             [
              0.8888888888888888,
              "#fdca26"
             ],
             [
              1,
              "#f0f921"
             ]
            ],
            "type": "heatmapgl"
           }
          ],
          "histogram": [
           {
            "marker": {
             "pattern": {
              "fillmode": "overlay",
              "size": 10,
              "solidity": 0.2
             }
            },
            "type": "histogram"
           }
          ],
          "histogram2d": [
           {
            "colorbar": {
             "outlinewidth": 0,
             "ticks": ""
            },
            "colorscale": [
             [
              0,
              "#0d0887"
             ],
             [
              0.1111111111111111,
              "#46039f"
             ],
             [
              0.2222222222222222,
              "#7201a8"
             ],
             [
              0.3333333333333333,
              "#9c179e"
             ],
             [
              0.4444444444444444,
              "#bd3786"
             ],
             [
              0.5555555555555556,
              "#d8576b"
             ],
             [
              0.6666666666666666,
              "#ed7953"
             ],
             [
              0.7777777777777778,
              "#fb9f3a"
             ],
             [
              0.8888888888888888,
              "#fdca26"
             ],
             [
              1,
              "#f0f921"
             ]
            ],
            "type": "histogram2d"
           }
          ],
          "histogram2dcontour": [
           {
            "colorbar": {
             "outlinewidth": 0,
             "ticks": ""
            },
            "colorscale": [
             [
              0,
              "#0d0887"
             ],
             [
              0.1111111111111111,
              "#46039f"
             ],
             [
              0.2222222222222222,
              "#7201a8"
             ],
             [
              0.3333333333333333,
              "#9c179e"
             ],
             [
              0.4444444444444444,
              "#bd3786"
             ],
             [
              0.5555555555555556,
              "#d8576b"
             ],
             [
              0.6666666666666666,
              "#ed7953"
             ],
             [
              0.7777777777777778,
              "#fb9f3a"
             ],
             [
              0.8888888888888888,
              "#fdca26"
             ],
             [
              1,
              "#f0f921"
             ]
            ],
            "type": "histogram2dcontour"
           }
          ],
          "mesh3d": [
           {
            "colorbar": {
             "outlinewidth": 0,
             "ticks": ""
            },
            "type": "mesh3d"
           }
          ],
          "parcoords": [
           {
            "line": {
             "colorbar": {
              "outlinewidth": 0,
              "ticks": ""
             }
            },
            "type": "parcoords"
           }
          ],
          "pie": [
           {
            "automargin": true,
            "type": "pie"
           }
          ],
          "scatter": [
           {
            "fillpattern": {
             "fillmode": "overlay",
             "size": 10,
             "solidity": 0.2
            },
            "type": "scatter"
           }
          ],
          "scatter3d": [
           {
            "line": {
             "colorbar": {
              "outlinewidth": 0,
              "ticks": ""
             }
            },
            "marker": {
             "colorbar": {
              "outlinewidth": 0,
              "ticks": ""
             }
            },
            "type": "scatter3d"
           }
          ],
          "scattercarpet": [
           {
            "marker": {
             "colorbar": {
              "outlinewidth": 0,
              "ticks": ""
             }
            },
            "type": "scattercarpet"
           }
          ],
          "scattergeo": [
           {
            "marker": {
             "colorbar": {
              "outlinewidth": 0,
              "ticks": ""
             }
            },
            "type": "scattergeo"
           }
          ],
          "scattergl": [
           {
            "marker": {
             "colorbar": {
              "outlinewidth": 0,
              "ticks": ""
             }
            },
            "type": "scattergl"
           }
          ],
          "scattermapbox": [
           {
            "marker": {
             "colorbar": {
              "outlinewidth": 0,
              "ticks": ""
             }
            },
            "type": "scattermapbox"
           }
          ],
          "scatterpolar": [
           {
            "marker": {
             "colorbar": {
              "outlinewidth": 0,
              "ticks": ""
             }
            },
            "type": "scatterpolar"
           }
          ],
          "scatterpolargl": [
           {
            "marker": {
             "colorbar": {
              "outlinewidth": 0,
              "ticks": ""
             }
            },
            "type": "scatterpolargl"
           }
          ],
          "scatterternary": [
           {
            "marker": {
             "colorbar": {
              "outlinewidth": 0,
              "ticks": ""
             }
            },
            "type": "scatterternary"
           }
          ],
          "surface": [
           {
            "colorbar": {
             "outlinewidth": 0,
             "ticks": ""
            },
            "colorscale": [
             [
              0,
              "#0d0887"
             ],
             [
              0.1111111111111111,
              "#46039f"
             ],
             [
              0.2222222222222222,
              "#7201a8"
             ],
             [
              0.3333333333333333,
              "#9c179e"
             ],
             [
              0.4444444444444444,
              "#bd3786"
             ],
             [
              0.5555555555555556,
              "#d8576b"
             ],
             [
              0.6666666666666666,
              "#ed7953"
             ],
             [
              0.7777777777777778,
              "#fb9f3a"
             ],
             [
              0.8888888888888888,
              "#fdca26"
             ],
             [
              1,
              "#f0f921"
             ]
            ],
            "type": "surface"
           }
          ],
          "table": [
           {
            "cells": {
             "fill": {
              "color": "#EBF0F8"
             },
             "line": {
              "color": "white"
             }
            },
            "header": {
             "fill": {
              "color": "#C8D4E3"
             },
             "line": {
              "color": "white"
             }
            },
            "type": "table"
           }
          ]
         },
         "layout": {
          "annotationdefaults": {
           "arrowcolor": "#2a3f5f",
           "arrowhead": 0,
           "arrowwidth": 1
          },
          "autotypenumbers": "strict",
          "coloraxis": {
           "colorbar": {
            "outlinewidth": 0,
            "ticks": ""
           }
          },
          "colorscale": {
           "diverging": [
            [
             0,
             "#8e0152"
            ],
            [
             0.1,
             "#c51b7d"
            ],
            [
             0.2,
             "#de77ae"
            ],
            [
             0.3,
             "#f1b6da"
            ],
            [
             0.4,
             "#fde0ef"
            ],
            [
             0.5,
             "#f7f7f7"
            ],
            [
             0.6,
             "#e6f5d0"
            ],
            [
             0.7,
             "#b8e186"
            ],
            [
             0.8,
             "#7fbc41"
            ],
            [
             0.9,
             "#4d9221"
            ],
            [
             1,
             "#276419"
            ]
           ],
           "sequential": [
            [
             0,
             "#0d0887"
            ],
            [
             0.1111111111111111,
             "#46039f"
            ],
            [
             0.2222222222222222,
             "#7201a8"
            ],
            [
             0.3333333333333333,
             "#9c179e"
            ],
            [
             0.4444444444444444,
             "#bd3786"
            ],
            [
             0.5555555555555556,
             "#d8576b"
            ],
            [
             0.6666666666666666,
             "#ed7953"
            ],
            [
             0.7777777777777778,
             "#fb9f3a"
            ],
            [
             0.8888888888888888,
             "#fdca26"
            ],
            [
             1,
             "#f0f921"
            ]
           ],
           "sequentialminus": [
            [
             0,
             "#0d0887"
            ],
            [
             0.1111111111111111,
             "#46039f"
            ],
            [
             0.2222222222222222,
             "#7201a8"
            ],
            [
             0.3333333333333333,
             "#9c179e"
            ],
            [
             0.4444444444444444,
             "#bd3786"
            ],
            [
             0.5555555555555556,
             "#d8576b"
            ],
            [
             0.6666666666666666,
             "#ed7953"
            ],
            [
             0.7777777777777778,
             "#fb9f3a"
            ],
            [
             0.8888888888888888,
             "#fdca26"
            ],
            [
             1,
             "#f0f921"
            ]
           ]
          },
          "colorway": [
           "#636efa",
           "#EF553B",
           "#00cc96",
           "#ab63fa",
           "#FFA15A",
           "#19d3f3",
           "#FF6692",
           "#B6E880",
           "#FF97FF",
           "#FECB52"
          ],
          "font": {
           "color": "#2a3f5f"
          },
          "geo": {
           "bgcolor": "white",
           "lakecolor": "white",
           "landcolor": "#E5ECF6",
           "showlakes": true,
           "showland": true,
           "subunitcolor": "white"
          },
          "hoverlabel": {
           "align": "left"
          },
          "hovermode": "closest",
          "mapbox": {
           "style": "light"
          },
          "paper_bgcolor": "white",
          "plot_bgcolor": "#E5ECF6",
          "polar": {
           "angularaxis": {
            "gridcolor": "white",
            "linecolor": "white",
            "ticks": ""
           },
           "bgcolor": "#E5ECF6",
           "radialaxis": {
            "gridcolor": "white",
            "linecolor": "white",
            "ticks": ""
           }
          },
          "scene": {
           "xaxis": {
            "backgroundcolor": "#E5ECF6",
            "gridcolor": "white",
            "gridwidth": 2,
            "linecolor": "white",
            "showbackground": true,
            "ticks": "",
            "zerolinecolor": "white"
           },
           "yaxis": {
            "backgroundcolor": "#E5ECF6",
            "gridcolor": "white",
            "gridwidth": 2,
            "linecolor": "white",
            "showbackground": true,
            "ticks": "",
            "zerolinecolor": "white"
           },
           "zaxis": {
            "backgroundcolor": "#E5ECF6",
            "gridcolor": "white",
            "gridwidth": 2,
            "linecolor": "white",
            "showbackground": true,
            "ticks": "",
            "zerolinecolor": "white"
           }
          },
          "shapedefaults": {
           "line": {
            "color": "#2a3f5f"
           }
          },
          "ternary": {
           "aaxis": {
            "gridcolor": "white",
            "linecolor": "white",
            "ticks": ""
           },
           "baxis": {
            "gridcolor": "white",
            "linecolor": "white",
            "ticks": ""
           },
           "bgcolor": "#E5ECF6",
           "caxis": {
            "gridcolor": "white",
            "linecolor": "white",
            "ticks": ""
           }
          },
          "title": {
           "x": 0.05
          },
          "xaxis": {
           "automargin": true,
           "gridcolor": "white",
           "linecolor": "white",
           "ticks": "",
           "title": {
            "standoff": 15
           },
           "zerolinecolor": "white",
           "zerolinewidth": 2
          },
          "yaxis": {
           "automargin": true,
           "gridcolor": "white",
           "linecolor": "white",
           "ticks": "",
           "title": {
            "standoff": 15
           },
           "zerolinecolor": "white",
           "zerolinewidth": 2
          }
         }
        },
        "title": {
         "text": "Linked people with site : attentat"
        },
        "xaxis": {
         "anchor": "y",
         "categoryarray": [
          "Emmanuel Macron",
          "Emmanuel Macron",
          "Emmanuel Macron",
          "Emmanuel Macron",
          "Samuel Paty",
          "Samuel Paty",
          "Samuel Paty",
          "Alain Soral",
          "Macron",
          "Macron",
          "Macron",
          "Macron",
          "Donald Trump",
          "Donald Trump",
          "Donald Trump",
          "Donald Trump",
          "Zemmour",
          "Zemmour",
          "Zemmour",
          "Trump",
          "Trump",
          "Trump",
          "Trump",
          "Washington",
          "Washington",
          "Washington",
          "Mahomet",
          "Mahomet",
          "Mahomet",
          "Mahomet",
          "Xavier Poussard",
          "Jean-Luc Mélenchon",
          "Jean-Luc Mélenchon",
          "Jean-Luc Mélenchon",
          "Jean-Luc Mélenchon",
          "Président",
          "Président",
          "Président",
          "Joe Biden",
          "Joe Biden",
          "Joe Biden",
          "Joe Biden",
          "Éric Zemmour",
          "Éric Zemmour",
          "Éric Zemmour",
          "Gérald Darmanin",
          "Gérald Darmanin",
          "Gérald Darmanin",
          "Gérald Darmanin",
          "Damien Viguier",
          "Damien Viguier",
          "Biden",
          "Biden",
          "Biden",
          "Biden",
          "François Hollande",
          "François Hollande",
          "François Hollande",
          "François Belliot",
          "Epstein",
          "Salah Abdeslam",
          "Salah Abdeslam",
          "Salah Abdeslam",
          "Soral",
          "Soral",
          "Premier ministre",
          "Premier ministre",
          "Premier ministre",
          "BHL",
          "Christophe Castaner",
          "Christophe Castaner",
          "Christophe Castaner",
          "Lounès Darbois",
          "Louis-Ferdinand Céline",
          "Strauss",
          "Vladimir Poutine",
          "Vladimir Poutine",
          "Vladimir Poutine",
          "Vladimir Poutine",
          "Président de la République",
          "Président de la République",
          "Nicolas Sarkozy",
          "Nicolas Sarkozy",
          "Nicolas Sarkozy",
          "Dieudonné",
          "Dieudonné",
          "Erdogan",
          "Erdogan",
          "Erdogan",
          "Erdogan",
          "John",
          "John",
          "Mila",
          "Mila",
          "Mila",
          "Poutine",
          "Poutine",
          "Poutine",
          "Alassane Ouattara",
          "Alassane Ouattara",
          "Kamal Louadj",
          "Maxwell",
          "Mickaël Harpon",
          "Mickaël Harpon",
          "Kennedy",
          "Pen",
          "Pen",
          "Pen",
          "Christian Estrosi",
          "Christian Estrosi",
          "Christian Estrosi",
          "Valls",
          "Valls",
          "Manuel Valls",
          "Manuel Valls",
          "Kadhafi",
          "Kadhafi",
          "Kadhafi",
          "Mélenchon",
          "Mélenchon",
          "Mélenchon",
          "Ansarallah",
          "Barkhane",
          "Barkhane",
          "Barkhane",
          "Netanyahou",
          "Netanyahou",
          "Allah",
          "Allah",
          "Allah",
          "Allah",
          "Charlie",
          "Charlie",
          "Charlie",
          "Guillaume Jeanson",
          "Guillaume Jeanson",
          "Damien Rieu",
          "Damien Rieu",
          "Damien Rieu",
          "Jacques Chirac",
          "Jacques Chirac",
          "Jacques Chirac",
          "Sarkozy",
          "Sarkozy",
          "Bush",
          "Bush",
          "Darmanin",
          "Darmanin",
          "Darmanin",
          "Notre-Dame",
          "Notre-Dame",
          "Notre-Dame",
          "Raoult",
          "Raoult",
          "Eric Zemmour",
          "Eric Zemmour",
          "Eric Zemmour",
          "Nicolas Maduro",
          "Nicolas Maduro",
          "Nicolas Maduro",
          "Yassine Belattar",
          "Yassine Belattar",
          "Yassine Belattar",
          "Qassem Soleimani",
          "Qassem Soleimani",
          "Qassem Soleimani",
          "Laurent Gbagbo",
          "Laurent Gbagbo",
          "Juan Branco",
          "Oussama ben Laden",
          "Oussama ben Laden",
          "Oussama ben Laden",
          "Oussama ben Laden",
          "Bilal Hassani",
          "Bilal Hassani",
          "Bilal Hassani",
          "Mohsen Fakhrizadeh",
          "Mohsen Fakhrizadeh",
          "Mohsen Fakhrizadeh",
          "Céline Pina",
          "Céline Pina",
          "Prophète",
          "Prophète",
          "Prophète",
          "Prophète",
          "Ghislaine",
          "Jean Castex",
          "Jean Castex",
          "Jean Castex",
          "George W. Bush",
          "George W. Bush",
          "Mahmoud Abbas",
          "Mahmoud Abbas"
         ],
         "categoryorder": "array",
         "domain": [
          0,
          1
         ],
         "title": {
          "text": "person"
         }
        },
        "yaxis": {
         "anchor": "x",
         "domain": [
          0,
          1
         ],
         "title": {
          "text": "iteration"
         }
        }
       }
      }
     },
     "metadata": {},
     "output_type": "display_data"
    },
    {
     "data": {
      "application/vnd.plotly.v1+json": {
       "config": {
        "plotlyServerURL": "https://plot.ly"
       },
       "data": [
        {
         "alignmentgroup": "True",
         "hovertemplate": "site=egaliteetreconciliation<br>person=%{x}<br>iteration=%{y}<extra></extra>",
         "legendgroup": "egaliteetreconciliation",
         "marker": {
          "color": "#636efa",
          "pattern": {
           "shape": ""
          }
         },
         "name": "egaliteetreconciliation",
         "offsetgroup": "egaliteetreconciliation",
         "orientation": "v",
         "showlegend": true,
         "textposition": "auto",
         "type": "bar",
         "x": [
          "Trump",
          "Ansarallah",
          "Donald Trump",
          "Emmanuel Macron",
          "Washington",
          "Biden",
          "Macron",
          "Poutine",
          "Joe Biden",
          "Vladimir Poutine",
          "Président",
          "Zemmour",
          "Jean-Michel Vernochet",
          "Erdogan",
          "Barkhane",
          "Éric Zemmour",
          "Assad",
          "Alain Soral",
          "Damien Viguier",
          "Hitler",
          "Premier ministre",
          "Nicolas Maduro",
          "Netanyahou",
          "Maduro",
          "Qassem Soleimani",
          "Mike Pompeo",
          "Libre Journal",
          "Pen",
          "Victoire",
          "Pompeo",
          "BHL",
          "Sergueï Lavrov",
          "Juan Guaido",
          "Khalifa Haftar",
          "Julian Assange",
          "John Bolton",
          "Epstein",
          "président Trump",
          "Abdel Bari Atwan",
          "César",
          "Angela Merkel",
          "Xavier Poussard",
          "Soral",
          "Rohani",
          "Staline",
          "Kim Jong",
          "maréchal Haftar",
          "Kennedy",
          "Forrestal",
          "Président de la République",
          "Bolton",
          "Mohammed ben Salmane",
          "Yahya Saree",
          "Napoléon",
          "Marine Le Pen",
          "Jérôme Bourbon",
          "Jean-Luc Mélenchon",
          "Navalny",
          "Eric Zemmour",
          "François Hollande",
          "Zarif",
          "Raoult",
          "Assange"
         ],
         "xaxis": "x",
         "y": [
          874,
          2,
          600,
          239,
          191,
          574,
          500,
          496,
          271,
          86,
          74,
          568,
          614,
          32,
          14,
          201,
          27,
          366,
          337,
          236,
          49,
          27,
          165,
          34,
          21,
          34,
          207,
          75,
          2,
          5,
          178,
          14,
          5,
          3,
          11,
          25,
          162,
          138,
          2,
          7,
          20,
          157,
          149,
          15,
          104,
          11,
          2,
          135,
          136,
          2,
          13,
          2,
          2,
          18,
          53,
          125,
          30,
          30,
          7,
          28,
          8,
          105,
          11
         ],
         "yaxis": "y"
        },
        {
         "alignmentgroup": "True",
         "hovertemplate": "site=sputniknews<br>person=%{x}<br>iteration=%{y}<extra></extra>",
         "legendgroup": "sputniknews",
         "marker": {
          "color": "#EF553B",
          "pattern": {
           "shape": ""
          }
         },
         "name": "sputniknews",
         "offsetgroup": "sputniknews",
         "orientation": "v",
         "showlegend": true,
         "textposition": "auto",
         "type": "bar",
         "x": [
          "Trump",
          "Ansarallah",
          "Donald Trump",
          "Emmanuel Macron",
          "Washington",
          "Biden",
          "Macron",
          "Poutine",
          "Joe Biden",
          "Vladimir Poutine",
          "Netanyahu",
          "Président",
          "Zemmour",
          "Erdogan",
          "Nasrallah",
          "Barkhane",
          "Éric Zemmour",
          "Haftar",
          "Assad",
          "Alain Soral",
          "Damien Viguier",
          "Hitler",
          "Premier ministre",
          "Nicolas Maduro",
          "Netanyahou",
          "Maduro",
          "Qassem Soleimani",
          "Paul Biya",
          "Mike Pompeo",
          "Alassane Ouattara",
          "Pen",
          "Victoire",
          "Pompeo",
          "BHL",
          "Laurent Gbagbo",
          "Sergueï Lavrov",
          "Juan Guaido",
          "Khalifa Haftar",
          "Julian Assange",
          "Kamal Louadj",
          "John Bolton",
          "Epstein",
          "César",
          "Angela Merkel",
          "Soral",
          "Rohani",
          "Staline",
          "Kim Jong",
          "maréchal Haftar",
          "Florence Parly",
          "Kennedy",
          "Président de la République",
          "Félix Tshisekedi",
          "Bolton",
          "Mohammed ben Salmane",
          "Napoléon",
          "Marine Le Pen",
          "Jean-Luc Mélenchon",
          "Navalny",
          "Eric Zemmour",
          "Benjamin Netanyahu",
          "François Hollande",
          "Zarif",
          "Raoult",
          "Assange"
         ],
         "xaxis": "x",
         "y": [
          650,
          2,
          1057,
          971,
          425,
          192,
          293,
          210,
          418,
          515,
          2,
          615,
          41,
          212,
          3,
          39,
          155,
          181,
          64,
          2,
          2,
          82,
          108,
          112,
          84,
          36,
          69,
          185,
          53,
          176,
          84,
          193,
          8,
          11,
          150,
          103,
          77,
          88,
          159,
          170,
          46,
          2,
          30,
          98,
          8,
          12,
          46,
          72,
          106,
          92,
          3,
          124,
          88,
          14,
          17,
          56,
          61,
          67,
          80,
          16,
          6,
          42,
          7,
          11,
          91
         ],
         "yaxis": "y"
        },
        {
         "alignmentgroup": "True",
         "hovertemplate": "site=presstv<br>person=%{x}<br>iteration=%{y}<extra></extra>",
         "legendgroup": "presstv",
         "marker": {
          "color": "#00cc96",
          "pattern": {
           "shape": ""
          }
         },
         "name": "presstv",
         "offsetgroup": "presstv",
         "orientation": "v",
         "showlegend": true,
         "textposition": "auto",
         "type": "bar",
         "x": [
          "Trump",
          "Ansarallah",
          "Donald Trump",
          "Emmanuel Macron",
          "Washington",
          "Biden",
          "Macron",
          "Poutine",
          "Joe Biden",
          "Vladimir Poutine",
          "Netanyahu",
          "Président",
          "Zemmour",
          "Erdogan",
          "Nasrallah",
          "Barkhane",
          "Éric Zemmour",
          "Haftar",
          "Assad",
          "Hitler",
          "Premier ministre",
          "Nicolas Maduro",
          "Maduro",
          "Qassem Soleimani",
          "Paul Biya",
          "Mike Pompeo",
          "Alassane Ouattara",
          "Victoire",
          "Pompeo",
          "Laurent Gbagbo",
          "Sergueï Lavrov",
          "Juan Guaido",
          "Khalifa Haftar",
          "Julian Assange",
          "John Bolton",
          "président Trump",
          "Abdel Bari Atwan",
          "César",
          "Angela Merkel",
          "Rohani",
          "Ben Salmane",
          "Staline",
          "Kim Jong",
          "maréchal Haftar",
          "Seyyed Hassan Nasrallah",
          "Florence Parly",
          "Kennedy",
          "Président de la République",
          "Félix Tshisekedi",
          "Bolton",
          "Mohammed ben Salmane",
          "Yahya Saree",
          "Jean-Luc Mélenchon",
          "Navalny",
          "Eric Zemmour",
          "Benjamin Netanyahu",
          "François Hollande",
          "Zarif",
          "Assange"
         ],
         "xaxis": "x",
         "y": [
          1604,
          2820,
          619,
          336,
          963,
          714,
          382,
          328,
          203,
          192,
          748,
          14,
          4,
          268,
          501,
          399,
          4,
          213,
          278,
          2,
          131,
          144,
          176,
          148,
          53,
          144,
          55,
          2,
          181,
          37,
          67,
          100,
          89,
          9,
          97,
          21,
          158,
          109,
          34,
          130,
          157,
          5,
          69,
          36,
          143,
          48,
          2,
          9,
          47,
          103,
          111,
          128,
          7,
          13,
          15,
          113,
          4,
          102,
          14
         ],
         "yaxis": "y"
        },
        {
         "alignmentgroup": "True",
         "hovertemplate": "site=fdesouche<br>person=%{x}<br>iteration=%{y}<extra></extra>",
         "legendgroup": "fdesouche",
         "marker": {
          "color": "#ab63fa",
          "pattern": {
           "shape": ""
          }
         },
         "name": "fdesouche",
         "offsetgroup": "fdesouche",
         "orientation": "v",
         "showlegend": true,
         "textposition": "auto",
         "type": "bar",
         "x": [
          "Trump",
          "Donald Trump",
          "Emmanuel Macron",
          "Washington",
          "Biden",
          "Macron",
          "Poutine",
          "Joe Biden",
          "Vladimir Poutine",
          "Zemmour",
          "Erdogan",
          "Barkhane",
          "Éric Zemmour",
          "Premier ministre",
          "Nicolas Maduro",
          "Pen",
          "BHL",
          "Juan Guaido",
          "président Trump",
          "César",
          "Angela Merkel",
          "Florence Parly",
          "Napoléon",
          "Marine Le Pen",
          "Jean-Luc Mélenchon",
          "Eric Zemmour",
          "François Hollande"
         ],
         "xaxis": "x",
         "y": [
          36,
          30,
          55,
          2,
          18,
          40,
          2,
          9,
          3,
          30,
          29,
          2,
          47,
          2,
          3,
          38,
          2,
          2,
          2,
          13,
          6,
          2,
          54,
          14,
          20,
          83,
          44
         ],
         "yaxis": "y"
        }
       ],
       "layout": {
        "barmode": "relative",
        "legend": {
         "title": {
          "text": "site"
         },
         "tracegroupgap": 0
        },
        "template": {
         "data": {
          "bar": [
           {
            "error_x": {
             "color": "#2a3f5f"
            },
            "error_y": {
             "color": "#2a3f5f"
            },
            "marker": {
             "line": {
              "color": "#E5ECF6",
              "width": 0.5
             },
             "pattern": {
              "fillmode": "overlay",
              "size": 10,
              "solidity": 0.2
             }
            },
            "type": "bar"
           }
          ],
          "barpolar": [
           {
            "marker": {
             "line": {
              "color": "#E5ECF6",
              "width": 0.5
             },
             "pattern": {
              "fillmode": "overlay",
              "size": 10,
              "solidity": 0.2
             }
            },
            "type": "barpolar"
           }
          ],
          "carpet": [
           {
            "aaxis": {
             "endlinecolor": "#2a3f5f",
             "gridcolor": "white",
             "linecolor": "white",
             "minorgridcolor": "white",
             "startlinecolor": "#2a3f5f"
            },
            "baxis": {
             "endlinecolor": "#2a3f5f",
             "gridcolor": "white",
             "linecolor": "white",
             "minorgridcolor": "white",
             "startlinecolor": "#2a3f5f"
            },
            "type": "carpet"
           }
          ],
          "choropleth": [
           {
            "colorbar": {
             "outlinewidth": 0,
             "ticks": ""
            },
            "type": "choropleth"
           }
          ],
          "contour": [
           {
            "colorbar": {
             "outlinewidth": 0,
             "ticks": ""
            },
            "colorscale": [
             [
              0,
              "#0d0887"
             ],
             [
              0.1111111111111111,
              "#46039f"
             ],
             [
              0.2222222222222222,
              "#7201a8"
             ],
             [
              0.3333333333333333,
              "#9c179e"
             ],
             [
              0.4444444444444444,
              "#bd3786"
             ],
             [
              0.5555555555555556,
              "#d8576b"
             ],
             [
              0.6666666666666666,
              "#ed7953"
             ],
             [
              0.7777777777777778,
              "#fb9f3a"
             ],
             [
              0.8888888888888888,
              "#fdca26"
             ],
             [
              1,
              "#f0f921"
             ]
            ],
            "type": "contour"
           }
          ],
          "contourcarpet": [
           {
            "colorbar": {
             "outlinewidth": 0,
             "ticks": ""
            },
            "type": "contourcarpet"
           }
          ],
          "heatmap": [
           {
            "colorbar": {
             "outlinewidth": 0,
             "ticks": ""
            },
            "colorscale": [
             [
              0,
              "#0d0887"
             ],
             [
              0.1111111111111111,
              "#46039f"
             ],
             [
              0.2222222222222222,
              "#7201a8"
             ],
             [
              0.3333333333333333,
              "#9c179e"
             ],
             [
              0.4444444444444444,
              "#bd3786"
             ],
             [
              0.5555555555555556,
              "#d8576b"
             ],
             [
              0.6666666666666666,
              "#ed7953"
             ],
             [
              0.7777777777777778,
              "#fb9f3a"
             ],
             [
              0.8888888888888888,
              "#fdca26"
             ],
             [
              1,
              "#f0f921"
             ]
            ],
            "type": "heatmap"
           }
          ],
          "heatmapgl": [
           {
            "colorbar": {
             "outlinewidth": 0,
             "ticks": ""
            },
            "colorscale": [
             [
              0,
              "#0d0887"
             ],
             [
              0.1111111111111111,
              "#46039f"
             ],
             [
              0.2222222222222222,
              "#7201a8"
             ],
             [
              0.3333333333333333,
              "#9c179e"
             ],
             [
              0.4444444444444444,
              "#bd3786"
             ],
             [
              0.5555555555555556,
              "#d8576b"
             ],
             [
              0.6666666666666666,
              "#ed7953"
             ],
             [
              0.7777777777777778,
              "#fb9f3a"
             ],
             [
              0.8888888888888888,
              "#fdca26"
             ],
             [
              1,
              "#f0f921"
             ]
            ],
            "type": "heatmapgl"
           }
          ],
          "histogram": [
           {
            "marker": {
             "pattern": {
              "fillmode": "overlay",
              "size": 10,
              "solidity": 0.2
             }
            },
            "type": "histogram"
           }
          ],
          "histogram2d": [
           {
            "colorbar": {
             "outlinewidth": 0,
             "ticks": ""
            },
            "colorscale": [
             [
              0,
              "#0d0887"
             ],
             [
              0.1111111111111111,
              "#46039f"
             ],
             [
              0.2222222222222222,
              "#7201a8"
             ],
             [
              0.3333333333333333,
              "#9c179e"
             ],
             [
              0.4444444444444444,
              "#bd3786"
             ],
             [
              0.5555555555555556,
              "#d8576b"
             ],
             [
              0.6666666666666666,
              "#ed7953"
             ],
             [
              0.7777777777777778,
              "#fb9f3a"
             ],
             [
              0.8888888888888888,
              "#fdca26"
             ],
             [
              1,
              "#f0f921"
             ]
            ],
            "type": "histogram2d"
           }
          ],
          "histogram2dcontour": [
           {
            "colorbar": {
             "outlinewidth": 0,
             "ticks": ""
            },
            "colorscale": [
             [
              0,
              "#0d0887"
             ],
             [
              0.1111111111111111,
              "#46039f"
             ],
             [
              0.2222222222222222,
              "#7201a8"
             ],
             [
              0.3333333333333333,
              "#9c179e"
             ],
             [
              0.4444444444444444,
              "#bd3786"
             ],
             [
              0.5555555555555556,
              "#d8576b"
             ],
             [
              0.6666666666666666,
              "#ed7953"
             ],
             [
              0.7777777777777778,
              "#fb9f3a"
             ],
             [
              0.8888888888888888,
              "#fdca26"
             ],
             [
              1,
              "#f0f921"
             ]
            ],
            "type": "histogram2dcontour"
           }
          ],
          "mesh3d": [
           {
            "colorbar": {
             "outlinewidth": 0,
             "ticks": ""
            },
            "type": "mesh3d"
           }
          ],
          "parcoords": [
           {
            "line": {
             "colorbar": {
              "outlinewidth": 0,
              "ticks": ""
             }
            },
            "type": "parcoords"
           }
          ],
          "pie": [
           {
            "automargin": true,
            "type": "pie"
           }
          ],
          "scatter": [
           {
            "fillpattern": {
             "fillmode": "overlay",
             "size": 10,
             "solidity": 0.2
            },
            "type": "scatter"
           }
          ],
          "scatter3d": [
           {
            "line": {
             "colorbar": {
              "outlinewidth": 0,
              "ticks": ""
             }
            },
            "marker": {
             "colorbar": {
              "outlinewidth": 0,
              "ticks": ""
             }
            },
            "type": "scatter3d"
           }
          ],
          "scattercarpet": [
           {
            "marker": {
             "colorbar": {
              "outlinewidth": 0,
              "ticks": ""
             }
            },
            "type": "scattercarpet"
           }
          ],
          "scattergeo": [
           {
            "marker": {
             "colorbar": {
              "outlinewidth": 0,
              "ticks": ""
             }
            },
            "type": "scattergeo"
           }
          ],
          "scattergl": [
           {
            "marker": {
             "colorbar": {
              "outlinewidth": 0,
              "ticks": ""
             }
            },
            "type": "scattergl"
           }
          ],
          "scattermapbox": [
           {
            "marker": {
             "colorbar": {
              "outlinewidth": 0,
              "ticks": ""
             }
            },
            "type": "scattermapbox"
           }
          ],
          "scatterpolar": [
           {
            "marker": {
             "colorbar": {
              "outlinewidth": 0,
              "ticks": ""
             }
            },
            "type": "scatterpolar"
           }
          ],
          "scatterpolargl": [
           {
            "marker": {
             "colorbar": {
              "outlinewidth": 0,
              "ticks": ""
             }
            },
            "type": "scatterpolargl"
           }
          ],
          "scatterternary": [
           {
            "marker": {
             "colorbar": {
              "outlinewidth": 0,
              "ticks": ""
             }
            },
            "type": "scatterternary"
           }
          ],
          "surface": [
           {
            "colorbar": {
             "outlinewidth": 0,
             "ticks": ""
            },
            "colorscale": [
             [
              0,
              "#0d0887"
             ],
             [
              0.1111111111111111,
              "#46039f"
             ],
             [
              0.2222222222222222,
              "#7201a8"
             ],
             [
              0.3333333333333333,
              "#9c179e"
             ],
             [
              0.4444444444444444,
              "#bd3786"
             ],
             [
              0.5555555555555556,
              "#d8576b"
             ],
             [
              0.6666666666666666,
              "#ed7953"
             ],
             [
              0.7777777777777778,
              "#fb9f3a"
             ],
             [
              0.8888888888888888,
              "#fdca26"
             ],
             [
              1,
              "#f0f921"
             ]
            ],
            "type": "surface"
           }
          ],
          "table": [
           {
            "cells": {
             "fill": {
              "color": "#EBF0F8"
             },
             "line": {
              "color": "white"
             }
            },
            "header": {
             "fill": {
              "color": "#C8D4E3"
             },
             "line": {
              "color": "white"
             }
            },
            "type": "table"
           }
          ]
         },
         "layout": {
          "annotationdefaults": {
           "arrowcolor": "#2a3f5f",
           "arrowhead": 0,
           "arrowwidth": 1
          },
          "autotypenumbers": "strict",
          "coloraxis": {
           "colorbar": {
            "outlinewidth": 0,
            "ticks": ""
           }
          },
          "colorscale": {
           "diverging": [
            [
             0,
             "#8e0152"
            ],
            [
             0.1,
             "#c51b7d"
            ],
            [
             0.2,
             "#de77ae"
            ],
            [
             0.3,
             "#f1b6da"
            ],
            [
             0.4,
             "#fde0ef"
            ],
            [
             0.5,
             "#f7f7f7"
            ],
            [
             0.6,
             "#e6f5d0"
            ],
            [
             0.7,
             "#b8e186"
            ],
            [
             0.8,
             "#7fbc41"
            ],
            [
             0.9,
             "#4d9221"
            ],
            [
             1,
             "#276419"
            ]
           ],
           "sequential": [
            [
             0,
             "#0d0887"
            ],
            [
             0.1111111111111111,
             "#46039f"
            ],
            [
             0.2222222222222222,
             "#7201a8"
            ],
            [
             0.3333333333333333,
             "#9c179e"
            ],
            [
             0.4444444444444444,
             "#bd3786"
            ],
            [
             0.5555555555555556,
             "#d8576b"
            ],
            [
             0.6666666666666666,
             "#ed7953"
            ],
            [
             0.7777777777777778,
             "#fb9f3a"
            ],
            [
             0.8888888888888888,
             "#fdca26"
            ],
            [
             1,
             "#f0f921"
            ]
           ],
           "sequentialminus": [
            [
             0,
             "#0d0887"
            ],
            [
             0.1111111111111111,
             "#46039f"
            ],
            [
             0.2222222222222222,
             "#7201a8"
            ],
            [
             0.3333333333333333,
             "#9c179e"
            ],
            [
             0.4444444444444444,
             "#bd3786"
            ],
            [
             0.5555555555555556,
             "#d8576b"
            ],
            [
             0.6666666666666666,
             "#ed7953"
            ],
            [
             0.7777777777777778,
             "#fb9f3a"
            ],
            [
             0.8888888888888888,
             "#fdca26"
            ],
            [
             1,
             "#f0f921"
            ]
           ]
          },
          "colorway": [
           "#636efa",
           "#EF553B",
           "#00cc96",
           "#ab63fa",
           "#FFA15A",
           "#19d3f3",
           "#FF6692",
           "#B6E880",
           "#FF97FF",
           "#FECB52"
          ],
          "font": {
           "color": "#2a3f5f"
          },
          "geo": {
           "bgcolor": "white",
           "lakecolor": "white",
           "landcolor": "#E5ECF6",
           "showlakes": true,
           "showland": true,
           "subunitcolor": "white"
          },
          "hoverlabel": {
           "align": "left"
          },
          "hovermode": "closest",
          "mapbox": {
           "style": "light"
          },
          "paper_bgcolor": "white",
          "plot_bgcolor": "#E5ECF6",
          "polar": {
           "angularaxis": {
            "gridcolor": "white",
            "linecolor": "white",
            "ticks": ""
           },
           "bgcolor": "#E5ECF6",
           "radialaxis": {
            "gridcolor": "white",
            "linecolor": "white",
            "ticks": ""
           }
          },
          "scene": {
           "xaxis": {
            "backgroundcolor": "#E5ECF6",
            "gridcolor": "white",
            "gridwidth": 2,
            "linecolor": "white",
            "showbackground": true,
            "ticks": "",
            "zerolinecolor": "white"
           },
           "yaxis": {
            "backgroundcolor": "#E5ECF6",
            "gridcolor": "white",
            "gridwidth": 2,
            "linecolor": "white",
            "showbackground": true,
            "ticks": "",
            "zerolinecolor": "white"
           },
           "zaxis": {
            "backgroundcolor": "#E5ECF6",
            "gridcolor": "white",
            "gridwidth": 2,
            "linecolor": "white",
            "showbackground": true,
            "ticks": "",
            "zerolinecolor": "white"
           }
          },
          "shapedefaults": {
           "line": {
            "color": "#2a3f5f"
           }
          },
          "ternary": {
           "aaxis": {
            "gridcolor": "white",
            "linecolor": "white",
            "ticks": ""
           },
           "baxis": {
            "gridcolor": "white",
            "linecolor": "white",
            "ticks": ""
           },
           "bgcolor": "#E5ECF6",
           "caxis": {
            "gridcolor": "white",
            "linecolor": "white",
            "ticks": ""
           }
          },
          "title": {
           "x": 0.05
          },
          "xaxis": {
           "automargin": true,
           "gridcolor": "white",
           "linecolor": "white",
           "ticks": "",
           "title": {
            "standoff": 15
           },
           "zerolinecolor": "white",
           "zerolinewidth": 2
          },
          "yaxis": {
           "automargin": true,
           "gridcolor": "white",
           "linecolor": "white",
           "ticks": "",
           "title": {
            "standoff": 15
           },
           "zerolinecolor": "white",
           "zerolinewidth": 2
          }
         }
        },
        "title": {
         "text": "Linked people with site : guerre"
        },
        "xaxis": {
         "anchor": "y",
         "categoryarray": [
          "Trump",
          "Trump",
          "Trump",
          "Trump",
          "Ansarallah",
          "Ansarallah",
          "Ansarallah",
          "Donald Trump",
          "Donald Trump",
          "Donald Trump",
          "Donald Trump",
          "Emmanuel Macron",
          "Emmanuel Macron",
          "Emmanuel Macron",
          "Emmanuel Macron",
          "Washington",
          "Washington",
          "Washington",
          "Washington",
          "Biden",
          "Biden",
          "Biden",
          "Biden",
          "Macron",
          "Macron",
          "Macron",
          "Macron",
          "Poutine",
          "Poutine",
          "Poutine",
          "Poutine",
          "Joe Biden",
          "Joe Biden",
          "Joe Biden",
          "Joe Biden",
          "Vladimir Poutine",
          "Vladimir Poutine",
          "Vladimir Poutine",
          "Vladimir Poutine",
          "Netanyahu",
          "Netanyahu",
          "Président",
          "Président",
          "Président",
          "Zemmour",
          "Zemmour",
          "Zemmour",
          "Zemmour",
          "Jean-Michel Vernochet",
          "Erdogan",
          "Erdogan",
          "Erdogan",
          "Erdogan",
          "Nasrallah",
          "Nasrallah",
          "Barkhane",
          "Barkhane",
          "Barkhane",
          "Barkhane",
          "Éric Zemmour",
          "Éric Zemmour",
          "Éric Zemmour",
          "Éric Zemmour",
          "Haftar",
          "Haftar",
          "Assad",
          "Assad",
          "Assad",
          "Alain Soral",
          "Alain Soral",
          "Damien Viguier",
          "Damien Viguier",
          "Hitler",
          "Hitler",
          "Hitler",
          "Premier ministre",
          "Premier ministre",
          "Premier ministre",
          "Premier ministre",
          "Nicolas Maduro",
          "Nicolas Maduro",
          "Nicolas Maduro",
          "Nicolas Maduro",
          "Netanyahou",
          "Netanyahou",
          "Maduro",
          "Maduro",
          "Maduro",
          "Qassem Soleimani",
          "Qassem Soleimani",
          "Qassem Soleimani",
          "Paul Biya",
          "Paul Biya",
          "Mike Pompeo",
          "Mike Pompeo",
          "Mike Pompeo",
          "Alassane Ouattara",
          "Alassane Ouattara",
          "Libre Journal",
          "Pen",
          "Pen",
          "Pen",
          "Victoire",
          "Victoire",
          "Victoire",
          "Pompeo",
          "Pompeo",
          "Pompeo",
          "BHL",
          "BHL",
          "BHL",
          "Laurent Gbagbo",
          "Laurent Gbagbo",
          "Sergueï Lavrov",
          "Sergueï Lavrov",
          "Sergueï Lavrov",
          "Juan Guaido",
          "Juan Guaido",
          "Juan Guaido",
          "Juan Guaido",
          "Khalifa Haftar",
          "Khalifa Haftar",
          "Khalifa Haftar",
          "Julian Assange",
          "Julian Assange",
          "Julian Assange",
          "Kamal Louadj",
          "John Bolton",
          "John Bolton",
          "John Bolton",
          "Epstein",
          "Epstein",
          "président Trump",
          "président Trump",
          "président Trump",
          "Abdel Bari Atwan",
          "Abdel Bari Atwan",
          "César",
          "César",
          "César",
          "César",
          "Angela Merkel",
          "Angela Merkel",
          "Angela Merkel",
          "Angela Merkel",
          "Xavier Poussard",
          "Soral",
          "Soral",
          "Rohani",
          "Rohani",
          "Rohani",
          "Ben Salmane",
          "Staline",
          "Staline",
          "Staline",
          "Kim Jong",
          "Kim Jong",
          "Kim Jong",
          "maréchal Haftar",
          "maréchal Haftar",
          "maréchal Haftar",
          "Seyyed Hassan Nasrallah",
          "Florence Parly",
          "Florence Parly",
          "Florence Parly",
          "Kennedy",
          "Kennedy",
          "Kennedy",
          "Forrestal",
          "Président de la République",
          "Président de la République",
          "Président de la République",
          "Félix Tshisekedi",
          "Félix Tshisekedi",
          "Bolton",
          "Bolton",
          "Bolton",
          "Mohammed ben Salmane",
          "Mohammed ben Salmane",
          "Mohammed ben Salmane",
          "Yahya Saree",
          "Yahya Saree",
          "Napoléon",
          "Napoléon",
          "Napoléon",
          "Marine Le Pen",
          "Marine Le Pen",
          "Marine Le Pen",
          "Jérôme Bourbon",
          "Jean-Luc Mélenchon",
          "Jean-Luc Mélenchon",
          "Jean-Luc Mélenchon",
          "Jean-Luc Mélenchon",
          "Navalny",
          "Navalny",
          "Navalny",
          "Eric Zemmour",
          "Eric Zemmour",
          "Eric Zemmour",
          "Eric Zemmour",
          "Benjamin Netanyahu",
          "Benjamin Netanyahu",
          "François Hollande",
          "François Hollande",
          "François Hollande",
          "François Hollande",
          "Zarif",
          "Zarif",
          "Zarif",
          "Raoult",
          "Raoult",
          "Assange",
          "Assange",
          "Assange"
         ],
         "categoryorder": "array",
         "domain": [
          0,
          1
         ],
         "title": {
          "text": "person"
         }
        },
        "yaxis": {
         "anchor": "x",
         "domain": [
          0,
          1
         ],
         "title": {
          "text": "iteration"
         }
        }
       }
      }
     },
     "metadata": {},
     "output_type": "display_data"
    },
    {
     "data": {
      "application/vnd.plotly.v1+json": {
       "config": {
        "plotlyServerURL": "https://plot.ly"
       },
       "data": [
        {
         "alignmentgroup": "True",
         "hovertemplate": "site=egaliteetreconciliation<br>person=%{x}<br>iteration=%{y}<extra></extra>",
         "legendgroup": "egaliteetreconciliation",
         "marker": {
          "color": "#636efa",
          "pattern": {
           "shape": ""
          }
         },
         "name": "egaliteetreconciliation",
         "offsetgroup": "egaliteetreconciliation",
         "orientation": "v",
         "showlegend": true,
         "textposition": "auto",
         "type": "bar",
         "x": [
          "Trump",
          "Donald Trump",
          "Biden",
          "Joe Biden",
          "Poutine",
          "Washington",
          "Alain Soral",
          "Hitler",
          "Macron",
          "Marx",
          "Epstein",
          "Emmanuel Macron",
          "Président",
          "Jeffrey Epstein",
          "Kennedy",
          "Staline",
          "John",
          "Strauss",
          "président Trump",
          "Soral",
          "Bill Gates",
          "Julian Assange",
          "Proudhon",
          "Yahvé",
          "Covid",
          "Hillary Clinton",
          "Toufik",
          "Raoult",
          "Soros",
          "Noriega",
          "Assad",
          "Donald J. Trump",
          "Morales",
          "Vladimir Poutine",
          "Souvorov",
          "Dieudonné",
          "Abdel Bari Atwan",
          "Bouteflika",
          "Branco",
          "Lucien Cerise",
          "George Soros",
          "BHL",
          "Jean-Luc Mélenchon",
          "Éric Zemmour",
          "Hamza",
          "Roosevelt",
          "Nicolas Sarkozy",
          "Didier Raoult",
          "M. Trump",
          "Adorno"
         ],
         "xaxis": "x",
         "y": [
          366,
          234,
          209,
          107,
          90,
          7,
          121,
          86,
          53,
          93,
          59,
          28,
          22,
          37,
          71,
          65,
          69,
          68,
          53,
          57,
          38,
          2,
          47,
          44,
          43,
          40,
          2,
          36,
          12,
          38,
          2,
          27,
          35,
          4,
          33,
          33,
          2,
          9,
          28,
          28,
          11,
          26,
          8,
          16,
          9,
          21,
          8,
          12,
          19,
          23
         ],
         "yaxis": "y"
        },
        {
         "alignmentgroup": "True",
         "hovertemplate": "site=sputniknews<br>person=%{x}<br>iteration=%{y}<extra></extra>",
         "legendgroup": "sputniknews",
         "marker": {
          "color": "#EF553B",
          "pattern": {
           "shape": ""
          }
         },
         "name": "sputniknews",
         "offsetgroup": "sputniknews",
         "orientation": "v",
         "showlegend": true,
         "textposition": "auto",
         "type": "bar",
         "x": [
          "Trump",
          "Donald Trump",
          "Biden",
          "Joe Biden",
          "Poutine",
          "Washington",
          "Hitler",
          "Macron",
          "Epstein",
          "Emmanuel Macron",
          "Nicolas Maduro",
          "Président",
          "Jeffrey Epstein",
          "Kennedy",
          "Staline",
          "Bill Gates",
          "Julian Assange",
          "Juan Guaido",
          "Hillary Clinton",
          "Toufik",
          "Hassan Rohani",
          "Qassem Soleimani",
          "Raoult",
          "Soros",
          "Alassane Ouattara",
          "Assad",
          "Saïd Bouteflika",
          "Vladimir Poutine",
          "César",
          "Lula",
          "Touadéra",
          "Bouteflika",
          "Vital Kamerhe",
          "Laurent Gbagbo",
          "Olivier Berruyer",
          "George Soros",
          "Jean-Luc Mélenchon",
          "Carlos Ghosn",
          "Éric Zemmour",
          "Hamza",
          "Félix Tshisekedi",
          "Roosevelt",
          "Nicolas Sarkozy",
          "Didier Raoult",
          "Erdogan"
         ],
         "xaxis": "x",
         "y": [
          79,
          64,
          5,
          38,
          17,
          28,
          10,
          5,
          29,
          27,
          25,
          54,
          38,
          2,
          5,
          14,
          44,
          17,
          2,
          38,
          5,
          5,
          2,
          3,
          35,
          6,
          34,
          9,
          7,
          34,
          2,
          20,
          31,
          27,
          27,
          7,
          16,
          26,
          7,
          16,
          14,
          3,
          16,
          12,
          4
         ],
         "yaxis": "y"
        },
        {
         "alignmentgroup": "True",
         "hovertemplate": "site=presstv<br>person=%{x}<br>iteration=%{y}<extra></extra>",
         "legendgroup": "presstv",
         "marker": {
          "color": "#00cc96",
          "pattern": {
           "shape": ""
          }
         },
         "name": "presstv",
         "offsetgroup": "presstv",
         "orientation": "v",
         "showlegend": true,
         "textposition": "auto",
         "type": "bar",
         "x": [
          "Trump",
          "Donald Trump",
          "Biden",
          "Joe Biden",
          "Poutine",
          "Washington",
          "Ansarallah",
          "Macron",
          "Emmanuel Macron",
          "Barkhane",
          "Nicolas Maduro",
          "Président",
          "Nasrallah",
          "Maduro",
          "Julian Assange",
          "Juan Guaido",
          "Toufik",
          "Hassan Rohani",
          "Qassem Soleimani",
          "Ayatollah Khamenei",
          "Alassane Ouattara",
          "Assad",
          "Saïd Bouteflika",
          "Vladimir Poutine",
          "César",
          "Touadéra",
          "Abdel Bari Atwan",
          "Bouteflika",
          "Netanyahu",
          "Tshisekedi",
          "Jean-Luc Mélenchon",
          "Salami",
          "Abiy Ahmed",
          "Éric Zemmour",
          "Félix Tshisekedi",
          "Seyyed Hassan Nasrallah",
          "Erdogan"
         ],
         "xaxis": "x",
         "y": [
          182,
          75,
          47,
          13,
          22,
          87,
          110,
          31,
          22,
          86,
          54,
          2,
          72,
          70,
          6,
          31,
          2,
          35,
          34,
          39,
          2,
          28,
          2,
          16,
          27,
          31,
          30,
          2,
          31,
          27,
          2,
          26,
          26,
          2,
          11,
          25,
          18
         ],
         "yaxis": "y"
        },
        {
         "alignmentgroup": "True",
         "hovertemplate": "site=fdesouche<br>person=%{x}<br>iteration=%{y}<extra></extra>",
         "legendgroup": "fdesouche",
         "marker": {
          "color": "#ab63fa",
          "pattern": {
           "shape": ""
          }
         },
         "name": "fdesouche",
         "offsetgroup": "fdesouche",
         "orientation": "v",
         "showlegend": true,
         "textposition": "auto",
         "type": "bar",
         "x": [
          "Trump",
          "Donald Trump",
          "Biden",
          "Joe Biden",
          "Macron",
          "Epstein",
          "Emmanuel Macron",
          "Jeffrey Epstein",
          "président Trump",
          "Soros",
          "Donald J. Trump",
          "Vladimir Poutine",
          "George Soros",
          "M. Trump"
         ],
         "xaxis": "x",
         "y": [
          52,
          23,
          9,
          13,
          5,
          2,
          11,
          2,
          5,
          23,
          8,
          5,
          8,
          5
         ],
         "yaxis": "y"
        }
       ],
       "layout": {
        "barmode": "relative",
        "legend": {
         "title": {
          "text": "site"
         },
         "tracegroupgap": 0
        },
        "template": {
         "data": {
          "bar": [
           {
            "error_x": {
             "color": "#2a3f5f"
            },
            "error_y": {
             "color": "#2a3f5f"
            },
            "marker": {
             "line": {
              "color": "#E5ECF6",
              "width": 0.5
             },
             "pattern": {
              "fillmode": "overlay",
              "size": 10,
              "solidity": 0.2
             }
            },
            "type": "bar"
           }
          ],
          "barpolar": [
           {
            "marker": {
             "line": {
              "color": "#E5ECF6",
              "width": 0.5
             },
             "pattern": {
              "fillmode": "overlay",
              "size": 10,
              "solidity": 0.2
             }
            },
            "type": "barpolar"
           }
          ],
          "carpet": [
           {
            "aaxis": {
             "endlinecolor": "#2a3f5f",
             "gridcolor": "white",
             "linecolor": "white",
             "minorgridcolor": "white",
             "startlinecolor": "#2a3f5f"
            },
            "baxis": {
             "endlinecolor": "#2a3f5f",
             "gridcolor": "white",
             "linecolor": "white",
             "minorgridcolor": "white",
             "startlinecolor": "#2a3f5f"
            },
            "type": "carpet"
           }
          ],
          "choropleth": [
           {
            "colorbar": {
             "outlinewidth": 0,
             "ticks": ""
            },
            "type": "choropleth"
           }
          ],
          "contour": [
           {
            "colorbar": {
             "outlinewidth": 0,
             "ticks": ""
            },
            "colorscale": [
             [
              0,
              "#0d0887"
             ],
             [
              0.1111111111111111,
              "#46039f"
             ],
             [
              0.2222222222222222,
              "#7201a8"
             ],
             [
              0.3333333333333333,
              "#9c179e"
             ],
             [
              0.4444444444444444,
              "#bd3786"
             ],
             [
              0.5555555555555556,
              "#d8576b"
             ],
             [
              0.6666666666666666,
              "#ed7953"
             ],
             [
              0.7777777777777778,
              "#fb9f3a"
             ],
             [
              0.8888888888888888,
              "#fdca26"
             ],
             [
              1,
              "#f0f921"
             ]
            ],
            "type": "contour"
           }
          ],
          "contourcarpet": [
           {
            "colorbar": {
             "outlinewidth": 0,
             "ticks": ""
            },
            "type": "contourcarpet"
           }
          ],
          "heatmap": [
           {
            "colorbar": {
             "outlinewidth": 0,
             "ticks": ""
            },
            "colorscale": [
             [
              0,
              "#0d0887"
             ],
             [
              0.1111111111111111,
              "#46039f"
             ],
             [
              0.2222222222222222,
              "#7201a8"
             ],
             [
              0.3333333333333333,
              "#9c179e"
             ],
             [
              0.4444444444444444,
              "#bd3786"
             ],
             [
              0.5555555555555556,
              "#d8576b"
             ],
             [
              0.6666666666666666,
              "#ed7953"
             ],
             [
              0.7777777777777778,
              "#fb9f3a"
             ],
             [
              0.8888888888888888,
              "#fdca26"
             ],
             [
              1,
              "#f0f921"
             ]
            ],
            "type": "heatmap"
           }
          ],
          "heatmapgl": [
           {
            "colorbar": {
             "outlinewidth": 0,
             "ticks": ""
            },
            "colorscale": [
             [
              0,
              "#0d0887"
             ],
             [
              0.1111111111111111,
              "#46039f"
             ],
             [
              0.2222222222222222,
              "#7201a8"
             ],
             [
              0.3333333333333333,
              "#9c179e"
             ],
             [
              0.4444444444444444,
              "#bd3786"
             ],
             [
              0.5555555555555556,
              "#d8576b"
             ],
             [
              0.6666666666666666,
              "#ed7953"
             ],
             [
              0.7777777777777778,
              "#fb9f3a"
             ],
             [
              0.8888888888888888,
              "#fdca26"
             ],
             [
              1,
              "#f0f921"
             ]
            ],
            "type": "heatmapgl"
           }
          ],
          "histogram": [
           {
            "marker": {
             "pattern": {
              "fillmode": "overlay",
              "size": 10,
              "solidity": 0.2
             }
            },
            "type": "histogram"
           }
          ],
          "histogram2d": [
           {
            "colorbar": {
             "outlinewidth": 0,
             "ticks": ""
            },
            "colorscale": [
             [
              0,
              "#0d0887"
             ],
             [
              0.1111111111111111,
              "#46039f"
             ],
             [
              0.2222222222222222,
              "#7201a8"
             ],
             [
              0.3333333333333333,
              "#9c179e"
             ],
             [
              0.4444444444444444,
              "#bd3786"
             ],
             [
              0.5555555555555556,
              "#d8576b"
             ],
             [
              0.6666666666666666,
              "#ed7953"
             ],
             [
              0.7777777777777778,
              "#fb9f3a"
             ],
             [
              0.8888888888888888,
              "#fdca26"
             ],
             [
              1,
              "#f0f921"
             ]
            ],
            "type": "histogram2d"
           }
          ],
          "histogram2dcontour": [
           {
            "colorbar": {
             "outlinewidth": 0,
             "ticks": ""
            },
            "colorscale": [
             [
              0,
              "#0d0887"
             ],
             [
              0.1111111111111111,
              "#46039f"
             ],
             [
              0.2222222222222222,
              "#7201a8"
             ],
             [
              0.3333333333333333,
              "#9c179e"
             ],
             [
              0.4444444444444444,
              "#bd3786"
             ],
             [
              0.5555555555555556,
              "#d8576b"
             ],
             [
              0.6666666666666666,
              "#ed7953"
             ],
             [
              0.7777777777777778,
              "#fb9f3a"
             ],
             [
              0.8888888888888888,
              "#fdca26"
             ],
             [
              1,
              "#f0f921"
             ]
            ],
            "type": "histogram2dcontour"
           }
          ],
          "mesh3d": [
           {
            "colorbar": {
             "outlinewidth": 0,
             "ticks": ""
            },
            "type": "mesh3d"
           }
          ],
          "parcoords": [
           {
            "line": {
             "colorbar": {
              "outlinewidth": 0,
              "ticks": ""
             }
            },
            "type": "parcoords"
           }
          ],
          "pie": [
           {
            "automargin": true,
            "type": "pie"
           }
          ],
          "scatter": [
           {
            "fillpattern": {
             "fillmode": "overlay",
             "size": 10,
             "solidity": 0.2
            },
            "type": "scatter"
           }
          ],
          "scatter3d": [
           {
            "line": {
             "colorbar": {
              "outlinewidth": 0,
              "ticks": ""
             }
            },
            "marker": {
             "colorbar": {
              "outlinewidth": 0,
              "ticks": ""
             }
            },
            "type": "scatter3d"
           }
          ],
          "scattercarpet": [
           {
            "marker": {
             "colorbar": {
              "outlinewidth": 0,
              "ticks": ""
             }
            },
            "type": "scattercarpet"
           }
          ],
          "scattergeo": [
           {
            "marker": {
             "colorbar": {
              "outlinewidth": 0,
              "ticks": ""
             }
            },
            "type": "scattergeo"
           }
          ],
          "scattergl": [
           {
            "marker": {
             "colorbar": {
              "outlinewidth": 0,
              "ticks": ""
             }
            },
            "type": "scattergl"
           }
          ],
          "scattermapbox": [
           {
            "marker": {
             "colorbar": {
              "outlinewidth": 0,
              "ticks": ""
             }
            },
            "type": "scattermapbox"
           }
          ],
          "scatterpolar": [
           {
            "marker": {
             "colorbar": {
              "outlinewidth": 0,
              "ticks": ""
             }
            },
            "type": "scatterpolar"
           }
          ],
          "scatterpolargl": [
           {
            "marker": {
             "colorbar": {
              "outlinewidth": 0,
              "ticks": ""
             }
            },
            "type": "scatterpolargl"
           }
          ],
          "scatterternary": [
           {
            "marker": {
             "colorbar": {
              "outlinewidth": 0,
              "ticks": ""
             }
            },
            "type": "scatterternary"
           }
          ],
          "surface": [
           {
            "colorbar": {
             "outlinewidth": 0,
             "ticks": ""
            },
            "colorscale": [
             [
              0,
              "#0d0887"
             ],
             [
              0.1111111111111111,
              "#46039f"
             ],
             [
              0.2222222222222222,
              "#7201a8"
             ],
             [
              0.3333333333333333,
              "#9c179e"
             ],
             [
              0.4444444444444444,
              "#bd3786"
             ],
             [
              0.5555555555555556,
              "#d8576b"
             ],
             [
              0.6666666666666666,
              "#ed7953"
             ],
             [
              0.7777777777777778,
              "#fb9f3a"
             ],
             [
              0.8888888888888888,
              "#fdca26"
             ],
             [
              1,
              "#f0f921"
             ]
            ],
            "type": "surface"
           }
          ],
          "table": [
           {
            "cells": {
             "fill": {
              "color": "#EBF0F8"
             },
             "line": {
              "color": "white"
             }
            },
            "header": {
             "fill": {
              "color": "#C8D4E3"
             },
             "line": {
              "color": "white"
             }
            },
            "type": "table"
           }
          ]
         },
         "layout": {
          "annotationdefaults": {
           "arrowcolor": "#2a3f5f",
           "arrowhead": 0,
           "arrowwidth": 1
          },
          "autotypenumbers": "strict",
          "coloraxis": {
           "colorbar": {
            "outlinewidth": 0,
            "ticks": ""
           }
          },
          "colorscale": {
           "diverging": [
            [
             0,
             "#8e0152"
            ],
            [
             0.1,
             "#c51b7d"
            ],
            [
             0.2,
             "#de77ae"
            ],
            [
             0.3,
             "#f1b6da"
            ],
            [
             0.4,
             "#fde0ef"
            ],
            [
             0.5,
             "#f7f7f7"
            ],
            [
             0.6,
             "#e6f5d0"
            ],
            [
             0.7,
             "#b8e186"
            ],
            [
             0.8,
             "#7fbc41"
            ],
            [
             0.9,
             "#4d9221"
            ],
            [
             1,
             "#276419"
            ]
           ],
           "sequential": [
            [
             0,
             "#0d0887"
            ],
            [
             0.1111111111111111,
             "#46039f"
            ],
            [
             0.2222222222222222,
             "#7201a8"
            ],
            [
             0.3333333333333333,
             "#9c179e"
            ],
            [
             0.4444444444444444,
             "#bd3786"
            ],
            [
             0.5555555555555556,
             "#d8576b"
            ],
            [
             0.6666666666666666,
             "#ed7953"
            ],
            [
             0.7777777777777778,
             "#fb9f3a"
            ],
            [
             0.8888888888888888,
             "#fdca26"
            ],
            [
             1,
             "#f0f921"
            ]
           ],
           "sequentialminus": [
            [
             0,
             "#0d0887"
            ],
            [
             0.1111111111111111,
             "#46039f"
            ],
            [
             0.2222222222222222,
             "#7201a8"
            ],
            [
             0.3333333333333333,
             "#9c179e"
            ],
            [
             0.4444444444444444,
             "#bd3786"
            ],
            [
             0.5555555555555556,
             "#d8576b"
            ],
            [
             0.6666666666666666,
             "#ed7953"
            ],
            [
             0.7777777777777778,
             "#fb9f3a"
            ],
            [
             0.8888888888888888,
             "#fdca26"
            ],
            [
             1,
             "#f0f921"
            ]
           ]
          },
          "colorway": [
           "#636efa",
           "#EF553B",
           "#00cc96",
           "#ab63fa",
           "#FFA15A",
           "#19d3f3",
           "#FF6692",
           "#B6E880",
           "#FF97FF",
           "#FECB52"
          ],
          "font": {
           "color": "#2a3f5f"
          },
          "geo": {
           "bgcolor": "white",
           "lakecolor": "white",
           "landcolor": "#E5ECF6",
           "showlakes": true,
           "showland": true,
           "subunitcolor": "white"
          },
          "hoverlabel": {
           "align": "left"
          },
          "hovermode": "closest",
          "mapbox": {
           "style": "light"
          },
          "paper_bgcolor": "white",
          "plot_bgcolor": "#E5ECF6",
          "polar": {
           "angularaxis": {
            "gridcolor": "white",
            "linecolor": "white",
            "ticks": ""
           },
           "bgcolor": "#E5ECF6",
           "radialaxis": {
            "gridcolor": "white",
            "linecolor": "white",
            "ticks": ""
           }
          },
          "scene": {
           "xaxis": {
            "backgroundcolor": "#E5ECF6",
            "gridcolor": "white",
            "gridwidth": 2,
            "linecolor": "white",
            "showbackground": true,
            "ticks": "",
            "zerolinecolor": "white"
           },
           "yaxis": {
            "backgroundcolor": "#E5ECF6",
            "gridcolor": "white",
            "gridwidth": 2,
            "linecolor": "white",
            "showbackground": true,
            "ticks": "",
            "zerolinecolor": "white"
           },
           "zaxis": {
            "backgroundcolor": "#E5ECF6",
            "gridcolor": "white",
            "gridwidth": 2,
            "linecolor": "white",
            "showbackground": true,
            "ticks": "",
            "zerolinecolor": "white"
           }
          },
          "shapedefaults": {
           "line": {
            "color": "#2a3f5f"
           }
          },
          "ternary": {
           "aaxis": {
            "gridcolor": "white",
            "linecolor": "white",
            "ticks": ""
           },
           "baxis": {
            "gridcolor": "white",
            "linecolor": "white",
            "ticks": ""
           },
           "bgcolor": "#E5ECF6",
           "caxis": {
            "gridcolor": "white",
            "linecolor": "white",
            "ticks": ""
           }
          },
          "title": {
           "x": 0.05
          },
          "xaxis": {
           "automargin": true,
           "gridcolor": "white",
           "linecolor": "white",
           "ticks": "",
           "title": {
            "standoff": 15
           },
           "zerolinecolor": "white",
           "zerolinewidth": 2
          },
          "yaxis": {
           "automargin": true,
           "gridcolor": "white",
           "linecolor": "white",
           "ticks": "",
           "title": {
            "standoff": 15
           },
           "zerolinecolor": "white",
           "zerolinewidth": 2
          }
         }
        },
        "title": {
         "text": "Linked people with site : complot"
        },
        "xaxis": {
         "anchor": "y",
         "categoryarray": [
          "Trump",
          "Trump",
          "Trump",
          "Trump",
          "Donald Trump",
          "Donald Trump",
          "Donald Trump",
          "Donald Trump",
          "Biden",
          "Biden",
          "Biden",
          "Biden",
          "Joe Biden",
          "Joe Biden",
          "Joe Biden",
          "Joe Biden",
          "Poutine",
          "Poutine",
          "Poutine",
          "Washington",
          "Washington",
          "Washington",
          "Alain Soral",
          "Ansarallah",
          "Hitler",
          "Hitler",
          "Macron",
          "Macron",
          "Macron",
          "Macron",
          "Marx",
          "Epstein",
          "Epstein",
          "Epstein",
          "Emmanuel Macron",
          "Emmanuel Macron",
          "Emmanuel Macron",
          "Emmanuel Macron",
          "Barkhane",
          "Nicolas Maduro",
          "Nicolas Maduro",
          "Président",
          "Président",
          "Président",
          "Jeffrey Epstein",
          "Jeffrey Epstein",
          "Jeffrey Epstein",
          "Kennedy",
          "Kennedy",
          "Nasrallah",
          "Staline",
          "Staline",
          "Maduro",
          "John",
          "Strauss",
          "président Trump",
          "président Trump",
          "Soral",
          "Bill Gates",
          "Bill Gates",
          "Julian Assange",
          "Julian Assange",
          "Julian Assange",
          "Juan Guaido",
          "Juan Guaido",
          "Proudhon",
          "Yahvé",
          "Covid",
          "Hillary Clinton",
          "Hillary Clinton",
          "Toufik",
          "Toufik",
          "Toufik",
          "Hassan Rohani",
          "Hassan Rohani",
          "Qassem Soleimani",
          "Qassem Soleimani",
          "Ayatollah Khamenei",
          "Raoult",
          "Raoult",
          "Soros",
          "Soros",
          "Soros",
          "Noriega",
          "Alassane Ouattara",
          "Alassane Ouattara",
          "Assad",
          "Assad",
          "Assad",
          "Saïd Bouteflika",
          "Saïd Bouteflika",
          "Donald J. Trump",
          "Donald J. Trump",
          "Morales",
          "Vladimir Poutine",
          "Vladimir Poutine",
          "Vladimir Poutine",
          "Vladimir Poutine",
          "César",
          "César",
          "Lula",
          "Souvorov",
          "Dieudonné",
          "Touadéra",
          "Touadéra",
          "Abdel Bari Atwan",
          "Abdel Bari Atwan",
          "Bouteflika",
          "Bouteflika",
          "Bouteflika",
          "Vital Kamerhe",
          "Netanyahu",
          "Branco",
          "Lucien Cerise",
          "Laurent Gbagbo",
          "Olivier Berruyer",
          "Tshisekedi",
          "George Soros",
          "George Soros",
          "George Soros",
          "BHL",
          "Jean-Luc Mélenchon",
          "Jean-Luc Mélenchon",
          "Jean-Luc Mélenchon",
          "Carlos Ghosn",
          "Salami",
          "Abiy Ahmed",
          "Éric Zemmour",
          "Éric Zemmour",
          "Éric Zemmour",
          "Hamza",
          "Hamza",
          "Félix Tshisekedi",
          "Félix Tshisekedi",
          "Seyyed Hassan Nasrallah",
          "Roosevelt",
          "Roosevelt",
          "Nicolas Sarkozy",
          "Nicolas Sarkozy",
          "Didier Raoult",
          "Didier Raoult",
          "M. Trump",
          "M. Trump",
          "Adorno",
          "Erdogan",
          "Erdogan"
         ],
         "categoryorder": "array",
         "domain": [
          0,
          1
         ],
         "title": {
          "text": "person"
         }
        },
        "yaxis": {
         "anchor": "x",
         "domain": [
          0,
          1
         ],
         "title": {
          "text": "iteration"
         }
        }
       }
      }
     },
     "metadata": {},
     "output_type": "display_data"
    }
   ],
   "source": [
    "pickedKeywords = [\"juif\", \"arabe\", \"attentat\", \"guerre\", \"complot\"]\n",
    "\n",
    "pickedLimit = 75\n",
    "\n",
    "for pickedKw in pickedKeywords:\n",
    "    showLinkedPeopleWithSite(allDataCorpus, pickedKw, pickedLimit)"
   ]
  },
  {
   "cell_type": "markdown",
   "metadata": {},
   "source": [
    "Ainsi les noms d'Eric Zemmour et d'Alain Soral sont essentiellement présent sur les articles d'E&R."
   ]
  },
  {
   "cell_type": "markdown",
   "metadata": {},
   "source": [
    "## Aller plus loin\n",
    "\n",
    "On peut ainsi faire la même chose avec les organisations, localisations, etc.\n",
    "\n",
    "On peut ainsi regrouper les mots-clés, personnes, organisations et localisations comme des \"sujets\" (ou topics en anglais) en lien avec un autre sujet.\n",
    "\n",
    "On crée une fonction permettant de faire ceci tout en nous donnant le site qui y correspond."
   ]
  },
  {
   "cell_type": "code",
   "execution_count": 141,
   "metadata": {},
   "outputs": [],
   "source": [
    "def showLinkedTopics(corpusData, pickedTopic, limit):\n",
    "    linkedTopics = []\n",
    "    for file in corpusData:\n",
    "        data = file[\"data\"]\n",
    "        siteName = file[\"siteName\"]\n",
    "        years = data[\"data-all\"].keys()\n",
    "        for year in years:\n",
    "            months = data[\"data-all\"][year].keys()\n",
    "            for month in months:\n",
    "                days = data[\"data-all\"][year][month].keys()\n",
    "                for day in days:\n",
    "                    articles = data[\"data-all\"][year][month][day]\n",
    "                    for article in articles:\n",
    "\n",
    "                        #On prend tous les topics de l'article\n",
    "                        topicsArticle = article[\"per\"] | article[\"kws\"] | article[\"loc\"] | article[\"org\"]\n",
    "                        \n",
    "                        \n",
    "                        if(pickedTopic in topicsArticle):\n",
    "                            del topicsArticle[pickedTopic] # On supprime bien sûr le topic choisi\n",
    "                            for t,iter in topicsArticle.items():\n",
    "                                # Tester si les topics associés son déjà dans la liste sinon on l'ajoute\n",
    "                                isNew = True\n",
    "                                for e in linkedTopics:\n",
    "                                    if e[\"topic\"] == t :\n",
    "                                        e[\"iteration\"] += iter\n",
    "                                        dicts = e[\"iterationWithSite\"]\n",
    "                                        if siteName in dicts:\n",
    "                                            dicts[siteName] += iter\n",
    "                                        else:\n",
    "                                            dicts[siteName] = iter\n",
    "                                        isNew = False\n",
    "                                        break\n",
    "                                if(isNew):\n",
    "                                    linkedTopics.append({\"topic\": t, \"iteration\": iter, \"iterationWithSite\": {siteName: iter}})\n",
    "    # Sort\n",
    "    linkedTopics = sorted(linkedTopics, key=lambda x:x['iteration'], reverse=True)\n",
    "\n",
    "    commonLinkedTopics = linkedTopics[0:limit]\n",
    "\n",
    "    # Split les entrées par site\n",
    "    commonLinkedTopicsSplitted = []\n",
    "    for e in commonLinkedTopics:\n",
    "        topic = e[\"topic\"]\n",
    "        for site, iteration in e[\"iterationWithSite\"].items():\n",
    "           commonLinkedTopicsSplitted.append({\"topic\": topic, \"iteration\": iteration, \"site\": site})\n",
    "\n",
    "    df = pd.DataFrame(commonLinkedTopicsSplitted)\n",
    "\n",
    "    #print(df)\n",
    "\n",
    "    # Bar chart\n",
    "    \n",
    "    fig = px.bar(df, x='topic', y='iteration', color='site',category_orders={'topic': df.topic } ,title= \"Linked topics : \" + pickedTopic)\n",
    "    fig.show()\n"
   ]
  },
  {
   "cell_type": "code",
   "execution_count": 142,
   "metadata": {},
   "outputs": [
    {
     "data": {
      "application/vnd.plotly.v1+json": {
       "config": {
        "plotlyServerURL": "https://plot.ly"
       },
       "data": [
        {
         "alignmentgroup": "True",
         "hovertemplate": "site=egaliteetreconciliation<br>topic=%{x}<br>iteration=%{y}<extra></extra>",
         "legendgroup": "egaliteetreconciliation",
         "marker": {
          "color": "#636efa",
          "pattern": {
           "shape": ""
          }
         },
         "name": "egaliteetreconciliation",
         "offsetgroup": "egaliteetreconciliation",
         "orientation": "v",
         "showlegend": true,
         "textposition": "auto",
         "type": "bar",
         "x": [
          "Israël",
          "france",
          "israël",
          "France",
          "français",
          "israélien",
          "politique",
          "état",
          "grand",
          "pays",
          "an",
          "monde",
          "président",
          "américain",
          "guerre",
          "dernier",
          "homme",
          "musulman",
          "année",
          "droit",
          "jour",
          "palestinien",
          "national",
          "antisémitisme",
          "sioniste",
          "affaire",
          "ministre",
          "question",
          "États-Unis",
          "nouveau",
          "soral",
          "gouvernement",
          "trump",
          "histoire",
          "peuple",
          "antisémite",
          "fois",
          "mort",
          "loi",
          "personne",
          "public",
          "force",
          "pari",
          "communauté",
          "média",
          "social",
          "russe",
          "article",
          "petit",
          "européen",
          "chose",
          "groupe",
          "jeune",
          "femme",
          "partie",
          "temps",
          "bon",
          "État",
          "cas",
          "Russie",
          "alain",
          "haine",
          "pouvoir",
          "propos",
          "raison",
          "général",
          "ancien",
          "gauche",
          "europe",
          "mondial",
          "droite",
          "russie",
          "militaire",
          "fin",
          "lieu"
         ],
         "xaxis": "x",
         "y": [
          2332,
          2752,
          2208,
          2568,
          2522,
          1742,
          2354,
          1952,
          2139,
          1468,
          1934,
          2025,
          1582,
          1646,
          1651,
          1166,
          1495,
          579,
          1335,
          1367,
          1224,
          713,
          1159,
          1186,
          1271,
          1124,
          845,
          1116,
          976,
          1006,
          1555,
          834,
          997,
          1016,
          1014,
          905,
          1000,
          1015,
          832,
          725,
          945,
          749,
          767,
          764,
          978,
          880,
          798,
          985,
          1051,
          711,
          986,
          605,
          760,
          814,
          755,
          856,
          996,
          838,
          790,
          738,
          1067,
          766,
          975,
          656,
          712,
          696,
          645,
          897,
          646,
          749,
          851,
          591,
          413,
          696,
          587
         ],
         "yaxis": "y"
        },
        {
         "alignmentgroup": "True",
         "hovertemplate": "site=sputniknews<br>topic=%{x}<br>iteration=%{y}<extra></extra>",
         "legendgroup": "sputniknews",
         "marker": {
          "color": "#EF553B",
          "pattern": {
           "shape": ""
          }
         },
         "name": "sputniknews",
         "offsetgroup": "sputniknews",
         "orientation": "v",
         "showlegend": true,
         "textposition": "auto",
         "type": "bar",
         "x": [
          "Israël",
          "france",
          "israël",
          "France",
          "français",
          "israélien",
          "politique",
          "état",
          "grand",
          "pays",
          "an",
          "monde",
          "président",
          "américain",
          "guerre",
          "dernier",
          "homme",
          "musulman",
          "année",
          "droit",
          "jour",
          "palestinien",
          "national",
          "antisémitisme",
          "sioniste",
          "affaire",
          "ministre",
          "question",
          "États-Unis",
          "nouveau",
          "soral",
          "gouvernement",
          "trump",
          "histoire",
          "peuple",
          "antisémite",
          "fois",
          "mort",
          "loi",
          "personne",
          "public",
          "force",
          "pari",
          "communauté",
          "média",
          "social",
          "russe",
          "article",
          "petit",
          "européen",
          "chose",
          "groupe",
          "jeune",
          "femme",
          "partie",
          "temps",
          "bon",
          "État",
          "cas",
          "Russie",
          "alain",
          "haine",
          "pouvoir",
          "propos",
          "raison",
          "général",
          "ancien",
          "gauche",
          "europe",
          "mondial",
          "droite",
          "russie",
          "militaire",
          "fin",
          "lieu"
         ],
         "xaxis": "x",
         "y": [
          975,
          1058,
          945,
          838,
          678,
          803,
          587,
          694,
          428,
          732,
          505,
          326,
          583,
          348,
          515,
          509,
          317,
          503,
          331,
          364,
          371,
          590,
          311,
          412,
          32,
          294,
          461,
          280,
          237,
          282,
          50,
          367,
          222,
          302,
          247,
          368,
          237,
          233,
          356,
          395,
          239,
          214,
          310,
          340,
          162,
          236,
          187,
          107,
          129,
          228,
          120,
          224,
          200,
          226,
          197,
          159,
          88,
          221,
          204,
          257,
          78,
          243,
          94,
          312,
          203,
          204,
          267,
          106,
          229,
          261,
          129,
          306,
          192,
          220,
          294
         ],
         "yaxis": "y"
        },
        {
         "alignmentgroup": "True",
         "hovertemplate": "site=presstv<br>topic=%{x}<br>iteration=%{y}<extra></extra>",
         "legendgroup": "presstv",
         "marker": {
          "color": "#00cc96",
          "pattern": {
           "shape": ""
          }
         },
         "name": "presstv",
         "offsetgroup": "presstv",
         "orientation": "v",
         "showlegend": true,
         "textposition": "auto",
         "type": "bar",
         "x": [
          "Israël",
          "france",
          "israël",
          "France",
          "français",
          "israélien",
          "politique",
          "état",
          "grand",
          "pays",
          "an",
          "monde",
          "président",
          "américain",
          "guerre",
          "dernier",
          "homme",
          "musulman",
          "année",
          "droit",
          "jour",
          "palestinien",
          "national",
          "antisémitisme",
          "sioniste",
          "affaire",
          "ministre",
          "question",
          "États-Unis",
          "nouveau",
          "soral",
          "gouvernement",
          "trump",
          "histoire",
          "peuple",
          "antisémite",
          "fois",
          "mort",
          "loi",
          "personne",
          "public",
          "force",
          "pari",
          "communauté",
          "média",
          "social",
          "russe",
          "article",
          "petit",
          "européen",
          "chose",
          "groupe",
          "jeune",
          "femme",
          "partie",
          "temps",
          "bon",
          "État",
          "cas",
          "Russie",
          "alain",
          "haine",
          "pouvoir",
          "propos",
          "raison",
          "général",
          "ancien",
          "gauche",
          "europe",
          "mondial",
          "droite",
          "russie",
          "militaire",
          "fin",
          "lieu"
         ],
         "xaxis": "x",
         "y": [
          1481,
          386,
          1353,
          339,
          350,
          1204,
          393,
          418,
          291,
          728,
          224,
          256,
          418,
          627,
          417,
          348,
          96,
          158,
          198,
          163,
          246,
          627,
          192,
          71,
          462,
          226,
          326,
          170,
          419,
          218,
          2,
          301,
          277,
          81,
          181,
          37,
          152,
          79,
          128,
          140,
          88,
          359,
          98,
          109,
          170,
          89,
          316,
          128,
          48,
          130,
          86,
          225,
          90,
          30,
          158,
          123,
          73,
          105,
          133,
          210,
          16,
          43,
          62,
          90,
          145,
          193,
          128,
          16,
          86,
          100,
          55,
          240,
          514,
          150,
          140
         ],
         "yaxis": "y"
        },
        {
         "alignmentgroup": "True",
         "hovertemplate": "site=fdesouche<br>topic=%{x}<br>iteration=%{y}<extra></extra>",
         "legendgroup": "fdesouche",
         "marker": {
          "color": "#ab63fa",
          "pattern": {
           "shape": ""
          }
         },
         "name": "fdesouche",
         "offsetgroup": "fdesouche",
         "orientation": "v",
         "showlegend": true,
         "textposition": "auto",
         "type": "bar",
         "x": [
          "Israël",
          "france",
          "israël",
          "France",
          "français",
          "israélien",
          "politique",
          "état",
          "grand",
          "pays",
          "an",
          "monde",
          "président",
          "américain",
          "guerre",
          "dernier",
          "homme",
          "musulman",
          "année",
          "droit",
          "jour",
          "palestinien",
          "national",
          "antisémitisme",
          "sioniste",
          "affaire",
          "ministre",
          "question",
          "États-Unis",
          "nouveau",
          "soral",
          "gouvernement",
          "trump",
          "histoire",
          "peuple",
          "antisémite",
          "fois",
          "mort",
          "loi",
          "personne",
          "public",
          "force",
          "pari",
          "communauté",
          "média",
          "social",
          "russe",
          "article",
          "petit",
          "européen",
          "chose",
          "groupe",
          "jeune",
          "femme",
          "partie",
          "temps",
          "bon",
          "État",
          "cas",
          "Russie",
          "alain",
          "haine",
          "pouvoir",
          "propos",
          "raison",
          "général",
          "ancien",
          "gauche",
          "europe",
          "mondial",
          "droite",
          "russie",
          "militaire",
          "fin",
          "lieu"
         ],
         "xaxis": "x",
         "y": [
          75,
          447,
          113,
          290,
          292,
          70,
          356,
          162,
          286,
          173,
          352,
          203,
          220,
          124,
          79,
          205,
          267,
          840,
          204,
          146,
          164,
          60,
          196,
          189,
          14,
          88,
          78,
          135,
          46,
          140,
          4,
          97,
          31,
          122,
          69,
          183,
          94,
          128,
          130,
          161,
          134,
          81,
          218,
          164,
          63,
          146,
          7,
          78,
          62,
          220,
          82,
          184,
          187,
          166,
          123,
          91,
          61,
          48,
          80,
          2,
          39,
          147,
          54,
          124,
          114,
          80,
          125,
          143,
          200,
          34,
          108,
          5,
          20,
          68,
          103
         ],
         "yaxis": "y"
        }
       ],
       "layout": {
        "barmode": "relative",
        "legend": {
         "title": {
          "text": "site"
         },
         "tracegroupgap": 0
        },
        "template": {
         "data": {
          "bar": [
           {
            "error_x": {
             "color": "#2a3f5f"
            },
            "error_y": {
             "color": "#2a3f5f"
            },
            "marker": {
             "line": {
              "color": "#E5ECF6",
              "width": 0.5
             },
             "pattern": {
              "fillmode": "overlay",
              "size": 10,
              "solidity": 0.2
             }
            },
            "type": "bar"
           }
          ],
          "barpolar": [
           {
            "marker": {
             "line": {
              "color": "#E5ECF6",
              "width": 0.5
             },
             "pattern": {
              "fillmode": "overlay",
              "size": 10,
              "solidity": 0.2
             }
            },
            "type": "barpolar"
           }
          ],
          "carpet": [
           {
            "aaxis": {
             "endlinecolor": "#2a3f5f",
             "gridcolor": "white",
             "linecolor": "white",
             "minorgridcolor": "white",
             "startlinecolor": "#2a3f5f"
            },
            "baxis": {
             "endlinecolor": "#2a3f5f",
             "gridcolor": "white",
             "linecolor": "white",
             "minorgridcolor": "white",
             "startlinecolor": "#2a3f5f"
            },
            "type": "carpet"
           }
          ],
          "choropleth": [
           {
            "colorbar": {
             "outlinewidth": 0,
             "ticks": ""
            },
            "type": "choropleth"
           }
          ],
          "contour": [
           {
            "colorbar": {
             "outlinewidth": 0,
             "ticks": ""
            },
            "colorscale": [
             [
              0,
              "#0d0887"
             ],
             [
              0.1111111111111111,
              "#46039f"
             ],
             [
              0.2222222222222222,
              "#7201a8"
             ],
             [
              0.3333333333333333,
              "#9c179e"
             ],
             [
              0.4444444444444444,
              "#bd3786"
             ],
             [
              0.5555555555555556,
              "#d8576b"
             ],
             [
              0.6666666666666666,
              "#ed7953"
             ],
             [
              0.7777777777777778,
              "#fb9f3a"
             ],
             [
              0.8888888888888888,
              "#fdca26"
             ],
             [
              1,
              "#f0f921"
             ]
            ],
            "type": "contour"
           }
          ],
          "contourcarpet": [
           {
            "colorbar": {
             "outlinewidth": 0,
             "ticks": ""
            },
            "type": "contourcarpet"
           }
          ],
          "heatmap": [
           {
            "colorbar": {
             "outlinewidth": 0,
             "ticks": ""
            },
            "colorscale": [
             [
              0,
              "#0d0887"
             ],
             [
              0.1111111111111111,
              "#46039f"
             ],
             [
              0.2222222222222222,
              "#7201a8"
             ],
             [
              0.3333333333333333,
              "#9c179e"
             ],
             [
              0.4444444444444444,
              "#bd3786"
             ],
             [
              0.5555555555555556,
              "#d8576b"
             ],
             [
              0.6666666666666666,
              "#ed7953"
             ],
             [
              0.7777777777777778,
              "#fb9f3a"
             ],
             [
              0.8888888888888888,
              "#fdca26"
             ],
             [
              1,
              "#f0f921"
             ]
            ],
            "type": "heatmap"
           }
          ],
          "heatmapgl": [
           {
            "colorbar": {
             "outlinewidth": 0,
             "ticks": ""
            },
            "colorscale": [
             [
              0,
              "#0d0887"
             ],
             [
              0.1111111111111111,
              "#46039f"
             ],
             [
              0.2222222222222222,
              "#7201a8"
             ],
             [
              0.3333333333333333,
              "#9c179e"
             ],
             [
              0.4444444444444444,
              "#bd3786"
             ],
             [
              0.5555555555555556,
              "#d8576b"
             ],
             [
              0.6666666666666666,
              "#ed7953"
             ],
             [
              0.7777777777777778,
              "#fb9f3a"
             ],
             [
              0.8888888888888888,
              "#fdca26"
             ],
             [
              1,
              "#f0f921"
             ]
            ],
            "type": "heatmapgl"
           }
          ],
          "histogram": [
           {
            "marker": {
             "pattern": {
              "fillmode": "overlay",
              "size": 10,
              "solidity": 0.2
             }
            },
            "type": "histogram"
           }
          ],
          "histogram2d": [
           {
            "colorbar": {
             "outlinewidth": 0,
             "ticks": ""
            },
            "colorscale": [
             [
              0,
              "#0d0887"
             ],
             [
              0.1111111111111111,
              "#46039f"
             ],
             [
              0.2222222222222222,
              "#7201a8"
             ],
             [
              0.3333333333333333,
              "#9c179e"
             ],
             [
              0.4444444444444444,
              "#bd3786"
             ],
             [
              0.5555555555555556,
              "#d8576b"
             ],
             [
              0.6666666666666666,
              "#ed7953"
             ],
             [
              0.7777777777777778,
              "#fb9f3a"
             ],
             [
              0.8888888888888888,
              "#fdca26"
             ],
             [
              1,
              "#f0f921"
             ]
            ],
            "type": "histogram2d"
           }
          ],
          "histogram2dcontour": [
           {
            "colorbar": {
             "outlinewidth": 0,
             "ticks": ""
            },
            "colorscale": [
             [
              0,
              "#0d0887"
             ],
             [
              0.1111111111111111,
              "#46039f"
             ],
             [
              0.2222222222222222,
              "#7201a8"
             ],
             [
              0.3333333333333333,
              "#9c179e"
             ],
             [
              0.4444444444444444,
              "#bd3786"
             ],
             [
              0.5555555555555556,
              "#d8576b"
             ],
             [
              0.6666666666666666,
              "#ed7953"
             ],
             [
              0.7777777777777778,
              "#fb9f3a"
             ],
             [
              0.8888888888888888,
              "#fdca26"
             ],
             [
              1,
              "#f0f921"
             ]
            ],
            "type": "histogram2dcontour"
           }
          ],
          "mesh3d": [
           {
            "colorbar": {
             "outlinewidth": 0,
             "ticks": ""
            },
            "type": "mesh3d"
           }
          ],
          "parcoords": [
           {
            "line": {
             "colorbar": {
              "outlinewidth": 0,
              "ticks": ""
             }
            },
            "type": "parcoords"
           }
          ],
          "pie": [
           {
            "automargin": true,
            "type": "pie"
           }
          ],
          "scatter": [
           {
            "fillpattern": {
             "fillmode": "overlay",
             "size": 10,
             "solidity": 0.2
            },
            "type": "scatter"
           }
          ],
          "scatter3d": [
           {
            "line": {
             "colorbar": {
              "outlinewidth": 0,
              "ticks": ""
             }
            },
            "marker": {
             "colorbar": {
              "outlinewidth": 0,
              "ticks": ""
             }
            },
            "type": "scatter3d"
           }
          ],
          "scattercarpet": [
           {
            "marker": {
             "colorbar": {
              "outlinewidth": 0,
              "ticks": ""
             }
            },
            "type": "scattercarpet"
           }
          ],
          "scattergeo": [
           {
            "marker": {
             "colorbar": {
              "outlinewidth": 0,
              "ticks": ""
             }
            },
            "type": "scattergeo"
           }
          ],
          "scattergl": [
           {
            "marker": {
             "colorbar": {
              "outlinewidth": 0,
              "ticks": ""
             }
            },
            "type": "scattergl"
           }
          ],
          "scattermapbox": [
           {
            "marker": {
             "colorbar": {
              "outlinewidth": 0,
              "ticks": ""
             }
            },
            "type": "scattermapbox"
           }
          ],
          "scatterpolar": [
           {
            "marker": {
             "colorbar": {
              "outlinewidth": 0,
              "ticks": ""
             }
            },
            "type": "scatterpolar"
           }
          ],
          "scatterpolargl": [
           {
            "marker": {
             "colorbar": {
              "outlinewidth": 0,
              "ticks": ""
             }
            },
            "type": "scatterpolargl"
           }
          ],
          "scatterternary": [
           {
            "marker": {
             "colorbar": {
              "outlinewidth": 0,
              "ticks": ""
             }
            },
            "type": "scatterternary"
           }
          ],
          "surface": [
           {
            "colorbar": {
             "outlinewidth": 0,
             "ticks": ""
            },
            "colorscale": [
             [
              0,
              "#0d0887"
             ],
             [
              0.1111111111111111,
              "#46039f"
             ],
             [
              0.2222222222222222,
              "#7201a8"
             ],
             [
              0.3333333333333333,
              "#9c179e"
             ],
             [
              0.4444444444444444,
              "#bd3786"
             ],
             [
              0.5555555555555556,
              "#d8576b"
             ],
             [
              0.6666666666666666,
              "#ed7953"
             ],
             [
              0.7777777777777778,
              "#fb9f3a"
             ],
             [
              0.8888888888888888,
              "#fdca26"
             ],
             [
              1,
              "#f0f921"
             ]
            ],
            "type": "surface"
           }
          ],
          "table": [
           {
            "cells": {
             "fill": {
              "color": "#EBF0F8"
             },
             "line": {
              "color": "white"
             }
            },
            "header": {
             "fill": {
              "color": "#C8D4E3"
             },
             "line": {
              "color": "white"
             }
            },
            "type": "table"
           }
          ]
         },
         "layout": {
          "annotationdefaults": {
           "arrowcolor": "#2a3f5f",
           "arrowhead": 0,
           "arrowwidth": 1
          },
          "autotypenumbers": "strict",
          "coloraxis": {
           "colorbar": {
            "outlinewidth": 0,
            "ticks": ""
           }
          },
          "colorscale": {
           "diverging": [
            [
             0,
             "#8e0152"
            ],
            [
             0.1,
             "#c51b7d"
            ],
            [
             0.2,
             "#de77ae"
            ],
            [
             0.3,
             "#f1b6da"
            ],
            [
             0.4,
             "#fde0ef"
            ],
            [
             0.5,
             "#f7f7f7"
            ],
            [
             0.6,
             "#e6f5d0"
            ],
            [
             0.7,
             "#b8e186"
            ],
            [
             0.8,
             "#7fbc41"
            ],
            [
             0.9,
             "#4d9221"
            ],
            [
             1,
             "#276419"
            ]
           ],
           "sequential": [
            [
             0,
             "#0d0887"
            ],
            [
             0.1111111111111111,
             "#46039f"
            ],
            [
             0.2222222222222222,
             "#7201a8"
            ],
            [
             0.3333333333333333,
             "#9c179e"
            ],
            [
             0.4444444444444444,
             "#bd3786"
            ],
            [
             0.5555555555555556,
             "#d8576b"
            ],
            [
             0.6666666666666666,
             "#ed7953"
            ],
            [
             0.7777777777777778,
             "#fb9f3a"
            ],
            [
             0.8888888888888888,
             "#fdca26"
            ],
            [
             1,
             "#f0f921"
            ]
           ],
           "sequentialminus": [
            [
             0,
             "#0d0887"
            ],
            [
             0.1111111111111111,
             "#46039f"
            ],
            [
             0.2222222222222222,
             "#7201a8"
            ],
            [
             0.3333333333333333,
             "#9c179e"
            ],
            [
             0.4444444444444444,
             "#bd3786"
            ],
            [
             0.5555555555555556,
             "#d8576b"
            ],
            [
             0.6666666666666666,
             "#ed7953"
            ],
            [
             0.7777777777777778,
             "#fb9f3a"
            ],
            [
             0.8888888888888888,
             "#fdca26"
            ],
            [
             1,
             "#f0f921"
            ]
           ]
          },
          "colorway": [
           "#636efa",
           "#EF553B",
           "#00cc96",
           "#ab63fa",
           "#FFA15A",
           "#19d3f3",
           "#FF6692",
           "#B6E880",
           "#FF97FF",
           "#FECB52"
          ],
          "font": {
           "color": "#2a3f5f"
          },
          "geo": {
           "bgcolor": "white",
           "lakecolor": "white",
           "landcolor": "#E5ECF6",
           "showlakes": true,
           "showland": true,
           "subunitcolor": "white"
          },
          "hoverlabel": {
           "align": "left"
          },
          "hovermode": "closest",
          "mapbox": {
           "style": "light"
          },
          "paper_bgcolor": "white",
          "plot_bgcolor": "#E5ECF6",
          "polar": {
           "angularaxis": {
            "gridcolor": "white",
            "linecolor": "white",
            "ticks": ""
           },
           "bgcolor": "#E5ECF6",
           "radialaxis": {
            "gridcolor": "white",
            "linecolor": "white",
            "ticks": ""
           }
          },
          "scene": {
           "xaxis": {
            "backgroundcolor": "#E5ECF6",
            "gridcolor": "white",
            "gridwidth": 2,
            "linecolor": "white",
            "showbackground": true,
            "ticks": "",
            "zerolinecolor": "white"
           },
           "yaxis": {
            "backgroundcolor": "#E5ECF6",
            "gridcolor": "white",
            "gridwidth": 2,
            "linecolor": "white",
            "showbackground": true,
            "ticks": "",
            "zerolinecolor": "white"
           },
           "zaxis": {
            "backgroundcolor": "#E5ECF6",
            "gridcolor": "white",
            "gridwidth": 2,
            "linecolor": "white",
            "showbackground": true,
            "ticks": "",
            "zerolinecolor": "white"
           }
          },
          "shapedefaults": {
           "line": {
            "color": "#2a3f5f"
           }
          },
          "ternary": {
           "aaxis": {
            "gridcolor": "white",
            "linecolor": "white",
            "ticks": ""
           },
           "baxis": {
            "gridcolor": "white",
            "linecolor": "white",
            "ticks": ""
           },
           "bgcolor": "#E5ECF6",
           "caxis": {
            "gridcolor": "white",
            "linecolor": "white",
            "ticks": ""
           }
          },
          "title": {
           "x": 0.05
          },
          "xaxis": {
           "automargin": true,
           "gridcolor": "white",
           "linecolor": "white",
           "ticks": "",
           "title": {
            "standoff": 15
           },
           "zerolinecolor": "white",
           "zerolinewidth": 2
          },
          "yaxis": {
           "automargin": true,
           "gridcolor": "white",
           "linecolor": "white",
           "ticks": "",
           "title": {
            "standoff": 15
           },
           "zerolinecolor": "white",
           "zerolinewidth": 2
          }
         }
        },
        "title": {
         "text": "Linked topics : juif"
        },
        "xaxis": {
         "anchor": "y",
         "categoryarray": [
          "Israël",
          "Israël",
          "Israël",
          "Israël",
          "france",
          "france",
          "france",
          "france",
          "israël",
          "israël",
          "israël",
          "israël",
          "France",
          "France",
          "France",
          "France",
          "français",
          "français",
          "français",
          "français",
          "israélien",
          "israélien",
          "israélien",
          "israélien",
          "politique",
          "politique",
          "politique",
          "politique",
          "état",
          "état",
          "état",
          "état",
          "grand",
          "grand",
          "grand",
          "grand",
          "pays",
          "pays",
          "pays",
          "pays",
          "an",
          "an",
          "an",
          "an",
          "monde",
          "monde",
          "monde",
          "monde",
          "président",
          "président",
          "président",
          "président",
          "américain",
          "américain",
          "américain",
          "américain",
          "guerre",
          "guerre",
          "guerre",
          "guerre",
          "dernier",
          "dernier",
          "dernier",
          "dernier",
          "homme",
          "homme",
          "homme",
          "homme",
          "musulman",
          "musulman",
          "musulman",
          "musulman",
          "année",
          "année",
          "année",
          "année",
          "droit",
          "droit",
          "droit",
          "droit",
          "jour",
          "jour",
          "jour",
          "jour",
          "palestinien",
          "palestinien",
          "palestinien",
          "palestinien",
          "national",
          "national",
          "national",
          "national",
          "antisémitisme",
          "antisémitisme",
          "antisémitisme",
          "antisémitisme",
          "sioniste",
          "sioniste",
          "sioniste",
          "sioniste",
          "affaire",
          "affaire",
          "affaire",
          "affaire",
          "ministre",
          "ministre",
          "ministre",
          "ministre",
          "question",
          "question",
          "question",
          "question",
          "États-Unis",
          "États-Unis",
          "États-Unis",
          "États-Unis",
          "nouveau",
          "nouveau",
          "nouveau",
          "nouveau",
          "soral",
          "soral",
          "soral",
          "soral",
          "gouvernement",
          "gouvernement",
          "gouvernement",
          "gouvernement",
          "trump",
          "trump",
          "trump",
          "trump",
          "histoire",
          "histoire",
          "histoire",
          "histoire",
          "peuple",
          "peuple",
          "peuple",
          "peuple",
          "antisémite",
          "antisémite",
          "antisémite",
          "antisémite",
          "fois",
          "fois",
          "fois",
          "fois",
          "mort",
          "mort",
          "mort",
          "mort",
          "loi",
          "loi",
          "loi",
          "loi",
          "personne",
          "personne",
          "personne",
          "personne",
          "public",
          "public",
          "public",
          "public",
          "force",
          "force",
          "force",
          "force",
          "pari",
          "pari",
          "pari",
          "pari",
          "communauté",
          "communauté",
          "communauté",
          "communauté",
          "média",
          "média",
          "média",
          "média",
          "social",
          "social",
          "social",
          "social",
          "russe",
          "russe",
          "russe",
          "russe",
          "article",
          "article",
          "article",
          "article",
          "petit",
          "petit",
          "petit",
          "petit",
          "européen",
          "européen",
          "européen",
          "européen",
          "chose",
          "chose",
          "chose",
          "chose",
          "groupe",
          "groupe",
          "groupe",
          "groupe",
          "jeune",
          "jeune",
          "jeune",
          "jeune",
          "femme",
          "femme",
          "femme",
          "femme",
          "partie",
          "partie",
          "partie",
          "partie",
          "temps",
          "temps",
          "temps",
          "temps",
          "bon",
          "bon",
          "bon",
          "bon",
          "État",
          "État",
          "État",
          "État",
          "cas",
          "cas",
          "cas",
          "cas",
          "Russie",
          "Russie",
          "Russie",
          "Russie",
          "alain",
          "alain",
          "alain",
          "alain",
          "haine",
          "haine",
          "haine",
          "haine",
          "pouvoir",
          "pouvoir",
          "pouvoir",
          "pouvoir",
          "propos",
          "propos",
          "propos",
          "propos",
          "raison",
          "raison",
          "raison",
          "raison",
          "général",
          "général",
          "général",
          "général",
          "ancien",
          "ancien",
          "ancien",
          "ancien",
          "gauche",
          "gauche",
          "gauche",
          "gauche",
          "europe",
          "europe",
          "europe",
          "europe",
          "mondial",
          "mondial",
          "mondial",
          "mondial",
          "droite",
          "droite",
          "droite",
          "droite",
          "russie",
          "russie",
          "russie",
          "russie",
          "militaire",
          "militaire",
          "militaire",
          "militaire",
          "fin",
          "fin",
          "fin",
          "fin",
          "lieu",
          "lieu",
          "lieu",
          "lieu"
         ],
         "categoryorder": "array",
         "domain": [
          0,
          1
         ],
         "title": {
          "text": "topic"
         }
        },
        "yaxis": {
         "anchor": "x",
         "domain": [
          0,
          1
         ],
         "title": {
          "text": "iteration"
         }
        }
       }
      }
     },
     "metadata": {},
     "output_type": "display_data"
    },
    {
     "data": {
      "application/vnd.plotly.v1+json": {
       "config": {
        "plotlyServerURL": "https://plot.ly"
       },
       "data": [
        {
         "alignmentgroup": "True",
         "hovertemplate": "site=egaliteetreconciliation<br>topic=%{x}<br>iteration=%{y}<extra></extra>",
         "legendgroup": "egaliteetreconciliation",
         "marker": {
          "color": "#636efa",
          "pattern": {
           "shape": ""
          }
         },
         "name": "egaliteetreconciliation",
         "offsetgroup": "egaliteetreconciliation",
         "orientation": "v",
         "showlegend": true,
         "textposition": "auto",
         "type": "bar",
         "x": [
          "pays",
          "américain",
          "Israël",
          "israël",
          "militaire",
          "iran",
          "israélien",
          "Iran",
          "États-Unis",
          "force",
          "état",
          "guerre",
          "al",
          "politique",
          "armée",
          "président",
          "syrie",
          "Syrie",
          "dernier",
          "syrien",
          "région",
          "france",
          "iranien",
          "gouvernement",
          "arabie",
          "accord",
          "saoudien",
          "ministre",
          "grand",
          "français",
          "russe",
          "missile",
          "émirat",
          "France",
          "Arabie saoudite",
          "palestinien",
          "russie",
          "nouveau",
          "étranger",
          "jour",
          "base",
          "monde",
          "attaque",
          "an",
          "sécurité",
          "affaire",
          "relation",
          "résistance",
          "national",
          "international",
          "général",
          "Russie",
          "algérie",
          "yémen",
          "chef",
          "trump",
          "source",
          "année",
          "terroriste",
          "drone",
          "Yémen",
          "régime",
          "question",
          "opération",
          "algérien",
          "maroc",
          "Algérie",
          "turquie",
          "défense",
          "groupe",
          "irak",
          "sioniste",
          "sud",
          "golfe",
          "arme"
         ],
         "xaxis": "x",
         "y": [
          1160,
          933,
          1580,
          1405,
          528,
          517,
          1096,
          478,
          807,
          507,
          1272,
          1206,
          248,
          1163,
          451,
          1025,
          642,
          655,
          537,
          533,
          261,
          1068,
          276,
          575,
          229,
          347,
          158,
          495,
          908,
          1019,
          455,
          112,
          154,
          1020,
          177,
          584,
          455,
          523,
          348,
          476,
          185,
          893,
          222,
          779,
          294,
          385,
          202,
          134,
          559,
          355,
          390,
          490,
          134,
          116,
          271,
          589,
          121,
          632,
          251,
          98,
          87,
          197,
          458,
          268,
          109,
          64,
          99,
          254,
          226,
          274,
          174,
          492,
          128,
          93,
          248
         ],
         "yaxis": "y"
        },
        {
         "alignmentgroup": "True",
         "hovertemplate": "site=sputniknews<br>topic=%{x}<br>iteration=%{y}<extra></extra>",
         "legendgroup": "sputniknews",
         "marker": {
          "color": "#EF553B",
          "pattern": {
           "shape": ""
          }
         },
         "name": "sputniknews",
         "offsetgroup": "sputniknews",
         "orientation": "v",
         "showlegend": true,
         "textposition": "auto",
         "type": "bar",
         "x": [
          "pays",
          "américain",
          "Israël",
          "israël",
          "militaire",
          "iran",
          "israélien",
          "Iran",
          "États-Unis",
          "force",
          "état",
          "guerre",
          "al",
          "politique",
          "armée",
          "président",
          "syrie",
          "Syrie",
          "dernier",
          "syrien",
          "région",
          "france",
          "iranien",
          "gouvernement",
          "arabie",
          "accord",
          "saoudien",
          "ministre",
          "grand",
          "français",
          "russe",
          "missile",
          "émirat",
          "France",
          "Arabie saoudite",
          "palestinien",
          "russie",
          "nouveau",
          "étranger",
          "jour",
          "base",
          "monde",
          "attaque",
          "an",
          "sécurité",
          "affaire",
          "relation",
          "résistance",
          "national",
          "international",
          "général",
          "Russie",
          "algérie",
          "yémen",
          "chef",
          "trump",
          "source",
          "année",
          "terroriste",
          "drone",
          "Yémen",
          "régime",
          "question",
          "opération",
          "algérien",
          "maroc",
          "Algérie",
          "turquie",
          "défense",
          "groupe",
          "irak",
          "sioniste",
          "sud",
          "golfe",
          "arme"
         ],
         "xaxis": "x",
         "y": [
          6536,
          2377,
          2110,
          2056,
          1840,
          1652,
          1427,
          1528,
          1615,
          1419,
          2967,
          1373,
          935,
          2703,
          1540,
          2863,
          1593,
          1568,
          1972,
          1378,
          1507,
          2537,
          1042,
          1779,
          1378,
          1974,
          859,
          2026,
          1332,
          1822,
          1613,
          288,
          1627,
          1895,
          1117,
          1228,
          1556,
          1316,
          1692,
          1289,
          1099,
          1356,
          819,
          1410,
          1319,
          1500,
          1696,
          104,
          1565,
          1735,
          1025,
          1163,
          2045,
          426,
          1573,
          896,
          682,
          1209,
          985,
          369,
          341,
          300,
          1256,
          726,
          1852,
          2052,
          1684,
          1253,
          753,
          918,
          521,
          44,
          435,
          792,
          717
         ],
         "yaxis": "y"
        },
        {
         "alignmentgroup": "True",
         "hovertemplate": "site=presstv<br>topic=%{x}<br>iteration=%{y}<extra></extra>",
         "legendgroup": "presstv",
         "marker": {
          "color": "#00cc96",
          "pattern": {
           "shape": ""
          }
         },
         "name": "presstv",
         "offsetgroup": "presstv",
         "orientation": "v",
         "showlegend": true,
         "textposition": "auto",
         "type": "bar",
         "x": [
          "pays",
          "américain",
          "Israël",
          "israël",
          "militaire",
          "iran",
          "israélien",
          "Iran",
          "États-Unis",
          "force",
          "état",
          "guerre",
          "al",
          "politique",
          "armée",
          "président",
          "syrie",
          "Syrie",
          "dernier",
          "syrien",
          "région",
          "france",
          "iranien",
          "gouvernement",
          "arabie",
          "accord",
          "saoudien",
          "ministre",
          "grand",
          "français",
          "russe",
          "missile",
          "émirat",
          "France",
          "Arabie saoudite",
          "palestinien",
          "russie",
          "nouveau",
          "étranger",
          "jour",
          "base",
          "monde",
          "attaque",
          "an",
          "sécurité",
          "affaire",
          "relation",
          "résistance",
          "national",
          "international",
          "général",
          "Russie",
          "algérie",
          "yémen",
          "chef",
          "trump",
          "source",
          "année",
          "terroriste",
          "drone",
          "Yémen",
          "régime",
          "question",
          "opération",
          "algérien",
          "maroc",
          "Algérie",
          "turquie",
          "défense",
          "groupe",
          "irak",
          "sioniste",
          "sud",
          "golfe",
          "arme"
         ],
         "xaxis": "x",
         "y": [
          7189,
          7629,
          6883,
          6730,
          6900,
          6817,
          6226,
          6224,
          5466,
          5691,
          3154,
          4796,
          6040,
          3077,
          5122,
          3119,
          4670,
          4434,
          3171,
          3872,
          3968,
          1450,
          4149,
          2780,
          3624,
          2834,
          4158,
          2480,
          2411,
          1393,
          2686,
          4281,
          2815,
          1153,
          3193,
          2631,
          2291,
          2188,
          2017,
          2172,
          2810,
          1535,
          2882,
          1300,
          2296,
          1957,
          1984,
          3607,
          1520,
          1619,
          2237,
          2048,
          1419,
          3157,
          1754,
          2101,
          2665,
          1400,
          2088,
          3023,
          2966,
          2730,
          1322,
          2135,
          1012,
          931,
          1193,
          1498,
          2017,
          1616,
          2297,
          2408,
          2299,
          2000,
          1760
         ],
         "yaxis": "y"
        },
        {
         "alignmentgroup": "True",
         "hovertemplate": "site=fdesouche<br>topic=%{x}<br>iteration=%{y}<extra></extra>",
         "legendgroup": "fdesouche",
         "marker": {
          "color": "#ab63fa",
          "pattern": {
           "shape": ""
          }
         },
         "name": "fdesouche",
         "offsetgroup": "fdesouche",
         "orientation": "v",
         "showlegend": true,
         "textposition": "auto",
         "type": "bar",
         "x": [
          "pays",
          "américain",
          "Israël",
          "israël",
          "militaire",
          "iran",
          "israélien",
          "Iran",
          "États-Unis",
          "force",
          "état",
          "guerre",
          "al",
          "politique",
          "armée",
          "président",
          "syrie",
          "Syrie",
          "dernier",
          "syrien",
          "région",
          "france",
          "iranien",
          "gouvernement",
          "arabie",
          "accord",
          "saoudien",
          "ministre",
          "grand",
          "français",
          "russe",
          "missile",
          "émirat",
          "France",
          "Arabie saoudite",
          "palestinien",
          "russie",
          "nouveau",
          "étranger",
          "jour",
          "base",
          "monde",
          "attaque",
          "an",
          "sécurité",
          "affaire",
          "relation",
          "résistance",
          "national",
          "international",
          "général",
          "Russie",
          "algérie",
          "yémen",
          "chef",
          "trump",
          "source",
          "année",
          "terroriste",
          "drone",
          "Yémen",
          "régime",
          "question",
          "opération",
          "algérien",
          "maroc",
          "Algérie",
          "turquie",
          "défense",
          "groupe",
          "irak",
          "sioniste",
          "sud",
          "golfe",
          "arme"
         ],
         "xaxis": "x",
         "y": [
          458,
          145,
          38,
          52,
          84,
          32,
          53,
          17,
          76,
          153,
          258,
          116,
          200,
          383,
          94,
          196,
          78,
          82,
          283,
          59,
          94,
          650,
          12,
          167,
          34,
          43,
          19,
          132,
          268,
          572,
          23,
          4,
          51,
          487,
          12,
          47,
          28,
          198,
          157,
          235,
          50,
          330,
          173,
          604,
          149,
          135,
          81,
          18,
          161,
          90,
          121,
          24,
          119,
          17,
          94,
          11,
          103,
          261,
          170,
          4,
          11,
          27,
          180,
          60,
          142,
          65,
          108,
          73,
          71,
          247,
          54,
          1,
          65,
          13,
          125
         ],
         "yaxis": "y"
        }
       ],
       "layout": {
        "barmode": "relative",
        "legend": {
         "title": {
          "text": "site"
         },
         "tracegroupgap": 0
        },
        "template": {
         "data": {
          "bar": [
           {
            "error_x": {
             "color": "#2a3f5f"
            },
            "error_y": {
             "color": "#2a3f5f"
            },
            "marker": {
             "line": {
              "color": "#E5ECF6",
              "width": 0.5
             },
             "pattern": {
              "fillmode": "overlay",
              "size": 10,
              "solidity": 0.2
             }
            },
            "type": "bar"
           }
          ],
          "barpolar": [
           {
            "marker": {
             "line": {
              "color": "#E5ECF6",
              "width": 0.5
             },
             "pattern": {
              "fillmode": "overlay",
              "size": 10,
              "solidity": 0.2
             }
            },
            "type": "barpolar"
           }
          ],
          "carpet": [
           {
            "aaxis": {
             "endlinecolor": "#2a3f5f",
             "gridcolor": "white",
             "linecolor": "white",
             "minorgridcolor": "white",
             "startlinecolor": "#2a3f5f"
            },
            "baxis": {
             "endlinecolor": "#2a3f5f",
             "gridcolor": "white",
             "linecolor": "white",
             "minorgridcolor": "white",
             "startlinecolor": "#2a3f5f"
            },
            "type": "carpet"
           }
          ],
          "choropleth": [
           {
            "colorbar": {
             "outlinewidth": 0,
             "ticks": ""
            },
            "type": "choropleth"
           }
          ],
          "contour": [
           {
            "colorbar": {
             "outlinewidth": 0,
             "ticks": ""
            },
            "colorscale": [
             [
              0,
              "#0d0887"
             ],
             [
              0.1111111111111111,
              "#46039f"
             ],
             [
              0.2222222222222222,
              "#7201a8"
             ],
             [
              0.3333333333333333,
              "#9c179e"
             ],
             [
              0.4444444444444444,
              "#bd3786"
             ],
             [
              0.5555555555555556,
              "#d8576b"
             ],
             [
              0.6666666666666666,
              "#ed7953"
             ],
             [
              0.7777777777777778,
              "#fb9f3a"
             ],
             [
              0.8888888888888888,
              "#fdca26"
             ],
             [
              1,
              "#f0f921"
             ]
            ],
            "type": "contour"
           }
          ],
          "contourcarpet": [
           {
            "colorbar": {
             "outlinewidth": 0,
             "ticks": ""
            },
            "type": "contourcarpet"
           }
          ],
          "heatmap": [
           {
            "colorbar": {
             "outlinewidth": 0,
             "ticks": ""
            },
            "colorscale": [
             [
              0,
              "#0d0887"
             ],
             [
              0.1111111111111111,
              "#46039f"
             ],
             [
              0.2222222222222222,
              "#7201a8"
             ],
             [
              0.3333333333333333,
              "#9c179e"
             ],
             [
              0.4444444444444444,
              "#bd3786"
             ],
             [
              0.5555555555555556,
              "#d8576b"
             ],
             [
              0.6666666666666666,
              "#ed7953"
             ],
             [
              0.7777777777777778,
              "#fb9f3a"
             ],
             [
              0.8888888888888888,
              "#fdca26"
             ],
             [
              1,
              "#f0f921"
             ]
            ],
            "type": "heatmap"
           }
          ],
          "heatmapgl": [
           {
            "colorbar": {
             "outlinewidth": 0,
             "ticks": ""
            },
            "colorscale": [
             [
              0,
              "#0d0887"
             ],
             [
              0.1111111111111111,
              "#46039f"
             ],
             [
              0.2222222222222222,
              "#7201a8"
             ],
             [
              0.3333333333333333,
              "#9c179e"
             ],
             [
              0.4444444444444444,
              "#bd3786"
             ],
             [
              0.5555555555555556,
              "#d8576b"
             ],
             [
              0.6666666666666666,
              "#ed7953"
             ],
             [
              0.7777777777777778,
              "#fb9f3a"
             ],
             [
              0.8888888888888888,
              "#fdca26"
             ],
             [
              1,
              "#f0f921"
             ]
            ],
            "type": "heatmapgl"
           }
          ],
          "histogram": [
           {
            "marker": {
             "pattern": {
              "fillmode": "overlay",
              "size": 10,
              "solidity": 0.2
             }
            },
            "type": "histogram"
           }
          ],
          "histogram2d": [
           {
            "colorbar": {
             "outlinewidth": 0,
             "ticks": ""
            },
            "colorscale": [
             [
              0,
              "#0d0887"
             ],
             [
              0.1111111111111111,
              "#46039f"
             ],
             [
              0.2222222222222222,
              "#7201a8"
             ],
             [
              0.3333333333333333,
              "#9c179e"
             ],
             [
              0.4444444444444444,
              "#bd3786"
             ],
             [
              0.5555555555555556,
              "#d8576b"
             ],
             [
              0.6666666666666666,
              "#ed7953"
             ],
             [
              0.7777777777777778,
              "#fb9f3a"
             ],
             [
              0.8888888888888888,
              "#fdca26"
             ],
             [
              1,
              "#f0f921"
             ]
            ],
            "type": "histogram2d"
           }
          ],
          "histogram2dcontour": [
           {
            "colorbar": {
             "outlinewidth": 0,
             "ticks": ""
            },
            "colorscale": [
             [
              0,
              "#0d0887"
             ],
             [
              0.1111111111111111,
              "#46039f"
             ],
             [
              0.2222222222222222,
              "#7201a8"
             ],
             [
              0.3333333333333333,
              "#9c179e"
             ],
             [
              0.4444444444444444,
              "#bd3786"
             ],
             [
              0.5555555555555556,
              "#d8576b"
             ],
             [
              0.6666666666666666,
              "#ed7953"
             ],
             [
              0.7777777777777778,
              "#fb9f3a"
             ],
             [
              0.8888888888888888,
              "#fdca26"
             ],
             [
              1,
              "#f0f921"
             ]
            ],
            "type": "histogram2dcontour"
           }
          ],
          "mesh3d": [
           {
            "colorbar": {
             "outlinewidth": 0,
             "ticks": ""
            },
            "type": "mesh3d"
           }
          ],
          "parcoords": [
           {
            "line": {
             "colorbar": {
              "outlinewidth": 0,
              "ticks": ""
             }
            },
            "type": "parcoords"
           }
          ],
          "pie": [
           {
            "automargin": true,
            "type": "pie"
           }
          ],
          "scatter": [
           {
            "fillpattern": {
             "fillmode": "overlay",
             "size": 10,
             "solidity": 0.2
            },
            "type": "scatter"
           }
          ],
          "scatter3d": [
           {
            "line": {
             "colorbar": {
              "outlinewidth": 0,
              "ticks": ""
             }
            },
            "marker": {
             "colorbar": {
              "outlinewidth": 0,
              "ticks": ""
             }
            },
            "type": "scatter3d"
           }
          ],
          "scattercarpet": [
           {
            "marker": {
             "colorbar": {
              "outlinewidth": 0,
              "ticks": ""
             }
            },
            "type": "scattercarpet"
           }
          ],
          "scattergeo": [
           {
            "marker": {
             "colorbar": {
              "outlinewidth": 0,
              "ticks": ""
             }
            },
            "type": "scattergeo"
           }
          ],
          "scattergl": [
           {
            "marker": {
             "colorbar": {
              "outlinewidth": 0,
              "ticks": ""
             }
            },
            "type": "scattergl"
           }
          ],
          "scattermapbox": [
           {
            "marker": {
             "colorbar": {
              "outlinewidth": 0,
              "ticks": ""
             }
            },
            "type": "scattermapbox"
           }
          ],
          "scatterpolar": [
           {
            "marker": {
             "colorbar": {
              "outlinewidth": 0,
              "ticks": ""
             }
            },
            "type": "scatterpolar"
           }
          ],
          "scatterpolargl": [
           {
            "marker": {
             "colorbar": {
              "outlinewidth": 0,
              "ticks": ""
             }
            },
            "type": "scatterpolargl"
           }
          ],
          "scatterternary": [
           {
            "marker": {
             "colorbar": {
              "outlinewidth": 0,
              "ticks": ""
             }
            },
            "type": "scatterternary"
           }
          ],
          "surface": [
           {
            "colorbar": {
             "outlinewidth": 0,
             "ticks": ""
            },
            "colorscale": [
             [
              0,
              "#0d0887"
             ],
             [
              0.1111111111111111,
              "#46039f"
             ],
             [
              0.2222222222222222,
              "#7201a8"
             ],
             [
              0.3333333333333333,
              "#9c179e"
             ],
             [
              0.4444444444444444,
              "#bd3786"
             ],
             [
              0.5555555555555556,
              "#d8576b"
             ],
             [
              0.6666666666666666,
              "#ed7953"
             ],
             [
              0.7777777777777778,
              "#fb9f3a"
             ],
             [
              0.8888888888888888,
              "#fdca26"
             ],
             [
              1,
              "#f0f921"
             ]
            ],
            "type": "surface"
           }
          ],
          "table": [
           {
            "cells": {
             "fill": {
              "color": "#EBF0F8"
             },
             "line": {
              "color": "white"
             }
            },
            "header": {
             "fill": {
              "color": "#C8D4E3"
             },
             "line": {
              "color": "white"
             }
            },
            "type": "table"
           }
          ]
         },
         "layout": {
          "annotationdefaults": {
           "arrowcolor": "#2a3f5f",
           "arrowhead": 0,
           "arrowwidth": 1
          },
          "autotypenumbers": "strict",
          "coloraxis": {
           "colorbar": {
            "outlinewidth": 0,
            "ticks": ""
           }
          },
          "colorscale": {
           "diverging": [
            [
             0,
             "#8e0152"
            ],
            [
             0.1,
             "#c51b7d"
            ],
            [
             0.2,
             "#de77ae"
            ],
            [
             0.3,
             "#f1b6da"
            ],
            [
             0.4,
             "#fde0ef"
            ],
            [
             0.5,
             "#f7f7f7"
            ],
            [
             0.6,
             "#e6f5d0"
            ],
            [
             0.7,
             "#b8e186"
            ],
            [
             0.8,
             "#7fbc41"
            ],
            [
             0.9,
             "#4d9221"
            ],
            [
             1,
             "#276419"
            ]
           ],
           "sequential": [
            [
             0,
             "#0d0887"
            ],
            [
             0.1111111111111111,
             "#46039f"
            ],
            [
             0.2222222222222222,
             "#7201a8"
            ],
            [
             0.3333333333333333,
             "#9c179e"
            ],
            [
             0.4444444444444444,
             "#bd3786"
            ],
            [
             0.5555555555555556,
             "#d8576b"
            ],
            [
             0.6666666666666666,
             "#ed7953"
            ],
            [
             0.7777777777777778,
             "#fb9f3a"
            ],
            [
             0.8888888888888888,
             "#fdca26"
            ],
            [
             1,
             "#f0f921"
            ]
           ],
           "sequentialminus": [
            [
             0,
             "#0d0887"
            ],
            [
             0.1111111111111111,
             "#46039f"
            ],
            [
             0.2222222222222222,
             "#7201a8"
            ],
            [
             0.3333333333333333,
             "#9c179e"
            ],
            [
             0.4444444444444444,
             "#bd3786"
            ],
            [
             0.5555555555555556,
             "#d8576b"
            ],
            [
             0.6666666666666666,
             "#ed7953"
            ],
            [
             0.7777777777777778,
             "#fb9f3a"
            ],
            [
             0.8888888888888888,
             "#fdca26"
            ],
            [
             1,
             "#f0f921"
            ]
           ]
          },
          "colorway": [
           "#636efa",
           "#EF553B",
           "#00cc96",
           "#ab63fa",
           "#FFA15A",
           "#19d3f3",
           "#FF6692",
           "#B6E880",
           "#FF97FF",
           "#FECB52"
          ],
          "font": {
           "color": "#2a3f5f"
          },
          "geo": {
           "bgcolor": "white",
           "lakecolor": "white",
           "landcolor": "#E5ECF6",
           "showlakes": true,
           "showland": true,
           "subunitcolor": "white"
          },
          "hoverlabel": {
           "align": "left"
          },
          "hovermode": "closest",
          "mapbox": {
           "style": "light"
          },
          "paper_bgcolor": "white",
          "plot_bgcolor": "#E5ECF6",
          "polar": {
           "angularaxis": {
            "gridcolor": "white",
            "linecolor": "white",
            "ticks": ""
           },
           "bgcolor": "#E5ECF6",
           "radialaxis": {
            "gridcolor": "white",
            "linecolor": "white",
            "ticks": ""
           }
          },
          "scene": {
           "xaxis": {
            "backgroundcolor": "#E5ECF6",
            "gridcolor": "white",
            "gridwidth": 2,
            "linecolor": "white",
            "showbackground": true,
            "ticks": "",
            "zerolinecolor": "white"
           },
           "yaxis": {
            "backgroundcolor": "#E5ECF6",
            "gridcolor": "white",
            "gridwidth": 2,
            "linecolor": "white",
            "showbackground": true,
            "ticks": "",
            "zerolinecolor": "white"
           },
           "zaxis": {
            "backgroundcolor": "#E5ECF6",
            "gridcolor": "white",
            "gridwidth": 2,
            "linecolor": "white",
            "showbackground": true,
            "ticks": "",
            "zerolinecolor": "white"
           }
          },
          "shapedefaults": {
           "line": {
            "color": "#2a3f5f"
           }
          },
          "ternary": {
           "aaxis": {
            "gridcolor": "white",
            "linecolor": "white",
            "ticks": ""
           },
           "baxis": {
            "gridcolor": "white",
            "linecolor": "white",
            "ticks": ""
           },
           "bgcolor": "#E5ECF6",
           "caxis": {
            "gridcolor": "white",
            "linecolor": "white",
            "ticks": ""
           }
          },
          "title": {
           "x": 0.05
          },
          "xaxis": {
           "automargin": true,
           "gridcolor": "white",
           "linecolor": "white",
           "ticks": "",
           "title": {
            "standoff": 15
           },
           "zerolinecolor": "white",
           "zerolinewidth": 2
          },
          "yaxis": {
           "automargin": true,
           "gridcolor": "white",
           "linecolor": "white",
           "ticks": "",
           "title": {
            "standoff": 15
           },
           "zerolinecolor": "white",
           "zerolinewidth": 2
          }
         }
        },
        "title": {
         "text": "Linked topics : arabe"
        },
        "xaxis": {
         "anchor": "y",
         "categoryarray": [
          "pays",
          "pays",
          "pays",
          "pays",
          "américain",
          "américain",
          "américain",
          "américain",
          "Israël",
          "Israël",
          "Israël",
          "Israël",
          "israël",
          "israël",
          "israël",
          "israël",
          "militaire",
          "militaire",
          "militaire",
          "militaire",
          "iran",
          "iran",
          "iran",
          "iran",
          "israélien",
          "israélien",
          "israélien",
          "israélien",
          "Iran",
          "Iran",
          "Iran",
          "Iran",
          "États-Unis",
          "États-Unis",
          "États-Unis",
          "États-Unis",
          "force",
          "force",
          "force",
          "force",
          "état",
          "état",
          "état",
          "état",
          "guerre",
          "guerre",
          "guerre",
          "guerre",
          "al",
          "al",
          "al",
          "al",
          "politique",
          "politique",
          "politique",
          "politique",
          "armée",
          "armée",
          "armée",
          "armée",
          "président",
          "président",
          "président",
          "président",
          "syrie",
          "syrie",
          "syrie",
          "syrie",
          "Syrie",
          "Syrie",
          "Syrie",
          "Syrie",
          "dernier",
          "dernier",
          "dernier",
          "dernier",
          "syrien",
          "syrien",
          "syrien",
          "syrien",
          "région",
          "région",
          "région",
          "région",
          "france",
          "france",
          "france",
          "france",
          "iranien",
          "iranien",
          "iranien",
          "iranien",
          "gouvernement",
          "gouvernement",
          "gouvernement",
          "gouvernement",
          "arabie",
          "arabie",
          "arabie",
          "arabie",
          "accord",
          "accord",
          "accord",
          "accord",
          "saoudien",
          "saoudien",
          "saoudien",
          "saoudien",
          "ministre",
          "ministre",
          "ministre",
          "ministre",
          "grand",
          "grand",
          "grand",
          "grand",
          "français",
          "français",
          "français",
          "français",
          "russe",
          "russe",
          "russe",
          "russe",
          "missile",
          "missile",
          "missile",
          "missile",
          "émirat",
          "émirat",
          "émirat",
          "émirat",
          "France",
          "France",
          "France",
          "France",
          "Arabie saoudite",
          "Arabie saoudite",
          "Arabie saoudite",
          "Arabie saoudite",
          "palestinien",
          "palestinien",
          "palestinien",
          "palestinien",
          "russie",
          "russie",
          "russie",
          "russie",
          "nouveau",
          "nouveau",
          "nouveau",
          "nouveau",
          "étranger",
          "étranger",
          "étranger",
          "étranger",
          "jour",
          "jour",
          "jour",
          "jour",
          "base",
          "base",
          "base",
          "base",
          "monde",
          "monde",
          "monde",
          "monde",
          "attaque",
          "attaque",
          "attaque",
          "attaque",
          "an",
          "an",
          "an",
          "an",
          "sécurité",
          "sécurité",
          "sécurité",
          "sécurité",
          "affaire",
          "affaire",
          "affaire",
          "affaire",
          "relation",
          "relation",
          "relation",
          "relation",
          "résistance",
          "résistance",
          "résistance",
          "résistance",
          "national",
          "national",
          "national",
          "national",
          "international",
          "international",
          "international",
          "international",
          "général",
          "général",
          "général",
          "général",
          "Russie",
          "Russie",
          "Russie",
          "Russie",
          "algérie",
          "algérie",
          "algérie",
          "algérie",
          "yémen",
          "yémen",
          "yémen",
          "yémen",
          "chef",
          "chef",
          "chef",
          "chef",
          "trump",
          "trump",
          "trump",
          "trump",
          "source",
          "source",
          "source",
          "source",
          "année",
          "année",
          "année",
          "année",
          "terroriste",
          "terroriste",
          "terroriste",
          "terroriste",
          "drone",
          "drone",
          "drone",
          "drone",
          "Yémen",
          "Yémen",
          "Yémen",
          "Yémen",
          "régime",
          "régime",
          "régime",
          "régime",
          "question",
          "question",
          "question",
          "question",
          "opération",
          "opération",
          "opération",
          "opération",
          "algérien",
          "algérien",
          "algérien",
          "algérien",
          "maroc",
          "maroc",
          "maroc",
          "maroc",
          "Algérie",
          "Algérie",
          "Algérie",
          "Algérie",
          "turquie",
          "turquie",
          "turquie",
          "turquie",
          "défense",
          "défense",
          "défense",
          "défense",
          "groupe",
          "groupe",
          "groupe",
          "groupe",
          "irak",
          "irak",
          "irak",
          "irak",
          "sioniste",
          "sioniste",
          "sioniste",
          "sioniste",
          "sud",
          "sud",
          "sud",
          "sud",
          "golfe",
          "golfe",
          "golfe",
          "golfe",
          "arme",
          "arme",
          "arme",
          "arme"
         ],
         "categoryorder": "array",
         "domain": [
          0,
          1
         ],
         "title": {
          "text": "topic"
         }
        },
        "yaxis": {
         "anchor": "x",
         "domain": [
          0,
          1
         ],
         "title": {
          "text": "iteration"
         }
        }
       }
      }
     },
     "metadata": {},
     "output_type": "display_data"
    },
    {
     "data": {
      "application/vnd.plotly.v1+json": {
       "config": {
        "plotlyServerURL": "https://plot.ly"
       },
       "data": [
        {
         "alignmentgroup": "True",
         "hovertemplate": "site=egaliteetreconciliation<br>topic=%{x}<br>iteration=%{y}<extra></extra>",
         "legendgroup": "egaliteetreconciliation",
         "marker": {
          "color": "#636efa",
          "pattern": {
           "shape": ""
          }
         },
         "name": "egaliteetreconciliation",
         "offsetgroup": "egaliteetreconciliation",
         "orientation": "v",
         "showlegend": true,
         "textposition": "auto",
         "type": "bar",
         "x": [
          "france",
          "terroriste",
          "France",
          "pays",
          "français",
          "an",
          "américain",
          "état",
          "attaque",
          "président",
          "politique",
          "force",
          "dernier",
          "militaire",
          "États-Unis",
          "homme",
          "grand",
          "mort",
          "police",
          "guerre",
          "groupe",
          "personne",
          "musulman",
          "jour",
          "armée",
          "ministre",
          "national",
          "sécurité",
          "année",
          "gouvernement",
          "al",
          "pari",
          "monde",
          "affaire",
          "nouveau",
          "septembre",
          "chef",
          "service",
          "lieu",
          "octobre",
          "organisation",
          "syrie",
          "iran",
          "opération",
          "terrorisme",
          "russie",
          "haine",
          "victime",
          "question",
          "général",
          "région",
          "novembre",
          "droit",
          "étranger",
          "daech",
          "fois",
          "Syrie",
          "policier",
          "source",
          "Iran",
          "islamiste",
          "ancien",
          "arme",
          "Israël",
          "israël",
          "public",
          "information",
          "État",
          "janvier",
          "jeune",
          "Afghanistan",
          "afghanistan",
          "irak",
          "média",
          "ville"
         ],
         "xaxis": "x",
         "y": [
          1531,
          477,
          1491,
          785,
          1369,
          991,
          721,
          1036,
          315,
          912,
          1260,
          436,
          508,
          421,
          544,
          620,
          972,
          593,
          352,
          925,
          316,
          363,
          383,
          552,
          282,
          480,
          657,
          295,
          634,
          452,
          206,
          451,
          864,
          547,
          460,
          561,
          268,
          421,
          312,
          313,
          232,
          264,
          210,
          286,
          353,
          198,
          1232,
          291,
          408,
          370,
          128,
          388,
          522,
          236,
          103,
          439,
          241,
          277,
          160,
          203,
          212,
          319,
          246,
          606,
          562,
          460,
          292,
          449,
          356,
          331,
          104,
          129,
          136,
          438,
          144
         ],
         "yaxis": "y"
        },
        {
         "alignmentgroup": "True",
         "hovertemplate": "site=sputniknews<br>topic=%{x}<br>iteration=%{y}<extra></extra>",
         "legendgroup": "sputniknews",
         "marker": {
          "color": "#EF553B",
          "pattern": {
           "shape": ""
          }
         },
         "name": "sputniknews",
         "offsetgroup": "sputniknews",
         "orientation": "v",
         "showlegend": true,
         "textposition": "auto",
         "type": "bar",
         "x": [
          "france",
          "terroriste",
          "France",
          "pays",
          "français",
          "an",
          "américain",
          "état",
          "attaque",
          "président",
          "politique",
          "force",
          "dernier",
          "militaire",
          "États-Unis",
          "homme",
          "grand",
          "mort",
          "police",
          "guerre",
          "groupe",
          "personne",
          "musulman",
          "jour",
          "armée",
          "ministre",
          "national",
          "sécurité",
          "année",
          "gouvernement",
          "al",
          "pari",
          "monde",
          "affaire",
          "nouveau",
          "septembre",
          "chef",
          "service",
          "lieu",
          "octobre",
          "organisation",
          "syrie",
          "iran",
          "opération",
          "terrorisme",
          "russie",
          "haine",
          "victime",
          "question",
          "général",
          "région",
          "novembre",
          "droit",
          "étranger",
          "daech",
          "fois",
          "Syrie",
          "policier",
          "source",
          "Iran",
          "islamiste",
          "ancien",
          "arme",
          "Israël",
          "israël",
          "public",
          "information",
          "État",
          "janvier",
          "jeune",
          "Afghanistan",
          "afghanistan",
          "irak",
          "média",
          "ville"
         ],
         "xaxis": "x",
         "y": [
          2884,
          2786,
          2364,
          2280,
          2111,
          1689,
          1415,
          1766,
          1752,
          1618,
          1288,
          1233,
          1444,
          1115,
          850,
          1088,
          820,
          1241,
          1319,
          789,
          1075,
          1239,
          748,
          930,
          900,
          1054,
          941,
          997,
          840,
          910,
          643,
          906,
          579,
          728,
          665,
          852,
          839,
          749,
          816,
          1066,
          958,
          587,
          284,
          665,
          727,
          910,
          204,
          737,
          726,
          578,
          631,
          767,
          590,
          634,
          724,
          561,
          533,
          768,
          516,
          245,
          703,
          723,
          692,
          142,
          168,
          572,
          557,
          646,
          639,
          490,
          708,
          682,
          365,
          473,
          636
         ],
         "yaxis": "y"
        },
        {
         "alignmentgroup": "True",
         "hovertemplate": "site=presstv<br>topic=%{x}<br>iteration=%{y}<extra></extra>",
         "legendgroup": "presstv",
         "marker": {
          "color": "#00cc96",
          "pattern": {
           "shape": ""
          }
         },
         "name": "presstv",
         "offsetgroup": "presstv",
         "orientation": "v",
         "showlegend": true,
         "textposition": "auto",
         "type": "bar",
         "x": [
          "france",
          "terroriste",
          "France",
          "pays",
          "français",
          "an",
          "américain",
          "état",
          "attaque",
          "président",
          "politique",
          "force",
          "dernier",
          "militaire",
          "États-Unis",
          "homme",
          "grand",
          "mort",
          "police",
          "guerre",
          "groupe",
          "personne",
          "musulman",
          "jour",
          "armée",
          "ministre",
          "national",
          "sécurité",
          "année",
          "gouvernement",
          "al",
          "pari",
          "monde",
          "affaire",
          "nouveau",
          "septembre",
          "chef",
          "service",
          "lieu",
          "octobre",
          "organisation",
          "syrie",
          "iran",
          "opération",
          "terrorisme",
          "russie",
          "haine",
          "victime",
          "question",
          "général",
          "région",
          "novembre",
          "droit",
          "étranger",
          "daech",
          "fois",
          "Syrie",
          "policier",
          "source",
          "Iran",
          "islamiste",
          "ancien",
          "arme",
          "Israël",
          "israël",
          "public",
          "information",
          "État",
          "janvier",
          "jeune",
          "Afghanistan",
          "afghanistan",
          "irak",
          "média",
          "ville"
         ],
         "xaxis": "x",
         "y": [
          664,
          1606,
          593,
          1555,
          622,
          306,
          2001,
          838,
          990,
          734,
          507,
          1359,
          677,
          1359,
          1281,
          174,
          497,
          314,
          187,
          665,
          723,
          265,
          142,
          461,
          1065,
          537,
          364,
          682,
          320,
          540,
          1022,
          193,
          285,
          430,
          447,
          228,
          478,
          266,
          341,
          112,
          165,
          631,
          1191,
          622,
          227,
          517,
          22,
          128,
          228,
          490,
          695,
          159,
          206,
          480,
          641,
          313,
          558,
          91,
          629,
          1031,
          10,
          175,
          311,
          711,
          719,
          142,
          333,
          205,
          240,
          61,
          436,
          463,
          841,
          330,
          337
         ],
         "yaxis": "y"
        },
        {
         "alignmentgroup": "True",
         "hovertemplate": "site=fdesouche<br>topic=%{x}<br>iteration=%{y}<extra></extra>",
         "legendgroup": "fdesouche",
         "marker": {
          "color": "#ab63fa",
          "pattern": {
           "shape": ""
          }
         },
         "name": "fdesouche",
         "offsetgroup": "fdesouche",
         "orientation": "v",
         "showlegend": true,
         "textposition": "auto",
         "type": "bar",
         "x": [
          "france",
          "terroriste",
          "France",
          "pays",
          "français",
          "an",
          "américain",
          "état",
          "attaque",
          "président",
          "politique",
          "force",
          "dernier",
          "militaire",
          "États-Unis",
          "homme",
          "grand",
          "mort",
          "police",
          "guerre",
          "groupe",
          "personne",
          "musulman",
          "jour",
          "armée",
          "ministre",
          "national",
          "sécurité",
          "année",
          "gouvernement",
          "al",
          "pari",
          "monde",
          "affaire",
          "nouveau",
          "septembre",
          "chef",
          "service",
          "lieu",
          "octobre",
          "organisation",
          "syrie",
          "iran",
          "opération",
          "terrorisme",
          "russie",
          "haine",
          "victime",
          "question",
          "général",
          "région",
          "novembre",
          "droit",
          "étranger",
          "daech",
          "fois",
          "Syrie",
          "policier",
          "source",
          "Iran",
          "islamiste",
          "ancien",
          "arme",
          "Israël",
          "israël",
          "public",
          "information",
          "État",
          "janvier",
          "jeune",
          "Afghanistan",
          "afghanistan",
          "irak",
          "média",
          "ville"
         ],
         "xaxis": "x",
         "y": [
          1050,
          958,
          767,
          501,
          768,
          1624,
          177,
          467,
          744,
          287,
          477,
          238,
          504,
          132,
          70,
          836,
          410,
          524,
          774,
          185,
          442,
          638,
          1216,
          411,
          104,
          266,
          325,
          293,
          409,
          242,
          245,
          561,
          272,
          214,
          306,
          216,
          216,
          306,
          270,
          224,
          354,
          226,
          16,
          122,
          362,
          26,
          178,
          461,
          250,
          168,
          129,
          265,
          243,
          203,
          71,
          220,
          189,
          383,
          211,
          10,
          562,
          267,
          234,
          20,
          26,
          293,
          275,
          144,
          201,
          553,
          179,
          146,
          77,
          160,
          280
         ],
         "yaxis": "y"
        }
       ],
       "layout": {
        "barmode": "relative",
        "legend": {
         "title": {
          "text": "site"
         },
         "tracegroupgap": 0
        },
        "template": {
         "data": {
          "bar": [
           {
            "error_x": {
             "color": "#2a3f5f"
            },
            "error_y": {
             "color": "#2a3f5f"
            },
            "marker": {
             "line": {
              "color": "#E5ECF6",
              "width": 0.5
             },
             "pattern": {
              "fillmode": "overlay",
              "size": 10,
              "solidity": 0.2
             }
            },
            "type": "bar"
           }
          ],
          "barpolar": [
           {
            "marker": {
             "line": {
              "color": "#E5ECF6",
              "width": 0.5
             },
             "pattern": {
              "fillmode": "overlay",
              "size": 10,
              "solidity": 0.2
             }
            },
            "type": "barpolar"
           }
          ],
          "carpet": [
           {
            "aaxis": {
             "endlinecolor": "#2a3f5f",
             "gridcolor": "white",
             "linecolor": "white",
             "minorgridcolor": "white",
             "startlinecolor": "#2a3f5f"
            },
            "baxis": {
             "endlinecolor": "#2a3f5f",
             "gridcolor": "white",
             "linecolor": "white",
             "minorgridcolor": "white",
             "startlinecolor": "#2a3f5f"
            },
            "type": "carpet"
           }
          ],
          "choropleth": [
           {
            "colorbar": {
             "outlinewidth": 0,
             "ticks": ""
            },
            "type": "choropleth"
           }
          ],
          "contour": [
           {
            "colorbar": {
             "outlinewidth": 0,
             "ticks": ""
            },
            "colorscale": [
             [
              0,
              "#0d0887"
             ],
             [
              0.1111111111111111,
              "#46039f"
             ],
             [
              0.2222222222222222,
              "#7201a8"
             ],
             [
              0.3333333333333333,
              "#9c179e"
             ],
             [
              0.4444444444444444,
              "#bd3786"
             ],
             [
              0.5555555555555556,
              "#d8576b"
             ],
             [
              0.6666666666666666,
              "#ed7953"
             ],
             [
              0.7777777777777778,
              "#fb9f3a"
             ],
             [
              0.8888888888888888,
              "#fdca26"
             ],
             [
              1,
              "#f0f921"
             ]
            ],
            "type": "contour"
           }
          ],
          "contourcarpet": [
           {
            "colorbar": {
             "outlinewidth": 0,
             "ticks": ""
            },
            "type": "contourcarpet"
           }
          ],
          "heatmap": [
           {
            "colorbar": {
             "outlinewidth": 0,
             "ticks": ""
            },
            "colorscale": [
             [
              0,
              "#0d0887"
             ],
             [
              0.1111111111111111,
              "#46039f"
             ],
             [
              0.2222222222222222,
              "#7201a8"
             ],
             [
              0.3333333333333333,
              "#9c179e"
             ],
             [
              0.4444444444444444,
              "#bd3786"
             ],
             [
              0.5555555555555556,
              "#d8576b"
             ],
             [
              0.6666666666666666,
              "#ed7953"
             ],
             [
              0.7777777777777778,
              "#fb9f3a"
             ],
             [
              0.8888888888888888,
              "#fdca26"
             ],
             [
              1,
              "#f0f921"
             ]
            ],
            "type": "heatmap"
           }
          ],
          "heatmapgl": [
           {
            "colorbar": {
             "outlinewidth": 0,
             "ticks": ""
            },
            "colorscale": [
             [
              0,
              "#0d0887"
             ],
             [
              0.1111111111111111,
              "#46039f"
             ],
             [
              0.2222222222222222,
              "#7201a8"
             ],
             [
              0.3333333333333333,
              "#9c179e"
             ],
             [
              0.4444444444444444,
              "#bd3786"
             ],
             [
              0.5555555555555556,
              "#d8576b"
             ],
             [
              0.6666666666666666,
              "#ed7953"
             ],
             [
              0.7777777777777778,
              "#fb9f3a"
             ],
             [
              0.8888888888888888,
              "#fdca26"
             ],
             [
              1,
              "#f0f921"
             ]
            ],
            "type": "heatmapgl"
           }
          ],
          "histogram": [
           {
            "marker": {
             "pattern": {
              "fillmode": "overlay",
              "size": 10,
              "solidity": 0.2
             }
            },
            "type": "histogram"
           }
          ],
          "histogram2d": [
           {
            "colorbar": {
             "outlinewidth": 0,
             "ticks": ""
            },
            "colorscale": [
             [
              0,
              "#0d0887"
             ],
             [
              0.1111111111111111,
              "#46039f"
             ],
             [
              0.2222222222222222,
              "#7201a8"
             ],
             [
              0.3333333333333333,
              "#9c179e"
             ],
             [
              0.4444444444444444,
              "#bd3786"
             ],
             [
              0.5555555555555556,
              "#d8576b"
             ],
             [
              0.6666666666666666,
              "#ed7953"
             ],
             [
              0.7777777777777778,
              "#fb9f3a"
             ],
             [
              0.8888888888888888,
              "#fdca26"
             ],
             [
              1,
              "#f0f921"
             ]
            ],
            "type": "histogram2d"
           }
          ],
          "histogram2dcontour": [
           {
            "colorbar": {
             "outlinewidth": 0,
             "ticks": ""
            },
            "colorscale": [
             [
              0,
              "#0d0887"
             ],
             [
              0.1111111111111111,
              "#46039f"
             ],
             [
              0.2222222222222222,
              "#7201a8"
             ],
             [
              0.3333333333333333,
              "#9c179e"
             ],
             [
              0.4444444444444444,
              "#bd3786"
             ],
             [
              0.5555555555555556,
              "#d8576b"
             ],
             [
              0.6666666666666666,
              "#ed7953"
             ],
             [
              0.7777777777777778,
              "#fb9f3a"
             ],
             [
              0.8888888888888888,
              "#fdca26"
             ],
             [
              1,
              "#f0f921"
             ]
            ],
            "type": "histogram2dcontour"
           }
          ],
          "mesh3d": [
           {
            "colorbar": {
             "outlinewidth": 0,
             "ticks": ""
            },
            "type": "mesh3d"
           }
          ],
          "parcoords": [
           {
            "line": {
             "colorbar": {
              "outlinewidth": 0,
              "ticks": ""
             }
            },
            "type": "parcoords"
           }
          ],
          "pie": [
           {
            "automargin": true,
            "type": "pie"
           }
          ],
          "scatter": [
           {
            "fillpattern": {
             "fillmode": "overlay",
             "size": 10,
             "solidity": 0.2
            },
            "type": "scatter"
           }
          ],
          "scatter3d": [
           {
            "line": {
             "colorbar": {
              "outlinewidth": 0,
              "ticks": ""
             }
            },
            "marker": {
             "colorbar": {
              "outlinewidth": 0,
              "ticks": ""
             }
            },
            "type": "scatter3d"
           }
          ],
          "scattercarpet": [
           {
            "marker": {
             "colorbar": {
              "outlinewidth": 0,
              "ticks": ""
             }
            },
            "type": "scattercarpet"
           }
          ],
          "scattergeo": [
           {
            "marker": {
             "colorbar": {
              "outlinewidth": 0,
              "ticks": ""
             }
            },
            "type": "scattergeo"
           }
          ],
          "scattergl": [
           {
            "marker": {
             "colorbar": {
              "outlinewidth": 0,
              "ticks": ""
             }
            },
            "type": "scattergl"
           }
          ],
          "scattermapbox": [
           {
            "marker": {
             "colorbar": {
              "outlinewidth": 0,
              "ticks": ""
             }
            },
            "type": "scattermapbox"
           }
          ],
          "scatterpolar": [
           {
            "marker": {
             "colorbar": {
              "outlinewidth": 0,
              "ticks": ""
             }
            },
            "type": "scatterpolar"
           }
          ],
          "scatterpolargl": [
           {
            "marker": {
             "colorbar": {
              "outlinewidth": 0,
              "ticks": ""
             }
            },
            "type": "scatterpolargl"
           }
          ],
          "scatterternary": [
           {
            "marker": {
             "colorbar": {
              "outlinewidth": 0,
              "ticks": ""
             }
            },
            "type": "scatterternary"
           }
          ],
          "surface": [
           {
            "colorbar": {
             "outlinewidth": 0,
             "ticks": ""
            },
            "colorscale": [
             [
              0,
              "#0d0887"
             ],
             [
              0.1111111111111111,
              "#46039f"
             ],
             [
              0.2222222222222222,
              "#7201a8"
             ],
             [
              0.3333333333333333,
              "#9c179e"
             ],
             [
              0.4444444444444444,
              "#bd3786"
             ],
             [
              0.5555555555555556,
              "#d8576b"
             ],
             [
              0.6666666666666666,
              "#ed7953"
             ],
             [
              0.7777777777777778,
              "#fb9f3a"
             ],
             [
              0.8888888888888888,
              "#fdca26"
             ],
             [
              1,
              "#f0f921"
             ]
            ],
            "type": "surface"
           }
          ],
          "table": [
           {
            "cells": {
             "fill": {
              "color": "#EBF0F8"
             },
             "line": {
              "color": "white"
             }
            },
            "header": {
             "fill": {
              "color": "#C8D4E3"
             },
             "line": {
              "color": "white"
             }
            },
            "type": "table"
           }
          ]
         },
         "layout": {
          "annotationdefaults": {
           "arrowcolor": "#2a3f5f",
           "arrowhead": 0,
           "arrowwidth": 1
          },
          "autotypenumbers": "strict",
          "coloraxis": {
           "colorbar": {
            "outlinewidth": 0,
            "ticks": ""
           }
          },
          "colorscale": {
           "diverging": [
            [
             0,
             "#8e0152"
            ],
            [
             0.1,
             "#c51b7d"
            ],
            [
             0.2,
             "#de77ae"
            ],
            [
             0.3,
             "#f1b6da"
            ],
            [
             0.4,
             "#fde0ef"
            ],
            [
             0.5,
             "#f7f7f7"
            ],
            [
             0.6,
             "#e6f5d0"
            ],
            [
             0.7,
             "#b8e186"
            ],
            [
             0.8,
             "#7fbc41"
            ],
            [
             0.9,
             "#4d9221"
            ],
            [
             1,
             "#276419"
            ]
           ],
           "sequential": [
            [
             0,
             "#0d0887"
            ],
            [
             0.1111111111111111,
             "#46039f"
            ],
            [
             0.2222222222222222,
             "#7201a8"
            ],
            [
             0.3333333333333333,
             "#9c179e"
            ],
            [
             0.4444444444444444,
             "#bd3786"
            ],
            [
             0.5555555555555556,
             "#d8576b"
            ],
            [
             0.6666666666666666,
             "#ed7953"
            ],
            [
             0.7777777777777778,
             "#fb9f3a"
            ],
            [
             0.8888888888888888,
             "#fdca26"
            ],
            [
             1,
             "#f0f921"
            ]
           ],
           "sequentialminus": [
            [
             0,
             "#0d0887"
            ],
            [
             0.1111111111111111,
             "#46039f"
            ],
            [
             0.2222222222222222,
             "#7201a8"
            ],
            [
             0.3333333333333333,
             "#9c179e"
            ],
            [
             0.4444444444444444,
             "#bd3786"
            ],
            [
             0.5555555555555556,
             "#d8576b"
            ],
            [
             0.6666666666666666,
             "#ed7953"
            ],
            [
             0.7777777777777778,
             "#fb9f3a"
            ],
            [
             0.8888888888888888,
             "#fdca26"
            ],
            [
             1,
             "#f0f921"
            ]
           ]
          },
          "colorway": [
           "#636efa",
           "#EF553B",
           "#00cc96",
           "#ab63fa",
           "#FFA15A",
           "#19d3f3",
           "#FF6692",
           "#B6E880",
           "#FF97FF",
           "#FECB52"
          ],
          "font": {
           "color": "#2a3f5f"
          },
          "geo": {
           "bgcolor": "white",
           "lakecolor": "white",
           "landcolor": "#E5ECF6",
           "showlakes": true,
           "showland": true,
           "subunitcolor": "white"
          },
          "hoverlabel": {
           "align": "left"
          },
          "hovermode": "closest",
          "mapbox": {
           "style": "light"
          },
          "paper_bgcolor": "white",
          "plot_bgcolor": "#E5ECF6",
          "polar": {
           "angularaxis": {
            "gridcolor": "white",
            "linecolor": "white",
            "ticks": ""
           },
           "bgcolor": "#E5ECF6",
           "radialaxis": {
            "gridcolor": "white",
            "linecolor": "white",
            "ticks": ""
           }
          },
          "scene": {
           "xaxis": {
            "backgroundcolor": "#E5ECF6",
            "gridcolor": "white",
            "gridwidth": 2,
            "linecolor": "white",
            "showbackground": true,
            "ticks": "",
            "zerolinecolor": "white"
           },
           "yaxis": {
            "backgroundcolor": "#E5ECF6",
            "gridcolor": "white",
            "gridwidth": 2,
            "linecolor": "white",
            "showbackground": true,
            "ticks": "",
            "zerolinecolor": "white"
           },
           "zaxis": {
            "backgroundcolor": "#E5ECF6",
            "gridcolor": "white",
            "gridwidth": 2,
            "linecolor": "white",
            "showbackground": true,
            "ticks": "",
            "zerolinecolor": "white"
           }
          },
          "shapedefaults": {
           "line": {
            "color": "#2a3f5f"
           }
          },
          "ternary": {
           "aaxis": {
            "gridcolor": "white",
            "linecolor": "white",
            "ticks": ""
           },
           "baxis": {
            "gridcolor": "white",
            "linecolor": "white",
            "ticks": ""
           },
           "bgcolor": "#E5ECF6",
           "caxis": {
            "gridcolor": "white",
            "linecolor": "white",
            "ticks": ""
           }
          },
          "title": {
           "x": 0.05
          },
          "xaxis": {
           "automargin": true,
           "gridcolor": "white",
           "linecolor": "white",
           "ticks": "",
           "title": {
            "standoff": 15
           },
           "zerolinecolor": "white",
           "zerolinewidth": 2
          },
          "yaxis": {
           "automargin": true,
           "gridcolor": "white",
           "linecolor": "white",
           "ticks": "",
           "title": {
            "standoff": 15
           },
           "zerolinecolor": "white",
           "zerolinewidth": 2
          }
         }
        },
        "title": {
         "text": "Linked topics : attentat"
        },
        "xaxis": {
         "anchor": "y",
         "categoryarray": [
          "france",
          "france",
          "france",
          "france",
          "terroriste",
          "terroriste",
          "terroriste",
          "terroriste",
          "France",
          "France",
          "France",
          "France",
          "pays",
          "pays",
          "pays",
          "pays",
          "français",
          "français",
          "français",
          "français",
          "an",
          "an",
          "an",
          "an",
          "américain",
          "américain",
          "américain",
          "américain",
          "état",
          "état",
          "état",
          "état",
          "attaque",
          "attaque",
          "attaque",
          "attaque",
          "président",
          "président",
          "président",
          "président",
          "politique",
          "politique",
          "politique",
          "politique",
          "force",
          "force",
          "force",
          "force",
          "dernier",
          "dernier",
          "dernier",
          "dernier",
          "militaire",
          "militaire",
          "militaire",
          "militaire",
          "États-Unis",
          "États-Unis",
          "États-Unis",
          "États-Unis",
          "homme",
          "homme",
          "homme",
          "homme",
          "grand",
          "grand",
          "grand",
          "grand",
          "mort",
          "mort",
          "mort",
          "mort",
          "police",
          "police",
          "police",
          "police",
          "guerre",
          "guerre",
          "guerre",
          "guerre",
          "groupe",
          "groupe",
          "groupe",
          "groupe",
          "personne",
          "personne",
          "personne",
          "personne",
          "musulman",
          "musulman",
          "musulman",
          "musulman",
          "jour",
          "jour",
          "jour",
          "jour",
          "armée",
          "armée",
          "armée",
          "armée",
          "ministre",
          "ministre",
          "ministre",
          "ministre",
          "national",
          "national",
          "national",
          "national",
          "sécurité",
          "sécurité",
          "sécurité",
          "sécurité",
          "année",
          "année",
          "année",
          "année",
          "gouvernement",
          "gouvernement",
          "gouvernement",
          "gouvernement",
          "al",
          "al",
          "al",
          "al",
          "pari",
          "pari",
          "pari",
          "pari",
          "monde",
          "monde",
          "monde",
          "monde",
          "affaire",
          "affaire",
          "affaire",
          "affaire",
          "nouveau",
          "nouveau",
          "nouveau",
          "nouveau",
          "septembre",
          "septembre",
          "septembre",
          "septembre",
          "chef",
          "chef",
          "chef",
          "chef",
          "service",
          "service",
          "service",
          "service",
          "lieu",
          "lieu",
          "lieu",
          "lieu",
          "octobre",
          "octobre",
          "octobre",
          "octobre",
          "organisation",
          "organisation",
          "organisation",
          "organisation",
          "syrie",
          "syrie",
          "syrie",
          "syrie",
          "iran",
          "iran",
          "iran",
          "iran",
          "opération",
          "opération",
          "opération",
          "opération",
          "terrorisme",
          "terrorisme",
          "terrorisme",
          "terrorisme",
          "russie",
          "russie",
          "russie",
          "russie",
          "haine",
          "haine",
          "haine",
          "haine",
          "victime",
          "victime",
          "victime",
          "victime",
          "question",
          "question",
          "question",
          "question",
          "général",
          "général",
          "général",
          "général",
          "région",
          "région",
          "région",
          "région",
          "novembre",
          "novembre",
          "novembre",
          "novembre",
          "droit",
          "droit",
          "droit",
          "droit",
          "étranger",
          "étranger",
          "étranger",
          "étranger",
          "daech",
          "daech",
          "daech",
          "daech",
          "fois",
          "fois",
          "fois",
          "fois",
          "Syrie",
          "Syrie",
          "Syrie",
          "Syrie",
          "policier",
          "policier",
          "policier",
          "policier",
          "source",
          "source",
          "source",
          "source",
          "Iran",
          "Iran",
          "Iran",
          "Iran",
          "islamiste",
          "islamiste",
          "islamiste",
          "islamiste",
          "ancien",
          "ancien",
          "ancien",
          "ancien",
          "arme",
          "arme",
          "arme",
          "arme",
          "Israël",
          "Israël",
          "Israël",
          "Israël",
          "israël",
          "israël",
          "israël",
          "israël",
          "public",
          "public",
          "public",
          "public",
          "information",
          "information",
          "information",
          "information",
          "État",
          "État",
          "État",
          "État",
          "janvier",
          "janvier",
          "janvier",
          "janvier",
          "jeune",
          "jeune",
          "jeune",
          "jeune",
          "Afghanistan",
          "Afghanistan",
          "Afghanistan",
          "Afghanistan",
          "afghanistan",
          "afghanistan",
          "afghanistan",
          "afghanistan",
          "irak",
          "irak",
          "irak",
          "irak",
          "média",
          "média",
          "média",
          "média",
          "ville",
          "ville",
          "ville",
          "ville"
         ],
         "categoryorder": "array",
         "domain": [
          0,
          1
         ],
         "title": {
          "text": "topic"
         }
        },
        "yaxis": {
         "anchor": "x",
         "domain": [
          0,
          1
         ],
         "title": {
          "text": "iteration"
         }
        }
       }
      }
     },
     "metadata": {},
     "output_type": "display_data"
    },
    {
     "data": {
      "application/vnd.plotly.v1+json": {
       "config": {
        "plotlyServerURL": "https://plot.ly"
       },
       "data": [
        {
         "alignmentgroup": "True",
         "hovertemplate": "site=egaliteetreconciliation<br>topic=%{x}<br>iteration=%{y}<extra></extra>",
         "legendgroup": "egaliteetreconciliation",
         "marker": {
          "color": "#636efa",
          "pattern": {
           "shape": ""
          }
         },
         "name": "egaliteetreconciliation",
         "offsetgroup": "egaliteetreconciliation",
         "orientation": "v",
         "showlegend": true,
         "textposition": "auto",
         "type": "bar",
         "x": [
          "américain",
          "pays",
          "militaire",
          "États-Unis",
          "armée",
          "force",
          "iran",
          "état",
          "Iran",
          "président",
          "Israël",
          "israël",
          "israélien",
          "france",
          "missile",
          "russe",
          "politique",
          "iranien",
          "russie",
          "dernier",
          "français",
          "France",
          "grand",
          "Russie",
          "syrie",
          "Syrie",
          "région",
          "al",
          "base",
          "syrien",
          "nouveau",
          "jour",
          "gouvernement",
          "an",
          "ministre",
          "attaque",
          "général",
          "monde",
          "défense",
          "résistance",
          "chine",
          "drone",
          "année",
          "sécurité",
          "terroriste",
          "national",
          "trump",
          "chef",
          "opération",
          "système",
          "international",
          "accord",
          "aérien",
          "arme",
          "groupe",
          "étranger",
          "affaire",
          "face",
          "fois",
          "source",
          "européen",
          "question",
          "Chine",
          "partie",
          "fin",
          "irak",
          "saoudien",
          "washington",
          "avion",
          "droit",
          "hezbollah",
          "situation",
          "nord",
          "frontière",
          "sud"
         ],
         "xaxis": "x",
         "y": [
          3439,
          3368,
          1440,
          2714,
          1132,
          1675,
          936,
          3938,
          864,
          3194,
          2229,
          2055,
          1713,
          3823,
          351,
          1742,
          3788,
          593,
          1853,
          1917,
          3571,
          3838,
          3434,
          2029,
          1054,
          1027,
          561,
          411,
          599,
          718,
          1909,
          1813,
          1778,
          2746,
          1265,
          706,
          1253,
          3197,
          683,
          390,
          1232,
          178,
          2064,
          793,
          610,
          1750,
          2218,
          880,
          707,
          1316,
          1003,
          827,
          214,
          714,
          982,
          981,
          1378,
          1009,
          1572,
          444,
          1432,
          1444,
          967,
          1179,
          1233,
          392,
          213,
          731,
          414,
          1820,
          265,
          801,
          468,
          524,
          371
         ],
         "yaxis": "y"
        },
        {
         "alignmentgroup": "True",
         "hovertemplate": "site=sputniknews<br>topic=%{x}<br>iteration=%{y}<extra></extra>",
         "legendgroup": "sputniknews",
         "marker": {
          "color": "#EF553B",
          "pattern": {
           "shape": ""
          }
         },
         "name": "sputniknews",
         "offsetgroup": "sputniknews",
         "orientation": "v",
         "showlegend": true,
         "textposition": "auto",
         "type": "bar",
         "x": [
          "américain",
          "pays",
          "militaire",
          "États-Unis",
          "armée",
          "force",
          "iran",
          "état",
          "Iran",
          "président",
          "Israël",
          "israël",
          "israélien",
          "france",
          "missile",
          "russe",
          "politique",
          "iranien",
          "russie",
          "dernier",
          "français",
          "France",
          "grand",
          "Russie",
          "syrie",
          "Syrie",
          "région",
          "al",
          "base",
          "syrien",
          "nouveau",
          "jour",
          "gouvernement",
          "an",
          "ministre",
          "attaque",
          "général",
          "monde",
          "défense",
          "résistance",
          "chine",
          "drone",
          "année",
          "sécurité",
          "terroriste",
          "national",
          "trump",
          "chef",
          "opération",
          "système",
          "international",
          "accord",
          "aérien",
          "arme",
          "groupe",
          "étranger",
          "affaire",
          "face",
          "fois",
          "source",
          "européen",
          "question",
          "Chine",
          "partie",
          "fin",
          "irak",
          "saoudien",
          "washington",
          "avion",
          "droit",
          "hezbollah",
          "situation",
          "nord",
          "frontière",
          "sud"
         ],
         "xaxis": "x",
         "y": [
          8557,
          11626,
          6140,
          5997,
          4673,
          4587,
          2710,
          6892,
          2462,
          7339,
          1741,
          1769,
          1492,
          7366,
          1529,
          5729,
          6133,
          1962,
          5490,
          5133,
          6019,
          5920,
          4344,
          4580,
          2362,
          2276,
          3382,
          1070,
          3445,
          1909,
          3547,
          3125,
          4018,
          4271,
          4007,
          1967,
          2733,
          3167,
          2643,
          295,
          3476,
          807,
          3574,
          2927,
          2293,
          3512,
          3013,
          3417,
          2087,
          1799,
          3735,
          3061,
          1222,
          2663,
          2764,
          2959,
          2869,
          2278,
          2102,
          1072,
          3491,
          2828,
          2650,
          2335,
          2685,
          1050,
          689,
          2097,
          1543,
          2378,
          617,
          3151,
          1466,
          1673,
          1012
         ],
         "yaxis": "y"
        },
        {
         "alignmentgroup": "True",
         "hovertemplate": "site=presstv<br>topic=%{x}<br>iteration=%{y}<extra></extra>",
         "legendgroup": "presstv",
         "marker": {
          "color": "#00cc96",
          "pattern": {
           "shape": ""
          }
         },
         "name": "presstv",
         "offsetgroup": "presstv",
         "orientation": "v",
         "showlegend": true,
         "textposition": "auto",
         "type": "bar",
         "x": [
          "américain",
          "pays",
          "militaire",
          "États-Unis",
          "armée",
          "force",
          "iran",
          "état",
          "Iran",
          "président",
          "Israël",
          "israël",
          "israélien",
          "france",
          "missile",
          "russe",
          "politique",
          "iranien",
          "russie",
          "dernier",
          "français",
          "France",
          "grand",
          "Russie",
          "syrie",
          "Syrie",
          "région",
          "al",
          "base",
          "syrien",
          "nouveau",
          "jour",
          "gouvernement",
          "an",
          "ministre",
          "attaque",
          "général",
          "monde",
          "défense",
          "résistance",
          "chine",
          "drone",
          "année",
          "sécurité",
          "terroriste",
          "national",
          "trump",
          "chef",
          "opération",
          "système",
          "international",
          "accord",
          "aérien",
          "arme",
          "groupe",
          "étranger",
          "affaire",
          "face",
          "fois",
          "source",
          "européen",
          "question",
          "Chine",
          "partie",
          "fin",
          "irak",
          "saoudien",
          "washington",
          "avion",
          "droit",
          "hezbollah",
          "situation",
          "nord",
          "frontière",
          "sud"
         ],
         "xaxis": "x",
         "y": [
          21291,
          17184,
          20349,
          14385,
          17051,
          16439,
          18754,
          9054,
          16961,
          8610,
          15422,
          15007,
          15453,
          5613,
          16155,
          10211,
          6581,
          14154,
          9166,
          8864,
          5233,
          4792,
          7002,
          8259,
          10735,
          10067,
          8888,
          11275,
          8646,
          9455,
          6317,
          6613,
          5803,
          3746,
          5831,
          8425,
          6544,
          3864,
          7144,
          9838,
          5686,
          9488,
          4003,
          6019,
          6650,
          4156,
          4249,
          5047,
          6450,
          5995,
          4181,
          5107,
          7604,
          5317,
          4698,
          4607,
          4360,
          5124,
          4541,
          6630,
          2283,
          3037,
          3951,
          3794,
          3392,
          5961,
          6467,
          4327,
          5111,
          2586,
          6122,
          2746,
          4806,
          4364,
          5331
         ],
         "yaxis": "y"
        },
        {
         "alignmentgroup": "True",
         "hovertemplate": "site=fdesouche<br>topic=%{x}<br>iteration=%{y}<extra></extra>",
         "legendgroup": "fdesouche",
         "marker": {
          "color": "#ab63fa",
          "pattern": {
           "shape": ""
          }
         },
         "name": "fdesouche",
         "offsetgroup": "fdesouche",
         "orientation": "v",
         "showlegend": true,
         "textposition": "auto",
         "type": "bar",
         "x": [
          "américain",
          "pays",
          "militaire",
          "États-Unis",
          "armée",
          "force",
          "iran",
          "état",
          "Iran",
          "président",
          "Israël",
          "israël",
          "israélien",
          "france",
          "missile",
          "russe",
          "politique",
          "iranien",
          "russie",
          "dernier",
          "français",
          "France",
          "grand",
          "Russie",
          "syrie",
          "Syrie",
          "région",
          "al",
          "base",
          "syrien",
          "nouveau",
          "jour",
          "gouvernement",
          "an",
          "ministre",
          "attaque",
          "général",
          "monde",
          "défense",
          "résistance",
          "chine",
          "drone",
          "année",
          "sécurité",
          "terroriste",
          "national",
          "trump",
          "chef",
          "opération",
          "système",
          "international",
          "accord",
          "aérien",
          "arme",
          "groupe",
          "étranger",
          "affaire",
          "face",
          "fois",
          "source",
          "européen",
          "question",
          "Chine",
          "partie",
          "fin",
          "irak",
          "saoudien",
          "washington",
          "avion",
          "droit",
          "hezbollah",
          "situation",
          "nord",
          "frontière",
          "sud"
         ],
         "xaxis": "x",
         "y": [
          375,
          1016,
          287,
          185,
          280,
          386,
          43,
          545,
          25,
          502,
          31,
          50,
          38,
          1383,
          13,
          57,
          789,
          23,
          68,
          561,
          965,
          1020,
          640,
          49,
          207,
          209,
          216,
          205,
          79,
          139,
          425,
          430,
          346,
          1131,
          330,
          284,
          318,
          510,
          116,
          47,
          91,
          8,
          593,
          287,
          241,
          362,
          139,
          260,
          143,
          111,
          192,
          99,
          26,
          310,
          424,
          245,
          177,
          300,
          329,
          216,
          528,
          354,
          58,
          310,
          280,
          116,
          19,
          68,
          53,
          332,
          4,
          263,
          155,
          317,
          126
         ],
         "yaxis": "y"
        }
       ],
       "layout": {
        "barmode": "relative",
        "legend": {
         "title": {
          "text": "site"
         },
         "tracegroupgap": 0
        },
        "template": {
         "data": {
          "bar": [
           {
            "error_x": {
             "color": "#2a3f5f"
            },
            "error_y": {
             "color": "#2a3f5f"
            },
            "marker": {
             "line": {
              "color": "#E5ECF6",
              "width": 0.5
             },
             "pattern": {
              "fillmode": "overlay",
              "size": 10,
              "solidity": 0.2
             }
            },
            "type": "bar"
           }
          ],
          "barpolar": [
           {
            "marker": {
             "line": {
              "color": "#E5ECF6",
              "width": 0.5
             },
             "pattern": {
              "fillmode": "overlay",
              "size": 10,
              "solidity": 0.2
             }
            },
            "type": "barpolar"
           }
          ],
          "carpet": [
           {
            "aaxis": {
             "endlinecolor": "#2a3f5f",
             "gridcolor": "white",
             "linecolor": "white",
             "minorgridcolor": "white",
             "startlinecolor": "#2a3f5f"
            },
            "baxis": {
             "endlinecolor": "#2a3f5f",
             "gridcolor": "white",
             "linecolor": "white",
             "minorgridcolor": "white",
             "startlinecolor": "#2a3f5f"
            },
            "type": "carpet"
           }
          ],
          "choropleth": [
           {
            "colorbar": {
             "outlinewidth": 0,
             "ticks": ""
            },
            "type": "choropleth"
           }
          ],
          "contour": [
           {
            "colorbar": {
             "outlinewidth": 0,
             "ticks": ""
            },
            "colorscale": [
             [
              0,
              "#0d0887"
             ],
             [
              0.1111111111111111,
              "#46039f"
             ],
             [
              0.2222222222222222,
              "#7201a8"
             ],
             [
              0.3333333333333333,
              "#9c179e"
             ],
             [
              0.4444444444444444,
              "#bd3786"
             ],
             [
              0.5555555555555556,
              "#d8576b"
             ],
             [
              0.6666666666666666,
              "#ed7953"
             ],
             [
              0.7777777777777778,
              "#fb9f3a"
             ],
             [
              0.8888888888888888,
              "#fdca26"
             ],
             [
              1,
              "#f0f921"
             ]
            ],
            "type": "contour"
           }
          ],
          "contourcarpet": [
           {
            "colorbar": {
             "outlinewidth": 0,
             "ticks": ""
            },
            "type": "contourcarpet"
           }
          ],
          "heatmap": [
           {
            "colorbar": {
             "outlinewidth": 0,
             "ticks": ""
            },
            "colorscale": [
             [
              0,
              "#0d0887"
             ],
             [
              0.1111111111111111,
              "#46039f"
             ],
             [
              0.2222222222222222,
              "#7201a8"
             ],
             [
              0.3333333333333333,
              "#9c179e"
             ],
             [
              0.4444444444444444,
              "#bd3786"
             ],
             [
              0.5555555555555556,
              "#d8576b"
             ],
             [
              0.6666666666666666,
              "#ed7953"
             ],
             [
              0.7777777777777778,
              "#fb9f3a"
             ],
             [
              0.8888888888888888,
              "#fdca26"
             ],
             [
              1,
              "#f0f921"
             ]
            ],
            "type": "heatmap"
           }
          ],
          "heatmapgl": [
           {
            "colorbar": {
             "outlinewidth": 0,
             "ticks": ""
            },
            "colorscale": [
             [
              0,
              "#0d0887"
             ],
             [
              0.1111111111111111,
              "#46039f"
             ],
             [
              0.2222222222222222,
              "#7201a8"
             ],
             [
              0.3333333333333333,
              "#9c179e"
             ],
             [
              0.4444444444444444,
              "#bd3786"
             ],
             [
              0.5555555555555556,
              "#d8576b"
             ],
             [
              0.6666666666666666,
              "#ed7953"
             ],
             [
              0.7777777777777778,
              "#fb9f3a"
             ],
             [
              0.8888888888888888,
              "#fdca26"
             ],
             [
              1,
              "#f0f921"
             ]
            ],
            "type": "heatmapgl"
           }
          ],
          "histogram": [
           {
            "marker": {
             "pattern": {
              "fillmode": "overlay",
              "size": 10,
              "solidity": 0.2
             }
            },
            "type": "histogram"
           }
          ],
          "histogram2d": [
           {
            "colorbar": {
             "outlinewidth": 0,
             "ticks": ""
            },
            "colorscale": [
             [
              0,
              "#0d0887"
             ],
             [
              0.1111111111111111,
              "#46039f"
             ],
             [
              0.2222222222222222,
              "#7201a8"
             ],
             [
              0.3333333333333333,
              "#9c179e"
             ],
             [
              0.4444444444444444,
              "#bd3786"
             ],
             [
              0.5555555555555556,
              "#d8576b"
             ],
             [
              0.6666666666666666,
              "#ed7953"
             ],
             [
              0.7777777777777778,
              "#fb9f3a"
             ],
             [
              0.8888888888888888,
              "#fdca26"
             ],
             [
              1,
              "#f0f921"
             ]
            ],
            "type": "histogram2d"
           }
          ],
          "histogram2dcontour": [
           {
            "colorbar": {
             "outlinewidth": 0,
             "ticks": ""
            },
            "colorscale": [
             [
              0,
              "#0d0887"
             ],
             [
              0.1111111111111111,
              "#46039f"
             ],
             [
              0.2222222222222222,
              "#7201a8"
             ],
             [
              0.3333333333333333,
              "#9c179e"
             ],
             [
              0.4444444444444444,
              "#bd3786"
             ],
             [
              0.5555555555555556,
              "#d8576b"
             ],
             [
              0.6666666666666666,
              "#ed7953"
             ],
             [
              0.7777777777777778,
              "#fb9f3a"
             ],
             [
              0.8888888888888888,
              "#fdca26"
             ],
             [
              1,
              "#f0f921"
             ]
            ],
            "type": "histogram2dcontour"
           }
          ],
          "mesh3d": [
           {
            "colorbar": {
             "outlinewidth": 0,
             "ticks": ""
            },
            "type": "mesh3d"
           }
          ],
          "parcoords": [
           {
            "line": {
             "colorbar": {
              "outlinewidth": 0,
              "ticks": ""
             }
            },
            "type": "parcoords"
           }
          ],
          "pie": [
           {
            "automargin": true,
            "type": "pie"
           }
          ],
          "scatter": [
           {
            "fillpattern": {
             "fillmode": "overlay",
             "size": 10,
             "solidity": 0.2
            },
            "type": "scatter"
           }
          ],
          "scatter3d": [
           {
            "line": {
             "colorbar": {
              "outlinewidth": 0,
              "ticks": ""
             }
            },
            "marker": {
             "colorbar": {
              "outlinewidth": 0,
              "ticks": ""
             }
            },
            "type": "scatter3d"
           }
          ],
          "scattercarpet": [
           {
            "marker": {
             "colorbar": {
              "outlinewidth": 0,
              "ticks": ""
             }
            },
            "type": "scattercarpet"
           }
          ],
          "scattergeo": [
           {
            "marker": {
             "colorbar": {
              "outlinewidth": 0,
              "ticks": ""
             }
            },
            "type": "scattergeo"
           }
          ],
          "scattergl": [
           {
            "marker": {
             "colorbar": {
              "outlinewidth": 0,
              "ticks": ""
             }
            },
            "type": "scattergl"
           }
          ],
          "scattermapbox": [
           {
            "marker": {
             "colorbar": {
              "outlinewidth": 0,
              "ticks": ""
             }
            },
            "type": "scattermapbox"
           }
          ],
          "scatterpolar": [
           {
            "marker": {
             "colorbar": {
              "outlinewidth": 0,
              "ticks": ""
             }
            },
            "type": "scatterpolar"
           }
          ],
          "scatterpolargl": [
           {
            "marker": {
             "colorbar": {
              "outlinewidth": 0,
              "ticks": ""
             }
            },
            "type": "scatterpolargl"
           }
          ],
          "scatterternary": [
           {
            "marker": {
             "colorbar": {
              "outlinewidth": 0,
              "ticks": ""
             }
            },
            "type": "scatterternary"
           }
          ],
          "surface": [
           {
            "colorbar": {
             "outlinewidth": 0,
             "ticks": ""
            },
            "colorscale": [
             [
              0,
              "#0d0887"
             ],
             [
              0.1111111111111111,
              "#46039f"
             ],
             [
              0.2222222222222222,
              "#7201a8"
             ],
             [
              0.3333333333333333,
              "#9c179e"
             ],
             [
              0.4444444444444444,
              "#bd3786"
             ],
             [
              0.5555555555555556,
              "#d8576b"
             ],
             [
              0.6666666666666666,
              "#ed7953"
             ],
             [
              0.7777777777777778,
              "#fb9f3a"
             ],
             [
              0.8888888888888888,
              "#fdca26"
             ],
             [
              1,
              "#f0f921"
             ]
            ],
            "type": "surface"
           }
          ],
          "table": [
           {
            "cells": {
             "fill": {
              "color": "#EBF0F8"
             },
             "line": {
              "color": "white"
             }
            },
            "header": {
             "fill": {
              "color": "#C8D4E3"
             },
             "line": {
              "color": "white"
             }
            },
            "type": "table"
           }
          ]
         },
         "layout": {
          "annotationdefaults": {
           "arrowcolor": "#2a3f5f",
           "arrowhead": 0,
           "arrowwidth": 1
          },
          "autotypenumbers": "strict",
          "coloraxis": {
           "colorbar": {
            "outlinewidth": 0,
            "ticks": ""
           }
          },
          "colorscale": {
           "diverging": [
            [
             0,
             "#8e0152"
            ],
            [
             0.1,
             "#c51b7d"
            ],
            [
             0.2,
             "#de77ae"
            ],
            [
             0.3,
             "#f1b6da"
            ],
            [
             0.4,
             "#fde0ef"
            ],
            [
             0.5,
             "#f7f7f7"
            ],
            [
             0.6,
             "#e6f5d0"
            ],
            [
             0.7,
             "#b8e186"
            ],
            [
             0.8,
             "#7fbc41"
            ],
            [
             0.9,
             "#4d9221"
            ],
            [
             1,
             "#276419"
            ]
           ],
           "sequential": [
            [
             0,
             "#0d0887"
            ],
            [
             0.1111111111111111,
             "#46039f"
            ],
            [
             0.2222222222222222,
             "#7201a8"
            ],
            [
             0.3333333333333333,
             "#9c179e"
            ],
            [
             0.4444444444444444,
             "#bd3786"
            ],
            [
             0.5555555555555556,
             "#d8576b"
            ],
            [
             0.6666666666666666,
             "#ed7953"
            ],
            [
             0.7777777777777778,
             "#fb9f3a"
            ],
            [
             0.8888888888888888,
             "#fdca26"
            ],
            [
             1,
             "#f0f921"
            ]
           ],
           "sequentialminus": [
            [
             0,
             "#0d0887"
            ],
            [
             0.1111111111111111,
             "#46039f"
            ],
            [
             0.2222222222222222,
             "#7201a8"
            ],
            [
             0.3333333333333333,
             "#9c179e"
            ],
            [
             0.4444444444444444,
             "#bd3786"
            ],
            [
             0.5555555555555556,
             "#d8576b"
            ],
            [
             0.6666666666666666,
             "#ed7953"
            ],
            [
             0.7777777777777778,
             "#fb9f3a"
            ],
            [
             0.8888888888888888,
             "#fdca26"
            ],
            [
             1,
             "#f0f921"
            ]
           ]
          },
          "colorway": [
           "#636efa",
           "#EF553B",
           "#00cc96",
           "#ab63fa",
           "#FFA15A",
           "#19d3f3",
           "#FF6692",
           "#B6E880",
           "#FF97FF",
           "#FECB52"
          ],
          "font": {
           "color": "#2a3f5f"
          },
          "geo": {
           "bgcolor": "white",
           "lakecolor": "white",
           "landcolor": "#E5ECF6",
           "showlakes": true,
           "showland": true,
           "subunitcolor": "white"
          },
          "hoverlabel": {
           "align": "left"
          },
          "hovermode": "closest",
          "mapbox": {
           "style": "light"
          },
          "paper_bgcolor": "white",
          "plot_bgcolor": "#E5ECF6",
          "polar": {
           "angularaxis": {
            "gridcolor": "white",
            "linecolor": "white",
            "ticks": ""
           },
           "bgcolor": "#E5ECF6",
           "radialaxis": {
            "gridcolor": "white",
            "linecolor": "white",
            "ticks": ""
           }
          },
          "scene": {
           "xaxis": {
            "backgroundcolor": "#E5ECF6",
            "gridcolor": "white",
            "gridwidth": 2,
            "linecolor": "white",
            "showbackground": true,
            "ticks": "",
            "zerolinecolor": "white"
           },
           "yaxis": {
            "backgroundcolor": "#E5ECF6",
            "gridcolor": "white",
            "gridwidth": 2,
            "linecolor": "white",
            "showbackground": true,
            "ticks": "",
            "zerolinecolor": "white"
           },
           "zaxis": {
            "backgroundcolor": "#E5ECF6",
            "gridcolor": "white",
            "gridwidth": 2,
            "linecolor": "white",
            "showbackground": true,
            "ticks": "",
            "zerolinecolor": "white"
           }
          },
          "shapedefaults": {
           "line": {
            "color": "#2a3f5f"
           }
          },
          "ternary": {
           "aaxis": {
            "gridcolor": "white",
            "linecolor": "white",
            "ticks": ""
           },
           "baxis": {
            "gridcolor": "white",
            "linecolor": "white",
            "ticks": ""
           },
           "bgcolor": "#E5ECF6",
           "caxis": {
            "gridcolor": "white",
            "linecolor": "white",
            "ticks": ""
           }
          },
          "title": {
           "x": 0.05
          },
          "xaxis": {
           "automargin": true,
           "gridcolor": "white",
           "linecolor": "white",
           "ticks": "",
           "title": {
            "standoff": 15
           },
           "zerolinecolor": "white",
           "zerolinewidth": 2
          },
          "yaxis": {
           "automargin": true,
           "gridcolor": "white",
           "linecolor": "white",
           "ticks": "",
           "title": {
            "standoff": 15
           },
           "zerolinecolor": "white",
           "zerolinewidth": 2
          }
         }
        },
        "title": {
         "text": "Linked topics : guerre"
        },
        "xaxis": {
         "anchor": "y",
         "categoryarray": [
          "américain",
          "américain",
          "américain",
          "américain",
          "pays",
          "pays",
          "pays",
          "pays",
          "militaire",
          "militaire",
          "militaire",
          "militaire",
          "États-Unis",
          "États-Unis",
          "États-Unis",
          "États-Unis",
          "armée",
          "armée",
          "armée",
          "armée",
          "force",
          "force",
          "force",
          "force",
          "iran",
          "iran",
          "iran",
          "iran",
          "état",
          "état",
          "état",
          "état",
          "Iran",
          "Iran",
          "Iran",
          "Iran",
          "président",
          "président",
          "président",
          "président",
          "Israël",
          "Israël",
          "Israël",
          "Israël",
          "israël",
          "israël",
          "israël",
          "israël",
          "israélien",
          "israélien",
          "israélien",
          "israélien",
          "france",
          "france",
          "france",
          "france",
          "missile",
          "missile",
          "missile",
          "missile",
          "russe",
          "russe",
          "russe",
          "russe",
          "politique",
          "politique",
          "politique",
          "politique",
          "iranien",
          "iranien",
          "iranien",
          "iranien",
          "russie",
          "russie",
          "russie",
          "russie",
          "dernier",
          "dernier",
          "dernier",
          "dernier",
          "français",
          "français",
          "français",
          "français",
          "France",
          "France",
          "France",
          "France",
          "grand",
          "grand",
          "grand",
          "grand",
          "Russie",
          "Russie",
          "Russie",
          "Russie",
          "syrie",
          "syrie",
          "syrie",
          "syrie",
          "Syrie",
          "Syrie",
          "Syrie",
          "Syrie",
          "région",
          "région",
          "région",
          "région",
          "al",
          "al",
          "al",
          "al",
          "base",
          "base",
          "base",
          "base",
          "syrien",
          "syrien",
          "syrien",
          "syrien",
          "nouveau",
          "nouveau",
          "nouveau",
          "nouveau",
          "jour",
          "jour",
          "jour",
          "jour",
          "gouvernement",
          "gouvernement",
          "gouvernement",
          "gouvernement",
          "an",
          "an",
          "an",
          "an",
          "ministre",
          "ministre",
          "ministre",
          "ministre",
          "attaque",
          "attaque",
          "attaque",
          "attaque",
          "général",
          "général",
          "général",
          "général",
          "monde",
          "monde",
          "monde",
          "monde",
          "défense",
          "défense",
          "défense",
          "défense",
          "résistance",
          "résistance",
          "résistance",
          "résistance",
          "chine",
          "chine",
          "chine",
          "chine",
          "drone",
          "drone",
          "drone",
          "drone",
          "année",
          "année",
          "année",
          "année",
          "sécurité",
          "sécurité",
          "sécurité",
          "sécurité",
          "terroriste",
          "terroriste",
          "terroriste",
          "terroriste",
          "national",
          "national",
          "national",
          "national",
          "trump",
          "trump",
          "trump",
          "trump",
          "chef",
          "chef",
          "chef",
          "chef",
          "opération",
          "opération",
          "opération",
          "opération",
          "système",
          "système",
          "système",
          "système",
          "international",
          "international",
          "international",
          "international",
          "accord",
          "accord",
          "accord",
          "accord",
          "aérien",
          "aérien",
          "aérien",
          "aérien",
          "arme",
          "arme",
          "arme",
          "arme",
          "groupe",
          "groupe",
          "groupe",
          "groupe",
          "étranger",
          "étranger",
          "étranger",
          "étranger",
          "affaire",
          "affaire",
          "affaire",
          "affaire",
          "face",
          "face",
          "face",
          "face",
          "fois",
          "fois",
          "fois",
          "fois",
          "source",
          "source",
          "source",
          "source",
          "européen",
          "européen",
          "européen",
          "européen",
          "question",
          "question",
          "question",
          "question",
          "Chine",
          "Chine",
          "Chine",
          "Chine",
          "partie",
          "partie",
          "partie",
          "partie",
          "fin",
          "fin",
          "fin",
          "fin",
          "irak",
          "irak",
          "irak",
          "irak",
          "saoudien",
          "saoudien",
          "saoudien",
          "saoudien",
          "washington",
          "washington",
          "washington",
          "washington",
          "avion",
          "avion",
          "avion",
          "avion",
          "droit",
          "droit",
          "droit",
          "droit",
          "hezbollah",
          "hezbollah",
          "hezbollah",
          "hezbollah",
          "situation",
          "situation",
          "situation",
          "situation",
          "nord",
          "nord",
          "nord",
          "nord",
          "frontière",
          "frontière",
          "frontière",
          "frontière",
          "sud",
          "sud",
          "sud",
          "sud"
         ],
         "categoryorder": "array",
         "domain": [
          0,
          1
         ],
         "title": {
          "text": "topic"
         }
        },
        "yaxis": {
         "anchor": "x",
         "domain": [
          0,
          1
         ],
         "title": {
          "text": "iteration"
         }
        }
       }
      }
     },
     "metadata": {},
     "output_type": "display_data"
    },
    {
     "data": {
      "application/vnd.plotly.v1+json": {
       "config": {
        "plotlyServerURL": "https://plot.ly"
       },
       "data": [
        {
         "alignmentgroup": "True",
         "hovertemplate": "site=egaliteetreconciliation<br>topic=%{x}<br>iteration=%{y}<extra></extra>",
         "legendgroup": "egaliteetreconciliation",
         "marker": {
          "color": "#636efa",
          "pattern": {
           "shape": ""
          }
         },
         "name": "egaliteetreconciliation",
         "offsetgroup": "egaliteetreconciliation",
         "orientation": "v",
         "showlegend": true,
         "textposition": "auto",
         "type": "bar",
         "x": [
          "pays",
          "américain",
          "état",
          "président",
          "États-Unis",
          "politique",
          "force",
          "militaire",
          "armée",
          "grand",
          "trump",
          "guerre",
          "iran",
          "dernier",
          "Israël",
          "france",
          "israël",
          "français",
          "gouvernement",
          "an",
          "monde",
          "Iran",
          "affaire",
          "France",
          "jour",
          "général",
          "iranien",
          "al",
          "juif",
          "israélien",
          "région",
          "peuple",
          "nouveau",
          "résistance",
          "terroriste",
          "national",
          "chef",
          "sécurité",
          "ministre",
          "syrie",
          "groupe",
          "Syrie",
          "année",
          "média",
          "russie",
          "homme",
          "étranger",
          "information",
          "russe",
          "Russie",
          "irak",
          "attaque",
          "élection",
          "question",
          "plan",
          "État",
          "face",
          "irakien",
          "occidental",
          "afrique",
          "fois",
          "palestinien",
          "coup",
          "syrien",
          "source",
          "partie",
          "droit",
          "ancien",
          "personne",
          "accord",
          "mois",
          "article",
          "base",
          "régime",
          "international"
         ],
         "xaxis": "x",
         "y": [
          416,
          799,
          845,
          653,
          444,
          693,
          241,
          140,
          121,
          700,
          870,
          481,
          90,
          351,
          387,
          467,
          374,
          529,
          301,
          500,
          693,
          89,
          358,
          433,
          449,
          245,
          60,
          46,
          1047,
          238,
          44,
          262,
          377,
          48,
          98,
          319,
          167,
          156,
          186,
          90,
          251,
          88,
          421,
          398,
          201,
          424,
          154,
          312,
          256,
          249,
          33,
          120,
          491,
          355,
          164,
          380,
          148,
          19,
          96,
          27,
          315,
          62,
          213,
          38,
          96,
          294,
          242,
          206,
          366,
          112,
          215,
          385,
          100,
          108,
          159
         ],
         "yaxis": "y"
        },
        {
         "alignmentgroup": "True",
         "hovertemplate": "site=sputniknews<br>topic=%{x}<br>iteration=%{y}<extra></extra>",
         "legendgroup": "sputniknews",
         "marker": {
          "color": "#EF553B",
          "pattern": {
           "shape": ""
          }
         },
         "name": "sputniknews",
         "offsetgroup": "sputniknews",
         "orientation": "v",
         "showlegend": true,
         "textposition": "auto",
         "type": "bar",
         "x": [
          "pays",
          "américain",
          "état",
          "président",
          "États-Unis",
          "politique",
          "force",
          "militaire",
          "armée",
          "grand",
          "trump",
          "guerre",
          "iran",
          "dernier",
          "Israël",
          "france",
          "israël",
          "français",
          "gouvernement",
          "an",
          "monde",
          "Iran",
          "affaire",
          "France",
          "jour",
          "général",
          "iranien",
          "al",
          "juif",
          "israélien",
          "région",
          "peuple",
          "nouveau",
          "résistance",
          "terroriste",
          "national",
          "chef",
          "sécurité",
          "ministre",
          "syrie",
          "groupe",
          "Syrie",
          "année",
          "média",
          "russie",
          "homme",
          "étranger",
          "information",
          "russe",
          "Russie",
          "irak",
          "attaque",
          "élection",
          "question",
          "plan",
          "État",
          "face",
          "irakien",
          "occidental",
          "afrique",
          "fois",
          "palestinien",
          "coup",
          "syrien",
          "source",
          "partie",
          "droit",
          "ancien",
          "personne",
          "accord",
          "mois",
          "article",
          "base",
          "régime",
          "international"
         ],
         "xaxis": "x",
         "y": [
          587,
          437,
          467,
          510,
          269,
          447,
          170,
          234,
          227,
          226,
          218,
          174,
          123,
          336,
          59,
          261,
          65,
          273,
          260,
          314,
          197,
          114,
          410,
          192,
          227,
          271,
          120,
          37,
          60,
          47,
          108,
          111,
          191,
          19,
          89,
          211,
          301,
          184,
          234,
          86,
          163,
          78,
          181,
          142,
          196,
          216,
          199,
          212,
          162,
          167,
          20,
          98,
          141,
          173,
          115,
          163,
          125,
          2,
          69,
          74,
          124,
          73,
          81,
          54,
          91,
          115,
          180,
          285,
          170,
          157,
          161,
          99,
          88,
          62,
          143
         ],
         "yaxis": "y"
        },
        {
         "alignmentgroup": "True",
         "hovertemplate": "site=presstv<br>topic=%{x}<br>iteration=%{y}<extra></extra>",
         "legendgroup": "presstv",
         "marker": {
          "color": "#00cc96",
          "pattern": {
           "shape": ""
          }
         },
         "name": "presstv",
         "offsetgroup": "presstv",
         "orientation": "v",
         "showlegend": true,
         "textposition": "auto",
         "type": "bar",
         "x": [
          "pays",
          "américain",
          "état",
          "président",
          "États-Unis",
          "politique",
          "force",
          "militaire",
          "armée",
          "grand",
          "trump",
          "guerre",
          "iran",
          "dernier",
          "Israël",
          "france",
          "israël",
          "français",
          "gouvernement",
          "an",
          "monde",
          "Iran",
          "affaire",
          "France",
          "jour",
          "général",
          "iranien",
          "al",
          "juif",
          "israélien",
          "région",
          "peuple",
          "nouveau",
          "résistance",
          "terroriste",
          "national",
          "chef",
          "sécurité",
          "ministre",
          "syrie",
          "groupe",
          "Syrie",
          "année",
          "média",
          "russie",
          "homme",
          "étranger",
          "information",
          "russe",
          "Russie",
          "irak",
          "attaque",
          "élection",
          "question",
          "plan",
          "État",
          "face",
          "irakien",
          "occidental",
          "afrique",
          "fois",
          "palestinien",
          "coup",
          "syrien",
          "source",
          "partie",
          "droit",
          "ancien",
          "personne",
          "accord",
          "mois",
          "article",
          "base",
          "régime",
          "international"
         ],
         "xaxis": "x",
         "y": [
          2440,
          2097,
          1189,
          1269,
          1601,
          877,
          1597,
          1465,
          1430,
          705,
          415,
          933,
          1358,
          819,
          1052,
          698,
          1047,
          623,
          870,
          393,
          457,
          1148,
          502,
          597,
          542,
          714,
          1058,
          1120,
          28,
          854,
          980,
          754,
          534,
          1046,
          857,
          553,
          581,
          736,
          629,
          883,
          575,
          849,
          371,
          417,
          574,
          228,
          539,
          358,
          480,
          471,
          833,
          612,
          214,
          315,
          578,
          276,
          547,
          801,
          642,
          683,
          328,
          650,
          474,
          680,
          564,
          339,
          305,
          221,
          166,
          477,
          309,
          217,
          521,
          544,
          397
         ],
         "yaxis": "y"
        },
        {
         "alignmentgroup": "True",
         "hovertemplate": "site=fdesouche<br>topic=%{x}<br>iteration=%{y}<extra></extra>",
         "legendgroup": "fdesouche",
         "marker": {
          "color": "#ab63fa",
          "pattern": {
           "shape": ""
          }
         },
         "name": "fdesouche",
         "offsetgroup": "fdesouche",
         "orientation": "v",
         "showlegend": true,
         "textposition": "auto",
         "type": "bar",
         "x": [
          "pays",
          "américain",
          "état",
          "président",
          "États-Unis",
          "politique",
          "force",
          "militaire",
          "armée",
          "grand",
          "trump",
          "guerre",
          "iran",
          "dernier",
          "Israël",
          "france",
          "israël",
          "français",
          "gouvernement",
          "an",
          "monde",
          "Iran",
          "affaire",
          "France",
          "jour",
          "général",
          "iranien",
          "al",
          "juif",
          "israélien",
          "région",
          "peuple",
          "nouveau",
          "résistance",
          "terroriste",
          "national",
          "chef",
          "sécurité",
          "ministre",
          "syrie",
          "groupe",
          "Syrie",
          "année",
          "média",
          "russie",
          "homme",
          "étranger",
          "information",
          "russe",
          "Russie",
          "irak",
          "attaque",
          "élection",
          "question",
          "plan",
          "État",
          "face",
          "irakien",
          "occidental",
          "afrique",
          "fois",
          "palestinien",
          "coup",
          "syrien",
          "source",
          "partie",
          "droit",
          "ancien",
          "personne",
          "accord",
          "mois",
          "article",
          "base",
          "régime",
          "international"
         ],
         "xaxis": "x",
         "y": [
          57,
          55,
          57,
          68,
          27,
          59,
          14,
          12,
          12,
          80,
          129,
          12,
          2,
          49,
          8,
          76,
          12,
          48,
          33,
          198,
          50,
          2,
          21,
          51,
          37,
          22,
          3,
          12,
          24,
          5,
          11,
          13,
          24,
          4,
          71,
          29,
          53,
          26,
          34,
          9,
          38,
          7,
          34,
          36,
          14,
          88,
          22,
          28,
          10,
          7,
          6,
          56,
          35,
          25,
          5,
          18,
          17,
          2,
          9,
          15,
          29,
          1,
          15,
          4,
          22,
          25,
          33,
          44,
          50,
          6,
          42,
          20,
          11,
          6,
          20
         ],
         "yaxis": "y"
        }
       ],
       "layout": {
        "barmode": "relative",
        "legend": {
         "title": {
          "text": "site"
         },
         "tracegroupgap": 0
        },
        "template": {
         "data": {
          "bar": [
           {
            "error_x": {
             "color": "#2a3f5f"
            },
            "error_y": {
             "color": "#2a3f5f"
            },
            "marker": {
             "line": {
              "color": "#E5ECF6",
              "width": 0.5
             },
             "pattern": {
              "fillmode": "overlay",
              "size": 10,
              "solidity": 0.2
             }
            },
            "type": "bar"
           }
          ],
          "barpolar": [
           {
            "marker": {
             "line": {
              "color": "#E5ECF6",
              "width": 0.5
             },
             "pattern": {
              "fillmode": "overlay",
              "size": 10,
              "solidity": 0.2
             }
            },
            "type": "barpolar"
           }
          ],
          "carpet": [
           {
            "aaxis": {
             "endlinecolor": "#2a3f5f",
             "gridcolor": "white",
             "linecolor": "white",
             "minorgridcolor": "white",
             "startlinecolor": "#2a3f5f"
            },
            "baxis": {
             "endlinecolor": "#2a3f5f",
             "gridcolor": "white",
             "linecolor": "white",
             "minorgridcolor": "white",
             "startlinecolor": "#2a3f5f"
            },
            "type": "carpet"
           }
          ],
          "choropleth": [
           {
            "colorbar": {
             "outlinewidth": 0,
             "ticks": ""
            },
            "type": "choropleth"
           }
          ],
          "contour": [
           {
            "colorbar": {
             "outlinewidth": 0,
             "ticks": ""
            },
            "colorscale": [
             [
              0,
              "#0d0887"
             ],
             [
              0.1111111111111111,
              "#46039f"
             ],
             [
              0.2222222222222222,
              "#7201a8"
             ],
             [
              0.3333333333333333,
              "#9c179e"
             ],
             [
              0.4444444444444444,
              "#bd3786"
             ],
             [
              0.5555555555555556,
              "#d8576b"
             ],
             [
              0.6666666666666666,
              "#ed7953"
             ],
             [
              0.7777777777777778,
              "#fb9f3a"
             ],
             [
              0.8888888888888888,
              "#fdca26"
             ],
             [
              1,
              "#f0f921"
             ]
            ],
            "type": "contour"
           }
          ],
          "contourcarpet": [
           {
            "colorbar": {
             "outlinewidth": 0,
             "ticks": ""
            },
            "type": "contourcarpet"
           }
          ],
          "heatmap": [
           {
            "colorbar": {
             "outlinewidth": 0,
             "ticks": ""
            },
            "colorscale": [
             [
              0,
              "#0d0887"
             ],
             [
              0.1111111111111111,
              "#46039f"
             ],
             [
              0.2222222222222222,
              "#7201a8"
             ],
             [
              0.3333333333333333,
              "#9c179e"
             ],
             [
              0.4444444444444444,
              "#bd3786"
             ],
             [
              0.5555555555555556,
              "#d8576b"
             ],
             [
              0.6666666666666666,
              "#ed7953"
             ],
             [
              0.7777777777777778,
              "#fb9f3a"
             ],
             [
              0.8888888888888888,
              "#fdca26"
             ],
             [
              1,
              "#f0f921"
             ]
            ],
            "type": "heatmap"
           }
          ],
          "heatmapgl": [
           {
            "colorbar": {
             "outlinewidth": 0,
             "ticks": ""
            },
            "colorscale": [
             [
              0,
              "#0d0887"
             ],
             [
              0.1111111111111111,
              "#46039f"
             ],
             [
              0.2222222222222222,
              "#7201a8"
             ],
             [
              0.3333333333333333,
              "#9c179e"
             ],
             [
              0.4444444444444444,
              "#bd3786"
             ],
             [
              0.5555555555555556,
              "#d8576b"
             ],
             [
              0.6666666666666666,
              "#ed7953"
             ],
             [
              0.7777777777777778,
              "#fb9f3a"
             ],
             [
              0.8888888888888888,
              "#fdca26"
             ],
             [
              1,
              "#f0f921"
             ]
            ],
            "type": "heatmapgl"
           }
          ],
          "histogram": [
           {
            "marker": {
             "pattern": {
              "fillmode": "overlay",
              "size": 10,
              "solidity": 0.2
             }
            },
            "type": "histogram"
           }
          ],
          "histogram2d": [
           {
            "colorbar": {
             "outlinewidth": 0,
             "ticks": ""
            },
            "colorscale": [
             [
              0,
              "#0d0887"
             ],
             [
              0.1111111111111111,
              "#46039f"
             ],
             [
              0.2222222222222222,
              "#7201a8"
             ],
             [
              0.3333333333333333,
              "#9c179e"
             ],
             [
              0.4444444444444444,
              "#bd3786"
             ],
             [
              0.5555555555555556,
              "#d8576b"
             ],
             [
              0.6666666666666666,
              "#ed7953"
             ],
             [
              0.7777777777777778,
              "#fb9f3a"
             ],
             [
              0.8888888888888888,
              "#fdca26"
             ],
             [
              1,
              "#f0f921"
             ]
            ],
            "type": "histogram2d"
           }
          ],
          "histogram2dcontour": [
           {
            "colorbar": {
             "outlinewidth": 0,
             "ticks": ""
            },
            "colorscale": [
             [
              0,
              "#0d0887"
             ],
             [
              0.1111111111111111,
              "#46039f"
             ],
             [
              0.2222222222222222,
              "#7201a8"
             ],
             [
              0.3333333333333333,
              "#9c179e"
             ],
             [
              0.4444444444444444,
              "#bd3786"
             ],
             [
              0.5555555555555556,
              "#d8576b"
             ],
             [
              0.6666666666666666,
              "#ed7953"
             ],
             [
              0.7777777777777778,
              "#fb9f3a"
             ],
             [
              0.8888888888888888,
              "#fdca26"
             ],
             [
              1,
              "#f0f921"
             ]
            ],
            "type": "histogram2dcontour"
           }
          ],
          "mesh3d": [
           {
            "colorbar": {
             "outlinewidth": 0,
             "ticks": ""
            },
            "type": "mesh3d"
           }
          ],
          "parcoords": [
           {
            "line": {
             "colorbar": {
              "outlinewidth": 0,
              "ticks": ""
             }
            },
            "type": "parcoords"
           }
          ],
          "pie": [
           {
            "automargin": true,
            "type": "pie"
           }
          ],
          "scatter": [
           {
            "fillpattern": {
             "fillmode": "overlay",
             "size": 10,
             "solidity": 0.2
            },
            "type": "scatter"
           }
          ],
          "scatter3d": [
           {
            "line": {
             "colorbar": {
              "outlinewidth": 0,
              "ticks": ""
             }
            },
            "marker": {
             "colorbar": {
              "outlinewidth": 0,
              "ticks": ""
             }
            },
            "type": "scatter3d"
           }
          ],
          "scattercarpet": [
           {
            "marker": {
             "colorbar": {
              "outlinewidth": 0,
              "ticks": ""
             }
            },
            "type": "scattercarpet"
           }
          ],
          "scattergeo": [
           {
            "marker": {
             "colorbar": {
              "outlinewidth": 0,
              "ticks": ""
             }
            },
            "type": "scattergeo"
           }
          ],
          "scattergl": [
           {
            "marker": {
             "colorbar": {
              "outlinewidth": 0,
              "ticks": ""
             }
            },
            "type": "scattergl"
           }
          ],
          "scattermapbox": [
           {
            "marker": {
             "colorbar": {
              "outlinewidth": 0,
              "ticks": ""
             }
            },
            "type": "scattermapbox"
           }
          ],
          "scatterpolar": [
           {
            "marker": {
             "colorbar": {
              "outlinewidth": 0,
              "ticks": ""
             }
            },
            "type": "scatterpolar"
           }
          ],
          "scatterpolargl": [
           {
            "marker": {
             "colorbar": {
              "outlinewidth": 0,
              "ticks": ""
             }
            },
            "type": "scatterpolargl"
           }
          ],
          "scatterternary": [
           {
            "marker": {
             "colorbar": {
              "outlinewidth": 0,
              "ticks": ""
             }
            },
            "type": "scatterternary"
           }
          ],
          "surface": [
           {
            "colorbar": {
             "outlinewidth": 0,
             "ticks": ""
            },
            "colorscale": [
             [
              0,
              "#0d0887"
             ],
             [
              0.1111111111111111,
              "#46039f"
             ],
             [
              0.2222222222222222,
              "#7201a8"
             ],
             [
              0.3333333333333333,
              "#9c179e"
             ],
             [
              0.4444444444444444,
              "#bd3786"
             ],
             [
              0.5555555555555556,
              "#d8576b"
             ],
             [
              0.6666666666666666,
              "#ed7953"
             ],
             [
              0.7777777777777778,
              "#fb9f3a"
             ],
             [
              0.8888888888888888,
              "#fdca26"
             ],
             [
              1,
              "#f0f921"
             ]
            ],
            "type": "surface"
           }
          ],
          "table": [
           {
            "cells": {
             "fill": {
              "color": "#EBF0F8"
             },
             "line": {
              "color": "white"
             }
            },
            "header": {
             "fill": {
              "color": "#C8D4E3"
             },
             "line": {
              "color": "white"
             }
            },
            "type": "table"
           }
          ]
         },
         "layout": {
          "annotationdefaults": {
           "arrowcolor": "#2a3f5f",
           "arrowhead": 0,
           "arrowwidth": 1
          },
          "autotypenumbers": "strict",
          "coloraxis": {
           "colorbar": {
            "outlinewidth": 0,
            "ticks": ""
           }
          },
          "colorscale": {
           "diverging": [
            [
             0,
             "#8e0152"
            ],
            [
             0.1,
             "#c51b7d"
            ],
            [
             0.2,
             "#de77ae"
            ],
            [
             0.3,
             "#f1b6da"
            ],
            [
             0.4,
             "#fde0ef"
            ],
            [
             0.5,
             "#f7f7f7"
            ],
            [
             0.6,
             "#e6f5d0"
            ],
            [
             0.7,
             "#b8e186"
            ],
            [
             0.8,
             "#7fbc41"
            ],
            [
             0.9,
             "#4d9221"
            ],
            [
             1,
             "#276419"
            ]
           ],
           "sequential": [
            [
             0,
             "#0d0887"
            ],
            [
             0.1111111111111111,
             "#46039f"
            ],
            [
             0.2222222222222222,
             "#7201a8"
            ],
            [
             0.3333333333333333,
             "#9c179e"
            ],
            [
             0.4444444444444444,
             "#bd3786"
            ],
            [
             0.5555555555555556,
             "#d8576b"
            ],
            [
             0.6666666666666666,
             "#ed7953"
            ],
            [
             0.7777777777777778,
             "#fb9f3a"
            ],
            [
             0.8888888888888888,
             "#fdca26"
            ],
            [
             1,
             "#f0f921"
            ]
           ],
           "sequentialminus": [
            [
             0,
             "#0d0887"
            ],
            [
             0.1111111111111111,
             "#46039f"
            ],
            [
             0.2222222222222222,
             "#7201a8"
            ],
            [
             0.3333333333333333,
             "#9c179e"
            ],
            [
             0.4444444444444444,
             "#bd3786"
            ],
            [
             0.5555555555555556,
             "#d8576b"
            ],
            [
             0.6666666666666666,
             "#ed7953"
            ],
            [
             0.7777777777777778,
             "#fb9f3a"
            ],
            [
             0.8888888888888888,
             "#fdca26"
            ],
            [
             1,
             "#f0f921"
            ]
           ]
          },
          "colorway": [
           "#636efa",
           "#EF553B",
           "#00cc96",
           "#ab63fa",
           "#FFA15A",
           "#19d3f3",
           "#FF6692",
           "#B6E880",
           "#FF97FF",
           "#FECB52"
          ],
          "font": {
           "color": "#2a3f5f"
          },
          "geo": {
           "bgcolor": "white",
           "lakecolor": "white",
           "landcolor": "#E5ECF6",
           "showlakes": true,
           "showland": true,
           "subunitcolor": "white"
          },
          "hoverlabel": {
           "align": "left"
          },
          "hovermode": "closest",
          "mapbox": {
           "style": "light"
          },
          "paper_bgcolor": "white",
          "plot_bgcolor": "#E5ECF6",
          "polar": {
           "angularaxis": {
            "gridcolor": "white",
            "linecolor": "white",
            "ticks": ""
           },
           "bgcolor": "#E5ECF6",
           "radialaxis": {
            "gridcolor": "white",
            "linecolor": "white",
            "ticks": ""
           }
          },
          "scene": {
           "xaxis": {
            "backgroundcolor": "#E5ECF6",
            "gridcolor": "white",
            "gridwidth": 2,
            "linecolor": "white",
            "showbackground": true,
            "ticks": "",
            "zerolinecolor": "white"
           },
           "yaxis": {
            "backgroundcolor": "#E5ECF6",
            "gridcolor": "white",
            "gridwidth": 2,
            "linecolor": "white",
            "showbackground": true,
            "ticks": "",
            "zerolinecolor": "white"
           },
           "zaxis": {
            "backgroundcolor": "#E5ECF6",
            "gridcolor": "white",
            "gridwidth": 2,
            "linecolor": "white",
            "showbackground": true,
            "ticks": "",
            "zerolinecolor": "white"
           }
          },
          "shapedefaults": {
           "line": {
            "color": "#2a3f5f"
           }
          },
          "ternary": {
           "aaxis": {
            "gridcolor": "white",
            "linecolor": "white",
            "ticks": ""
           },
           "baxis": {
            "gridcolor": "white",
            "linecolor": "white",
            "ticks": ""
           },
           "bgcolor": "#E5ECF6",
           "caxis": {
            "gridcolor": "white",
            "linecolor": "white",
            "ticks": ""
           }
          },
          "title": {
           "x": 0.05
          },
          "xaxis": {
           "automargin": true,
           "gridcolor": "white",
           "linecolor": "white",
           "ticks": "",
           "title": {
            "standoff": 15
           },
           "zerolinecolor": "white",
           "zerolinewidth": 2
          },
          "yaxis": {
           "automargin": true,
           "gridcolor": "white",
           "linecolor": "white",
           "ticks": "",
           "title": {
            "standoff": 15
           },
           "zerolinecolor": "white",
           "zerolinewidth": 2
          }
         }
        },
        "title": {
         "text": "Linked topics : complot"
        },
        "xaxis": {
         "anchor": "y",
         "categoryarray": [
          "pays",
          "pays",
          "pays",
          "pays",
          "américain",
          "américain",
          "américain",
          "américain",
          "état",
          "état",
          "état",
          "état",
          "président",
          "président",
          "président",
          "président",
          "États-Unis",
          "États-Unis",
          "États-Unis",
          "États-Unis",
          "politique",
          "politique",
          "politique",
          "politique",
          "force",
          "force",
          "force",
          "force",
          "militaire",
          "militaire",
          "militaire",
          "militaire",
          "armée",
          "armée",
          "armée",
          "armée",
          "grand",
          "grand",
          "grand",
          "grand",
          "trump",
          "trump",
          "trump",
          "trump",
          "guerre",
          "guerre",
          "guerre",
          "guerre",
          "iran",
          "iran",
          "iran",
          "iran",
          "dernier",
          "dernier",
          "dernier",
          "dernier",
          "Israël",
          "Israël",
          "Israël",
          "Israël",
          "france",
          "france",
          "france",
          "france",
          "israël",
          "israël",
          "israël",
          "israël",
          "français",
          "français",
          "français",
          "français",
          "gouvernement",
          "gouvernement",
          "gouvernement",
          "gouvernement",
          "an",
          "an",
          "an",
          "an",
          "monde",
          "monde",
          "monde",
          "monde",
          "Iran",
          "Iran",
          "Iran",
          "Iran",
          "affaire",
          "affaire",
          "affaire",
          "affaire",
          "France",
          "France",
          "France",
          "France",
          "jour",
          "jour",
          "jour",
          "jour",
          "général",
          "général",
          "général",
          "général",
          "iranien",
          "iranien",
          "iranien",
          "iranien",
          "al",
          "al",
          "al",
          "al",
          "juif",
          "juif",
          "juif",
          "juif",
          "israélien",
          "israélien",
          "israélien",
          "israélien",
          "région",
          "région",
          "région",
          "région",
          "peuple",
          "peuple",
          "peuple",
          "peuple",
          "nouveau",
          "nouveau",
          "nouveau",
          "nouveau",
          "résistance",
          "résistance",
          "résistance",
          "résistance",
          "terroriste",
          "terroriste",
          "terroriste",
          "terroriste",
          "national",
          "national",
          "national",
          "national",
          "chef",
          "chef",
          "chef",
          "chef",
          "sécurité",
          "sécurité",
          "sécurité",
          "sécurité",
          "ministre",
          "ministre",
          "ministre",
          "ministre",
          "syrie",
          "syrie",
          "syrie",
          "syrie",
          "groupe",
          "groupe",
          "groupe",
          "groupe",
          "Syrie",
          "Syrie",
          "Syrie",
          "Syrie",
          "année",
          "année",
          "année",
          "année",
          "média",
          "média",
          "média",
          "média",
          "russie",
          "russie",
          "russie",
          "russie",
          "homme",
          "homme",
          "homme",
          "homme",
          "étranger",
          "étranger",
          "étranger",
          "étranger",
          "information",
          "information",
          "information",
          "information",
          "russe",
          "russe",
          "russe",
          "russe",
          "Russie",
          "Russie",
          "Russie",
          "Russie",
          "irak",
          "irak",
          "irak",
          "irak",
          "attaque",
          "attaque",
          "attaque",
          "attaque",
          "élection",
          "élection",
          "élection",
          "élection",
          "question",
          "question",
          "question",
          "question",
          "plan",
          "plan",
          "plan",
          "plan",
          "État",
          "État",
          "État",
          "État",
          "face",
          "face",
          "face",
          "face",
          "irakien",
          "irakien",
          "irakien",
          "irakien",
          "occidental",
          "occidental",
          "occidental",
          "occidental",
          "afrique",
          "afrique",
          "afrique",
          "afrique",
          "fois",
          "fois",
          "fois",
          "fois",
          "palestinien",
          "palestinien",
          "palestinien",
          "palestinien",
          "coup",
          "coup",
          "coup",
          "coup",
          "syrien",
          "syrien",
          "syrien",
          "syrien",
          "source",
          "source",
          "source",
          "source",
          "partie",
          "partie",
          "partie",
          "partie",
          "droit",
          "droit",
          "droit",
          "droit",
          "ancien",
          "ancien",
          "ancien",
          "ancien",
          "personne",
          "personne",
          "personne",
          "personne",
          "accord",
          "accord",
          "accord",
          "accord",
          "mois",
          "mois",
          "mois",
          "mois",
          "article",
          "article",
          "article",
          "article",
          "base",
          "base",
          "base",
          "base",
          "régime",
          "régime",
          "régime",
          "régime",
          "international",
          "international",
          "international",
          "international"
         ],
         "categoryorder": "array",
         "domain": [
          0,
          1
         ],
         "title": {
          "text": "topic"
         }
        },
        "yaxis": {
         "anchor": "x",
         "domain": [
          0,
          1
         ],
         "title": {
          "text": "iteration"
         }
        }
       }
      }
     },
     "metadata": {},
     "output_type": "display_data"
    }
   ],
   "source": [
    "# Corpus de test si l'execution prend trop de temps avec le corpus contenant tous les articles\n",
    "\n",
    "testCorpus = ['topaz-data732--mali--www.egaliteetreconciliation.fr--20190101--20211231.json', \n",
    "'topaz-data732--mali--www.fdesouche.com--20190101--20211231.json',\n",
    "'topaz-data732--mali--fr.sputniknews.africa--20190101--20211231.json',\n",
    "'topaz-data732--mali--french.presstv.ir--20190101--20211231.json']\n",
    "\n",
    "allDataTestCorpus = []\n",
    "\n",
    "for file in testCorpus:\n",
    "    # open and load file\n",
    "    f = open(file, 'r', encoding='utf-8')\n",
    "    data = json.loads(f.read())\n",
    "    siteName = f.name.split(\".\")[1]\n",
    "    allDataTestCorpus.append({\"siteName\" : siteName, \"data\": data})\n",
    "    f.close()\n",
    "\n",
    "#########################################################\n",
    "\n",
    "\n",
    "pickedKeywords = [\"juif\", \"arabe\", \"attentat\", \"guerre\", \"complot\"]\n",
    "\n",
    "pickedLimit = 75\n",
    "\n",
    "for pickedKw in pickedKeywords:\n",
    "    showLinkedTopics(allDataCorpus, pickedKw, pickedLimit)"
   ]
  },
  {
   "cell_type": "markdown",
   "metadata": {},
   "source": [
    "On remarque ainsi que selon le sujet abordé la répartition des médias n'est pas la même. En effet, par exemple pour les topics \"Arabe\" ou \"Guerre\" les topics liés font la plupart partis de pressTV. Ce qui n'est pas étonnant car pressTV est un média pro-irannien."
   ]
  },
  {
   "cell_type": "markdown",
   "metadata": {},
   "source": [
    "## Améliorations ?\n",
    "\n",
    "On pourrait améliorer les scripts en supprimant les doublons. Par exemple France et france ou seul une majuscule change.\n",
    "\n",
    "De plus, des sujets très similaires comme par exemple \"israël\" et \"israélien\" peuvent être regroupés en un seul sujet.\n",
    "\n",
    "Ces améliorations pourront permettre d'analyser le corpus avec plus de rigueur."
   ]
  }
 ],
 "metadata": {
  "kernelspec": {
   "display_name": "Python 3.10.8 64-bit (microsoft store)",
   "language": "python",
   "name": "python3"
  },
  "language_info": {
   "codemirror_mode": {
    "name": "ipython",
    "version": 3
   },
   "file_extension": ".py",
   "mimetype": "text/x-python",
   "name": "python",
   "nbconvert_exporter": "python",
   "pygments_lexer": "ipython3",
   "version": "3.10.8"
  },
  "orig_nbformat": 4,
  "vscode": {
   "interpreter": {
    "hash": "8e7cd28709550f672c28f90e52c3bd58bea8e8759b20f54965a68fdf78f56cd5"
   }
  }
 },
 "nbformat": 4,
 "nbformat_minor": 2
}
